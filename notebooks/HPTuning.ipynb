{
 "cells": [
  {
   "cell_type": "markdown",
   "id": "de89ccc4",
   "metadata": {},
   "source": [
    "## Hyperparameter Tuning\n",
    "This notebook shows methods used to HP Tune the models.\n",
    "\n",
    "A random search found a good paramter 'area' to search within. The Optuna package was used to obtain the config for the model(s)."
   ]
  },
  {
   "cell_type": "code",
   "execution_count": 2,
   "id": "951af4f7",
   "metadata": {},
   "outputs": [],
   "source": [
    "import os\n",
    "import random\n",
    "\n",
    "import pandas as pd\n",
    "\n",
    "import torch\n",
    "import torch.nn as nn\n",
    "from torch.utils.data import Dataset\n",
    "import torch.nn.functional as F\n",
    "import torchaudio.transforms as T\n",
    "from torch.utils.data import DataLoader, random_split\n",
    "import torch.optim as optim\n",
    "from torchvision import transforms\n",
    "\n",
    "from time import time\n",
    "from tqdm import tqdm\n",
    "\n",
    "from src.model import ConvCount\n",
    "import src.model as m\n",
    "from src.data import SpectrogramDataset\n",
    "from src.utils.helpers import *\n",
    "\n",
    "\n",
    "\n",
    "dataset = SpectrogramDataset(csv_file=r\"data/labels/final_labels.csv\") "
   ]
  },
  {
   "cell_type": "markdown",
   "id": "dffc3e60",
   "metadata": {},
   "source": [
    "#### Initial Model\n",
    "The config is made with an 'educated guess' to start with"
   ]
  },
  {
   "cell_type": "code",
   "execution_count": 4,
   "id": "e7507bb2",
   "metadata": {},
   "outputs": [
    {
     "name": "stderr",
     "output_type": "stream",
     "text": [
      "Training: 100%|██████████| 2907/2907 [24:11<00:00,  2.00batch/s]\n"
     ]
    },
    {
     "name": "stdout",
     "output_type": "stream",
     "text": [
      "Epoch 1 — Loss: 0.7533 — Time: 1451.34s\n"
     ]
    },
    {
     "data": {
      "text/plain": [
       "0.6448228414172686"
      ]
     },
     "execution_count": 4,
     "metadata": {},
     "output_type": "execute_result"
    }
   ],
   "source": [
    "# Config\n",
    "conv1_out = 8\n",
    "conv2_out = 16\n",
    "conv3_out = 32\n",
    "conv4_out = 64\n",
    "dropout_prob = 0.5\n",
    "fc_hidden = 64\n",
    "\n",
    "\n",
    "\n",
    "# init model\n",
    "model = ConvCount(\n",
    "    conv1_out = conv1_out,\n",
    "    conv2_out = conv2_out,\n",
    "    conv3_out = conv3_out,\n",
    "    conv4_out= conv4_out,\n",
    "    fc_hidden = fc_hidden,\n",
    "    dropout_prob = dropout_prob\n",
    ")\n",
    "\n",
    "\n",
    "\n",
    "train_loader, val_loader = get_loaders(dataset)\n",
    "\n",
    "\n",
    "# cpu or gpu; whichever is available\n",
    "device = torch.device(\"cuda\" if torch.cuda.is_available() else \"cpu\")\n",
    "model.to(device)\n",
    "\n",
    "\n",
    "\n",
    "# basic loss and optimiser\n",
    "criterion = nn.CrossEntropyLoss()\n",
    "optimizer = optim.Adam(model.parameters(), lr=1e-3)\n",
    "\n",
    "\n",
    "\n",
    "# Model training\n",
    "for epoch in range(1):\n",
    "    start_time = time()\n",
    "    avg_loss = train_one_epoch(model, train_loader, optimizer, device)\n",
    "    duration = time() - start_time\n",
    "    print(f\"Epoch {epoch+1} — Loss: {avg_loss:.4f} — Time: {duration:.2f}s\")\n",
    "\n",
    "\n",
    "# Validation\n",
    "validate(model, val_loader, device)"
   ]
  },
  {
   "cell_type": "markdown",
   "id": "7b819e02",
   "metadata": {},
   "source": [
    "### Hyperparameter Tuning with Random Search\n",
    "\n",
    "Starting with random search to find a 'general area' to search in"
   ]
  },
  {
   "cell_type": "code",
   "execution_count": 2,
   "id": "18b747e4",
   "metadata": {},
   "outputs": [
    {
     "ename": "NameError",
     "evalue": "name 'dataset' is not defined",
     "output_type": "error",
     "traceback": [
      "\u001b[1;31m---------------------------------------------------------------------------\u001b[0m",
      "\u001b[1;31mNameError\u001b[0m                                 Traceback (most recent call last)",
      "Cell \u001b[1;32mIn[2], line 3\u001b[0m\n\u001b[0;32m      1\u001b[0m \u001b[38;5;66;03m# Step 1: Stratified Sampling. Creates a balanced subset of the data for quick tuning\u001b[39;00m\n\u001b[0;32m      2\u001b[0m train_loader, val_loader \u001b[38;5;241m=\u001b[39m get_stratified_loaders(\n\u001b[1;32m----> 3\u001b[0m     \u001b[43mdataset\u001b[49m,\n\u001b[0;32m      4\u001b[0m     subset_frac\u001b[38;5;241m=\u001b[39m\u001b[38;5;241m0.10\u001b[39m,   \u001b[38;5;66;03m# 10% subset\u001b[39;00m\n\u001b[0;32m      5\u001b[0m     train_frac\u001b[38;5;241m=\u001b[39m\u001b[38;5;241m0.8\u001b[39m,     \n\u001b[0;32m      6\u001b[0m     batch_size\u001b[38;5;241m=\u001b[39m\u001b[38;5;241m32\u001b[39m,\n\u001b[0;32m      7\u001b[0m     random_state\u001b[38;5;241m=\u001b[39m\u001b[38;5;241m42\u001b[39m,\n\u001b[0;32m      8\u001b[0m     shuffle_train\u001b[38;5;241m=\u001b[39m\u001b[38;5;28;01mTrue\u001b[39;00m\n\u001b[0;32m      9\u001b[0m )\n",
      "\u001b[1;31mNameError\u001b[0m: name 'dataset' is not defined"
     ]
    }
   ],
   "source": [
    "# Step 1: Stratified Sampling. Creates a balanced subset of the data for quick tuning\n",
    "train_loader, val_loader = get_stratified_loaders(\n",
    "    dataset,\n",
    "    subset_frac=0.10,   # 10% subset\n",
    "    train_frac=0.8,     \n",
    "    batch_size=32,\n",
    "    random_state=42,\n",
    "    shuffle_train=True\n",
    ")"
   ]
  },
  {
   "cell_type": "code",
   "execution_count": 5,
   "id": "a9007652",
   "metadata": {},
   "outputs": [],
   "source": [
    "# # Hyperparam search space for Random Search (RS)\n",
    "# # RS works by randomly selecting a config, num_trials times. This gives a general idea of a good config without iterating through every possible config\n",
    "param_space = {\n",
    "    \"lr\": [1e-4, 1e-3, 1e-2],\n",
    "    \"dropout\": [0.1, 0.3, 0.5],\n",
    "    \"fc_hidden\": [64, 128, 256],\n",
    "    \"conv1_out\": [8, 16, 32],\n",
    "    \"conv2_out\": [16, 32, 64],\n",
    "    \"conv3_out\": [32, 64, 128],\n",
    "    \"conv4_out\": [32, 64, 128]\n",
    "}\n",
    "\n",
    "# RS is simple to implement with the random package\n",
    "def sample_config():\n",
    "    return {k: random.choice(v) for k, v in param_space.items()}"
   ]
  },
  {
   "cell_type": "code",
   "execution_count": 11,
   "id": "7ceca7b1",
   "metadata": {},
   "outputs": [
    {
     "name": "stdout",
     "output_type": "stream",
     "text": [
      "\n",
      "=== Trial 1/10 ===\n",
      "Config: {'lr': 0.0001, 'dropout': 0.5, 'fc_hidden': 256, 'conv1_out': 8, 'conv2_out': 32, 'conv3_out': 32, 'conv4_out': 64}\n"
     ]
    },
    {
     "name": "stderr",
     "output_type": "stream",
     "text": [
      "                                                                    \r"
     ]
    },
    {
     "name": "stdout",
     "output_type": "stream",
     "text": [
      "Epoch 0 — Loss: 0.8971 — Time: 93.50s\n"
     ]
    },
    {
     "name": "stderr",
     "output_type": "stream",
     "text": [
      "                                                                    \r"
     ]
    },
    {
     "name": "stdout",
     "output_type": "stream",
     "text": [
      "Epoch 1 — Loss: 0.7915 — Time: 20.24s\n"
     ]
    },
    {
     "name": "stderr",
     "output_type": "stream",
     "text": [
      "                                                                    \r"
     ]
    },
    {
     "name": "stdout",
     "output_type": "stream",
     "text": [
      "Epoch 2 — Loss: 0.7785 — Time: 21.25s\n",
      "Validation Accuracy: 60.28%\n",
      "\n",
      "=== Trial 2/10 ===\n",
      "Config: {'lr': 0.01, 'dropout': 0.5, 'fc_hidden': 64, 'conv1_out': 16, 'conv2_out': 32, 'conv3_out': 32, 'conv4_out': 64}\n"
     ]
    },
    {
     "name": "stderr",
     "output_type": "stream",
     "text": [
      "                                                                    \r"
     ]
    },
    {
     "name": "stdout",
     "output_type": "stream",
     "text": [
      "Epoch 0 — Loss: 0.9307 — Time: 25.87s\n"
     ]
    },
    {
     "name": "stderr",
     "output_type": "stream",
     "text": [
      "                                                                    \r"
     ]
    },
    {
     "name": "stdout",
     "output_type": "stream",
     "text": [
      "Epoch 1 — Loss: 0.8236 — Time: 27.03s\n"
     ]
    },
    {
     "name": "stderr",
     "output_type": "stream",
     "text": [
      "                                                                    \r"
     ]
    },
    {
     "name": "stdout",
     "output_type": "stream",
     "text": [
      "Epoch 2 — Loss: 0.8050 — Time: 27.03s\n",
      "Validation Accuracy: 52.02%\n",
      "\n",
      "=== Trial 3/10 ===\n",
      "Config: {'lr': 0.01, 'dropout': 0.1, 'fc_hidden': 128, 'conv1_out': 16, 'conv2_out': 64, 'conv3_out': 128, 'conv4_out': 64}\n"
     ]
    },
    {
     "name": "stderr",
     "output_type": "stream",
     "text": [
      "                                                                    \r"
     ]
    },
    {
     "name": "stdout",
     "output_type": "stream",
     "text": [
      "Epoch 0 — Loss: 0.9758 — Time: 78.27s\n"
     ]
    },
    {
     "name": "stderr",
     "output_type": "stream",
     "text": [
      "                                                                    \r"
     ]
    },
    {
     "name": "stdout",
     "output_type": "stream",
     "text": [
      "Epoch 1 — Loss: 0.8074 — Time: 115.36s\n"
     ]
    },
    {
     "name": "stderr",
     "output_type": "stream",
     "text": [
      "                                                                    \r"
     ]
    },
    {
     "name": "stdout",
     "output_type": "stream",
     "text": [
      "Epoch 2 — Loss: 0.7953 — Time: 117.88s\n",
      "Validation Accuracy: 60.79%\n",
      "\n",
      "=== Trial 4/10 ===\n",
      "Config: {'lr': 0.001, 'dropout': 0.1, 'fc_hidden': 256, 'conv1_out': 32, 'conv2_out': 64, 'conv3_out': 32, 'conv4_out': 32}\n"
     ]
    },
    {
     "name": "stderr",
     "output_type": "stream",
     "text": [
      "                                                                    \r"
     ]
    },
    {
     "name": "stdout",
     "output_type": "stream",
     "text": [
      "Epoch 0 — Loss: 0.8497 — Time: 122.88s\n"
     ]
    },
    {
     "name": "stderr",
     "output_type": "stream",
     "text": [
      "                                                                    \r"
     ]
    },
    {
     "name": "stdout",
     "output_type": "stream",
     "text": [
      "Epoch 1 — Loss: 0.7799 — Time: 121.00s\n"
     ]
    },
    {
     "name": "stderr",
     "output_type": "stream",
     "text": [
      "                                                                    \r"
     ]
    },
    {
     "name": "stdout",
     "output_type": "stream",
     "text": [
      "Epoch 2 — Loss: 0.7617 — Time: 119.88s\n",
      "Validation Accuracy: 58.77%\n",
      "\n",
      "=== Trial 5/10 ===\n",
      "Config: {'lr': 0.0001, 'dropout': 0.3, 'fc_hidden': 128, 'conv1_out': 16, 'conv2_out': 32, 'conv3_out': 32, 'conv4_out': 64}\n"
     ]
    },
    {
     "name": "stderr",
     "output_type": "stream",
     "text": [
      "                                                                    \r"
     ]
    },
    {
     "name": "stdout",
     "output_type": "stream",
     "text": [
      "Epoch 0 — Loss: 0.8782 — Time: 70.21s\n"
     ]
    },
    {
     "name": "stderr",
     "output_type": "stream",
     "text": [
      "                                                                    \r"
     ]
    },
    {
     "name": "stdout",
     "output_type": "stream",
     "text": [
      "Epoch 1 — Loss: 0.7853 — Time: 70.36s\n"
     ]
    },
    {
     "name": "stderr",
     "output_type": "stream",
     "text": [
      "                                                                    \r"
     ]
    },
    {
     "name": "stdout",
     "output_type": "stream",
     "text": [
      "Epoch 2 — Loss: 0.7625 — Time: 70.91s\n",
      "Validation Accuracy: 60.62%\n",
      "\n",
      "=== Trial 6/10 ===\n",
      "Config: {'lr': 0.001, 'dropout': 0.1, 'fc_hidden': 128, 'conv1_out': 8, 'conv2_out': 32, 'conv3_out': 128, 'conv4_out': 32}\n"
     ]
    },
    {
     "name": "stderr",
     "output_type": "stream",
     "text": [
      "                                                                    \r"
     ]
    },
    {
     "name": "stdout",
     "output_type": "stream",
     "text": [
      "Epoch 0 — Loss: 0.8466 — Time: 73.10s\n"
     ]
    },
    {
     "name": "stderr",
     "output_type": "stream",
     "text": [
      "                                                                    \r"
     ]
    },
    {
     "name": "stdout",
     "output_type": "stream",
     "text": [
      "Epoch 1 — Loss: 0.7717 — Time: 35.08s\n"
     ]
    },
    {
     "name": "stderr",
     "output_type": "stream",
     "text": [
      "                                                                    \r"
     ]
    },
    {
     "name": "stdout",
     "output_type": "stream",
     "text": [
      "Epoch 2 — Loss: 0.7529 — Time: 27.91s\n",
      "Validation Accuracy: 60.88%\n",
      "\n",
      "=== Trial 7/10 ===\n",
      "Config: {'lr': 0.01, 'dropout': 0.3, 'fc_hidden': 128, 'conv1_out': 16, 'conv2_out': 32, 'conv3_out': 32, 'conv4_out': 32}\n"
     ]
    },
    {
     "name": "stderr",
     "output_type": "stream",
     "text": [
      "                                                                    \r"
     ]
    },
    {
     "name": "stdout",
     "output_type": "stream",
     "text": [
      "Epoch 0 — Loss: 0.9354 — Time: 27.53s\n"
     ]
    },
    {
     "name": "stderr",
     "output_type": "stream",
     "text": [
      "                                                                    \r"
     ]
    },
    {
     "name": "stdout",
     "output_type": "stream",
     "text": [
      "Epoch 1 — Loss: 0.8276 — Time: 26.89s\n"
     ]
    },
    {
     "name": "stderr",
     "output_type": "stream",
     "text": [
      "                                                                    \r"
     ]
    },
    {
     "name": "stdout",
     "output_type": "stream",
     "text": [
      "Epoch 2 — Loss: 0.8038 — Time: 28.52s\n",
      "Validation Accuracy: 61.31%\n",
      "\n",
      "=== Trial 8/10 ===\n",
      "Config: {'lr': 0.001, 'dropout': 0.3, 'fc_hidden': 64, 'conv1_out': 32, 'conv2_out': 16, 'conv3_out': 128, 'conv4_out': 128}\n"
     ]
    },
    {
     "name": "stderr",
     "output_type": "stream",
     "text": [
      "                                                                    \r"
     ]
    },
    {
     "name": "stdout",
     "output_type": "stream",
     "text": [
      "Epoch 0 — Loss: 0.8481 — Time: 44.48s\n"
     ]
    },
    {
     "name": "stderr",
     "output_type": "stream",
     "text": [
      "                                                                    \r"
     ]
    },
    {
     "name": "stdout",
     "output_type": "stream",
     "text": [
      "Epoch 1 — Loss: 0.7747 — Time: 43.28s\n"
     ]
    },
    {
     "name": "stderr",
     "output_type": "stream",
     "text": [
      "                                                                    \r"
     ]
    },
    {
     "name": "stdout",
     "output_type": "stream",
     "text": [
      "Epoch 2 — Loss: 0.7570 — Time: 43.48s\n",
      "Validation Accuracy: 60.45%\n",
      "\n",
      "=== Trial 9/10 ===\n",
      "Config: {'lr': 0.001, 'dropout': 0.3, 'fc_hidden': 64, 'conv1_out': 32, 'conv2_out': 64, 'conv3_out': 32, 'conv4_out': 128}\n"
     ]
    },
    {
     "name": "stderr",
     "output_type": "stream",
     "text": [
      "                                                                    \r"
     ]
    },
    {
     "name": "stdout",
     "output_type": "stream",
     "text": [
      "Epoch 0 — Loss: 0.8669 — Time: 48.66s\n"
     ]
    },
    {
     "name": "stderr",
     "output_type": "stream",
     "text": [
      "                                                                    \r"
     ]
    },
    {
     "name": "stdout",
     "output_type": "stream",
     "text": [
      "Epoch 1 — Loss: 0.7874 — Time: 48.69s\n"
     ]
    },
    {
     "name": "stderr",
     "output_type": "stream",
     "text": [
      "                                                                    \r"
     ]
    },
    {
     "name": "stdout",
     "output_type": "stream",
     "text": [
      "Epoch 2 — Loss: 0.7660 — Time: 109.79s\n",
      "Validation Accuracy: 59.50%\n",
      "\n",
      "=== Trial 10/10 ===\n",
      "Config: {'lr': 0.01, 'dropout': 0.3, 'fc_hidden': 256, 'conv1_out': 8, 'conv2_out': 64, 'conv3_out': 32, 'conv4_out': 128}\n"
     ]
    },
    {
     "name": "stderr",
     "output_type": "stream",
     "text": [
      "                                                                     \r"
     ]
    },
    {
     "name": "stdout",
     "output_type": "stream",
     "text": [
      "Epoch 0 — Loss: 1.2562 — Time: 156.40s\n"
     ]
    },
    {
     "name": "stderr",
     "output_type": "stream",
     "text": [
      "                                                                     \r"
     ]
    },
    {
     "name": "stdout",
     "output_type": "stream",
     "text": [
      "Epoch 1 — Loss: 0.8423 — Time: 39.07s\n"
     ]
    },
    {
     "name": "stderr",
     "output_type": "stream",
     "text": [
      "                                                                     \r"
     ]
    },
    {
     "name": "stdout",
     "output_type": "stream",
     "text": [
      "Epoch 2 — Loss: 0.8271 — Time: 52.90s\n",
      "Validation Accuracy: 59.03%\n",
      "\n",
      "=== Top Results ===\n",
      "Accuracy: 0.6131 | Config: {'lr': 0.01, 'dropout': 0.3, 'fc_hidden': 128, 'conv1_out': 16, 'conv2_out': 32, 'conv3_out': 32, 'conv4_out': 32}\n",
      "Accuracy: 0.6088 | Config: {'lr': 0.001, 'dropout': 0.1, 'fc_hidden': 128, 'conv1_out': 8, 'conv2_out': 32, 'conv3_out': 128, 'conv4_out': 32}\n",
      "Accuracy: 0.6079 | Config: {'lr': 0.01, 'dropout': 0.1, 'fc_hidden': 128, 'conv1_out': 16, 'conv2_out': 64, 'conv3_out': 128, 'conv4_out': 64}\n",
      "Accuracy: 0.6062 | Config: {'lr': 0.0001, 'dropout': 0.3, 'fc_hidden': 128, 'conv1_out': 16, 'conv2_out': 32, 'conv3_out': 32, 'conv4_out': 64}\n",
      "Accuracy: 0.6045 | Config: {'lr': 0.001, 'dropout': 0.3, 'fc_hidden': 64, 'conv1_out': 32, 'conv2_out': 16, 'conv3_out': 128, 'conv4_out': 128}\n"
     ]
    }
   ],
   "source": [
    "# 10 configs pulled randomly from param_space, each trained for 3 epochs\n",
    "# This is possible in reasonable time because of the subset size\n",
    "num_trials = 10\n",
    "epochs = 3\n",
    "results = []\n",
    "\n",
    "for trial in range(1, num_trials + 1):\n",
    "    config = sample_config()\n",
    "    print(f\"\\n=== Trial {trial}/{num_trials} ===\")\n",
    "    print(f\"Config: {config}\")\n",
    "\n",
    "\n",
    "\n",
    "    # Setting up the model with the current random config\n",
    "    model = ConvCount(\n",
    "        conv1_out=config[\"conv1_out\"],\n",
    "        conv2_out=config[\"conv2_out\"],\n",
    "        conv3_out=config[\"conv3_out\"],\n",
    "        conv4_out=config[\"conv4_out\"],\n",
    "        fc_hidden=config[\"fc_hidden\"],\n",
    "        dropout_prob=config[\"dropout\"]\n",
    "    ).to(device)\n",
    "\n",
    "\n",
    "\n",
    "    optimizer = optim.Adam(model.parameters(), lr=config[\"lr\"])\n",
    "\n",
    "\n",
    "\n",
    "    # Cross entropy loss\n",
    "    criterion = nn.CrossEntropyLoss()\n",
    "\n",
    "\n",
    "\n",
    "    # Training\n",
    "    for epoch in range(epochs):\n",
    "        model.train()\n",
    "        total_loss = 0\n",
    "        start = time()\n",
    "\n",
    "\n",
    "        for xb, yb in tqdm(train_loader, desc=f\"Trial {trial} — Epoch {epoch}\", leave=False):\n",
    "            xb, yb = xb.to(device), yb.to(device)\n",
    "            optimizer.zero_grad()\n",
    "            out = model(xb)\n",
    "            loss = criterion(out, yb)\n",
    "            loss.backward()\n",
    "            optimizer.step()\n",
    "            total_loss += loss.item()\n",
    "\n",
    "\n",
    "        # This is just verbose to inspect progress\n",
    "        duration = time() - start\n",
    "        avg_loss = total_loss / len(train_loader)\n",
    "        print(f\"Epoch {epoch} — Loss: {avg_loss:.4f} — Time: {duration:.2f}s\")\n",
    "\n",
    "\n",
    "\n",
    "    acc = validate(model, val_loader, device)\n",
    "    print(f\"Validation Accuracy: {acc:.2%}\")\n",
    "    results.append((acc, config))\n",
    "\n",
    "\n",
    "\n",
    "# Show top results\n",
    "results.sort(reverse=True, key=lambda x: x[0])\n",
    "print(\"\\n=== Top Results ===\")\n",
    "for acc, cfg in results[:5]:\n",
    "    print(f\"Accuracy: {acc:.4f} | Config: {cfg}\")"
   ]
  },
  {
   "cell_type": "markdown",
   "id": "6fab6b39",
   "metadata": {},
   "source": [
    "#### Interpreting the results\n",
    "Some key takeaways from the random search:\n",
    "- `lr` varies across the top 5. This will need investigating further.\n",
    "\n",
    "- `dropout = 0.5` doesn't appear in the top 5 once.\n",
    "\n",
    "- `fc_hidden = 128` is a very strong performer.\n",
    "\n",
    "- `conv1_out` performs well at 8 and 16.\n",
    "\n",
    "- `conv2_out` is strong at 32, but 64 is worth keeping.\n",
    "\n",
    "- It turns out that `conv3_out = 64` wasn't selected at all in the random search, so it's hard to interpret.\n",
    "\n",
    "- `conv4_out` appears strong at 32, but it's still important to try other values. For example, there are no runs where `fc_hidden = 128` and `conv4_out = 128`, so it's hard to say without further testing.\n",
    "\n",
    "\n",
    "\n",
    " With this information we can create a good grid for Optuna to work with."
   ]
  },
  {
   "cell_type": "markdown",
   "id": "40e52df5",
   "metadata": {},
   "source": [
    "#### Hyperparameter tuning with Successive‐Halving (SH) via Optuna\n",
    "SH runs all models over one epoch and keeps models that perform above a pruning threshold. This repeats, reducing the model set each epoch, until a winner is clear.\n",
    "\n",
    "The Optuna package was chosen because it caches model weights each epoch, hugely reducing compute. Additionally it uses continuous, asynchronous pruning rather than fixed-round halving, improving scalability and resource allocation."
   ]
  },
  {
   "cell_type": "code",
   "execution_count": 6,
   "id": "0d8683e1",
   "metadata": {},
   "outputs": [
    {
     "name": "stderr",
     "output_type": "stream",
     "text": [
      "[I 2025-08-15 22:22:22,685] A new study created in memory with name: ConvCount_HPTune\n",
      "Training: 100%|██████████| 727/727 [10:52<00:00,  1.11batch/s]\n",
      "Training: 100%|██████████| 727/727 [10:00<00:00,  1.21batch/s]\n",
      "Training: 100%|██████████| 727/727 [11:36<00:00,  1.04batch/s]\n",
      "[I 2025-08-15 22:59:59,905] Trial 0 finished with value: 0.6207430340557275 and parameters: {'lr': 0.01, 'dropout_prob': 0.3, 'conv1_out': 16, 'conv2_out': 64, 'conv3_out': 128, 'conv4_out': 128}. Best is trial 0 with value: 0.6207430340557275.\n",
      "Training: 100%|██████████| 727/727 [02:31<00:00,  4.80batch/s]\n",
      "Training: 100%|██████████| 727/727 [02:31<00:00,  4.78batch/s]\n",
      "Training: 100%|██████████| 727/727 [02:32<00:00,  4.77batch/s]\n",
      "[I 2025-08-15 23:08:36,735] Trial 1 finished with value: 0.5270037839697282 and parameters: {'lr': 0.005, 'dropout_prob': 0.3, 'conv1_out': 8, 'conv2_out': 32, 'conv3_out': 64, 'conv4_out': 64}. Best is trial 0 with value: 0.6207430340557275.\n",
      "Training: 100%|██████████| 727/727 [02:58<00:00,  4.07batch/s]\n",
      "Training: 100%|██████████| 727/727 [03:11<00:00,  3.79batch/s]\n",
      "Training: 100%|██████████| 727/727 [09:03<00:00,  1.34batch/s]\n",
      "[I 2025-08-15 23:26:35,498] Trial 2 finished with value: 0.6358789129686963 and parameters: {'lr': 0.005, 'dropout_prob': 0.2, 'conv1_out': 8, 'conv2_out': 64, 'conv3_out': 32, 'conv4_out': 64}. Best is trial 2 with value: 0.6358789129686963.\n",
      "Training: 100%|██████████| 727/727 [02:55<00:00,  4.15batch/s]\n",
      "Training: 100%|██████████| 727/727 [02:54<00:00,  4.17batch/s]\n",
      "[I 2025-08-15 23:33:10,147] Trial 3 pruned. \n",
      "Training: 100%|██████████| 727/727 [03:23<00:00,  3.58batch/s]\n",
      "Training: 100%|██████████| 727/727 [01:34<00:00,  7.67batch/s]\n",
      "[I 2025-08-15 23:38:30,703] Trial 4 pruned. \n",
      "Training: 100%|██████████| 727/727 [01:19<00:00,  9.10batch/s]\n",
      "Training: 100%|██████████| 727/727 [01:50<00:00,  6.60batch/s]\n",
      "[I 2025-08-15 23:42:16,392] Trial 5 pruned. \n",
      "Training: 100%|██████████| 727/727 [03:46<00:00,  3.21batch/s]\n",
      "Training: 100%|██████████| 727/727 [09:13<00:00,  1.31batch/s]\n",
      "[I 2025-08-15 23:57:52,264] Trial 6 pruned. \n",
      "Training: 100%|██████████| 727/727 [06:11<00:00,  1.96batch/s]\n",
      "Training: 100%|██████████| 727/727 [07:53<00:00,  1.54batch/s]\n",
      "[I 2025-08-16 00:14:42,633] Trial 7 pruned. \n",
      "Training: 100%|██████████| 727/727 [02:18<00:00,  5.24batch/s]\n",
      "Training: 100%|██████████| 727/727 [02:18<00:00,  5.26batch/s]\n",
      "[I 2025-08-16 00:19:58,923] Trial 8 pruned. \n",
      "Training: 100%|██████████| 727/727 [02:32<00:00,  4.77batch/s]\n",
      "Training: 100%|██████████| 727/727 [02:36<00:00,  4.65batch/s]\n",
      "[I 2025-08-16 00:25:48,936] Trial 9 pruned. \n",
      "Training: 100%|██████████| 727/727 [03:12<00:00,  3.78batch/s]\n",
      "Training: 100%|██████████| 727/727 [08:26<00:00,  1.44batch/s]\n",
      "[I 2025-08-16 00:40:05,276] Trial 10 pruned. \n",
      "Training: 100%|██████████| 727/727 [07:45<00:00,  1.56batch/s]\n",
      "Training: 100%|██████████| 727/727 [11:01<00:00,  1.10batch/s]\n",
      "[I 2025-08-16 01:03:39,703] Trial 11 pruned. \n",
      "Training: 100%|██████████| 727/727 [12:25<00:00,  1.03s/batch]\n",
      "Training: 100%|██████████| 727/727 [12:25<00:00,  1.03s/batch]\n",
      "[I 2025-08-16 01:33:22,655] Trial 12 pruned. \n",
      "Training: 100%|██████████| 727/727 [11:19<00:00,  1.07batch/s]\n",
      "Training: 100%|██████████| 727/727 [10:34<00:00,  1.15batch/s]\n",
      "[I 2025-08-16 01:58:03,696] Trial 13 pruned. \n",
      "Training: 100%|██████████| 727/727 [08:31<00:00,  1.42batch/s]\n",
      "Training: 100%|██████████| 727/727 [08:55<00:00,  1.36batch/s]\n",
      "Training: 100%|██████████| 727/727 [10:58<00:00,  1.10batch/s]\n",
      "[I 2025-08-16 02:31:42,550] Trial 14 finished with value: 0.6162710698314413 and parameters: {'lr': 0.005, 'dropout_prob': 0.3, 'conv1_out': 8, 'conv2_out': 64, 'conv3_out': 128, 'conv4_out': 128}. Best is trial 2 with value: 0.6358789129686963.\n",
      "Training: 100%|██████████| 727/727 [03:42<00:00,  3.27batch/s]\n",
      "Training: 100%|██████████| 727/727 [03:43<00:00,  3.25batch/s]\n",
      "Training: 100%|██████████| 727/727 [03:43<00:00,  3.26batch/s]\n",
      "[I 2025-08-16 02:44:23,132] Trial 15 finished with value: 0.6320949432404541 and parameters: {'lr': 0.005, 'dropout_prob': 0.2, 'conv1_out': 16, 'conv2_out': 64, 'conv3_out': 32, 'conv4_out': 64}. Best is trial 2 with value: 0.6358789129686963.\n",
      "Training: 100%|██████████| 727/727 [07:46<00:00,  1.56batch/s]\n",
      "Training: 100%|██████████| 727/727 [06:50<00:00,  1.77batch/s]\n",
      "Training: 100%|██████████| 727/727 [11:07<00:00,  1.09batch/s]\n",
      "[I 2025-08-16 03:15:14,164] Trial 16 finished with value: 0.6358789129686963 and parameters: {'lr': 0.005, 'dropout_prob': 0.2, 'conv1_out': 16, 'conv2_out': 64, 'conv3_out': 32, 'conv4_out': 64}. Best is trial 2 with value: 0.6358789129686963.\n",
      "Training: 100%|██████████| 727/727 [07:56<00:00,  1.53batch/s]\n",
      "Training: 100%|██████████| 727/727 [04:56<00:00,  2.45batch/s]\n",
      "[I 2025-08-16 03:30:42,727] Trial 17 pruned. \n",
      "Training: 100%|██████████| 727/727 [10:10<00:00,  1.19batch/s]\n",
      "Training: 100%|██████████| 727/727 [06:14<00:00,  1.94batch/s]\n",
      "[I 2025-08-16 03:51:39,443] Trial 18 pruned. \n",
      "Training: 100%|██████████| 727/727 [08:28<00:00,  1.43batch/s]\n",
      "Training: 100%|██████████| 727/727 [08:18<00:00,  1.46batch/s]\n",
      "[I 2025-08-16 04:11:02,791] Trial 19 pruned. \n",
      "Training: 100%|██████████| 727/727 [05:26<00:00,  2.23batch/s]\n",
      "Training: 100%|██████████| 727/727 [11:16<00:00,  1.07batch/s]\n",
      "[I 2025-08-16 04:30:34,773] Trial 20 pruned. \n",
      "Training: 100%|██████████| 727/727 [09:13<00:00,  1.31batch/s]\n",
      "Training: 100%|██████████| 727/727 [06:15<00:00,  1.94batch/s]\n",
      "[I 2025-08-16 04:50:36,807] Trial 21 pruned. \n",
      "Training: 100%|██████████| 727/727 [10:14<00:00,  1.18batch/s]\n",
      "Training: 100%|██████████| 727/727 [10:22<00:00,  1.17batch/s]\n",
      "Training: 100%|██████████| 727/727 [06:41<00:00,  1.81batch/s]\n",
      "[I 2025-08-16 05:22:56,699] Trial 22 finished with value: 0.6362229102167183 and parameters: {'lr': 0.005, 'dropout_prob': 0.2, 'conv1_out': 16, 'conv2_out': 64, 'conv3_out': 32, 'conv4_out': 64}. Best is trial 22 with value: 0.6362229102167183.\n",
      "Training: 100%|██████████| 727/727 [08:33<00:00,  1.42batch/s]\n",
      "Training: 100%|██████████| 727/727 [11:16<00:00,  1.07batch/s]\n",
      "[I 2025-08-16 05:45:36,362] Trial 23 pruned. \n",
      "Training: 100%|██████████| 727/727 [08:20<00:00,  1.45batch/s]\n",
      "Training: 100%|██████████| 727/727 [06:33<00:00,  1.85batch/s]\n",
      "[I 2025-08-16 06:05:04,990] Trial 24 pruned. \n",
      "Training: 100%|██████████| 727/727 [10:52<00:00,  1.11batch/s]\n",
      "Training: 100%|██████████| 727/727 [03:42<00:00,  3.27batch/s]\n",
      "Training: 100%|██████████| 727/727 [03:40<00:00,  3.29batch/s]\n",
      "[I 2025-08-16 06:24:51,613] Trial 25 finished with value: 0.651014791881665 and parameters: {'lr': 0.001, 'dropout_prob': 0.1, 'conv1_out': 16, 'conv2_out': 64, 'conv3_out': 32, 'conv4_out': 64}. Best is trial 25 with value: 0.651014791881665.\n",
      "Training: 100%|██████████| 727/727 [03:04<00:00,  3.93batch/s]\n",
      "Training: 100%|██████████| 727/727 [03:00<00:00,  4.02batch/s]\n",
      "[I 2025-08-16 06:31:45,247] Trial 26 pruned. \n",
      "Training: 100%|██████████| 727/727 [09:50<00:00,  1.23batch/s]\n",
      "Training: 100%|██████████| 727/727 [05:58<00:00,  2.03batch/s]\n",
      "[I 2025-08-16 06:52:07,143] Trial 27 pruned. \n",
      "Training: 100%|██████████| 727/727 [08:51<00:00,  1.37batch/s]\n",
      "Training: 100%|██████████| 727/727 [07:57<00:00,  1.52batch/s]\n",
      "[I 2025-08-16 07:11:33,716] Trial 28 pruned. \n",
      "Training: 100%|██████████| 727/727 [06:20<00:00,  1.91batch/s]\n",
      "Training: 100%|██████████| 727/727 [11:22<00:00,  1.07batch/s]\n",
      "Training: 100%|██████████| 727/727 [10:44<00:00,  1.13batch/s]\n",
      "[I 2025-08-16 07:45:11,560] Trial 29 finished with value: 0.6386308909528724 and parameters: {'lr': 0.001, 'dropout_prob': 0.1, 'conv1_out': 16, 'conv2_out': 64, 'conv3_out': 64, 'conv4_out': 32}. Best is trial 25 with value: 0.651014791881665.\n",
      "Training: 100%|██████████| 727/727 [07:55<00:00,  1.53batch/s]\n",
      "Training: 100%|██████████| 727/727 [08:16<00:00,  1.46batch/s]\n",
      "[I 2025-08-16 08:06:01,327] Trial 30 pruned. \n",
      "Training: 100%|██████████| 727/727 [11:08<00:00,  1.09batch/s]\n",
      "Training: 100%|██████████| 727/727 [11:22<00:00,  1.07batch/s]\n",
      "[I 2025-08-16 08:31:20,067] Trial 31 pruned. \n",
      "Training: 100%|██████████| 727/727 [08:47<00:00,  1.38batch/s]\n",
      "Training: 100%|██████████| 727/727 [07:05<00:00,  1.71batch/s]\n",
      "Training: 100%|██████████| 727/727 [10:38<00:00,  1.14batch/s]\n",
      "[I 2025-08-16 09:02:55,776] Trial 32 finished with value: 0.632438940488476 and parameters: {'lr': 0.001, 'dropout_prob': 0.1, 'conv1_out': 16, 'conv2_out': 64, 'conv3_out': 64, 'conv4_out': 32}. Best is trial 25 with value: 0.651014791881665.\n",
      "Training: 100%|██████████| 727/727 [11:15<00:00,  1.08batch/s]\n",
      "Training: 100%|██████████| 727/727 [08:38<00:00,  1.40batch/s]\n",
      "[I 2025-08-16 09:27:25,663] Trial 33 pruned. \n",
      "Training: 100%|██████████| 727/727 [06:52<00:00,  1.76batch/s]\n",
      "Training: 100%|██████████| 727/727 [09:50<00:00,  1.23batch/s]\n",
      "Training: 100%|██████████| 727/727 [03:08<00:00,  3.86batch/s]\n",
      "[I 2025-08-16 09:50:19,903] Trial 34 finished with value: 0.610251117991056 and parameters: {'lr': 0.001, 'dropout_prob': 0.1, 'conv1_out': 16, 'conv2_out': 32, 'conv3_out': 64, 'conv4_out': 32}. Best is trial 25 with value: 0.651014791881665.\n",
      "Training: 100%|██████████| 727/727 [03:23<00:00,  3.57batch/s]\n",
      "Training: 100%|██████████| 727/727 [03:24<00:00,  3.56batch/s]\n",
      "Training: 100%|██████████| 727/727 [03:22<00:00,  3.60batch/s]\n",
      "[I 2025-08-16 10:01:50,251] Trial 35 finished with value: 0.6212590299277606 and parameters: {'lr': 0.001, 'dropout_prob': 0.1, 'conv1_out': 8, 'conv2_out': 64, 'conv3_out': 64, 'conv4_out': 64}. Best is trial 25 with value: 0.651014791881665.\n",
      "Training: 100%|██████████| 727/727 [07:27<00:00,  1.63batch/s]\n",
      "Training: 100%|██████████| 727/727 [06:26<00:00,  1.88batch/s]\n",
      "Training: 100%|██████████| 727/727 [10:17<00:00,  1.18batch/s]\n",
      "[I 2025-08-16 10:30:50,283] Trial 36 finished with value: 0.6367389060887513 and parameters: {'lr': 0.001, 'dropout_prob': 0.1, 'conv1_out': 16, 'conv2_out': 32, 'conv3_out': 128, 'conv4_out': 32}. Best is trial 25 with value: 0.651014791881665.\n",
      "Training: 100%|██████████| 727/727 [06:14<00:00,  1.94batch/s]\n",
      "Training: 100%|██████████| 727/727 [08:42<00:00,  1.39batch/s]\n",
      "[I 2025-08-16 10:48:31,356] Trial 37 pruned. \n",
      "Training: 100%|██████████| 727/727 [10:39<00:00,  1.14batch/s]\n",
      "Training: 100%|██████████| 727/727 [06:44<00:00,  1.80batch/s]\n",
      "Training: 100%|██████████| 727/727 [04:36<00:00,  2.63batch/s]\n",
      "[I 2025-08-16 11:15:11,924] Trial 38 finished with value: 0.6513587891296869 and parameters: {'lr': 0.001, 'dropout_prob': 0.1, 'conv1_out': 16, 'conv2_out': 32, 'conv3_out': 128, 'conv4_out': 32}. Best is trial 38 with value: 0.6513587891296869.\n",
      "Training: 100%|██████████| 727/727 [01:30<00:00,  8.03batch/s]\n",
      "Training: 100%|██████████| 727/727 [06:11<00:00,  1.96batch/s]\n",
      "Training: 100%|██████████| 727/727 [07:10<00:00,  1.69batch/s]\n",
      "[I 2025-08-16 11:32:54,833] Trial 39 finished with value: 0.6234950120399037 and parameters: {'lr': 0.001, 'dropout_prob': 0.1, 'conv1_out': 16, 'conv2_out': 32, 'conv3_out': 128, 'conv4_out': 32}. Best is trial 38 with value: 0.6513587891296869.\n",
      "Training: 100%|██████████| 727/727 [08:45<00:00,  1.38batch/s]\n",
      "Training: 100%|██████████| 727/727 [05:10<00:00,  2.34batch/s]\n",
      "[I 2025-08-16 11:49:38,278] Trial 40 pruned. \n",
      "Training: 100%|██████████| 727/727 [03:29<00:00,  3.47batch/s]\n",
      "Training: 100%|██████████| 727/727 [01:48<00:00,  6.70batch/s]\n",
      "[I 2025-08-16 11:55:32,840] Trial 41 pruned. \n",
      "Training: 100%|██████████| 727/727 [02:22<00:00,  5.10batch/s]\n",
      "Training: 100%|██████████| 727/727 [02:27<00:00,  4.94batch/s]\n",
      "[I 2025-08-16 12:00:56,555] Trial 42 pruned. \n",
      "Training: 100%|██████████| 727/727 [02:03<00:00,  5.88batch/s]\n",
      "Training: 100%|██████████| 727/727 [07:26<00:00,  1.63batch/s]\n",
      "Training: 100%|██████████| 727/727 [02:53<00:00,  4.18batch/s]\n",
      "[I 2025-08-16 12:15:19,288] Trial 43 finished with value: 0.6480908152734778 and parameters: {'lr': 0.001, 'dropout_prob': 0.1, 'conv1_out': 16, 'conv2_out': 32, 'conv3_out': 128, 'conv4_out': 32}. Best is trial 38 with value: 0.6513587891296869.\n",
      "Training: 100%|██████████| 727/727 [02:46<00:00,  4.37batch/s]\n",
      "Training: 100%|██████████| 727/727 [07:50<00:00,  1.55batch/s]\n",
      "Training: 100%|██████████| 727/727 [02:01<00:00,  5.96batch/s]\n",
      "[I 2025-08-16 12:29:52,782] Trial 44 finished with value: 0.631234950120399 and parameters: {'lr': 0.001, 'dropout_prob': 0.1, 'conv1_out': 16, 'conv2_out': 32, 'conv3_out': 128, 'conv4_out': 32}. Best is trial 38 with value: 0.6513587891296869.\n",
      "Training: 100%|██████████| 727/727 [01:38<00:00,  7.39batch/s]\n",
      "Training: 100%|██████████| 727/727 [01:57<00:00,  6.17batch/s]\n",
      "Training: 100%|██████████| 727/727 [05:32<00:00,  2.19batch/s]\n",
      "[I 2025-08-16 12:40:59,274] Trial 45 finished with value: 0.6314069487444101 and parameters: {'lr': 0.001, 'dropout_prob': 0.1, 'conv1_out': 16, 'conv2_out': 32, 'conv3_out': 128, 'conv4_out': 32}. Best is trial 38 with value: 0.6513587891296869.\n",
      "Training: 100%|██████████| 727/727 [02:42<00:00,  4.46batch/s]\n",
      "Training: 100%|██████████| 727/727 [01:43<00:00,  7.04batch/s]\n",
      "[I 2025-08-16 12:45:59,017] Trial 46 pruned. \n",
      "Training: 100%|██████████| 727/727 [02:02<00:00,  5.95batch/s]\n",
      "Training: 100%|██████████| 727/727 [03:42<00:00,  3.26batch/s]\n",
      "[I 2025-08-16 12:53:13,813] Trial 47 pruned. \n",
      "Training: 100%|██████████| 727/727 [04:00<00:00,  3.02batch/s]\n",
      "Training: 100%|██████████| 727/727 [01:44<00:00,  6.95batch/s]\n",
      "[I 2025-08-16 12:59:26,364] Trial 48 pruned. \n",
      "Training: 100%|██████████| 727/727 [01:50<00:00,  6.59batch/s]\n",
      "Training: 100%|██████████| 727/727 [01:46<00:00,  6.86batch/s]\n",
      "Training: 100%|██████████| 727/727 [03:30<00:00,  3.45batch/s]\n",
      "[I 2025-08-16 13:08:34,668] Trial 49 finished with value: 0.6317509459924321 and parameters: {'lr': 0.001, 'dropout_prob': 0.1, 'conv1_out': 16, 'conv2_out': 32, 'conv3_out': 128, 'conv4_out': 32}. Best is trial 38 with value: 0.6513587891296869.\n",
      "Training: 100%|██████████| 727/727 [03:41<00:00,  3.28batch/s]\n",
      "Training: 100%|██████████| 727/727 [01:57<00:00,  6.21batch/s]\n",
      "[I 2025-08-16 13:14:40,929] Trial 50 pruned. \n",
      "Training: 100%|██████████| 727/727 [01:38<00:00,  7.41batch/s]\n",
      "Training: 100%|██████████| 727/727 [01:30<00:00,  7.99batch/s]\n",
      "[I 2025-08-16 13:18:15,395] Trial 51 pruned. \n",
      "Training: 100%|██████████| 727/727 [02:23<00:00,  5.07batch/s]\n",
      "Training: 100%|██████████| 727/727 [02:06<00:00,  5.77batch/s]\n",
      "Training: 100%|██████████| 727/727 [01:38<00:00,  7.36batch/s]\n",
      "[I 2025-08-16 13:25:11,663] Trial 52 finished with value: 0.6174750601995184 and parameters: {'lr': 0.01, 'dropout_prob': 0.3, 'conv1_out': 16, 'conv2_out': 32, 'conv3_out': 128, 'conv4_out': 32}. Best is trial 38 with value: 0.6513587891296869.\n",
      "Training: 100%|██████████| 727/727 [01:38<00:00,  7.37batch/s]\n",
      "Training: 100%|██████████| 727/727 [01:57<00:00,  6.16batch/s]\n",
      "Training: 100%|██████████| 727/727 [01:55<00:00,  6.29batch/s]\n",
      "[I 2025-08-16 13:31:19,892] Trial 53 finished with value: 0.6443068455452357 and parameters: {'lr': 0.001, 'dropout_prob': 0.1, 'conv1_out': 16, 'conv2_out': 32, 'conv3_out': 128, 'conv4_out': 32}. Best is trial 38 with value: 0.6513587891296869.\n",
      "Training: 100%|██████████| 727/727 [01:45<00:00,  6.89batch/s]\n",
      "Training: 100%|██████████| 727/727 [03:39<00:00,  3.31batch/s]\n",
      "[I 2025-08-16 13:39:03,865] Trial 54 pruned. \n",
      "Training: 100%|██████████| 727/727 [04:54<00:00,  2.47batch/s]\n",
      "Training: 100%|██████████| 727/727 [01:36<00:00,  7.55batch/s]\n",
      "[I 2025-08-16 13:45:58,996] Trial 55 pruned. \n",
      "Training: 100%|██████████| 727/727 [01:41<00:00,  7.18batch/s]\n",
      "Training: 100%|██████████| 727/727 [03:59<00:00,  3.04batch/s]\n",
      "Training: 100%|██████████| 727/727 [04:29<00:00,  2.70batch/s]\n",
      "[I 2025-08-16 13:57:41,407] Trial 56 finished with value: 0.6475748194014448 and parameters: {'lr': 0.001, 'dropout_prob': 0.1, 'conv1_out': 16, 'conv2_out': 32, 'conv3_out': 128, 'conv4_out': 32}. Best is trial 38 with value: 0.6513587891296869.\n",
      "Training: 100%|██████████| 727/727 [02:00<00:00,  6.05batch/s]\n",
      "Training: 100%|██████████| 727/727 [01:59<00:00,  6.08batch/s]\n",
      "[I 2025-08-16 14:02:09,753] Trial 57 pruned. \n",
      "Training: 100%|██████████| 727/727 [01:45<00:00,  6.89batch/s]\n",
      "Training: 100%|██████████| 727/727 [04:16<00:00,  2.84batch/s]\n",
      "[I 2025-08-16 14:09:34,200] Trial 58 pruned. \n",
      "Training: 100%|██████████| 727/727 [04:05<00:00,  2.96batch/s]\n",
      "Training: 100%|██████████| 727/727 [03:05<00:00,  3.93batch/s]\n",
      "[I 2025-08-16 14:17:34,782] Trial 59 pruned. \n",
      "Training: 100%|██████████| 727/727 [05:53<00:00,  2.05batch/s]\n",
      "Training: 100%|██████████| 727/727 [07:43<00:00,  1.57batch/s]\n",
      "[I 2025-08-16 14:33:47,914] Trial 60 pruned. \n",
      "Training: 100%|██████████| 727/727 [08:18<00:00,  1.46batch/s]\n",
      "Training: 100%|██████████| 727/727 [05:21<00:00,  2.26batch/s]\n",
      "Training: 100%|██████████| 727/727 [10:23<00:00,  1.17batch/s]\n",
      "[I 2025-08-16 15:02:38,694] Trial 61 finished with value: 0.608359133126935 and parameters: {'lr': 0.001, 'dropout_prob': 0.1, 'conv1_out': 16, 'conv2_out': 32, 'conv3_out': 128, 'conv4_out': 32}. Best is trial 38 with value: 0.6513587891296869.\n",
      "Training: 100%|██████████| 727/727 [05:44<00:00,  2.11batch/s]\n",
      "Training: 100%|██████████| 727/727 [08:04<00:00,  1.50batch/s]\n",
      "[I 2025-08-16 15:19:05,196] Trial 62 pruned. \n",
      "Training: 100%|██████████| 727/727 [08:15<00:00,  1.47batch/s]\n",
      "Training: 100%|██████████| 727/727 [05:11<00:00,  2.33batch/s]\n",
      "[I 2025-08-16 15:35:09,557] Trial 63 pruned. \n",
      "Training: 100%|██████████| 727/727 [10:06<00:00,  1.20batch/s]\n",
      "Training: 100%|██████████| 727/727 [05:31<00:00,  2.20batch/s]\n",
      "[I 2025-08-16 15:55:07,431] Trial 64 pruned. \n",
      "Training: 100%|██████████| 727/727 [09:08<00:00,  1.33batch/s]\n",
      "Training: 100%|██████████| 727/727 [09:50<00:00,  1.23batch/s]\n",
      "[I 2025-08-16 16:16:46,247] Trial 65 pruned. \n",
      "Training: 100%|██████████| 727/727 [03:22<00:00,  3.59batch/s]\n",
      "Training: 100%|██████████| 727/727 [09:03<00:00,  1.34batch/s]\n",
      "Training: 100%|██████████| 727/727 [02:38<00:00,  4.58batch/s]\n",
      "[I 2025-08-16 16:34:31,822] Trial 66 finished with value: 0.6491228070175439 and parameters: {'lr': 0.001, 'dropout_prob': 0.1, 'conv1_out': 8, 'conv2_out': 32, 'conv3_out': 64, 'conv4_out': 32}. Best is trial 38 with value: 0.6513587891296869.\n",
      "Training: 100%|██████████| 727/727 [06:21<00:00,  1.91batch/s]\n",
      "Training: 100%|██████████| 727/727 [05:03<00:00,  2.39batch/s]\n",
      "Training: 100%|██████████| 727/727 [02:50<00:00,  4.27batch/s]\n",
      "[I 2025-08-16 16:53:07,030] Trial 67 finished with value: 0.5806673546611627 and parameters: {'lr': 0.001, 'dropout_prob': 0.1, 'conv1_out': 8, 'conv2_out': 32, 'conv3_out': 64, 'conv4_out': 32}. Best is trial 38 with value: 0.6513587891296869.\n",
      "Training: 100%|██████████| 727/727 [06:00<00:00,  2.02batch/s]\n",
      "Training: 100%|██████████| 727/727 [02:46<00:00,  4.35batch/s]\n",
      "[I 2025-08-16 17:02:30,537] Trial 68 pruned. \n",
      "Training: 100%|██████████| 727/727 [02:32<00:00,  4.76batch/s]\n",
      "Training: 100%|██████████| 727/727 [08:42<00:00,  1.39batch/s]\n",
      "[I 2025-08-16 17:16:17,387] Trial 69 pruned. \n",
      "Training: 100%|██████████| 727/727 [04:47<00:00,  2.53batch/s]\n",
      "Training: 100%|██████████| 727/727 [10:53<00:00,  1.11batch/s]\n",
      "[I 2025-08-16 17:34:49,126] Trial 70 pruned. \n",
      "Training: 100%|██████████| 727/727 [02:32<00:00,  4.78batch/s]\n",
      "Training: 100%|██████████| 727/727 [02:28<00:00,  4.90batch/s]\n",
      "[I 2025-08-16 17:40:31,761] Trial 71 pruned. \n",
      "Training: 100%|██████████| 727/727 [03:29<00:00,  3.47batch/s]\n",
      "Training: 100%|██████████| 727/727 [03:42<00:00,  3.27batch/s]\n",
      "[I 2025-08-16 17:48:42,325] Trial 72 pruned. \n",
      "Training: 100%|██████████| 727/727 [02:07<00:00,  5.70batch/s]\n",
      "Training: 100%|██████████| 727/727 [09:45<00:00,  1.24batch/s]\n",
      "[I 2025-08-16 18:03:05,299] Trial 73 pruned. \n",
      "Training: 100%|██████████| 727/727 [03:29<00:00,  3.47batch/s]\n",
      "Training: 100%|██████████| 727/727 [10:17<00:00,  1.18batch/s]\n",
      "[I 2025-08-16 18:19:36,540] Trial 74 pruned. \n",
      "Training: 100%|██████████| 727/727 [08:22<00:00,  1.45batch/s]\n",
      "Training: 100%|██████████| 727/727 [07:09<00:00,  1.69batch/s]\n",
      "[I 2025-08-16 18:39:54,453] Trial 75 pruned. \n",
      "Training: 100%|██████████| 727/727 [10:22<00:00,  1.17batch/s]\n",
      "Training: 100%|██████████| 727/727 [03:40<00:00,  3.30batch/s]\n",
      "[I 2025-08-16 18:54:57,823] Trial 76 pruned. \n",
      "Training: 100%|██████████| 727/727 [03:38<00:00,  3.32batch/s]\n",
      "Training: 100%|██████████| 727/727 [03:37<00:00,  3.34batch/s]\n",
      "[I 2025-08-16 19:03:13,319] Trial 77 pruned. \n",
      "Training: 100%|██████████| 727/727 [04:02<00:00,  2.99batch/s]\n",
      "Training: 100%|██████████| 727/727 [10:20<00:00,  1.17batch/s]\n",
      "[I 2025-08-16 19:20:22,432] Trial 78 pruned. \n",
      "Training: 100%|██████████| 727/727 [06:48<00:00,  1.78batch/s]\n",
      "Training: 100%|██████████| 727/727 [02:55<00:00,  4.15batch/s]\n",
      "Training: 100%|██████████| 727/727 [03:40<00:00,  3.30batch/s]\n",
      "[I 2025-08-16 19:35:58,184] Trial 79 finished with value: 0.6269349845201239 and parameters: {'lr': 0.001, 'dropout_prob': 0.1, 'conv1_out': 16, 'conv2_out': 32, 'conv3_out': 128, 'conv4_out': 32}. Best is trial 38 with value: 0.6513587891296869.\n",
      "Training: 100%|██████████| 727/727 [09:25<00:00,  1.28batch/s]\n",
      "Training: 100%|██████████| 727/727 [05:39<00:00,  2.14batch/s]\n",
      "Training: 100%|██████████| 727/727 [09:52<00:00,  1.23batch/s]\n",
      "[I 2025-08-16 20:06:00,551] Trial 80 finished with value: 0.6417268661850705 and parameters: {'lr': 0.001, 'dropout_prob': 0.1, 'conv1_out': 16, 'conv2_out': 64, 'conv3_out': 32, 'conv4_out': 32}. Best is trial 38 with value: 0.6513587891296869.\n",
      "Training: 100%|██████████| 727/727 [03:39<00:00,  3.31batch/s]\n",
      "Training: 100%|██████████| 727/727 [03:41<00:00,  3.28batch/s]\n",
      "[I 2025-08-16 20:14:21,719] Trial 81 pruned. \n",
      "Training: 100%|██████████| 727/727 [03:41<00:00,  3.29batch/s]\n",
      "Training: 100%|██████████| 727/727 [04:10<00:00,  2.90batch/s]\n",
      "[I 2025-08-16 20:24:57,744] Trial 82 pruned. \n",
      "Training: 100%|██████████| 727/727 [10:00<00:00,  1.21batch/s]\n",
      "Training: 100%|██████████| 727/727 [07:54<00:00,  1.53batch/s]\n",
      "[I 2025-08-16 20:45:35,580] Trial 83 pruned. \n",
      "Training: 100%|██████████| 727/727 [05:59<00:00,  2.02batch/s]\n",
      "Training: 100%|██████████| 727/727 [03:39<00:00,  3.31batch/s]\n",
      "Training: 100%|██████████| 727/727 [03:42<00:00,  3.26batch/s]\n",
      "[I 2025-08-16 21:00:25,614] Trial 84 finished with value: 0.6455108359133127 and parameters: {'lr': 0.001, 'dropout_prob': 0.1, 'conv1_out': 16, 'conv2_out': 64, 'conv3_out': 32, 'conv4_out': 32}. Best is trial 38 with value: 0.6513587891296869.\n",
      "Training: 100%|██████████| 727/727 [03:39<00:00,  3.31batch/s]\n",
      "Training: 100%|██████████| 727/727 [05:49<00:00,  2.08batch/s]\n",
      "Training: 100%|██████████| 727/727 [08:15<00:00,  1.47batch/s]\n",
      "[I 2025-08-16 21:21:20,998] Trial 85 finished with value: 0.6219470244238046 and parameters: {'lr': 0.001, 'dropout_prob': 0.1, 'conv1_out': 16, 'conv2_out': 64, 'conv3_out': 32, 'conv4_out': 32}. Best is trial 38 with value: 0.6513587891296869.\n",
      "Training: 100%|██████████| 727/727 [08:56<00:00,  1.36batch/s]\n",
      "Training: 100%|██████████| 727/727 [05:04<00:00,  2.38batch/s]\n",
      "[I 2025-08-16 21:39:46,130] Trial 86 pruned. \n",
      "Training: 100%|██████████| 727/727 [10:43<00:00,  1.13batch/s]\n",
      "Training: 100%|██████████| 727/727 [08:29<00:00,  1.43batch/s]\n",
      "[I 2025-08-16 22:01:44,784] Trial 87 pruned. \n",
      "Training: 100%|██████████| 727/727 [06:10<00:00,  1.96batch/s]\n",
      "Training: 100%|██████████| 727/727 [10:48<00:00,  1.12batch/s]\n",
      "Training: 100%|██████████| 727/727 [08:46<00:00,  1.38batch/s]\n",
      "[I 2025-08-16 22:32:25,994] Trial 88 finished with value: 0.6341589267285862 and parameters: {'lr': 0.001, 'dropout_prob': 0.2, 'conv1_out': 16, 'conv2_out': 64, 'conv3_out': 32, 'conv4_out': 32}. Best is trial 38 with value: 0.6513587891296869.\n",
      "Training: 100%|██████████| 727/727 [04:39<00:00,  2.60batch/s]\n",
      "Training: 100%|██████████| 727/727 [09:50<00:00,  1.23batch/s]\n",
      "[I 2025-08-16 22:49:23,249] Trial 89 pruned. \n",
      "Training: 100%|██████████| 727/727 [04:37<00:00,  2.62batch/s]\n",
      "Training: 100%|██████████| 727/727 [09:54<00:00,  1.22batch/s]\n",
      "[I 2025-08-16 23:06:35,617] Trial 90 pruned. \n",
      "Training: 100%|██████████| 727/727 [10:04<00:00,  1.20batch/s]\n",
      "Training: 100%|██████████| 727/727 [08:04<00:00,  1.50batch/s]\n",
      "[I 2025-08-16 23:29:21,120] Trial 91 pruned. \n",
      "Training: 100%|██████████| 727/727 [08:00<00:00,  1.51batch/s]\n",
      "Training: 100%|██████████| 727/727 [10:04<00:00,  1.20batch/s]\n",
      "Training: 100%|██████████| 727/727 [03:48<00:00,  3.18batch/s]\n",
      "[I 2025-08-16 23:56:16,716] Trial 92 finished with value: 0.6491228070175439 and parameters: {'lr': 0.001, 'dropout_prob': 0.1, 'conv1_out': 16, 'conv2_out': 32, 'conv3_out': 64, 'conv4_out': 32}. Best is trial 38 with value: 0.6513587891296869.\n",
      "Training: 100%|██████████| 727/727 [06:41<00:00,  1.81batch/s]\n",
      "Training: 100%|██████████| 727/727 [01:18<00:00,  9.31batch/s]\n",
      "[I 2025-08-17 00:04:35,778] Trial 93 pruned. \n",
      "Training: 100%|██████████| 727/727 [03:09<00:00,  3.84batch/s]\n",
      "Training: 100%|██████████| 727/727 [10:58<00:00,  1.10batch/s]\n",
      "[I 2025-08-17 00:21:28,053] Trial 94 pruned. \n",
      "Training: 100%|██████████| 727/727 [06:35<00:00,  1.84batch/s]\n",
      "Training: 100%|██████████| 727/727 [07:09<00:00,  1.69batch/s]\n",
      "Training: 100%|██████████| 727/727 [09:59<00:00,  1.21batch/s]\n",
      "[I 2025-08-17 00:50:12,998] Trial 95 finished with value: 0.6350189198486412 and parameters: {'lr': 0.001, 'dropout_prob': 0.1, 'conv1_out': 16, 'conv2_out': 32, 'conv3_out': 64, 'conv4_out': 32}. Best is trial 38 with value: 0.6513587891296869.\n",
      "Training: 100%|██████████| 727/727 [05:18<00:00,  2.28batch/s]\n",
      "Training: 100%|██████████| 727/727 [09:24<00:00,  1.29batch/s]\n",
      "[I 2025-08-17 01:07:43,369] Trial 96 pruned. \n",
      "Training: 100%|██████████| 727/727 [10:27<00:00,  1.16batch/s]\n",
      "Training: 100%|██████████| 727/727 [07:37<00:00,  1.59batch/s]\n",
      "[I 2025-08-17 01:30:31,409] Trial 97 pruned. \n",
      "Training: 100%|██████████| 727/727 [07:23<00:00,  1.64batch/s]\n",
      "Training: 100%|██████████| 727/727 [09:37<00:00,  1.26batch/s]\n",
      "[I 2025-08-17 01:50:11,500] Trial 98 pruned. \n",
      "Training: 100%|██████████| 727/727 [07:04<00:00,  1.71batch/s]\n",
      "Training: 100%|██████████| 727/727 [10:05<00:00,  1.20batch/s]\n",
      "[I 2025-08-17 02:12:11,618] Trial 99 pruned. \n",
      "Training: 100%|██████████| 727/727 [09:45<00:00,  1.24batch/s]\n",
      "Training: 100%|██████████| 727/727 [06:21<00:00,  1.90batch/s]\n",
      "[I 2025-08-17 02:30:58,288] Trial 100 pruned. \n",
      "Training: 100%|██████████| 727/727 [07:36<00:00,  1.59batch/s]\n",
      "Training: 100%|██████████| 727/727 [11:18<00:00,  1.07batch/s]\n",
      "[I 2025-08-17 02:52:41,294] Trial 101 pruned. \n",
      "Training: 100%|██████████| 727/727 [08:30<00:00,  1.42batch/s]\n",
      "Training: 100%|██████████| 727/727 [06:11<00:00,  1.96batch/s]\n",
      "Training: 100%|██████████| 727/727 [11:01<00:00,  1.10batch/s]\n",
      "[I 2025-08-17 03:23:34,568] Trial 102 finished with value: 0.5961472308221534 and parameters: {'lr': 0.001, 'dropout_prob': 0.1, 'conv1_out': 16, 'conv2_out': 32, 'conv3_out': 128, 'conv4_out': 32}. Best is trial 38 with value: 0.6513587891296869.\n",
      "Training: 100%|██████████| 727/727 [10:05<00:00,  1.20batch/s]\n",
      "Training: 100%|██████████| 727/727 [06:27<00:00,  1.88batch/s]\n",
      "[I 2025-08-17 03:44:38,803] Trial 103 pruned. \n",
      "Training: 100%|██████████| 727/727 [09:13<00:00,  1.31batch/s]\n",
      "Training: 100%|██████████| 727/727 [11:29<00:00,  1.05batch/s]\n",
      "Training: 100%|██████████| 727/727 [08:38<00:00,  1.40batch/s]\n",
      "[I 2025-08-17 04:19:08,191] Trial 104 finished with value: 0.6410388716890265 and parameters: {'lr': 0.001, 'dropout_prob': 0.1, 'conv1_out': 16, 'conv2_out': 32, 'conv3_out': 128, 'conv4_out': 32}. Best is trial 38 with value: 0.6513587891296869.\n",
      "Training: 100%|██████████| 727/727 [05:43<00:00,  2.12batch/s]\n",
      "Training: 100%|██████████| 727/727 [03:39<00:00,  3.31batch/s]\n",
      "Training: 100%|██████████| 727/727 [03:39<00:00,  3.32batch/s]\n",
      "[I 2025-08-17 04:33:36,057] Trial 105 finished with value: 0.6363949088407292 and parameters: {'lr': 0.001, 'dropout_prob': 0.1, 'conv1_out': 16, 'conv2_out': 32, 'conv3_out': 128, 'conv4_out': 32}. Best is trial 38 with value: 0.6513587891296869.\n",
      "Training: 100%|██████████| 727/727 [03:08<00:00,  3.86batch/s]\n",
      "Training: 100%|██████████| 727/727 [04:46<00:00,  2.54batch/s]\n",
      "[I 2025-08-17 04:44:10,863] Trial 106 pruned. \n",
      "Training: 100%|██████████| 727/727 [08:54<00:00,  1.36batch/s]\n",
      "Training: 100%|██████████| 727/727 [07:58<00:00,  1.52batch/s]\n",
      "Training: 100%|██████████| 727/727 [05:33<00:00,  2.18batch/s]\n",
      "[I 2025-08-17 05:09:41,966] Trial 107 finished with value: 0.6322669418644651 and parameters: {'lr': 0.001, 'dropout_prob': 0.1, 'conv1_out': 8, 'conv2_out': 32, 'conv3_out': 128, 'conv4_out': 64}. Best is trial 38 with value: 0.6513587891296869.\n",
      "Training: 100%|██████████| 727/727 [10:21<00:00,  1.17batch/s]\n",
      "Training: 100%|██████████| 727/727 [04:06<00:00,  2.95batch/s]\n",
      "[I 2025-08-17 05:28:40,938] Trial 108 pruned. \n",
      "Training: 100%|██████████| 727/727 [11:31<00:00,  1.05batch/s]\n",
      "Training: 100%|██████████| 727/727 [04:42<00:00,  2.57batch/s]\n",
      "Training: 100%|██████████| 727/727 [04:43<00:00,  2.57batch/s]\n",
      "[I 2025-08-17 05:51:30,525] Trial 109 finished with value: 0.6064671482628139 and parameters: {'lr': 0.01, 'dropout_prob': 0.1, 'conv1_out': 16, 'conv2_out': 64, 'conv3_out': 128, 'conv4_out': 32}. Best is trial 38 with value: 0.6513587891296869.\n",
      "Training: 100%|██████████| 727/727 [03:09<00:00,  3.85batch/s]\n",
      "Training: 100%|██████████| 727/727 [10:41<00:00,  1.13batch/s]\n",
      "Training: 100%|██████████| 727/727 [05:42<00:00,  2.12batch/s]\n",
      "[I 2025-08-17 06:16:01,027] Trial 110 finished with value: 0.6162710698314413 and parameters: {'lr': 0.001, 'dropout_prob': 0.1, 'conv1_out': 16, 'conv2_out': 32, 'conv3_out': 64, 'conv4_out': 32}. Best is trial 38 with value: 0.6513587891296869.\n",
      "Training: 100%|██████████| 727/727 [08:42<00:00,  1.39batch/s]\n",
      "Training: 100%|██████████| 727/727 [11:27<00:00,  1.06batch/s]\n",
      "[I 2025-08-17 06:39:02,389] Trial 111 pruned. \n",
      "Training: 100%|██████████| 727/727 [08:48<00:00,  1.38batch/s]\n",
      "Training: 100%|██████████| 727/727 [06:10<00:00,  1.96batch/s]\n",
      "Training: 100%|██████████| 727/727 [10:48<00:00,  1.12batch/s]\n",
      "[I 2025-08-17 07:09:55,477] Trial 112 finished with value: 0.65187478500172 and parameters: {'lr': 0.001, 'dropout_prob': 0.1, 'conv1_out': 16, 'conv2_out': 32, 'conv3_out': 128, 'conv4_out': 32}. Best is trial 112 with value: 0.65187478500172.\n",
      "Training: 100%|██████████| 727/727 [10:19<00:00,  1.17batch/s]\n",
      "Training: 100%|██████████| 727/727 [06:46<00:00,  1.79batch/s]\n",
      "Training: 100%|██████████| 727/727 [08:44<00:00,  1.39batch/s]\n",
      "[I 2025-08-17 07:41:49,217] Trial 113 finished with value: 0.6159270725834193 and parameters: {'lr': 0.001, 'dropout_prob': 0.1, 'conv1_out': 16, 'conv2_out': 32, 'conv3_out': 128, 'conv4_out': 32}. Best is trial 112 with value: 0.65187478500172.\n",
      "Training: 100%|██████████| 727/727 [11:20<00:00,  1.07batch/s]\n",
      "Training: 100%|██████████| 727/727 [08:50<00:00,  1.37batch/s]\n",
      "Training: 100%|██████████| 727/727 [06:03<00:00,  2.00batch/s]\n",
      "[I 2025-08-17 08:14:03,047] Trial 114 finished with value: 0.608359133126935 and parameters: {'lr': 0.001, 'dropout_prob': 0.1, 'conv1_out': 16, 'conv2_out': 32, 'conv3_out': 128, 'conv4_out': 32}. Best is trial 112 with value: 0.65187478500172.\n",
      "Training: 100%|██████████| 727/727 [10:37<00:00,  1.14batch/s]\n",
      "Training: 100%|██████████| 727/727 [09:51<00:00,  1.23batch/s]\n",
      "[I 2025-08-17 08:37:22,178] Trial 115 pruned. \n",
      "Training: 100%|██████████| 727/727 [04:24<00:00,  2.75batch/s]\n",
      "Training: 100%|██████████| 727/727 [07:25<00:00,  1.63batch/s]\n",
      "[I 2025-08-17 08:50:51,650] Trial 116 pruned. \n",
      "Training: 100%|██████████| 727/727 [04:41<00:00,  2.59batch/s]\n",
      "Training: 100%|██████████| 727/727 [12:43<00:00,  1.05s/batch]\n",
      "[I 2025-08-17 09:11:17,971] Trial 117 pruned. \n",
      "Training: 100%|██████████| 727/727 [02:49<00:00,  4.28batch/s]\n",
      "Training: 100%|██████████| 727/727 [02:49<00:00,  4.30batch/s]\n",
      "[I 2025-08-17 09:17:46,674] Trial 118 pruned. \n",
      "Training: 100%|██████████| 727/727 [03:11<00:00,  3.80batch/s]\n",
      "Training: 100%|██████████| 727/727 [03:17<00:00,  3.69batch/s]\n",
      "[I 2025-08-17 09:25:06,675] Trial 119 pruned. \n",
      "Training: 100%|██████████| 727/727 [10:00<00:00,  1.21batch/s]\n",
      "Training: 100%|██████████| 727/727 [11:30<00:00,  1.05batch/s]\n",
      "[I 2025-08-17 09:51:29,345] Trial 120 pruned. \n",
      "Training: 100%|██████████| 727/727 [07:21<00:00,  1.65batch/s]\n",
      "Training: 100%|██████████| 727/727 [09:44<00:00,  1.24batch/s]\n",
      "Training: 100%|██████████| 727/727 [11:21<00:00,  1.07batch/s]\n",
      "[I 2025-08-17 10:25:07,824] Trial 121 finished with value: 0.6408668730650154 and parameters: {'lr': 0.001, 'dropout_prob': 0.1, 'conv1_out': 16, 'conv2_out': 32, 'conv3_out': 128, 'conv4_out': 32}. Best is trial 112 with value: 0.65187478500172.\n",
      "Training: 100%|██████████| 727/727 [08:29<00:00,  1.43batch/s]\n",
      "Training: 100%|██████████| 727/727 [05:59<00:00,  2.02batch/s]\n",
      "Training: 100%|██████████| 727/727 [03:38<00:00,  3.33batch/s]\n",
      "[I 2025-08-17 10:46:21,158] Trial 122 finished with value: 0.6073271413828689 and parameters: {'lr': 0.001, 'dropout_prob': 0.1, 'conv1_out': 16, 'conv2_out': 32, 'conv3_out': 128, 'conv4_out': 32}. Best is trial 112 with value: 0.65187478500172.\n",
      "Training: 100%|██████████| 727/727 [03:40<00:00,  3.30batch/s]\n",
      "Training: 100%|██████████| 727/727 [03:34<00:00,  3.40batch/s]\n",
      "Training: 100%|██████████| 727/727 [06:41<00:00,  1.81batch/s]\n",
      "[I 2025-08-17 11:03:33,080] Trial 123 finished with value: 0.6403508771929824 and parameters: {'lr': 0.001, 'dropout_prob': 0.1, 'conv1_out': 16, 'conv2_out': 32, 'conv3_out': 128, 'conv4_out': 32}. Best is trial 112 with value: 0.65187478500172.\n",
      "Training: 100%|██████████| 727/727 [07:34<00:00,  1.60batch/s]\n",
      "Training: 100%|██████████| 727/727 [07:20<00:00,  1.65batch/s]\n",
      "[I 2025-08-17 11:20:38,372] Trial 124 pruned. \n",
      "Training: 100%|██████████| 727/727 [02:23<00:00,  5.05batch/s]\n",
      "Training: 100%|██████████| 727/727 [03:27<00:00,  3.50batch/s]\n",
      "[I 2025-08-17 11:27:02,348] Trial 125 pruned. \n",
      "Training: 100%|██████████| 727/727 [05:46<00:00,  2.10batch/s]\n",
      "Training: 100%|██████████| 727/727 [01:29<00:00,  8.14batch/s]\n",
      "[I 2025-08-17 11:35:34,985] Trial 126 pruned. \n",
      "Training: 100%|██████████| 727/727 [01:49<00:00,  6.61batch/s]\n",
      "Training: 100%|██████████| 727/727 [01:54<00:00,  6.35batch/s]\n",
      "[I 2025-08-17 11:39:47,395] Trial 127 pruned. \n",
      "Training: 100%|██████████| 727/727 [01:50<00:00,  6.58batch/s]\n",
      "Training: 100%|██████████| 727/727 [04:59<00:00,  2.43batch/s]\n",
      "[I 2025-08-17 11:48:20,891] Trial 128 pruned. \n",
      "Training: 100%|██████████| 727/727 [03:50<00:00,  3.16batch/s]\n",
      "Training: 100%|██████████| 727/727 [02:53<00:00,  4.19batch/s]\n",
      "[I 2025-08-17 11:55:46,523] Trial 129 pruned. \n",
      "Training: 100%|██████████| 727/727 [04:24<00:00,  2.74batch/s]\n",
      "Training: 100%|██████████| 727/727 [03:59<00:00,  3.03batch/s]\n",
      "[I 2025-08-17 12:05:49,238] Trial 130 pruned. \n",
      "Training: 100%|██████████| 727/727 [01:19<00:00,  9.14batch/s]\n",
      "Training: 100%|██████████| 727/727 [01:16<00:00,  9.49batch/s]\n",
      "[I 2025-08-17 12:08:46,774] Trial 131 pruned. \n",
      "Training: 100%|██████████| 727/727 [02:27<00:00,  4.92batch/s]\n",
      "Training: 100%|██████████| 727/727 [06:40<00:00,  1.81batch/s]\n",
      "[I 2025-08-17 12:19:40,640] Trial 132 pruned. \n",
      "Training: 100%|██████████| 727/727 [01:43<00:00,  7.05batch/s]\n",
      "Training: 100%|██████████| 727/727 [01:34<00:00,  7.68batch/s]\n",
      "[I 2025-08-17 12:23:21,655] Trial 133 pruned. \n",
      "Training: 100%|██████████| 727/727 [01:16<00:00,  9.51batch/s]\n",
      "Training: 100%|██████████| 727/727 [01:17<00:00,  9.39batch/s]\n",
      "[I 2025-08-17 12:26:16,936] Trial 134 pruned. \n",
      "Training: 100%|██████████| 727/727 [02:23<00:00,  5.05batch/s]\n",
      "Training: 100%|██████████| 727/727 [02:06<00:00,  5.74batch/s]\n",
      "[I 2025-08-17 12:31:16,914] Trial 135 pruned. \n",
      "Training: 100%|██████████| 727/727 [01:31<00:00,  7.98batch/s]\n",
      "Training: 100%|██████████| 727/727 [01:29<00:00,  8.12batch/s]\n",
      "[I 2025-08-17 12:34:40,664] Trial 136 pruned. \n",
      "Training: 100%|██████████| 727/727 [01:44<00:00,  6.93batch/s]\n",
      "Training: 100%|██████████| 727/727 [01:42<00:00,  7.06batch/s]\n",
      "[I 2025-08-17 12:38:34,303] Trial 137 pruned. \n",
      "Training: 100%|██████████| 727/727 [01:27<00:00,  8.26batch/s]\n",
      "Training: 100%|██████████| 727/727 [01:26<00:00,  8.41batch/s]\n",
      "[I 2025-08-17 12:41:50,404] Trial 138 pruned. \n",
      "Training: 100%|██████████| 727/727 [04:48<00:00,  2.52batch/s]\n",
      "Training: 100%|██████████| 727/727 [03:14<00:00,  3.75batch/s]\n",
      "[I 2025-08-17 12:52:04,039] Trial 139 pruned. \n",
      "Training: 100%|██████████| 727/727 [01:32<00:00,  7.86batch/s]\n",
      "Training: 100%|██████████| 727/727 [01:43<00:00,  7.03batch/s]\n",
      "[I 2025-08-17 12:55:45,002] Trial 140 pruned. \n",
      "Training: 100%|██████████| 727/727 [01:36<00:00,  7.54batch/s]\n",
      "Training: 100%|██████████| 727/727 [05:49<00:00,  2.08batch/s]\n",
      "[I 2025-08-17 13:04:39,162] Trial 141 pruned. \n",
      "Training: 100%|██████████| 727/727 [02:52<00:00,  4.21batch/s]\n",
      "Training: 100%|██████████| 727/727 [01:50<00:00,  6.60batch/s]\n",
      "Training: 100%|██████████| 727/727 [02:59<00:00,  4.06batch/s]\n",
      "[I 2025-08-17 13:14:37,398] Trial 142 finished with value: 0.6504987960096319 and parameters: {'lr': 0.001, 'dropout_prob': 0.1, 'conv1_out': 16, 'conv2_out': 32, 'conv3_out': 128, 'conv4_out': 32}. Best is trial 112 with value: 0.65187478500172.\n",
      "Training: 100%|██████████| 727/727 [06:11<00:00,  1.96batch/s]\n",
      "Training: 100%|██████████| 727/727 [02:30<00:00,  4.84batch/s]\n",
      "[I 2025-08-17 13:23:46,142] Trial 143 pruned. \n",
      "Training: 100%|██████████| 727/727 [02:06<00:00,  5.73batch/s]\n",
      "Training: 100%|██████████| 727/727 [06:11<00:00,  1.96batch/s]\n",
      "Training: 100%|██████████| 727/727 [02:58<00:00,  4.07batch/s]\n",
      "[I 2025-08-17 13:37:04,581] Trial 144 finished with value: 0.6422428620571036 and parameters: {'lr': 0.001, 'dropout_prob': 0.1, 'conv1_out': 16, 'conv2_out': 32, 'conv3_out': 128, 'conv4_out': 32}. Best is trial 112 with value: 0.65187478500172.\n",
      "Training: 100%|██████████| 727/727 [02:41<00:00,  4.49batch/s]\n",
      "Training: 100%|██████████| 727/727 [02:07<00:00,  5.71batch/s]\n",
      "[I 2025-08-17 13:42:27,885] Trial 145 pruned. \n",
      "Training: 100%|██████████| 727/727 [05:43<00:00,  2.11batch/s]\n",
      "Training: 100%|██████████| 727/727 [02:20<00:00,  5.17batch/s]\n",
      "[I 2025-08-17 13:51:57,955] Trial 146 pruned. \n",
      "Training: 100%|██████████| 727/727 [02:18<00:00,  5.25batch/s]\n",
      "Training: 100%|██████████| 727/727 [03:59<00:00,  3.03batch/s]\n",
      "Training: 100%|██████████| 727/727 [11:26<00:00,  1.06batch/s]\n",
      "[I 2025-08-17 14:13:58,902] Trial 147 finished with value: 0.6384588923288613 and parameters: {'lr': 0.001, 'dropout_prob': 0.1, 'conv1_out': 16, 'conv2_out': 32, 'conv3_out': 128, 'conv4_out': 32}. Best is trial 112 with value: 0.65187478500172.\n",
      "Training: 100%|██████████| 727/727 [10:28<00:00,  1.16batch/s]\n",
      "Training: 100%|██████████| 727/727 [09:08<00:00,  1.32batch/s]\n",
      "Training: 100%|██████████| 727/727 [07:53<00:00,  1.53batch/s]\n",
      "[I 2025-08-17 14:46:06,815] Trial 148 finished with value: 0.6375988992088063 and parameters: {'lr': 0.001, 'dropout_prob': 0.1, 'conv1_out': 16, 'conv2_out': 32, 'conv3_out': 128, 'conv4_out': 64}. Best is trial 112 with value: 0.65187478500172.\n",
      "Training: 100%|██████████| 727/727 [04:28<00:00,  2.71batch/s]\n",
      "Training: 100%|██████████| 727/727 [02:32<00:00,  4.75batch/s]\n",
      "[I 2025-08-17 14:53:53,508] Trial 149 pruned. \n"
     ]
    },
    {
     "name": "stdout",
     "output_type": "stream",
     "text": [
      "Best HPs: {'lr': 0.001, 'dropout_prob': 0.1, 'conv1_out': 16, 'conv2_out': 32, 'conv3_out': 128, 'conv4_out': 32}\n"
     ]
    }
   ],
   "source": [
    "import optuna\n",
    "\n",
    "# After each epoch a model is compared to the current best; if there is no chance it will outperform the best model, it's pruned\n",
    "def objective(trial):\n",
    "\n",
    "    cfg = {\n",
    "      'lr': trial.suggest_categorical('lr', [0.01,0.001,0.005]),\n",
    "      'dropout_prob': trial.suggest_categorical('dropout_prob', [0.1,0.2,0.3]),\n",
    "      'fc_hidden': 128,\n",
    "      'conv1_out': trial.suggest_categorical('conv1_out',[8,16]),\n",
    "      'conv2_out': trial.suggest_categorical('conv2_out',[32,64]),\n",
    "      'conv3_out': trial.suggest_categorical('conv3_out',[32,64,128]),\n",
    "      'conv4_out': trial.suggest_categorical('conv4_out',[32,64,128]),\n",
    "    }\n",
    "\n",
    "    # Helper to build model, see setup\n",
    "    model = build_model(cfg, 64, 96).to(device)\n",
    "\n",
    "    # Adam optim\n",
    "    opt = optim.Adam(model.parameters(), lr=cfg['lr'])\n",
    "\n",
    "    # Cross entropy objective\n",
    "    crit = nn.CrossEntropyLoss()\n",
    "\n",
    "    # Training and comparing to existing models\n",
    "    for epoch in range(3):\n",
    "        train_one_epoch(model, train_loader, opt, device)\n",
    "        val_acc = validate(model, val_loader, device)\n",
    "        trial.report(val_acc, epoch)\n",
    "        if trial.should_prune():\n",
    "            raise optuna.exceptions.TrialPruned()\n",
    "    return val_acc\n",
    "\n",
    "\n",
    "# Creates a stratified subset, makes hp tuning quicker\n",
    "train_loader, val_loader = get_stratified_loaders(\n",
    "    dataset,\n",
    "    subset_frac=0.25,  \n",
    "    train_frac=0.8,    \n",
    "    batch_size=32,\n",
    "    random_state=42\n",
    ")\n",
    "\n",
    "\n",
    "device = torch.device('cuda' if torch.cuda.is_available() else 'cpu')\n",
    "\n",
    "\n",
    "# Create an Optuna 'study'. An Optuna study is an iterable function which stores weights for each model. This makes SH much quicker\n",
    "study  = optuna.create_study(direction='maximize',\n",
    "            pruner=optuna.pruners.SuccessiveHalvingPruner(), study_name='ConvCount_HPTune')\n",
    "\n",
    "# There are 324 possible combinations. Trying 150 of them is enough to likely find the best or near-best config\n",
    "study.optimize(objective, n_trials=150)\n",
    "\n",
    "\n",
    "\n",
    "best_cfg = study.best_trial.params\n",
    "print(\"Best HPs:\", best_cfg)"
   ]
  },
  {
   "cell_type": "code",
   "execution_count": 9,
   "id": "4b3287ba",
   "metadata": {},
   "outputs": [
    {
     "data": {
      "text/plain": [
       "0.65187478500172"
      ]
     },
     "execution_count": 9,
     "metadata": {},
     "output_type": "execute_result"
    }
   ],
   "source": [
    "# The best validation accuracy\n",
    "study.best_trial.value"
   ]
  },
  {
   "cell_type": "markdown",
   "id": "439979cb",
   "metadata": {},
   "source": [
    "### Final Model training, based on best config found above\n"
   ]
  },
  {
   "cell_type": "code",
   "execution_count": 13,
   "id": "56f42387",
   "metadata": {},
   "outputs": [
    {
     "name": "stderr",
     "output_type": "stream",
     "text": [
      "Training: 100%|██████████| 2907/2907 [25:09<00:00,  1.93batch/s]\n"
     ]
    },
    {
     "name": "stdout",
     "output_type": "stream",
     "text": [
      "Epoch 1 — Loss 0.7538 — 1509.7s\n"
     ]
    },
    {
     "name": "stderr",
     "output_type": "stream",
     "text": [
      "Training: 100%|██████████| 2907/2907 [25:30<00:00,  1.90batch/s]\n"
     ]
    },
    {
     "name": "stdout",
     "output_type": "stream",
     "text": [
      "Epoch 2 — Loss 0.7011 — 1530.7s\n"
     ]
    },
    {
     "name": "stderr",
     "output_type": "stream",
     "text": [
      "Training: 100%|██████████| 2907/2907 [14:24<00:00,  3.36batch/s]\n"
     ]
    },
    {
     "name": "stdout",
     "output_type": "stream",
     "text": [
      "Epoch 3 — Loss 0.6794 — 864.8s\n"
     ]
    },
    {
     "name": "stderr",
     "output_type": "stream",
     "text": [
      "Training: 100%|██████████| 2907/2907 [30:10<00:00,  1.61batch/s]\n"
     ]
    },
    {
     "name": "stdout",
     "output_type": "stream",
     "text": [
      "Epoch 4 — Loss 0.6659 — 1811.0s\n"
     ]
    },
    {
     "name": "stderr",
     "output_type": "stream",
     "text": [
      "Training: 100%|██████████| 2907/2907 [23:38<00:00,  2.05batch/s]\n"
     ]
    },
    {
     "name": "stdout",
     "output_type": "stream",
     "text": [
      "Epoch 5 — Loss 0.6562 — 1418.9s\n"
     ]
    },
    {
     "name": "stderr",
     "output_type": "stream",
     "text": [
      "Training: 100%|██████████| 2907/2907 [24:04<00:00,  2.01batch/s]\n"
     ]
    },
    {
     "name": "stdout",
     "output_type": "stream",
     "text": [
      "Epoch 6 — Loss 0.6490 — 1444.3s\n"
     ]
    },
    {
     "name": "stderr",
     "output_type": "stream",
     "text": [
      "Training: 100%|██████████| 2907/2907 [23:14<00:00,  2.08batch/s]\n"
     ]
    },
    {
     "name": "stdout",
     "output_type": "stream",
     "text": [
      "Epoch 7 — Loss 0.6414 — 1394.3s\n"
     ]
    },
    {
     "name": "stderr",
     "output_type": "stream",
     "text": [
      "Training: 100%|██████████| 2907/2907 [22:22<00:00,  2.17batch/s]\n"
     ]
    },
    {
     "name": "stdout",
     "output_type": "stream",
     "text": [
      "Epoch 8 — Loss 0.6318 — 1342.5s\n"
     ]
    },
    {
     "name": "stderr",
     "output_type": "stream",
     "text": [
      "Training: 100%|██████████| 2907/2907 [34:23<00:00,  1.41batch/s]\n"
     ]
    },
    {
     "name": "stdout",
     "output_type": "stream",
     "text": [
      "Epoch 9 — Loss 0.6263 — 2063.7s\n"
     ]
    },
    {
     "name": "stderr",
     "output_type": "stream",
     "text": [
      "Training: 100%|██████████| 2907/2907 [40:40<00:00,  1.19batch/s]\n"
     ]
    },
    {
     "name": "stdout",
     "output_type": "stream",
     "text": [
      "Epoch 10 — Loss 0.6201 — 2440.1s\n",
      "Final val accuracy: 66.77%\n"
     ]
    }
   ],
   "source": [
    "# Model with config from Optuna study\n",
    "final_model = ConvCount(\n",
    "    conv1_out=best_cfg['conv1_out'],\n",
    "    conv2_out=best_cfg['conv2_out'],\n",
    "    conv3_out=best_cfg['conv3_out'],\n",
    "    conv4_out=best_cfg['conv4_out'],\n",
    "    fc_hidden=128,\n",
    "    dropout_prob=best_cfg['dropout_prob']\n",
    ")\n",
    "\n",
    "\n",
    "\n",
    "# Adam optimizer\n",
    "opt = optim.Adam(final_model.parameters(), lr=best_cfg['lr'])\n",
    "\n",
    "\n",
    "\n",
    "# Cross Entropy loss\n",
    "crit = nn.CrossEntropyLoss()\n",
    "\n",
    "\n",
    "\n",
    "# Loaders\n",
    "train_loader, val_loader = get_loaders(dataset)\n",
    "\n",
    "\n",
    "\n",
    "# Train\n",
    "for epoch in range(10):\n",
    "    t0 = time()\n",
    "    loss = train_one_epoch(final_model, train_loader, opt, device)  # tqdm is inside this\n",
    "    dur = time() - t0\n",
    "    print(f\"Epoch {epoch+1} — Loss {loss:.4f} — {dur:.1f}s\")\n",
    "\n",
    "\n",
    "\n",
    "# Validate\n",
    "val_acc = validate(final_model, val_loader, device)\n",
    "print(f\"Final val accuracy: {val_acc:.2%}\")\n",
    "torch.save(final_model.state_dict(), r\"src/model/ConvCount_5_OptunaResults.pt\")"
   ]
  },
  {
   "cell_type": "markdown",
   "id": "ecc99260",
   "metadata": {},
   "source": [
    "### Confusion Matrix (CM)"
   ]
  },
  {
   "cell_type": "code",
   "execution_count": null,
   "id": "ad5e5a05",
   "metadata": {},
   "outputs": [
    {
     "data": {
      "image/png": "[encoded data removed]",
      "text/plain": [
       "<Figure size 640x480 with 2 Axes>"
      ]
     },
     "metadata": {},
     "output_type": "display_data"
    }
   ],
   "source": [
    "from sklearn.metrics import confusion_matrix, ConfusionMatrixDisplay\n",
    "import matplotlib.pyplot as plt\n",
    "\n",
    "\n",
    "\n",
    "y_true, y_pred = [], []\n",
    "\n",
    "\n",
    "\n",
    "with torch.no_grad():\n",
    "    for x, y in val_loader:\n",
    "        x = x.to(device)\n",
    "        preds = model(x).argmax(dim=1).cpu()\n",
    "        y_true.extend(y.numpy())\n",
    "        y_pred.extend(preds.numpy())"
   ]
  },
  {
   "cell_type": "code",
   "execution_count": 20,
   "id": "978f7cc5",
   "metadata": {},
   "outputs": [
    {
     "data": {
      "image/png": "[encoded data removed]",
      "text/plain": [
       "<Figure size 640x480 with 2 Axes>"
      ]
     },
     "metadata": {},
     "output_type": "display_data"
    }
   ],
   "source": [
    "cm = confusion_matrix(y_true, y_pred, normalize='true')\n",
    "\n",
    "\n",
    "\n",
    "disp = ConfusionMatrixDisplay(confusion_matrix=cm)\n",
    "disp.plot(cmap='Blues', values_format='.1%')  # '.1%' formats as percentage with 1 decimal\n",
    "\n",
    "plt.title(\"Confusion Matrix — Validation (Normalized)\")\n",
    "plt.tight_layout()\n",
    "plt.show()\n"
   ]
  },
  {
   "cell_type": "markdown",
   "id": "9f5fae19",
   "metadata": {},
   "source": [
    "#### Classes 2 and 3 have a very close decision boundary. We need to focus a study on best finding this boundary."
   ]
  },
  {
   "cell_type": "code",
   "execution_count": 3,
   "id": "915d4721",
   "metadata": {},
   "outputs": [
    {
     "name": "stderr",
     "output_type": "stream",
     "text": [
      "[I 2025-08-18 14:53:20,781] A new study created in memory with name: ConvCount_HPTune_F1_234\n",
      "Training: 100%|██████████| 727/727 [05:26<00:00,  2.23batch/s]\n",
      "Training: 100%|██████████| 727/727 [02:11<00:00,  5.53batch/s]\n",
      "Training: 100%|██████████| 727/727 [02:32<00:00,  4.78batch/s]\n",
      "[I 2025-08-18 15:05:13,340] Trial 0 finished with value: 0.39188098597983295 and parameters: {'lr': 0.01, 'dropout_prob': 0.1, 'conv1_out': 16, 'conv2_out': 64, 'conv3_out': 128, 'conv4_out': 32}. Best is trial 0 with value: 0.39188098597983295.\n",
      "Training: 100%|██████████| 727/727 [05:45<00:00,  2.10batch/s]\n",
      "Training: 100%|██████████| 727/727 [05:36<00:00,  2.16batch/s]\n",
      "Training: 100%|██████████| 727/727 [02:02<00:00,  5.96batch/s]\n",
      "[I 2025-08-18 15:21:45,542] Trial 1 finished with value: 0.40185490272696933 and parameters: {'lr': 0.001, 'dropout_prob': 0.2, 'conv1_out': 16, 'conv2_out': 64, 'conv3_out': 128, 'conv4_out': 64}. Best is trial 1 with value: 0.40185490272696933.\n",
      "Training: 100%|██████████| 727/727 [05:59<00:00,  2.02batch/s]\n",
      "Training: 100%|██████████| 727/727 [02:04<00:00,  5.82batch/s]\n",
      "Training: 100%|██████████| 727/727 [02:15<00:00,  5.37batch/s]\n",
      "[I 2025-08-18 15:33:18,906] Trial 2 finished with value: 0.4261477345455331 and parameters: {'lr': 0.001, 'dropout_prob': 0.2, 'conv1_out': 16, 'conv2_out': 32, 'conv3_out': 128, 'conv4_out': 64}. Best is trial 2 with value: 0.4261477345455331.\n",
      "Training: 100%|██████████| 727/727 [02:02<00:00,  5.92batch/s]\n",
      "Training: 100%|██████████| 727/727 [02:14<00:00,  5.41batch/s]\n",
      "[I 2025-08-18 15:38:09,605] Trial 3 pruned. \n",
      "Training: 100%|██████████| 727/727 [03:17<00:00,  3.69batch/s]\n",
      "Training: 100%|██████████| 727/727 [02:37<00:00,  4.61batch/s]\n",
      "[I 2025-08-18 15:44:57,654] Trial 4 pruned. \n",
      "Training: 100%|██████████| 727/727 [02:03<00:00,  5.91batch/s]\n",
      "Training: 100%|██████████| 727/727 [02:02<00:00,  5.96batch/s]\n",
      "[I 2025-08-18 15:49:41,099] Trial 5 pruned. \n",
      "Training: 100%|██████████| 727/727 [04:35<00:00,  2.64batch/s]\n",
      "Training: 100%|██████████| 727/727 [04:35<00:00,  2.64batch/s]\n",
      "[I 2025-08-18 16:00:39,897] Trial 6 pruned. \n",
      "Training: 100%|██████████| 727/727 [03:11<00:00,  3.80batch/s]\n",
      "Training: 100%|██████████| 727/727 [03:54<00:00,  3.10batch/s]\n",
      "[I 2025-08-18 16:08:11,018] Trial 7 pruned. \n",
      "Training: 100%|██████████| 727/727 [01:35<00:00,  7.59batch/s]\n",
      "Training: 100%|██████████| 727/727 [01:44<00:00,  6.95batch/s]\n",
      "Training: 100%|██████████| 727/727 [02:17<00:00,  5.28batch/s]\n",
      "[I 2025-08-18 16:14:40,484] Trial 8 finished with value: 0.4218191379539058 and parameters: {'lr': 0.001, 'dropout_prob': 0.1, 'conv1_out': 8, 'conv2_out': 32, 'conv3_out': 128, 'conv4_out': 128}. Best is trial 2 with value: 0.4261477345455331.\n",
      "Training: 100%|██████████| 727/727 [01:51<00:00,  6.54batch/s]\n",
      "Training: 100%|██████████| 727/727 [01:21<00:00,  8.88batch/s]\n",
      "[I 2025-08-18 16:18:15,284] Trial 9 pruned. \n",
      "Training: 100%|██████████| 727/727 [01:11<00:00, 10.15batch/s]\n",
      "Training: 100%|██████████| 727/727 [01:13<00:00,  9.89batch/s]\n",
      "[I 2025-08-18 16:20:58,431] Trial 10 pruned. \n",
      "Training: 100%|██████████| 727/727 [05:00<00:00,  2.42batch/s]\n",
      "Training: 100%|██████████| 727/727 [01:28<00:00,  8.24batch/s]\n",
      "Training: 100%|██████████| 727/727 [01:57<00:00,  6.20batch/s]\n",
      "[I 2025-08-18 16:30:52,808] Trial 11 finished with value: 0.39244996259004356 and parameters: {'lr': 0.001, 'dropout_prob': 0.1, 'conv1_out': 8, 'conv2_out': 32, 'conv3_out': 64, 'conv4_out': 128}. Best is trial 2 with value: 0.4261477345455331.\n",
      "Training: 100%|██████████| 727/727 [01:34<00:00,  7.67batch/s]\n",
      "Training: 100%|██████████| 727/727 [01:33<00:00,  7.76batch/s]\n",
      "[I 2025-08-18 16:34:23,059] Trial 12 pruned. \n",
      "Training: 100%|██████████| 727/727 [03:28<00:00,  3.48batch/s]\n",
      "Training: 100%|██████████| 727/727 [03:59<00:00,  3.03batch/s]\n",
      "[I 2025-08-18 16:44:07,735] Trial 13 pruned. \n",
      "Training: 100%|██████████| 727/727 [02:56<00:00,  4.13batch/s]\n",
      "Training: 100%|██████████| 727/727 [02:52<00:00,  4.20batch/s]\n",
      "Training: 100%|██████████| 727/727 [07:55<00:00,  1.53batch/s]\n",
      "[I 2025-08-18 17:00:29,085] Trial 14 finished with value: 0.4062285758644433 and parameters: {'lr': 0.001, 'dropout_prob': 0.3, 'conv1_out': 8, 'conv2_out': 32, 'conv3_out': 128, 'conv4_out': 32}. Best is trial 2 with value: 0.4261477345455331.\n",
      "Training: 100%|██████████| 727/727 [03:10<00:00,  3.81batch/s]\n",
      "Training: 100%|██████████| 727/727 [02:46<00:00,  4.37batch/s]\n",
      "[I 2025-08-18 17:08:42,964] Trial 15 pruned. \n",
      "Training: 100%|██████████| 727/727 [09:52<00:00,  1.23batch/s]\n",
      "Training: 100%|██████████| 727/727 [05:08<00:00,  2.35batch/s]\n",
      "Training: 100%|██████████| 727/727 [07:48<00:00,  1.55batch/s]\n",
      "[I 2025-08-18 17:34:31,706] Trial 16 finished with value: 0.42051831895771724 and parameters: {'lr': 0.001, 'dropout_prob': 0.1, 'conv1_out': 8, 'conv2_out': 32, 'conv3_out': 128, 'conv4_out': 128}. Best is trial 2 with value: 0.4261477345455331.\n",
      "Training: 100%|██████████| 727/727 [07:29<00:00,  1.62batch/s]\n",
      "Training: 100%|██████████| 727/727 [06:53<00:00,  1.76batch/s]\n",
      "[I 2025-08-18 17:52:02,586] Trial 17 pruned. \n",
      "Training: 100%|██████████| 727/727 [09:28<00:00,  1.28batch/s]\n",
      "Training: 100%|██████████| 727/727 [02:26<00:00,  4.97batch/s]\n",
      "Training: 100%|██████████| 727/727 [07:29<00:00,  1.62batch/s]\n",
      "[I 2025-08-18 18:15:26,104] Trial 18 finished with value: 0.2211815996665093 and parameters: {'lr': 0.001, 'dropout_prob': 0.1, 'conv1_out': 8, 'conv2_out': 32, 'conv3_out': 64, 'conv4_out': 64}. Best is trial 2 with value: 0.4261477345455331.\n",
      "Training: 100%|██████████| 727/727 [04:00<00:00,  3.02batch/s]\n",
      "Training: 100%|██████████| 727/727 [04:46<00:00,  2.53batch/s]\n",
      "[I 2025-08-18 18:26:44,165] Trial 19 pruned. \n",
      "Training: 100%|██████████| 727/727 [08:32<00:00,  1.42batch/s]\n",
      "Training: 100%|██████████| 727/727 [08:33<00:00,  1.41batch/s]\n",
      "[I 2025-08-18 18:46:17,843] Trial 20 pruned. \n",
      "Training: 100%|██████████| 727/727 [04:18<00:00,  2.82batch/s]\n",
      "Training: 100%|██████████| 727/727 [07:53<00:00,  1.53batch/s]\n",
      "[I 2025-08-18 19:00:57,027] Trial 21 pruned. \n",
      "Training: 100%|██████████| 727/727 [04:32<00:00,  2.67batch/s]\n",
      "Training: 100%|██████████| 727/727 [07:53<00:00,  1.54batch/s]\n",
      "[I 2025-08-18 19:15:51,811] Trial 22 pruned. \n",
      "Training: 100%|██████████| 727/727 [04:49<00:00,  2.51batch/s]\n",
      "Training: 100%|██████████| 727/727 [08:04<00:00,  1.50batch/s]\n",
      "Training: 100%|██████████| 727/727 [04:41<00:00,  2.59batch/s]\n",
      "[I 2025-08-18 19:36:19,758] Trial 23 finished with value: 0.4626791249303451 and parameters: {'lr': 0.001, 'dropout_prob': 0.1, 'conv1_out': 8, 'conv2_out': 32, 'conv3_out': 128, 'conv4_out': 128}. Best is trial 23 with value: 0.4626791249303451.\n",
      "Training: 100%|██████████| 727/727 [03:16<00:00,  3.71batch/s]\n",
      "Training: 100%|██████████| 727/727 [03:14<00:00,  3.74batch/s]\n",
      "Training: 100%|██████████| 727/727 [03:16<00:00,  3.70batch/s]\n",
      "[I 2025-08-18 19:47:19,352] Trial 24 finished with value: 0.4125290465022728 and parameters: {'lr': 0.001, 'dropout_prob': 0.1, 'conv1_out': 8, 'conv2_out': 32, 'conv3_out': 128, 'conv4_out': 128}. Best is trial 23 with value: 0.4626791249303451.\n",
      "Training: 100%|██████████| 727/727 [02:50<00:00,  4.25batch/s]\n",
      "Training: 100%|██████████| 727/727 [05:56<00:00,  2.04batch/s]\n",
      "Training: 100%|██████████| 727/727 [06:12<00:00,  1.95batch/s]\n",
      "[I 2025-08-18 20:05:04,202] Trial 25 finished with value: 0.38216782200454585 and parameters: {'lr': 0.001, 'dropout_prob': 0.1, 'conv1_out': 8, 'conv2_out': 32, 'conv3_out': 128, 'conv4_out': 64}. Best is trial 23 with value: 0.4626791249303451.\n",
      "Training: 100%|██████████| 727/727 [07:34<00:00,  1.60batch/s]\n",
      "Training: 100%|██████████| 727/727 [07:26<00:00,  1.63batch/s]\n",
      "[I 2025-08-18 20:24:17,486] Trial 26 pruned. \n",
      "Training: 100%|██████████| 727/727 [09:52<00:00,  1.23batch/s]\n",
      "Training: 100%|██████████| 727/727 [03:47<00:00,  3.19batch/s]\n",
      "[I 2025-08-18 20:40:25,640] Trial 27 pruned. \n",
      "Training: 100%|██████████| 727/727 [08:26<00:00,  1.43batch/s]\n",
      "Training: 100%|██████████| 727/727 [02:51<00:00,  4.24batch/s]\n",
      "Training: 100%|██████████| 727/727 [09:47<00:00,  1.24batch/s]\n",
      "[I 2025-08-18 21:04:28,394] Trial 28 finished with value: 0.24394702942428106 and parameters: {'lr': 0.005, 'dropout_prob': 0.3, 'conv1_out': 16, 'conv2_out': 32, 'conv3_out': 64, 'conv4_out': 32}. Best is trial 23 with value: 0.4626791249303451.\n",
      "Training: 100%|██████████| 727/727 [04:14<00:00,  2.86batch/s]\n",
      "Training: 100%|██████████| 727/727 [09:51<00:00,  1.23batch/s]\n",
      "[I 2025-08-18 21:21:18,321] Trial 29 pruned. \n",
      "Training: 100%|██████████| 727/727 [02:48<00:00,  4.30batch/s]\n",
      "Training: 100%|██████████| 727/727 [02:48<00:00,  4.32batch/s]\n",
      "[I 2025-08-18 21:27:41,029] Trial 30 pruned. \n",
      "Training: 100%|██████████| 727/727 [03:22<00:00,  3.59batch/s]\n",
      "Training: 100%|██████████| 727/727 [03:22<00:00,  3.60batch/s]\n",
      "[I 2025-08-18 21:35:15,909] Trial 31 pruned. \n",
      "Training: 100%|██████████| 727/727 [07:01<00:00,  1.73batch/s]\n",
      "Training: 100%|██████████| 727/727 [06:42<00:00,  1.80batch/s]\n",
      "Training: 100%|██████████| 727/727 [07:27<00:00,  1.63batch/s]\n",
      "[I 2025-08-18 22:01:06,204] Trial 32 finished with value: 0.41727859948516494 and parameters: {'lr': 0.001, 'dropout_prob': 0.1, 'conv1_out': 8, 'conv2_out': 32, 'conv3_out': 128, 'conv4_out': 128}. Best is trial 23 with value: 0.4626791249303451.\n",
      "Training: 100%|██████████| 727/727 [05:29<00:00,  2.20batch/s]\n",
      "Training: 100%|██████████| 727/727 [03:21<00:00,  3.61batch/s]\n",
      "[I 2025-08-18 22:10:47,176] Trial 33 pruned. \n",
      "Training: 100%|██████████| 727/727 [04:17<00:00,  2.82batch/s]\n",
      "Training: 100%|██████████| 727/727 [04:17<00:00,  2.82batch/s]\n",
      "[I 2025-08-18 22:20:24,842] Trial 34 pruned. \n",
      "Training: 100%|██████████| 727/727 [06:46<00:00,  1.79batch/s]\n",
      "Training: 100%|██████████| 727/727 [07:57<00:00,  1.52batch/s]\n",
      "[I 2025-08-18 22:37:45,910] Trial 35 pruned. \n",
      "Training: 100%|██████████| 727/727 [08:53<00:00,  1.36batch/s]\n",
      "Training: 100%|██████████| 727/727 [03:57<00:00,  3.06batch/s]\n",
      "[I 2025-08-18 22:52:55,394] Trial 36 pruned. \n",
      "Training: 100%|██████████| 727/727 [08:42<00:00,  1.39batch/s]\n",
      "Training: 100%|██████████| 727/727 [03:12<00:00,  3.77batch/s]\n",
      "[I 2025-08-18 23:07:16,065] Trial 37 pruned. \n",
      "Training: 100%|██████████| 727/727 [10:36<00:00,  1.14batch/s]\n",
      "Training: 100%|██████████| 727/727 [08:45<00:00,  1.38batch/s]\n",
      "[I 2025-08-18 23:31:10,737] Trial 38 pruned. \n",
      "Training: 100%|██████████| 727/727 [06:09<00:00,  1.97batch/s]\n",
      "Training: 100%|██████████| 727/727 [08:09<00:00,  1.49batch/s]\n",
      "Training: 100%|██████████| 727/727 [04:09<00:00,  2.92batch/s]\n",
      "[I 2025-08-18 23:52:25,420] Trial 39 finished with value: 0.3935266175999152 and parameters: {'lr': 0.001, 'dropout_prob': 0.2, 'conv1_out': 8, 'conv2_out': 32, 'conv3_out': 128, 'conv4_out': 64}. Best is trial 23 with value: 0.4626791249303451.\n",
      "Training: 100%|██████████| 727/727 [06:29<00:00,  1.87batch/s]\n",
      "Training: 100%|██████████| 727/727 [04:53<00:00,  2.48batch/s]\n",
      "[I 2025-08-19 00:06:12,799] Trial 40 pruned. \n",
      "Training: 100%|██████████| 727/727 [05:00<00:00,  2.42batch/s]\n",
      "Training: 100%|██████████| 727/727 [07:44<00:00,  1.57batch/s]\n",
      "[I 2025-08-19 00:21:23,399] Trial 41 pruned. \n",
      "Training: 100%|██████████| 727/727 [04:41<00:00,  2.58batch/s]\n",
      "Training: 100%|██████████| 727/727 [07:58<00:00,  1.52batch/s]\n",
      "[I 2025-08-19 00:36:19,999] Trial 42 pruned. \n",
      "Training: 100%|██████████| 727/727 [04:57<00:00,  2.44batch/s]\n",
      "Training: 100%|██████████| 727/727 [08:18<00:00,  1.46batch/s]\n",
      "[I 2025-08-19 00:52:03,608] Trial 43 pruned. \n",
      "Training: 100%|██████████| 727/727 [03:15<00:00,  3.72batch/s]\n",
      "Training: 100%|██████████| 727/727 [03:15<00:00,  3.73batch/s]\n",
      "[I 2025-08-19 00:59:21,928] Trial 44 pruned. \n",
      "Training: 100%|██████████| 727/727 [03:15<00:00,  3.72batch/s]\n",
      "Training: 100%|██████████| 727/727 [03:16<00:00,  3.69batch/s]\n",
      "[I 2025-08-19 01:06:43,566] Trial 45 pruned. \n",
      "Training: 100%|██████████| 727/727 [05:23<00:00,  2.25batch/s]\n",
      "Training: 100%|██████████| 727/727 [07:29<00:00,  1.62batch/s]\n",
      "[I 2025-08-19 01:22:03,388] Trial 46 pruned. \n",
      "Training: 100%|██████████| 727/727 [03:40<00:00,  3.29batch/s]\n",
      "Training: 100%|██████████| 727/727 [07:17<00:00,  1.66batch/s]\n",
      "[I 2025-08-19 01:35:11,135] Trial 47 pruned. \n",
      "Training: 100%|██████████| 727/727 [03:16<00:00,  3.70batch/s]\n",
      "Training: 100%|██████████| 727/727 [03:14<00:00,  3.74batch/s]\n",
      "Training: 100%|██████████| 727/727 [03:16<00:00,  3.69batch/s]\n",
      "[I 2025-08-19 01:46:10,782] Trial 48 finished with value: 0.47583118141057607 and parameters: {'lr': 0.001, 'dropout_prob': 0.3, 'conv1_out': 8, 'conv2_out': 32, 'conv3_out': 128, 'conv4_out': 128}. Best is trial 48 with value: 0.47583118141057607.\n",
      "Training: 100%|██████████| 727/727 [04:49<00:00,  2.51batch/s]\n",
      "Training: 100%|██████████| 727/727 [08:01<00:00,  1.51batch/s]\n",
      "[I 2025-08-19 02:01:53,485] Trial 49 pruned. \n"
     ]
    },
    {
     "name": "stdout",
     "output_type": "stream",
     "text": [
      "Best HPs (optimised for 2-4 F1): {'lr': 0.001, 'dropout_prob': 0.3, 'conv1_out': 8, 'conv2_out': 32, 'conv3_out': 128, 'conv4_out': 128}\n"
     ]
    }
   ],
   "source": [
    "import optuna\n",
    "from sklearn.metrics import f1_score\n",
    "\n",
    "# After each epoch a model is compared to the current best; if there is no chance it will outperform the best model, it's pruned\n",
    "def objective(trial):\n",
    "\n",
    "    cfg = {\n",
    "      'lr': trial.suggest_categorical('lr', [0.01,0.001,0.005]),\n",
    "      'dropout_prob': trial.suggest_categorical('dropout_prob', [0.1,0.2,0.3]),\n",
    "      'fc_hidden': 128,\n",
    "      'conv1_out': trial.suggest_categorical('conv1_out',[8,16]),\n",
    "      'conv2_out': trial.suggest_categorical('conv2_out',[32,64]),\n",
    "      'conv3_out': trial.suggest_categorical('conv3_out',[32,64,128]),\n",
    "      'conv4_out': trial.suggest_categorical('conv4_out',[32,64,128]),\n",
    "    }\n",
    "\n",
    "    # Helper to build model, see setup\n",
    "    model = build_model(cfg, 64, 96).to(device)\n",
    "\n",
    "    # Adam optim\n",
    "    opt = optim.Adam(model.parameters(), lr=cfg['lr'])\n",
    "\n",
    "    # Weighted cross entropy loss (optional, still helps focus on harder classes)\n",
    "    crit = nn.CrossEntropyLoss()\n",
    "\n",
    "    for epoch in range(3):\n",
    "        train_one_epoch(model, train_loader, opt, device)\n",
    "\n",
    "        # Validation with predictions + labels\n",
    "        y_true, y_pred = [], []\n",
    "        model.eval()\n",
    "        with torch.no_grad():\n",
    "            for xb, yb in val_loader:\n",
    "                xb, yb = xb.to(device), yb.to(device)\n",
    "                logits = model(xb)\n",
    "                preds = torch.argmax(logits, dim=1)\n",
    "                y_true.extend(yb.cpu().numpy())\n",
    "                y_pred.extend(preds.cpu().numpy())\n",
    "\n",
    "        # compute mean F1 for classes 2,3,4 only\n",
    "        f1_scores = f1_score(y_true, y_pred, average=None, labels=[0,1,2,3,4])\n",
    "        f1_234 = f1_scores[2:5].mean()\n",
    "        \n",
    "        trial.report(f1_234, epoch)\n",
    "        if trial.should_prune():\n",
    "            raise optuna.exceptions.TrialPruned()\n",
    "\n",
    "    return f1_234\n",
    "\n",
    "\n",
    "# Create loaders\n",
    "train_loader, val_loader = get_stratified_loaders(\n",
    "    dataset,\n",
    "    subset_frac=0.25,\n",
    "    train_frac=0.8,\n",
    "    batch_size=32,\n",
    "    random_state=42\n",
    ")\n",
    "\n",
    "device = torch.device('cuda' if torch.cuda.is_available() else 'cpu')\n",
    "\n",
    "# Optuna study focusing on F1 for 2–4 speakers (This will best seperate the classes)\n",
    "study = optuna.create_study(\n",
    "    direction='maximize',\n",
    "    pruner=optuna.pruners.SuccessiveHalvingPruner(),\n",
    "    study_name='ConvCount_HPTune_F1_234'\n",
    ")\n",
    "\n",
    "# Only 50 trials - this should be extended in further work\n",
    "study.optimize(objective, n_trials=50)\n",
    "\n",
    "best_cfg = study.best_trial.params\n",
    "print(\"Best HPs (optimised for 2-4 F1):\", best_cfg)\n"
   ]
  },
  {
   "cell_type": "code",
   "execution_count": 4,
   "id": "5cc05433",
   "metadata": {},
   "outputs": [
    {
     "name": "stderr",
     "output_type": "stream",
     "text": [
      "Training: 100%|██████████| 2907/2907 [34:42<00:00,  1.40batch/s]\n"
     ]
    },
    {
     "name": "stdout",
     "output_type": "stream",
     "text": [
      "Epoch 1 — Loss 0.7514 — 2082.0s\n"
     ]
    },
    {
     "name": "stderr",
     "output_type": "stream",
     "text": [
      "Training: 100%|██████████| 2907/2907 [38:31<00:00,  1.26batch/s]\n"
     ]
    },
    {
     "name": "stdout",
     "output_type": "stream",
     "text": [
      "Epoch 2 — Loss 0.6988 — 2311.2s\n"
     ]
    },
    {
     "name": "stderr",
     "output_type": "stream",
     "text": [
      "Training: 100%|██████████| 2907/2907 [35:37<00:00,  1.36batch/s]\n"
     ]
    },
    {
     "name": "stdout",
     "output_type": "stream",
     "text": [
      "Epoch 3 — Loss 0.6815 — 2137.9s\n"
     ]
    },
    {
     "name": "stderr",
     "output_type": "stream",
     "text": [
      "Training: 100%|██████████| 2907/2907 [35:14<00:00,  1.37batch/s]\n"
     ]
    },
    {
     "name": "stdout",
     "output_type": "stream",
     "text": [
      "Epoch 4 — Loss 0.6696 — 2114.5s\n"
     ]
    },
    {
     "name": "stderr",
     "output_type": "stream",
     "text": [
      "Training: 100%|██████████| 2907/2907 [39:18<00:00,  1.23batch/s]\n"
     ]
    },
    {
     "name": "stdout",
     "output_type": "stream",
     "text": [
      "Epoch 5 — Loss 0.6608 — 2358.4s\n"
     ]
    },
    {
     "name": "stderr",
     "output_type": "stream",
     "text": [
      "Training: 100%|██████████| 2907/2907 [38:46<00:00,  1.25batch/s]\n"
     ]
    },
    {
     "name": "stdout",
     "output_type": "stream",
     "text": [
      "Epoch 6 — Loss 0.6512 — 2326.2s\n"
     ]
    },
    {
     "name": "stderr",
     "output_type": "stream",
     "text": [
      "Training: 100%|██████████| 2907/2907 [36:57<00:00,  1.31batch/s]\n"
     ]
    },
    {
     "name": "stdout",
     "output_type": "stream",
     "text": [
      "Epoch 7 — Loss 0.6431 — 2217.4s\n"
     ]
    },
    {
     "name": "stderr",
     "output_type": "stream",
     "text": [
      "Training: 100%|██████████| 2907/2907 [34:22<00:00,  1.41batch/s]\n"
     ]
    },
    {
     "name": "stdout",
     "output_type": "stream",
     "text": [
      "Epoch 8 — Loss 0.6355 — 2062.1s\n"
     ]
    },
    {
     "name": "stderr",
     "output_type": "stream",
     "text": [
      "Training: 100%|██████████| 2907/2907 [39:52<00:00,  1.22batch/s]\n"
     ]
    },
    {
     "name": "stdout",
     "output_type": "stream",
     "text": [
      "Epoch 9 — Loss 0.6277 — 2392.4s\n"
     ]
    },
    {
     "name": "stderr",
     "output_type": "stream",
     "text": [
      "Training: 100%|██████████| 2907/2907 [38:30<00:00,  1.26batch/s]\n"
     ]
    },
    {
     "name": "stdout",
     "output_type": "stream",
     "text": [
      "Epoch 10 — Loss 0.6213 — 2310.1s\n",
      "Final val accuracy: 65.94%\n"
     ]
    }
   ],
   "source": [
    "# Model with config from Optuna study\n",
    "final_model = ConvCount(\n",
    "    conv1_out=best_cfg['conv1_out'],\n",
    "    conv2_out=best_cfg['conv2_out'],\n",
    "    conv3_out=best_cfg['conv3_out'],\n",
    "    conv4_out=best_cfg['conv4_out'],\n",
    "    fc_hidden=128,\n",
    "    dropout_prob=best_cfg['dropout_prob']\n",
    ")\n",
    "\n",
    "\n",
    "\n",
    "# Adam optimizer\n",
    "opt = optim.Adam(final_model.parameters(), lr=best_cfg['lr'])\n",
    "\n",
    "\n",
    "\n",
    "# Cross Entropy loss\n",
    "crit = nn.CrossEntropyLoss()\n",
    "\n",
    "\n",
    "\n",
    "# Loaders\n",
    "train_loader, val_loader = get_loaders(dataset)\n",
    "\n",
    "\n",
    "\n",
    "# Train\n",
    "for epoch in range(10):\n",
    "    t0 = time()\n",
    "    loss = train_one_epoch(final_model, train_loader, opt, device)  # tqdm is inside this\n",
    "    dur = time() - t0\n",
    "    print(f\"Epoch {epoch+1} — Loss {loss:.4f} — {dur:.1f}s\")\n",
    "\n",
    "\n",
    "\n",
    "# Validate\n",
    "val_acc = validate(final_model, val_loader, device)\n",
    "print(f\"Final val accuracy: {val_acc:.2%}\")\n",
    "torch.save(final_model.state_dict(), r\"src/model/ConvCount_5_OptunaResults_F1_234.pt\")"
   ]
  },
  {
   "cell_type": "code",
   "execution_count": 8,
   "id": "bfe7e51a",
   "metadata": {},
   "outputs": [
    {
     "data": {
      "image/png": "[encoded data removed]",
      "text/plain": [
       "<Figure size 640x480 with 2 Axes>"
      ]
     },
     "metadata": {},
     "output_type": "display_data"
    }
   ],
   "source": [
    "from sklearn.metrics import confusion_matrix, ConfusionMatrixDisplay\n",
    "import matplotlib.pyplot as plt\n",
    "\n",
    "y_true, y_pred = [], []\n",
    "\n",
    "\n",
    "with torch.no_grad():\n",
    "    for x, y in val_loader:\n",
    "        x = x.to(device)\n",
    "        preds = final_model(x).argmax(dim=1).cpu()\n",
    "        y_true.extend(y.numpy())\n",
    "        y_pred.extend(preds.numpy())\n",
    "\n",
    "cm = confusion_matrix(y_true, y_pred, normalize='true')\n",
    "\n",
    "\n",
    "disp = ConfusionMatrixDisplay(confusion_matrix=cm)\n",
    "disp.plot(cmap='Blues', values_format='.1%')  # '.1%' formats as percentage with 1 decimal\n",
    "\n",
    "plt.title(\"Confusion Matrix — Validation (Normalized)\")\n",
    "plt.tight_layout()\n",
    "plt.show()\n"
   ]
  }
 ],
 "metadata": {
  "kernelspec": {
   "display_name": ".venv",
   "language": "python",
   "name": "python3"
  },
  "language_info": {
   "codemirror_mode": {
    "name": "ipython",
    "version": 3
   },
   "file_extension": ".py",
   "mimetype": "text/x-python",
   "name": "python",
   "nbconvert_exporter": "python",
   "pygments_lexer": "ipython3",
   "version": "3.9.13"
  }
 },
 "nbformat": 4,
 "nbformat_minor": 5
}
