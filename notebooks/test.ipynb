{
 "cells": [
  {
   "cell_type": "code",
   "execution_count": 1,
   "id": "f8e9a95b",
   "metadata": {},
   "outputs": [],
   "source": [
    "import os\n",
    "from pathlib import Path\n",
    "import librosa\n",
    "import re\n",
    "from time import time\n",
    "import ast\n",
    "import math\n",
    "import numpy as np\n",
    "import pandas as pd\n",
    "import matplotlib.pyplot as plt\n",
    "import torch\n",
    "from IPython.display import Audio, display\n",
    "import soundfile as sf\n",
    "from scipy.io import wavfile\n",
    "\n",
    "from src.utils.SpectrogramExtractor import SpectrogramExtractor         # Custom class to create a spectrogram from a .wav"
   ]
  },
  {
   "cell_type": "code",
   "execution_count": 59,
   "id": "9d3e4201",
   "metadata": {},
   "outputs": [],
   "source": [
    "def plot_spectrograms_from_paths(spec_paths, df, hop_ms=10):\n",
    "    \"\"\"\n",
    "    Vertically stacked spectrograms with shared x-axis. Only bottom plot shows axis labels.\n",
    "\n",
    "    Args:\n",
    "        spec_paths (list): List of full paths to spectrogram .pt files.\n",
    "        df (pd.DataFrame): DataFrame with 'spec_dir' and 'speaker_count' columns.\n",
    "        hop_ms (int): Hop size in milliseconds for time axis calculation.\n",
    "    \"\"\"\n",
    "    n_clips = len(spec_paths)\n",
    "    fig, axes = plt.subplots(n_clips, 1, figsize=(5, 1.75 * n_clips), sharex=True)\n",
    "\n",
    "    for idx, (spec_path, ax) in enumerate(zip(spec_paths, axes)):\n",
    "        spectrogram = torch.load(spec_path).squeeze()\n",
    "\n",
    "        # Lookup speaker count\n",
    "        match = df.loc[df['spec_dir'] == spec_path, 'speaker_count']\n",
    "        speaker_count = match.values[0] if not match.empty else 'Unknown'\n",
    "\n",
    "        # Time axis\n",
    "        n_frames = spectrogram.shape[1]\n",
    "        duration_sec = (n_frames * hop_ms) / 1000\n",
    "\n",
    "        # Plot\n",
    "        im = ax.imshow(spectrogram.numpy(), aspect='auto', origin='lower',\n",
    "                       extent=[0, duration_sec, 0, spectrogram.shape[0]],\n",
    "                       cmap='magma')\n",
    "\n",
    "        ax.set_title(f'Speaker Count: {speaker_count}', fontsize=11)\n",
    "\n",
    "        # Y-axis cleanup\n",
    "        ax.set_ylabel(\n",
    "        \"(Hz)\",    \n",
    "        rotation=0,            \n",
    "        labelpad=12,\n",
    "        va=\"center\" \n",
    "        )\n",
    "\n",
    "        ax.set_yticks([])\n",
    "\n",
    "        # X-axis formatting\n",
    "        if idx < n_clips - 1:\n",
    "            ax.tick_params(axis='x', labelbottom=False)  # Show ticks, hide labels\n",
    "        else:\n",
    "            ax.set_xlabel('Time (s)')\n",
    "\n",
    "    fig.tight_layout()\n",
    "    cbar = fig.colorbar(im, ax=axes, location='right', shrink=0.6)\n",
    "\n",
    "    # Set custom ticks: first, middle, last\n",
    "    cbar_ticks = [im.norm.vmin, (im.norm.vmin + im.norm.vmax) / 2, im.norm.vmax]\n",
    "    cbar.set_ticks(cbar_ticks)\n",
    "    cbar.set_ticklabels(['-', '0', '+'])\n",
    "\n",
    "    # Optional: label\n",
    "    cbar.set_label('Amplitude', rotation=270, labelpad=15)\n",
    "\n",
    "    plt.show()"
   ]
  },
  {
   "cell_type": "code",
   "execution_count": 2,
   "id": "41c25b90",
   "metadata": {},
   "outputs": [
    {
     "ename": "NameError",
     "evalue": "name 'plot_spectrograms_from_paths' is not defined",
     "output_type": "error",
     "traceback": [
      "\u001b[1;31m---------------------------------------------------------------------------\u001b[0m",
      "\u001b[1;31mNameError\u001b[0m                                 Traceback (most recent call last)",
      "Cell \u001b[1;32mIn[2], line 9\u001b[0m\n\u001b[0;32m      1\u001b[0m spec_paths \u001b[38;5;241m=\u001b[39m [\n\u001b[0;32m      2\u001b[0m      \u001b[38;5;124mr\u001b[39m\u001b[38;5;124m'\u001b[39m\u001b[38;5;124mdata\u001b[39m\u001b[38;5;124m\\\u001b[39m\u001b[38;5;124mspecs_rir\u001b[39m\u001b[38;5;124m\\\u001b[39m\u001b[38;5;124mlargeroom1_1_clip1.pt\u001b[39m\u001b[38;5;124m'\u001b[39m,\n\u001b[0;32m      3\u001b[0m      \u001b[38;5;124mr\u001b[39m\u001b[38;5;124m'\u001b[39m\u001b[38;5;124mdata\u001b[39m\u001b[38;5;124m\\\u001b[39m\u001b[38;5;124mspecs_libricss\u001b[39m\u001b[38;5;124m\\\u001b[39m\u001b[38;5;124m0L_session0_clip28.pt\u001b[39m\u001b[38;5;124m'\u001b[39m,\n\u001b[1;32m   (...)\u001b[0m\n\u001b[0;32m      6\u001b[0m     \u001b[38;5;124mr\u001b[39m\u001b[38;5;124m'\u001b[39m\u001b[38;5;124mdata\u001b[39m\u001b[38;5;124m\\\u001b[39m\u001b[38;5;124mspecs_aug\u001b[39m\u001b[38;5;124m\\\u001b[39m\u001b[38;5;124moverlay_52500.pt\u001b[39m\u001b[38;5;124m'\u001b[39m\n\u001b[0;32m      7\u001b[0m ]\n\u001b[1;32m----> 9\u001b[0m \u001b[43mplot_spectrograms_from_paths\u001b[49m(spec_paths, df)\n",
      "\u001b[1;31mNameError\u001b[0m: name 'plot_spectrograms_from_paths' is not defined"
     ]
    }
   ],
   "source": [
    "spec_paths = [\n",
    "     r'data\\specs_rir\\largeroom1_1_clip1.pt',\n",
    "     r'data\\specs_libricss\\0L_session0_clip28.pt',\n",
    "    r'data\\specs_aug\\overlay_1.pt',\n",
    "    r'data\\specs_aug\\overlay_25500.pt',\n",
    "    r'data\\specs_aug\\overlay_52500.pt'\n",
    "]\n",
    "\n",
    "plot_spectrograms_from_paths(spec_paths, df)"
   ]
  }
 ],
 "metadata": {
  "kernelspec": {
   "display_name": ".venv",
   "language": "python",
   "name": "python3"
  },
  "language_info": {
   "codemirror_mode": {
    "name": "ipython",
    "version": 3
   },
   "file_extension": ".py",
   "mimetype": "text/x-python",
   "name": "python",
   "nbconvert_exporter": "python",
   "pygments_lexer": "ipython3",
   "version": "3.9.13"
  }
 },
 "nbformat": 4,
 "nbformat_minor": 5
}
