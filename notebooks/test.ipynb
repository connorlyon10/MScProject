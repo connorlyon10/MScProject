{
 "cells": [
  {
   "cell_type": "code",
   "execution_count": null,
   "id": "b30e0e66",
   "metadata": {},
   "outputs": [],
   "source": [
    "import pandas as pd\n",
    "import re"
   ]
  },
  {
   "cell_type": "markdown",
   "id": "e9f0864d",
   "metadata": {},
   "source": [
    "#### There is class imbalance:"
   ]
  },
  {
   "cell_type": "code",
   "execution_count": null,
   "id": "059a3369",
   "metadata": {},
   "outputs": [
    {
     "name": "stdout",
     "output_type": "stream",
     "text": [
      "[73, 2520, 23451, 8014, 709, 0]\n"
     ]
    }
   ],
   "source": [
    "df_ = pd.read_csv(r'data\\spectrogram_labels_aug.csv')\n",
    "class_counts = [len(df_[df_['speaker_count'] == i]) for i in range(6)]; print(class_counts)"
   ]
  },
  {
   "cell_type": "markdown",
   "id": "077e6eac",
   "metadata": {},
   "source": [
    "#### Buffing up the 0-speaker class with noise from RIR dataset"
   ]
  },
  {
   "cell_type": "code",
   "execution_count": 25,
   "id": "f0391577",
   "metadata": {},
   "outputs": [
    {
     "data": {
      "text/plain": [
       "['RIRS_NOISES/real_rirs_isotropic_noises/RVB2014_type1_noise_largeroom1_1.wav',\n",
       " 'RIRS_NOISES/real_rirs_isotropic_noises/RVB2014_type1_noise_largeroom1_10.wav',\n",
       " 'RIRS_NOISES/real_rirs_isotropic_noises/RVB2014_type1_noise_largeroom1_2.wav',\n",
       " 'RIRS_NOISES/real_rirs_isotropic_noises/RVB2014_type1_noise_largeroom1_3.wav',\n",
       " 'RIRS_NOISES/real_rirs_isotropic_noises/RVB2014_type1_noise_largeroom1_4.wav',\n",
       " 'RIRS_NOISES/real_rirs_isotropic_noises/RVB2014_type1_noise_largeroom1_5.wav',\n",
       " 'RIRS_NOISES/real_rirs_isotropic_noises/RVB2014_type1_noise_largeroom1_6.wav',\n",
       " 'RIRS_NOISES/real_rirs_isotropic_noises/RVB2014_type1_noise_largeroom1_7.wav',\n",
       " 'RIRS_NOISES/real_rirs_isotropic_noises/RVB2014_type1_noise_largeroom1_8.wav',\n",
       " 'RIRS_NOISES/real_rirs_isotropic_noises/RVB2014_type1_noise_largeroom1_9.wav',\n",
       " 'RIRS_NOISES/real_rirs_isotropic_noises/RVB2014_type1_noise_largeroom2_1.wav',\n",
       " 'RIRS_NOISES/real_rirs_isotropic_noises/RVB2014_type1_noise_largeroom2_10.wav',\n",
       " 'RIRS_NOISES/real_rirs_isotropic_noises/RVB2014_type1_noise_largeroom2_2.wav',\n",
       " 'RIRS_NOISES/real_rirs_isotropic_noises/RVB2014_type1_noise_largeroom2_3.wav',\n",
       " 'RIRS_NOISES/real_rirs_isotropic_noises/RVB2014_type1_noise_largeroom2_4.wav',\n",
       " 'RIRS_NOISES/real_rirs_isotropic_noises/RVB2014_type1_noise_largeroom2_5.wav',\n",
       " 'RIRS_NOISES/real_rirs_isotropic_noises/RVB2014_type1_noise_largeroom2_6.wav',\n",
       " 'RIRS_NOISES/real_rirs_isotropic_noises/RVB2014_type1_noise_largeroom2_7.wav',\n",
       " 'RIRS_NOISES/real_rirs_isotropic_noises/RVB2014_type1_noise_largeroom2_8.wav',\n",
       " 'RIRS_NOISES/real_rirs_isotropic_noises/RVB2014_type1_noise_largeroom2_9.wav',\n",
       " 'RIRS_NOISES/real_rirs_isotropic_noises/RVB2014_type1_noise_mediumroom1_1.wav',\n",
       " 'RIRS_NOISES/real_rirs_isotropic_noises/RVB2014_type1_noise_mediumroom1_10.wav',\n",
       " 'RIRS_NOISES/real_rirs_isotropic_noises/RVB2014_type1_noise_mediumroom1_2.wav',\n",
       " 'RIRS_NOISES/real_rirs_isotropic_noises/RVB2014_type1_noise_mediumroom1_3.wav',\n",
       " 'RIRS_NOISES/real_rirs_isotropic_noises/RVB2014_type1_noise_mediumroom1_4.wav',\n",
       " 'RIRS_NOISES/real_rirs_isotropic_noises/RVB2014_type1_noise_mediumroom1_5.wav',\n",
       " 'RIRS_NOISES/real_rirs_isotropic_noises/RVB2014_type1_noise_mediumroom1_6.wav',\n",
       " 'RIRS_NOISES/real_rirs_isotropic_noises/RVB2014_type1_noise_mediumroom1_7.wav',\n",
       " 'RIRS_NOISES/real_rirs_isotropic_noises/RVB2014_type1_noise_mediumroom1_8.wav',\n",
       " 'RIRS_NOISES/real_rirs_isotropic_noises/RVB2014_type1_noise_mediumroom1_9.wav',\n",
       " 'RIRS_NOISES/real_rirs_isotropic_noises/RVB2014_type1_noise_mediumroom2_1.wav',\n",
       " 'RIRS_NOISES/real_rirs_isotropic_noises/RVB2014_type1_noise_mediumroom2_10.wav',\n",
       " 'RIRS_NOISES/real_rirs_isotropic_noises/RVB2014_type1_noise_mediumroom2_2.wav',\n",
       " 'RIRS_NOISES/real_rirs_isotropic_noises/RVB2014_type1_noise_mediumroom2_3.wav',\n",
       " 'RIRS_NOISES/real_rirs_isotropic_noises/RVB2014_type1_noise_mediumroom2_4.wav',\n",
       " 'RIRS_NOISES/real_rirs_isotropic_noises/RVB2014_type1_noise_mediumroom2_5.wav',\n",
       " 'RIRS_NOISES/real_rirs_isotropic_noises/RVB2014_type1_noise_mediumroom2_6.wav',\n",
       " 'RIRS_NOISES/real_rirs_isotropic_noises/RVB2014_type1_noise_mediumroom2_7.wav',\n",
       " 'RIRS_NOISES/real_rirs_isotropic_noises/RVB2014_type1_noise_mediumroom2_8.wav',\n",
       " 'RIRS_NOISES/real_rirs_isotropic_noises/RVB2014_type1_noise_mediumroom2_9.wav',\n",
       " 'RIRS_NOISES/real_rirs_isotropic_noises/RVB2014_type1_noise_smallroom1_1.wav',\n",
       " 'RIRS_NOISES/real_rirs_isotropic_noises/RVB2014_type1_noise_smallroom1_10.wav',\n",
       " 'RIRS_NOISES/real_rirs_isotropic_noises/RVB2014_type1_noise_smallroom1_2.wav',\n",
       " 'RIRS_NOISES/real_rirs_isotropic_noises/RVB2014_type1_noise_smallroom1_3.wav',\n",
       " 'RIRS_NOISES/real_rirs_isotropic_noises/RVB2014_type1_noise_smallroom1_4.wav',\n",
       " 'RIRS_NOISES/real_rirs_isotropic_noises/RVB2014_type1_noise_smallroom1_5.wav',\n",
       " 'RIRS_NOISES/real_rirs_isotropic_noises/RVB2014_type1_noise_smallroom1_6.wav',\n",
       " 'RIRS_NOISES/real_rirs_isotropic_noises/RVB2014_type1_noise_smallroom1_7.wav',\n",
       " 'RIRS_NOISES/real_rirs_isotropic_noises/RVB2014_type1_noise_smallroom1_8.wav',\n",
       " 'RIRS_NOISES/real_rirs_isotropic_noises/RVB2014_type1_noise_smallroom1_9.wav',\n",
       " 'RIRS_NOISES/real_rirs_isotropic_noises/RVB2014_type1_noise_smallroom2_1.wav',\n",
       " 'RIRS_NOISES/real_rirs_isotropic_noises/RVB2014_type1_noise_smallroom2_10.wav',\n",
       " 'RIRS_NOISES/real_rirs_isotropic_noises/RVB2014_type1_noise_smallroom2_2.wav',\n",
       " 'RIRS_NOISES/real_rirs_isotropic_noises/RVB2014_type1_noise_smallroom2_3.wav',\n",
       " 'RIRS_NOISES/real_rirs_isotropic_noises/RVB2014_type1_noise_smallroom2_4.wav',\n",
       " 'RIRS_NOISES/real_rirs_isotropic_noises/RVB2014_type1_noise_smallroom2_5.wav',\n",
       " 'RIRS_NOISES/real_rirs_isotropic_noises/RVB2014_type1_noise_smallroom2_6.wav',\n",
       " 'RIRS_NOISES/real_rirs_isotropic_noises/RVB2014_type1_noise_smallroom2_7.wav',\n",
       " 'RIRS_NOISES/real_rirs_isotropic_noises/RVB2014_type1_noise_smallroom2_8.wav',\n",
       " 'RIRS_NOISES/real_rirs_isotropic_noises/RVB2014_type1_noise_smallroom2_9.wav',\n",
       " 'RIRS_NOISES/real_rirs_isotropic_noises/RVB2014_type2_noise_simroom1_1.wav',\n",
       " 'RIRS_NOISES/real_rirs_isotropic_noises/RVB2014_type2_noise_simroom1_10.wav',\n",
       " 'RIRS_NOISES/real_rirs_isotropic_noises/RVB2014_type2_noise_simroom1_2.wav',\n",
       " 'RIRS_NOISES/real_rirs_isotropic_noises/RVB2014_type2_noise_simroom1_3.wav',\n",
       " 'RIRS_NOISES/real_rirs_isotropic_noises/RVB2014_type2_noise_simroom1_4.wav',\n",
       " 'RIRS_NOISES/real_rirs_isotropic_noises/RVB2014_type2_noise_simroom1_5.wav',\n",
       " 'RIRS_NOISES/real_rirs_isotropic_noises/RVB2014_type2_noise_simroom1_6.wav',\n",
       " 'RIRS_NOISES/real_rirs_isotropic_noises/RVB2014_type2_noise_simroom1_7.wav',\n",
       " 'RIRS_NOISES/real_rirs_isotropic_noises/RVB2014_type2_noise_simroom1_8.wav',\n",
       " 'RIRS_NOISES/real_rirs_isotropic_noises/RVB2014_type2_noise_simroom1_9.wav',\n",
       " 'RIRS_NOISES/real_rirs_isotropic_noises/RVB2014_type2_noise_simroom2_1.wav',\n",
       " 'RIRS_NOISES/real_rirs_isotropic_noises/RVB2014_type2_noise_simroom2_10.wav',\n",
       " 'RIRS_NOISES/real_rirs_isotropic_noises/RVB2014_type2_noise_simroom2_2.wav',\n",
       " 'RIRS_NOISES/real_rirs_isotropic_noises/RVB2014_type2_noise_simroom2_3.wav',\n",
       " 'RIRS_NOISES/real_rirs_isotropic_noises/RVB2014_type2_noise_simroom2_4.wav',\n",
       " 'RIRS_NOISES/real_rirs_isotropic_noises/RVB2014_type2_noise_simroom2_5.wav',\n",
       " 'RIRS_NOISES/real_rirs_isotropic_noises/RVB2014_type2_noise_simroom2_6.wav',\n",
       " 'RIRS_NOISES/real_rirs_isotropic_noises/RVB2014_type2_noise_simroom2_7.wav',\n",
       " 'RIRS_NOISES/real_rirs_isotropic_noises/RVB2014_type2_noise_simroom2_8.wav',\n",
       " 'RIRS_NOISES/real_rirs_isotropic_noises/RVB2014_type2_noise_simroom2_9.wav',\n",
       " 'RIRS_NOISES/real_rirs_isotropic_noises/RVB2014_type2_noise_simroom3_1.wav',\n",
       " 'RIRS_NOISES/real_rirs_isotropic_noises/RVB2014_type2_noise_simroom3_10.wav',\n",
       " 'RIRS_NOISES/real_rirs_isotropic_noises/RVB2014_type2_noise_simroom3_2.wav',\n",
       " 'RIRS_NOISES/real_rirs_isotropic_noises/RVB2014_type2_noise_simroom3_3.wav',\n",
       " 'RIRS_NOISES/real_rirs_isotropic_noises/RVB2014_type2_noise_simroom3_4.wav',\n",
       " 'RIRS_NOISES/real_rirs_isotropic_noises/RVB2014_type2_noise_simroom3_5.wav',\n",
       " 'RIRS_NOISES/real_rirs_isotropic_noises/RVB2014_type2_noise_simroom3_6.wav',\n",
       " 'RIRS_NOISES/real_rirs_isotropic_noises/RVB2014_type2_noise_simroom3_7.wav',\n",
       " 'RIRS_NOISES/real_rirs_isotropic_noises/RVB2014_type2_noise_simroom3_8.wav',\n",
       " 'RIRS_NOISES/real_rirs_isotropic_noises/RVB2014_type2_noise_simroom3_9.wav',\n",
       " 'RIRS_NOISES/real_rirs_isotropic_noises/RWCP_type5_noise_cirline_ofc_ambient1.wav',\n",
       " 'RIRS_NOISES/real_rirs_isotropic_noises/RWCP_type5_noise_cirline_ofc_ambient2.wav']"
      ]
     },
     "execution_count": 25,
     "metadata": {},
     "output_type": "execute_result"
    }
   ],
   "source": [
    "file_path = r'data\\rirs_noises\\real_rirs_isotropic_noises\\noise_list'\n",
    "\n",
    "with open(file_path, 'r') as f:\n",
    "    lines = f.readlines()\n",
    "\n",
    "data = []\n",
    "for line in lines:\n",
    "    match = re.match(r'--noise-id (\\d+) --noise-type (\\w+) --room-linkage (\\S+) (.+)', line.strip())\n",
    "    if match:\n",
    "        noise_id, noise_type, room_linkage, file_path = match.groups()\n",
    "        data.append({\n",
    "            'noise_id': int(noise_id),\n",
    "            'noise_type': noise_type,\n",
    "            'room_linkage': room_linkage,\n",
    "            'file_path': file_path\n",
    "        })\n",
    "\n",
    "noise_list = [d['file_path'] for d in data]; noise_list"
   ]
  },
  {
   "cell_type": "code",
   "execution_count": null,
   "id": "2706e4c0",
   "metadata": {},
   "outputs": [],
   "source": []
  }
 ],
 "metadata": {
  "kernelspec": {
   "display_name": ".venv",
   "language": "python",
   "name": "python3"
  },
  "language_info": {
   "codemirror_mode": {
    "name": "ipython",
    "version": 3
   },
   "file_extension": ".py",
   "mimetype": "text/x-python",
   "name": "python",
   "nbconvert_exporter": "python",
   "pygments_lexer": "ipython3",
   "version": "3.9.13"
  }
 },
 "nbformat": 4,
 "nbformat_minor": 5
}
