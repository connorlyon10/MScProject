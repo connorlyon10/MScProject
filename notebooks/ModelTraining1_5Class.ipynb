{
 "cells": [
  {
   "cell_type": "code",
   "execution_count": null,
   "id": "c9f45df7",
   "metadata": {},
   "outputs": [],
   "source": [
    "import os\n",
    "import random\n",
    "\n",
    "import pandas as pd\n",
    "import numpy as np\n",
    "\n",
    "import torch\n",
    "import torch.nn as nn\n",
    "from torch.utils.data import Dataset\n",
    "import torch.nn.functional as F\n",
    "import torchaudio.transforms as T\n",
    "from torch.utils.data import DataLoader, random_split\n",
    "import torch.optim as optim\n",
    "from torchvision import transforms\n",
    "from sklearn.model_selection import train_test_split\n",
    "from torch.utils.data import Subset, DataLoader\n",
    "\n",
    "from time import time\n",
    "from tqdm import tqdm\n",
    "\n",
    "from src import model as m                  # Config\n",
    "from src.data import SpectrogramDataset     # Torch dataset object creator\n",
    "from src.utils.helpers import *             # Helpers to build, train and evaluate the model. See `src/utils/helpers.py`\n",
    "\n",
    "\n",
    "import random\n",
    "import numpy as np\n",
    "import torch\n",
    "\n",
    "set_seed()"
   ]
  },
  {
   "cell_type": "code",
   "execution_count": null,
   "id": "ea84b3d5",
   "metadata": {},
   "outputs": [
    {
     "name": "stderr",
     "output_type": "stream",
     "text": [
      "Training: 100%|██████████| 2907/2907 [24:54<00:00,  1.95batch/s]\n"
     ]
    },
    {
     "name": "stdout",
     "output_type": "stream",
     "text": [
      "Epoch 1 — Loss: 0.7588 — Time: 1494.42s\n",
      "Per-class training loss (avg per-sample) and counts:\n",
      "  Class 0: loss=0.1034 (n=9434)\n",
      "  Class 1: loss=0.1832 (n=23451)\n",
      "  Class 2: loss=1.2923 (n=20173)\n",
      "  Class 3: loss=1.0163 (n=19987)\n",
      "  Class 4: loss=0.9475 (n=19978)\n",
      "------------------------------------------------------------\n"
     ]
    },
    {
     "name": "stderr",
     "output_type": "stream",
     "text": [
      "Training: 100%|██████████| 2907/2907 [40:09<00:00,  1.21batch/s]\n"
     ]
    },
    {
     "name": "stdout",
     "output_type": "stream",
     "text": [
      "Epoch 2 — Loss: 0.7077 — Time: 2409.25s\n",
      "Per-class training loss (avg per-sample) and counts:\n",
      "  Class 0: loss=0.0410 (n=9434)\n",
      "  Class 1: loss=0.1481 (n=23451)\n",
      "  Class 2: loss=1.2009 (n=20173)\n",
      "  Class 3: loss=0.9904 (n=19987)\n",
      "  Class 4: loss=0.8985 (n=19978)\n",
      "------------------------------------------------------------\n"
     ]
    },
    {
     "name": "stderr",
     "output_type": "stream",
     "text": [
      "Training: 100%|██████████| 2907/2907 [37:23<00:00,  1.30batch/s]\n"
     ]
    },
    {
     "name": "stdout",
     "output_type": "stream",
     "text": [
      "Epoch 3 — Loss: 0.6877 — Time: 2243.86s\n",
      "Per-class training loss (avg per-sample) and counts:\n",
      "  Class 0: loss=0.0314 (n=9434)\n",
      "  Class 1: loss=0.1333 (n=23451)\n",
      "  Class 2: loss=1.1614 (n=20173)\n",
      "  Class 3: loss=0.9758 (n=19987)\n",
      "  Class 4: loss=0.8819 (n=19978)\n",
      "------------------------------------------------------------\n"
     ]
    },
    {
     "name": "stderr",
     "output_type": "stream",
     "text": [
      "Training: 100%|██████████| 2907/2907 [37:12<00:00,  1.30batch/s]\n"
     ]
    },
    {
     "name": "stdout",
     "output_type": "stream",
     "text": [
      "Epoch 4 — Loss: 0.6757 — Time: 2232.89s\n",
      "Per-class training loss (avg per-sample) and counts:\n",
      "  Class 0: loss=0.0264 (n=9434)\n",
      "  Class 1: loss=0.1230 (n=23451)\n",
      "  Class 2: loss=1.1328 (n=20173)\n",
      "  Class 3: loss=0.9705 (n=19987)\n",
      "  Class 4: loss=0.8746 (n=19978)\n",
      "------------------------------------------------------------\n"
     ]
    },
    {
     "name": "stderr",
     "output_type": "stream",
     "text": [
      "Training: 100%|██████████| 2907/2907 [36:51<00:00,  1.31batch/s]\n"
     ]
    },
    {
     "name": "stdout",
     "output_type": "stream",
     "text": [
      "Epoch 5 — Loss: 0.6670 — Time: 2211.15s\n",
      "Per-class training loss (avg per-sample) and counts:\n",
      "  Class 0: loss=0.0256 (n=9434)\n",
      "  Class 1: loss=0.1149 (n=23451)\n",
      "  Class 2: loss=1.1150 (n=20173)\n",
      "  Class 3: loss=0.9647 (n=19987)\n",
      "  Class 4: loss=0.8679 (n=19978)\n",
      "------------------------------------------------------------\n"
     ]
    },
    {
     "name": "stderr",
     "output_type": "stream",
     "text": [
      "Training: 100%|██████████| 2907/2907 [23:37<00:00,  2.05batch/s]\n"
     ]
    },
    {
     "name": "stdout",
     "output_type": "stream",
     "text": [
      "Epoch 6 — Loss: 0.6589 — Time: 1417.16s\n",
      "Per-class training loss (avg per-sample) and counts:\n",
      "  Class 0: loss=0.0219 (n=9434)\n",
      "  Class 1: loss=0.1087 (n=23451)\n",
      "  Class 2: loss=1.0986 (n=20173)\n",
      "  Class 3: loss=0.9575 (n=19987)\n",
      "  Class 4: loss=0.8627 (n=19978)\n",
      "------------------------------------------------------------\n"
     ]
    },
    {
     "name": "stderr",
     "output_type": "stream",
     "text": [
      "Training: 100%|██████████| 2907/2907 [12:21<00:00,  3.92batch/s]\n"
     ]
    },
    {
     "name": "stdout",
     "output_type": "stream",
     "text": [
      "Epoch 7 — Loss: 0.6538 — Time: 741.09s\n",
      "Per-class training loss (avg per-sample) and counts:\n",
      "  Class 0: loss=0.0203 (n=9434)\n",
      "  Class 1: loss=0.1046 (n=23451)\n",
      "  Class 2: loss=1.0849 (n=20173)\n",
      "  Class 3: loss=0.9558 (n=19987)\n",
      "  Class 4: loss=0.8602 (n=19978)\n",
      "------------------------------------------------------------\n"
     ]
    },
    {
     "name": "stderr",
     "output_type": "stream",
     "text": [
      "Training: 100%|██████████| 2907/2907 [20:24<00:00,  2.37batch/s]\n"
     ]
    },
    {
     "name": "stdout",
     "output_type": "stream",
     "text": [
      "Epoch 8 — Loss: 0.6481 — Time: 1224.24s\n",
      "Per-class training loss (avg per-sample) and counts:\n",
      "  Class 0: loss=0.0208 (n=9434)\n",
      "  Class 1: loss=0.1013 (n=23451)\n",
      "  Class 2: loss=1.0719 (n=20173)\n",
      "  Class 3: loss=0.9500 (n=19987)\n",
      "  Class 4: loss=0.8565 (n=19978)\n",
      "------------------------------------------------------------\n"
     ]
    },
    {
     "name": "stderr",
     "output_type": "stream",
     "text": [
      "Training: 100%|██████████| 2907/2907 [21:52<00:00,  2.21batch/s]\n"
     ]
    },
    {
     "name": "stdout",
     "output_type": "stream",
     "text": [
      "Epoch 9 — Loss: 0.6431 — Time: 1312.47s\n",
      "Per-class training loss (avg per-sample) and counts:\n",
      "  Class 0: loss=0.0182 (n=9434)\n",
      "  Class 1: loss=0.0972 (n=23451)\n",
      "  Class 2: loss=1.0593 (n=20173)\n",
      "  Class 3: loss=0.9478 (n=19987)\n",
      "  Class 4: loss=0.8540 (n=19978)\n",
      "------------------------------------------------------------\n"
     ]
    },
    {
     "name": "stderr",
     "output_type": "stream",
     "text": [
      "Training: 100%|██████████| 2907/2907 [26:41<00:00,  1.82batch/s]\n"
     ]
    },
    {
     "name": "stdout",
     "output_type": "stream",
     "text": [
      "Epoch 10 — Loss: 0.6385 — Time: 1601.36s\n",
      "Per-class training loss (avg per-sample) and counts:\n",
      "  Class 0: loss=0.0201 (n=9434)\n",
      "  Class 1: loss=0.0928 (n=23451)\n",
      "  Class 2: loss=1.0499 (n=20173)\n",
      "  Class 3: loss=0.9440 (n=19987)\n",
      "  Class 4: loss=0.8498 (n=19978)\n",
      "------------------------------------------------------------\n",
      "Validation Accuracy: 65.09%\n"
     ]
    }
   ],
   "source": [
    "# 1. init model\n",
    "model = build_model(m.config, input_h=96, input_w=64)\n",
    "\n",
    "\n",
    "\n",
    "# 2. Device setup\n",
    "device = torch.device(\"cuda\" if torch.cuda.is_available() else \"cpu\")\n",
    "model.to(device)\n",
    "\n",
    "\n",
    "\n",
    "# 3. DataLoaders\n",
    "dataset = SpectrogramDataset(csv_file=r\"data\\labels\\final_labels.csv\")\n",
    "train_loader, val_loader = get_loaders(dataset)\n",
    "\n",
    "\n",
    "\n",
    "# 4. Loss and optimizer\n",
    "criterion = nn.CrossEntropyLoss()\n",
    "optimizer = optim.Adam(model.parameters(), lr=m.config['lr'])\n",
    "\n",
    "\n",
    "\n",
    "# 5. Training loop\n",
    "for epoch in range(10):\n",
    "    start_time = time()\n",
    "    avg_loss, per_class_loss, class_counts = train_one_epoch(model, train_loader, optimizer, criterion, device)\n",
    "    duration = time() - start_time\n",
    "\n",
    "    print(f\"Epoch {epoch+1} — Loss: {avg_loss:.4f} — Time: {duration:.2f}s\")\n",
    "\n",
    "    # Print per-class losses and sample counts seen this epoch\n",
    "    print(\"Per-class training loss (avg per-sample) and counts:\")\n",
    "    for cls in sorted(per_class_loss.keys()):\n",
    "        loss_val = per_class_loss[cls]\n",
    "        cnt = class_counts[cls]\n",
    "        if loss_val is None:\n",
    "            print(f\"  Class {cls}: no samples\")\n",
    "        else:\n",
    "            print(f\"  Class {cls}: loss={loss_val:.4f} (n={cnt})\")\n",
    "    print(\"-\" * 60)\n",
    "\n",
    "\n",
    "\n",
    "# 6. Final Validation \n",
    "acc = validate(model, val_loader, device)\n",
    "print(f\"Validation Accuracy: {acc:.2%}\")\n",
    "\n",
    "\n",
    "\n",
    "# 7. Save model\n",
    "torch.save(model.state_dict(), r'src/model/ConvCount_full.pt')"
   ]
  },
  {
   "cell_type": "code",
   "execution_count": 4,
   "id": "3187dc48",
   "metadata": {},
   "outputs": [
    {
     "data": {
      "image/png": "[encoded data removed]",
      "text/plain": [
       "<Figure size 800x600 with 2 Axes>"
      ]
     },
     "metadata": {},
     "output_type": "display_data"
    },
    {
     "name": "stdout",
     "output_type": "stream",
     "text": [
      "\n",
      "Per-Class Accuracy:\n",
      "  Class 0: 0.996\n",
      "  Class 1: 0.989\n",
      "  Class 2: 0.635\n",
      "  Class 3: 0.300\n",
      "  Class 4: 0.466\n",
      "\n",
      "Precision / Recall / F1 Score per Class:\n",
      "  Class 0: Precision=0.986, Recall=0.996, F1=0.991\n",
      "  Class 1: Precision=0.906, Recall=0.989, F1=0.946\n",
      "  Class 2: Precision=0.410, Recall=0.635, F1=0.498\n",
      "  Class 3: Precision=0.414, Recall=0.300, F1=0.348\n",
      "  Class 4: Precision=0.765, Recall=0.466, F1=0.579\n"
     ]
    }
   ],
   "source": [
    "import numpy as np\n",
    "import matplotlib.pyplot as plt\n",
    "import seaborn as sns\n",
    "from sklearn.metrics import confusion_matrix, precision_recall_fscore_support, accuracy_score\n",
    "\n",
    "def evaluate_classification(y_true, y_pred, class_labels=None, normalize_cm=False):\n",
    "    \"\"\"\n",
    "    Computes and visualizes confusion matrix, per-class accuracy, and precision/recall/F1.\n",
    "\n",
    "    Args:\n",
    "        y_true (array-like): Ground truth labels (integers).\n",
    "        y_pred (array-like): Predicted labels (integers).\n",
    "        class_labels (list[int], optional): List of integer class labels (e.g., [0,1,2,3,4]).\n",
    "            If None, it's inferred from y_true and y_pred.\n",
    "        normalize_cm (bool): Whether to normalize confusion matrix rows.\n",
    "\n",
    "    Returns:\n",
    "        dict: Dictionary containing metrics and the confusion matrix.\n",
    "    \"\"\"\n",
    "    metrics = {}\n",
    "\n",
    "    # Infer class labels if not provided\n",
    "    if class_labels is None:\n",
    "        unique = set(np.unique(y_true)).union(np.unique(y_pred))\n",
    "        class_labels = sorted(int(x) for x in unique)\n",
    "\n",
    "        # If predictions/targets don't include all expected classes (e.g., want 0..4),\n",
    "        # a caller can pass class_labels explicitly. We keep inference conservative.\n",
    "\n",
    "    # Confusion Matrix\n",
    "    cm = confusion_matrix(y_true, y_pred, labels=class_labels)\n",
    "    if normalize_cm:\n",
    "        # avoid divide-by-zero rows\n",
    "        with np.errstate(all='ignore'):\n",
    "            cm = cm.astype('float') / cm.sum(axis=1, keepdims=True)\n",
    "            cm = np.nan_to_num(cm)  # convert NaNs to 0 for empty rows\n",
    "\n",
    "    metrics['confusion_matrix'] = cm\n",
    "    metrics['class_labels'] = class_labels\n",
    "\n",
    "    plt.figure(figsize=(8, 6))\n",
    "    sns.heatmap(cm, annot=True, fmt=\".2f\" if normalize_cm else \"d\",\n",
    "                xticklabels=class_labels, yticklabels=class_labels, cmap=\"Blues\")\n",
    "    plt.xlabel(\"Predicted\")\n",
    "    plt.ylabel(\"True\")\n",
    "    plt.title(\"Confusion Matrix\" + (\" (Normalized)\" if normalize_cm else \"\"))\n",
    "    plt.tight_layout()\n",
    "    plt.show()\n",
    "\n",
    "    # Per-Class Accuracy\n",
    "    per_class_acc = {}\n",
    "    for cls in class_labels:\n",
    "        cls_mask = np.array(y_true) == cls\n",
    "        if cls_mask.sum() == 0:\n",
    "            per_class_acc[cls] = None\n",
    "        else:\n",
    "            acc = accuracy_score(np.array(y_true)[cls_mask], np.array(y_pred)[cls_mask])\n",
    "            per_class_acc[cls] = acc\n",
    "    metrics['per_class_accuracy'] = per_class_acc\n",
    "\n",
    "    print(\"\\nPer-Class Accuracy:\")\n",
    "    for cls in class_labels:\n",
    "        acc = per_class_acc[cls]\n",
    "        if acc is None:\n",
    "            print(f\"  Class {cls}: (no true samples)\")\n",
    "        else:\n",
    "            print(f\"  Class {cls}: {acc:.3f}\")\n",
    "\n",
    "    # Precision, Recall, F1 Score\n",
    "    precision, recall, f1, _ = precision_recall_fscore_support(\n",
    "        y_true, y_pred, labels=class_labels, zero_division=0\n",
    "    )\n",
    "    metrics['precision'] = dict(zip(class_labels, precision))\n",
    "    metrics['recall'] = dict(zip(class_labels, recall))\n",
    "    metrics['f1_score'] = dict(zip(class_labels, f1))\n",
    "\n",
    "    print(\"\\nPrecision / Recall / F1 Score per Class:\")\n",
    "    for cls in class_labels:\n",
    "        print(f\"  Class {cls}: Precision={metrics['precision'][cls]:.3f}, \"\n",
    "              f\"Recall={metrics['recall'][cls]:.3f}, F1={metrics['f1_score'][cls]:.3f}\")\n",
    "\n",
    "    return metrics\n",
    "\n",
    "\n",
    "def evaluate_model_metrics(model, loader, device, class_labels=None):\n",
    "    \"\"\"\n",
    "    Run model on loader and evaluate. class_labels is optional (list of ints).\n",
    "    If class_labels is None it will be inferred from the data (y_true/y_pred).\n",
    "    \"\"\"\n",
    "    model.eval()\n",
    "    y_true, y_pred = [], []\n",
    "\n",
    "    with torch.no_grad():\n",
    "        for x, y in loader:\n",
    "            x = x.to(device)\n",
    "            logits = model(x)\n",
    "            preds = logits.argmax(dim=1).cpu().numpy()\n",
    "            y_pred.extend(preds)\n",
    "            y_true.extend(y.cpu().numpy())\n",
    "\n",
    "    y_true = np.array(y_true, dtype=int)\n",
    "    y_pred = np.array(y_pred, dtype=int)\n",
    "\n",
    "    # If user passed class_labels, use that; otherwise infer a sensible range\n",
    "    if class_labels is None:\n",
    "        # infer from data; but ensure we include 0..max if that's expected:\n",
    "        max_label = max(y_true.max() if y_true.size else -1, y_pred.max() if y_pred.size else -1)\n",
    "        class_labels = list(range(max_label + 1)) if max_label >= 0 else []\n",
    "\n",
    "    return evaluate_classification(y_true, y_pred, class_labels=class_labels, normalize_cm=True)\n",
    "\n",
    "\n",
    "# Usage example (simple):\n",
    "metrics = evaluate_model_metrics(model, val_loader, device)\n",
    "# or to force classes 0..4:\n",
    "# metrics = evaluate_model_metrics(model, val_loader, device, class_labels=[0,1,2,3,4])\n"
   ]
  }
 ],
 "metadata": {
  "kernelspec": {
   "display_name": ".venv",
   "language": "python",
   "name": "python3"
  },
  "language_info": {
   "codemirror_mode": {
    "name": "ipython",
    "version": 3
   },
   "file_extension": ".py",
   "mimetype": "text/x-python",
   "name": "python",
   "nbconvert_exporter": "python",
   "pygments_lexer": "ipython3",
   "version": "3.9.13"
  }
 },
 "nbformat": 4,
 "nbformat_minor": 5
}
