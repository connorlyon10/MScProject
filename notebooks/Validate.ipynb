{
 "cells": [
  {
   "cell_type": "code",
   "execution_count": null,
   "id": "af41d16d",
   "metadata": {},
   "outputs": [],
   "source": [
    "import torch\n",
    "from src.model.predict import load_model, predict\n",
    "model = load_model(\"src/model/SpeakerCountCNN_v0.10.pt\")"
   ]
  },
  {
   "cell_type": "code",
   "execution_count": 2,
   "id": "32c1ee79",
   "metadata": {},
   "outputs": [
    {
     "name": "stdout",
     "output_type": "stream",
     "text": [
      "1\n"
     ]
    }
   ],
   "source": [
    "prediction = predict(model, r\"data\\spectrograms\\0L_session0_clip3.pt\")\n",
    "print(prediction)"
   ]
  }
 ],
 "metadata": {
  "kernelspec": {
   "display_name": ".venv",
   "language": "python",
   "name": "python3"
  },
  "language_info": {
   "codemirror_mode": {
    "name": "ipython",
    "version": 3
   },
   "file_extension": ".py",
   "mimetype": "text/x-python",
   "name": "python",
   "nbconvert_exporter": "python",
   "pygments_lexer": "ipython3",
   "version": "3.9.13"
  }
 },
 "nbformat": 4,
 "nbformat_minor": 5
}
