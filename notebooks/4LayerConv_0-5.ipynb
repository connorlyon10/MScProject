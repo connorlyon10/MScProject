{
 "cells": [
  {
   "cell_type": "code",
   "execution_count": 2,
   "id": "c9f45df7",
   "metadata": {},
   "outputs": [],
   "source": [
    "import os\n",
    "import random\n",
    "\n",
    "import pandas as pd\n",
    "\n",
    "import torch\n",
    "import torch.nn as nn\n",
    "from torch.utils.data import Dataset\n",
    "import torch.nn.functional as F\n",
    "import torchaudio.transforms as T\n",
    "from torch.utils.data import DataLoader, random_split\n",
    "import torch.optim as optim\n",
    "from torchvision import transforms\n",
    "from sklearn.model_selection import train_test_split\n",
    "from torch.utils.data import Subset, DataLoader\n",
    "\n",
    "from time import time\n",
    "from tqdm import tqdm\n",
    "\n",
    "from src.model.model import SpeakerCountCNN\n",
    "import src.model.model as m\n",
    "\n",
    "\n",
    "class SpectrogramDataset(Dataset):\n",
    "    def __init__(self, csv_file, data_dir):\n",
    "\n",
    "        self.data = pd.read_csv(csv_file)\n",
    "        self.data_dir = data_dir\n",
    "        self.labels = self.data['speaker_count'].astype(int).tolist()  # <- add this\n",
    "\n",
    "\n",
    "    def __len__(self):\n",
    "    \n",
    "        return len(self.data)\n",
    "    \n",
    "\n",
    "    def __getitem__(self, idx):\n",
    "    \n",
    "        row = self.data.iloc[idx]\n",
    "        tensor_path = os.path.join(self.data_dir, row['spectrogram'])\n",
    "        spectrogram = torch.load(tensor_path).unsqueeze(0).float();  # shape: [1, H, W]\n",
    "        label = int(row['speaker_count'])\n",
    "        return spectrogram, label\n",
    "\n",
    "dataset = SpectrogramDataset('data\\spectrogram_labels_aug.csv','data\\spectrograms_aug')\n",
    "\n",
    "# Model with additional conv layer\n",
    "class SpeakerCountCNN_test(nn.Module):\n",
    "    def __init__(self, conv1_out, conv2_out, conv3_out, conv4_out, fc_hidden, dropout_prob, input_height=96, input_width=64, num_classes=6):\n",
    "        super(SpeakerCountCNN_test, self).__init__()\n",
    "\n",
    "        self.conv1 = nn.Conv2d(1, conv1_out, kernel_size=3, padding=1)\n",
    "        self.bn1 = nn.BatchNorm2d(conv1_out)\n",
    "\n",
    "        self.conv2 = nn.Conv2d(conv1_out, conv2_out, kernel_size=3, padding=1)\n",
    "        self.bn2 = nn.BatchNorm2d(conv2_out)\n",
    "\n",
    "        self.conv3 = nn.Conv2d(conv2_out, conv3_out, kernel_size=3, padding=1)\n",
    "        self.bn3 = nn.BatchNorm2d(conv3_out)\n",
    "\n",
    "        self.conv4 = nn.Conv2d(conv3_out, conv4_out, kernel_size=3, padding=1)\n",
    "        self.bn4 = nn.BatchNorm2d(conv4_out)\n",
    "\n",
    "        self.pool = nn.MaxPool2d(2, 2)\n",
    "        self.dropout = nn.Dropout(dropout_prob)\n",
    "\n",
    "        # Dynamically compute flattened feature size\n",
    "        with torch.no_grad():\n",
    "            dummy = torch.zeros(1, 1, input_height, input_width)\n",
    "            x = self.pool(F.relu(self.bn1(self.conv1(dummy))))\n",
    "            x = self.pool(F.relu(self.bn2(self.conv2(x))))\n",
    "            x = self.pool(F.relu(self.bn3(self.conv3(x))))\n",
    "            x = self.pool(F.relu(self.bn4(self.conv4(x))))\n",
    "            flattened_size = x.view(1, -1).shape[1]\n",
    "\n",
    "        self.fc1 = nn.Linear(flattened_size, fc_hidden)\n",
    "        self.fc2 = nn.Linear(fc_hidden, num_classes)\n",
    "\n",
    "    def forward(self, x):\n",
    "        x = self.pool(F.relu(self.bn1(self.conv1(x))))\n",
    "        x = self.pool(F.relu(self.bn2(self.conv2(x))))\n",
    "        x = self.pool(F.relu(self.bn3(self.conv3(x))))\n",
    "        x = self.pool(F.relu(self.bn4(self.conv4(x))))\n",
    "        x = torch.flatten(x, 1)\n",
    "        x = self.dropout(x)\n",
    "        x = F.relu(self.fc1(x))\n",
    "        x = self.fc2(x)\n",
    "        return x\n"
   ]
  },
  {
   "cell_type": "code",
   "execution_count": 5,
   "id": "e2255266",
   "metadata": {},
   "outputs": [],
   "source": [
    "# Data loaders for full data set\n",
    "def get_loaders(dataset, train_frac=0.8, bs=32, seed=42):\n",
    "    n = len(dataset)\n",
    "    t = int(train_frac * n)\n",
    "    train_ds, val_ds = random_split(dataset, [t, n-t], generator=torch.Generator().manual_seed(seed))\n",
    "    return (DataLoader(train_ds, batch_size=bs, shuffle=True),\n",
    "            DataLoader(val_ds, batch_size=bs, shuffle=False))\n",
    "\n",
    "\n",
    "\n",
    "# Data loaders for subset, makes hp tuning quicker (stratified sampling prevents class imbalance)\n",
    "def get_stratified_loaders(\n",
    "    dataset,\n",
    "    subset_frac: float = 0.3,\n",
    "    train_frac: float = 0.8,\n",
    "    batch_size: int = 32,\n",
    "    random_state: int = 42,\n",
    "    shuffle_train: bool = True\n",
    "):\n",
    "\n",
    "    # 1. Stratified sampling of the full dataset\n",
    "    full_indices = list(range(len(dataset)))\n",
    "    labels = dataset.labels\n",
    "    subset_idx, _ = train_test_split(\n",
    "        full_indices,\n",
    "        train_size=subset_frac,\n",
    "        stratify=labels,\n",
    "        random_state=random_state\n",
    "    )\n",
    "    reduced_ds = Subset(dataset, subset_idx)\n",
    "\n",
    "    # 2. Stratified train/val split of the reduced dataset\n",
    "    reduced_labels = [labels[i] for i in subset_idx]\n",
    "    train_idx, val_idx = train_test_split(\n",
    "        list(range(len(reduced_ds))),\n",
    "        train_size=train_frac,\n",
    "        stratify=reduced_labels,\n",
    "        random_state=random_state\n",
    "    )\n",
    "\n",
    "    # 3. Build DataLoaders\n",
    "    train_loader = DataLoader(\n",
    "        Subset(reduced_ds, train_idx),\n",
    "        batch_size=batch_size,\n",
    "        shuffle=shuffle_train\n",
    "    )\n",
    "    val_loader = DataLoader(\n",
    "        Subset(reduced_ds, val_idx),\n",
    "        batch_size=batch_size,\n",
    "        shuffle=False\n",
    "    )\n",
    "\n",
    "    return train_loader, val_loader\n",
    "\n",
    "\n",
    "\n",
    "# Model builder\n",
    "def build_model(cfg, input_h, input_w):\n",
    "    return SpeakerCountCNN(\n",
    "        input_height=input_h, input_width=input_w,\n",
    "        conv1_out=cfg['conv1_out'], conv2_out=cfg['conv2_out'],\n",
    "        conv3_out=cfg['conv3_out'], fc_hidden=cfg['fc_hidden'],\n",
    "        dropout_prob=cfg['dropout']\n",
    "    )\n",
    "\n",
    "\n",
    "\n",
    "# One‐epoch training with tqdm\n",
    "from tqdm import tqdm\n",
    "from time import time\n",
    "def train_one_epoch(model, loader, opt, crit, device):\n",
    "    model.train()\n",
    "    total = 0\n",
    "    for x, y in tqdm(loader, desc=\"Training\", unit=\"batch\"):\n",
    "        x, y = x.to(device), y.to(device)\n",
    "        opt.zero_grad()\n",
    "        loss = crit(model(x), y)\n",
    "        loss.backward()\n",
    "        opt.step()\n",
    "        total += loss.item()\n",
    "    return total / len(loader)\n",
    "\n",
    "\n",
    "\n",
    "# Evaluate model\n",
    "def validate(model, loader, device):\n",
    "    model.eval()\n",
    "    correct = 0\n",
    "    with torch.no_grad():\n",
    "        for x,y in loader:\n",
    "            x,y = x.to(device), y.to(device)\n",
    "            preds = model(x).argmax(1)\n",
    "            correct += (preds==y).sum().item()\n",
    "    return correct / len(loader.dataset)"
   ]
  },
  {
   "cell_type": "code",
   "execution_count": 7,
   "id": "ea84b3d5",
   "metadata": {},
   "outputs": [
    {
     "name": "stderr",
     "output_type": "stream",
     "text": [
      "Training: 100%|██████████| 1772/1772 [23:54<00:00,  1.24batch/s]\n"
     ]
    },
    {
     "name": "stdout",
     "output_type": "stream",
     "text": [
      "Epoch 1 — Loss: 0.5837 — Time: 1434.07s\n"
     ]
    },
    {
     "name": "stderr",
     "output_type": "stream",
     "text": [
      "Training: 100%|██████████| 1772/1772 [20:22<00:00,  1.45batch/s]\n"
     ]
    },
    {
     "name": "stdout",
     "output_type": "stream",
     "text": [
      "Epoch 2 — Loss: 0.4982 — Time: 1222.04s\n"
     ]
    },
    {
     "name": "stderr",
     "output_type": "stream",
     "text": [
      "Training: 100%|██████████| 1772/1772 [25:00<00:00,  1.18batch/s]\n"
     ]
    },
    {
     "name": "stdout",
     "output_type": "stream",
     "text": [
      "Epoch 3 — Loss: 0.4644 — Time: 1500.24s\n"
     ]
    },
    {
     "name": "stderr",
     "output_type": "stream",
     "text": [
      "Training: 100%|██████████| 1772/1772 [26:50<00:00,  1.10batch/s]\n"
     ]
    },
    {
     "name": "stdout",
     "output_type": "stream",
     "text": [
      "Epoch 4 — Loss: 0.4456 — Time: 1610.23s\n"
     ]
    },
    {
     "name": "stderr",
     "output_type": "stream",
     "text": [
      "Training: 100%|██████████| 1772/1772 [26:37<00:00,  1.11batch/s]\n"
     ]
    },
    {
     "name": "stdout",
     "output_type": "stream",
     "text": [
      "Epoch 5 — Loss: 0.4306 — Time: 1597.09s\n"
     ]
    },
    {
     "name": "stderr",
     "output_type": "stream",
     "text": [
      "Training: 100%|██████████| 1772/1772 [26:09<00:00,  1.13batch/s]\n"
     ]
    },
    {
     "name": "stdout",
     "output_type": "stream",
     "text": [
      "Epoch 6 — Loss: 0.4146 — Time: 1569.74s\n"
     ]
    },
    {
     "name": "stderr",
     "output_type": "stream",
     "text": [
      "Training: 100%|██████████| 1772/1772 [25:08<00:00,  1.17batch/s]\n"
     ]
    },
    {
     "name": "stdout",
     "output_type": "stream",
     "text": [
      "Epoch 7 — Loss: 0.3992 — Time: 1508.57s\n"
     ]
    },
    {
     "name": "stderr",
     "output_type": "stream",
     "text": [
      "Training: 100%|██████████| 1772/1772 [25:31<00:00,  1.16batch/s]\n"
     ]
    },
    {
     "name": "stdout",
     "output_type": "stream",
     "text": [
      "Epoch 8 — Loss: 0.3882 — Time: 1531.25s\n"
     ]
    },
    {
     "name": "stderr",
     "output_type": "stream",
     "text": [
      "Training: 100%|██████████| 1772/1772 [26:12<00:00,  1.13batch/s]\n"
     ]
    },
    {
     "name": "stdout",
     "output_type": "stream",
     "text": [
      "Epoch 9 — Loss: 0.3745 — Time: 1572.06s\n"
     ]
    },
    {
     "name": "stderr",
     "output_type": "stream",
     "text": [
      "Training: 100%|██████████| 1772/1772 [25:08<00:00,  1.17batch/s]\n"
     ]
    },
    {
     "name": "stdout",
     "output_type": "stream",
     "text": [
      "Epoch 10 — Loss: 0.3636 — Time: 1508.14s\n"
     ]
    },
    {
     "name": "stderr",
     "output_type": "stream",
     "text": [
      "Training: 100%|██████████| 1772/1772 [25:28<00:00,  1.16batch/s]\n"
     ]
    },
    {
     "name": "stdout",
     "output_type": "stream",
     "text": [
      "Epoch 11 — Loss: 0.3517 — Time: 1528.22s\n"
     ]
    },
    {
     "name": "stderr",
     "output_type": "stream",
     "text": [
      "Training: 100%|██████████| 1772/1772 [27:34<00:00,  1.07batch/s]\n"
     ]
    },
    {
     "name": "stdout",
     "output_type": "stream",
     "text": [
      "Epoch 12 — Loss: 0.3397 — Time: 1654.02s\n"
     ]
    },
    {
     "name": "stderr",
     "output_type": "stream",
     "text": [
      "Training: 100%|██████████| 1772/1772 [27:29<00:00,  1.07batch/s]\n"
     ]
    },
    {
     "name": "stdout",
     "output_type": "stream",
     "text": [
      "Epoch 13 — Loss: 0.3298 — Time: 1649.45s\n"
     ]
    },
    {
     "name": "stderr",
     "output_type": "stream",
     "text": [
      "Training: 100%|██████████| 1772/1772 [26:55<00:00,  1.10batch/s]\n"
     ]
    },
    {
     "name": "stdout",
     "output_type": "stream",
     "text": [
      "Epoch 14 — Loss: 0.3171 — Time: 1615.63s\n"
     ]
    },
    {
     "name": "stderr",
     "output_type": "stream",
     "text": [
      "Training: 100%|██████████| 1772/1772 [26:55<00:00,  1.10batch/s]\n"
     ]
    },
    {
     "name": "stdout",
     "output_type": "stream",
     "text": [
      "Epoch 15 — Loss: 0.3084 — Time: 1615.31s\n"
     ]
    },
    {
     "name": "stderr",
     "output_type": "stream",
     "text": [
      "Training: 100%|██████████| 1772/1772 [27:16<00:00,  1.08batch/s]\n"
     ]
    },
    {
     "name": "stdout",
     "output_type": "stream",
     "text": [
      "Epoch 16 — Loss: 0.2923 — Time: 1636.11s\n"
     ]
    },
    {
     "name": "stderr",
     "output_type": "stream",
     "text": [
      "Training: 100%|██████████| 1772/1772 [18:43<00:00,  1.58batch/s]\n"
     ]
    },
    {
     "name": "stdout",
     "output_type": "stream",
     "text": [
      "Epoch 17 — Loss: 0.2866 — Time: 1123.42s\n"
     ]
    },
    {
     "name": "stderr",
     "output_type": "stream",
     "text": [
      "Training: 100%|██████████| 1772/1772 [27:24<00:00,  1.08batch/s]\n"
     ]
    },
    {
     "name": "stdout",
     "output_type": "stream",
     "text": [
      "Epoch 18 — Loss: 0.2724 — Time: 1644.03s\n"
     ]
    },
    {
     "name": "stderr",
     "output_type": "stream",
     "text": [
      "Training: 100%|██████████| 1772/1772 [17:57<00:00,  1.64batch/s]\n"
     ]
    },
    {
     "name": "stdout",
     "output_type": "stream",
     "text": [
      "Epoch 19 — Loss: 0.2671 — Time: 1077.25s\n"
     ]
    },
    {
     "name": "stderr",
     "output_type": "stream",
     "text": [
      "Training: 100%|██████████| 1772/1772 [26:37<00:00,  1.11batch/s]\n"
     ]
    },
    {
     "name": "stdout",
     "output_type": "stream",
     "text": [
      "Epoch 20 — Loss: 0.2561 — Time: 1597.09s\n"
     ]
    },
    {
     "name": "stderr",
     "output_type": "stream",
     "text": [
      "Training: 100%|██████████| 1772/1772 [27:26<00:00,  1.08batch/s]\n"
     ]
    },
    {
     "name": "stdout",
     "output_type": "stream",
     "text": [
      "Epoch 21 — Loss: 0.2480 — Time: 1646.88s\n"
     ]
    },
    {
     "name": "stderr",
     "output_type": "stream",
     "text": [
      "Training: 100%|██████████| 1772/1772 [26:43<00:00,  1.10batch/s]\n"
     ]
    },
    {
     "name": "stdout",
     "output_type": "stream",
     "text": [
      "Epoch 22 — Loss: 0.2402 — Time: 1603.83s\n"
     ]
    },
    {
     "name": "stderr",
     "output_type": "stream",
     "text": [
      "Training: 100%|██████████| 1772/1772 [25:46<00:00,  1.15batch/s]\n"
     ]
    },
    {
     "name": "stdout",
     "output_type": "stream",
     "text": [
      "Epoch 23 — Loss: 0.2289 — Time: 1546.45s\n"
     ]
    },
    {
     "name": "stderr",
     "output_type": "stream",
     "text": [
      "Training: 100%|██████████| 1772/1772 [25:42<00:00,  1.15batch/s]\n"
     ]
    },
    {
     "name": "stdout",
     "output_type": "stream",
     "text": [
      "Epoch 24 — Loss: 0.2258 — Time: 1542.89s\n"
     ]
    },
    {
     "name": "stderr",
     "output_type": "stream",
     "text": [
      "Training: 100%|██████████| 1772/1772 [17:10<00:00,  1.72batch/s]\n"
     ]
    },
    {
     "name": "stdout",
     "output_type": "stream",
     "text": [
      "Epoch 25 — Loss: 0.2152 — Time: 1030.72s\n"
     ]
    },
    {
     "name": "stderr",
     "output_type": "stream",
     "text": [
      "Training: 100%|██████████| 1772/1772 [27:02<00:00,  1.09batch/s]\n"
     ]
    },
    {
     "name": "stdout",
     "output_type": "stream",
     "text": [
      "Epoch 26 — Loss: 0.2091 — Time: 1622.03s\n"
     ]
    },
    {
     "name": "stderr",
     "output_type": "stream",
     "text": [
      "Training: 100%|██████████| 1772/1772 [18:37<00:00,  1.59batch/s]\n"
     ]
    },
    {
     "name": "stdout",
     "output_type": "stream",
     "text": [
      "Epoch 27 — Loss: 0.2046 — Time: 1117.47s\n"
     ]
    },
    {
     "name": "stderr",
     "output_type": "stream",
     "text": [
      "Training: 100%|██████████| 1772/1772 [24:45<00:00,  1.19batch/s]\n"
     ]
    },
    {
     "name": "stdout",
     "output_type": "stream",
     "text": [
      "Epoch 28 — Loss: 0.1949 — Time: 1485.63s\n"
     ]
    },
    {
     "name": "stderr",
     "output_type": "stream",
     "text": [
      "Training: 100%|██████████| 1772/1772 [22:19<00:00,  1.32batch/s]\n"
     ]
    },
    {
     "name": "stdout",
     "output_type": "stream",
     "text": [
      "Epoch 29 — Loss: 0.1915 — Time: 1339.39s\n"
     ]
    },
    {
     "name": "stderr",
     "output_type": "stream",
     "text": [
      "Training: 100%|██████████| 1772/1772 [15:59<00:00,  1.85batch/s]\n"
     ]
    },
    {
     "name": "stdout",
     "output_type": "stream",
     "text": [
      "Epoch 30 — Loss: 0.1853 — Time: 959.70s\n"
     ]
    },
    {
     "name": "stderr",
     "output_type": "stream",
     "text": [
      "Training: 100%|██████████| 1772/1772 [14:14<00:00,  2.07batch/s]\n"
     ]
    },
    {
     "name": "stdout",
     "output_type": "stream",
     "text": [
      "Epoch 31 — Loss: 0.1812 — Time: 854.64s\n"
     ]
    },
    {
     "name": "stderr",
     "output_type": "stream",
     "text": [
      "Training: 100%|██████████| 1772/1772 [20:24<00:00,  1.45batch/s]\n"
     ]
    },
    {
     "name": "stdout",
     "output_type": "stream",
     "text": [
      "Epoch 32 — Loss: 0.1768 — Time: 1224.42s\n"
     ]
    },
    {
     "name": "stderr",
     "output_type": "stream",
     "text": [
      "Training: 100%|██████████| 1772/1772 [23:43<00:00,  1.24batch/s]\n"
     ]
    },
    {
     "name": "stdout",
     "output_type": "stream",
     "text": [
      "Epoch 33 — Loss: 0.1700 — Time: 1423.42s\n"
     ]
    },
    {
     "name": "stderr",
     "output_type": "stream",
     "text": [
      "Training: 100%|██████████| 1772/1772 [21:16<00:00,  1.39batch/s]\n"
     ]
    },
    {
     "name": "stdout",
     "output_type": "stream",
     "text": [
      "Epoch 34 — Loss: 0.1655 — Time: 1276.97s\n"
     ]
    },
    {
     "name": "stderr",
     "output_type": "stream",
     "text": [
      "Training: 100%|██████████| 1772/1772 [11:37<00:00,  2.54batch/s]\n"
     ]
    },
    {
     "name": "stdout",
     "output_type": "stream",
     "text": [
      "Epoch 35 — Loss: 0.1657 — Time: 697.81s\n",
      "No significant improvement — strike 1/3\n"
     ]
    },
    {
     "name": "stderr",
     "output_type": "stream",
     "text": [
      "Training: 100%|██████████| 1772/1772 [09:52<00:00,  2.99batch/s]\n"
     ]
    },
    {
     "name": "stdout",
     "output_type": "stream",
     "text": [
      "Epoch 36 — Loss: 0.1569 — Time: 592.29s\n"
     ]
    },
    {
     "name": "stderr",
     "output_type": "stream",
     "text": [
      "Training: 100%|██████████| 1772/1772 [13:29<00:00,  2.19batch/s]\n"
     ]
    },
    {
     "name": "stdout",
     "output_type": "stream",
     "text": [
      "Epoch 37 — Loss: 0.1528 — Time: 809.05s\n"
     ]
    },
    {
     "name": "stderr",
     "output_type": "stream",
     "text": [
      "Training: 100%|██████████| 1772/1772 [16:54<00:00,  1.75batch/s]\n"
     ]
    },
    {
     "name": "stdout",
     "output_type": "stream",
     "text": [
      "Epoch 38 — Loss: 0.1556 — Time: 1014.66s\n",
      "No significant improvement — strike 1/3\n"
     ]
    },
    {
     "name": "stderr",
     "output_type": "stream",
     "text": [
      "Training: 100%|██████████| 1772/1772 [13:52<00:00,  2.13batch/s]\n"
     ]
    },
    {
     "name": "stdout",
     "output_type": "stream",
     "text": [
      "Epoch 39 — Loss: 0.1481 — Time: 832.96s\n"
     ]
    },
    {
     "name": "stderr",
     "output_type": "stream",
     "text": [
      "Training: 100%|██████████| 1772/1772 [18:49<00:00,  1.57batch/s]\n"
     ]
    },
    {
     "name": "stdout",
     "output_type": "stream",
     "text": [
      "Epoch 40 — Loss: 0.1454 — Time: 1129.24s\n"
     ]
    },
    {
     "name": "stderr",
     "output_type": "stream",
     "text": [
      "Training: 100%|██████████| 1772/1772 [04:07<00:00,  7.17batch/s]\n"
     ]
    },
    {
     "name": "stdout",
     "output_type": "stream",
     "text": [
      "Epoch 41 — Loss: 0.1415 — Time: 247.10s\n"
     ]
    },
    {
     "name": "stderr",
     "output_type": "stream",
     "text": [
      "Training: 100%|██████████| 1772/1772 [04:37<00:00,  6.39batch/s]\n"
     ]
    },
    {
     "name": "stdout",
     "output_type": "stream",
     "text": [
      "Epoch 42 — Loss: 0.1362 — Time: 277.35s\n"
     ]
    },
    {
     "name": "stderr",
     "output_type": "stream",
     "text": [
      "Training: 100%|██████████| 1772/1772 [04:52<00:00,  6.06batch/s]\n"
     ]
    },
    {
     "name": "stdout",
     "output_type": "stream",
     "text": [
      "Epoch 43 — Loss: 0.1343 — Time: 292.51s\n"
     ]
    },
    {
     "name": "stderr",
     "output_type": "stream",
     "text": [
      "Training: 100%|██████████| 1772/1772 [04:41<00:00,  6.29batch/s]\n"
     ]
    },
    {
     "name": "stdout",
     "output_type": "stream",
     "text": [
      "Epoch 44 — Loss: 0.1297 — Time: 281.90s\n"
     ]
    },
    {
     "name": "stderr",
     "output_type": "stream",
     "text": [
      "Training: 100%|██████████| 1772/1772 [06:10<00:00,  4.79batch/s]\n"
     ]
    },
    {
     "name": "stdout",
     "output_type": "stream",
     "text": [
      "Epoch 45 — Loss: 0.1290 — Time: 370.07s\n",
      "No significant improvement — strike 1/3\n"
     ]
    },
    {
     "name": "stderr",
     "output_type": "stream",
     "text": [
      "Training: 100%|██████████| 1772/1772 [11:55<00:00,  2.48batch/s]\n"
     ]
    },
    {
     "name": "stdout",
     "output_type": "stream",
     "text": [
      "Epoch 46 — Loss: 0.1245 — Time: 715.27s\n"
     ]
    },
    {
     "name": "stderr",
     "output_type": "stream",
     "text": [
      "Training: 100%|██████████| 1772/1772 [11:54<00:00,  2.48batch/s]\n"
     ]
    },
    {
     "name": "stdout",
     "output_type": "stream",
     "text": [
      "Epoch 47 — Loss: 0.1247 — Time: 714.49s\n",
      "No significant improvement — strike 1/3\n"
     ]
    },
    {
     "name": "stderr",
     "output_type": "stream",
     "text": [
      "Training: 100%|██████████| 1772/1772 [23:10<00:00,  1.27batch/s]\n"
     ]
    },
    {
     "name": "stdout",
     "output_type": "stream",
     "text": [
      "Epoch 48 — Loss: 0.1194 — Time: 1390.52s\n"
     ]
    },
    {
     "name": "stderr",
     "output_type": "stream",
     "text": [
      "Training: 100%|██████████| 1772/1772 [28:12<00:00,  1.05batch/s]\n"
     ]
    },
    {
     "name": "stdout",
     "output_type": "stream",
     "text": [
      "Epoch 49 — Loss: 0.1182 — Time: 1692.98s\n"
     ]
    },
    {
     "name": "stderr",
     "output_type": "stream",
     "text": [
      "Training: 100%|██████████| 1772/1772 [27:44<00:00,  1.06batch/s]\n"
     ]
    },
    {
     "name": "stdout",
     "output_type": "stream",
     "text": [
      "Epoch 50 — Loss: 0.1169 — Time: 1664.82s\n",
      "Validation Accuracy: 83.13%\n"
     ]
    }
   ],
   "source": [
    "# 1. Dataset\n",
    "dataset = SpectrogramDataset(csv_file=\"data/spectrogram_labels.csv\", data_dir=\"data/spectrograms\")\n",
    "dataset_aug = SpectrogramDataset(csv_file=\"data/spectrogram_labels_aug.csv\", data_dir=\"data/spectrograms_aug\")\n",
    "\n",
    "from torch.utils.data import ConcatDataset\n",
    "dataset_comb = ConcatDataset([dataset,dataset_aug])\n",
    "\n",
    "\n",
    "# 2. Model config and init\n",
    "config = {\n",
    "    'lr': 0.001,\n",
    "    'dropout': 0.3,\n",
    "    'fc_hidden': 128,\n",
    "    'conv1_out': 32,\n",
    "    'conv2_out': 16,\n",
    "    'conv3_out': 64,\n",
    "    'conv4_out': 64\n",
    "}\n",
    "\n",
    "\n",
    "\n",
    "model = SpeakerCountCNN_test(\n",
    "    conv1_out=config['conv1_out'],\n",
    "    conv2_out=config['conv2_out'],\n",
    "    conv3_out=config['conv3_out'],\n",
    "    conv4_out=config['conv4_out'],\n",
    "    fc_hidden=config['fc_hidden'],\n",
    "    dropout_prob=config['dropout'],\n",
    "    input_height=96,\n",
    "    input_width=64\n",
    ")\n",
    "\n",
    "\n",
    "\n",
    "# 3. Device setup\n",
    "device = torch.device(\"cuda\" if torch.cuda.is_available() else \"cpu\")\n",
    "model.to(device)\n",
    "\n",
    "\n",
    "\n",
    "# 4. DataLoaders\n",
    "\n",
    "# train_loader, val_loader = get_stratified_loaders(\n",
    "#     dataset, subset_frac=0.3, train_frac=0.8, batch_size=32, random_state=42\n",
    "# )\n",
    "\n",
    "\n",
    "train_loader, val_loader = get_loaders(dataset_comb)\n",
    "\n",
    "\n",
    "\n",
    "# 5. Loss and optimizer\n",
    "criterion = nn.CrossEntropyLoss()\n",
    "optimizer = optim.Adam(model.parameters(), lr=config['lr'])\n",
    "\n",
    "\n",
    "\n",
    "# 6. Training loop with early stopping\n",
    "# if loss doesn't improve for 3 epochs, stop training.\n",
    "loss_list = []\n",
    "strike_count = 0\n",
    "threshold = 0.001\n",
    "\n",
    "for epoch in range(50):\n",
    "    start_time = time()\n",
    "    avg_loss = train_one_epoch(model, train_loader, optimizer, criterion, device)\n",
    "    duration = time() - start_time\n",
    "    loss_list.append(avg_loss)\n",
    "\n",
    "    print(f\"Epoch {epoch+1} — Loss: {avg_loss:.4f} — Time: {duration:.2f}s\")\n",
    "\n",
    "    if epoch > 0:\n",
    "        if loss_list[epoch] < loss_list[epoch - 1] - threshold:\n",
    "            strike_count = 0  # Reset on improvement\n",
    "        else:\n",
    "            strike_count += 1\n",
    "            print(f\"No significant improvement — strike {strike_count}/3\")\n",
    "\n",
    "        if strike_count == 3:\n",
    "            print(\"Early stopping triggered after 3 consecutive low-improvement epochs.\")\n",
    "            break\n",
    "\n",
    "\n",
    "\n",
    "# 7. Final Validation (refactored to use helper)\n",
    "acc = validate(model, val_loader, device)\n",
    "print(f\"Validation Accuracy: {acc:.2%}\")\n",
    "\n",
    "\n",
    "\n",
    "# 8. Save model\n",
    "torch.save(model.state_dict(), 'SpeakerCountCNN_comb_v1.pt')"
   ]
  },
  {
   "cell_type": "code",
   "execution_count": null,
   "id": "9f86ef96",
   "metadata": {},
   "outputs": [
    {
     "name": "stderr",
     "output_type": "stream",
     "text": [
      "[I 2025-07-26 23:39:56,823] A new study created in memory with name: 0-2_Speaker_4layer_HPTune\n",
      "[I 2025-07-26 23:50:23,323] Trial 0 finished with value: 0.8416206261510129 and parameters: {'lr': 5e-05, 'dropout': 0.3, 'fc_hidden': 128, 'conv1_out': 16, 'conv2_out': 64, 'conv3_out': 128, 'conv4_out': 128}. Best is trial 0 with value: 0.8416206261510129.\n",
      "[I 2025-07-27 00:03:14,606] Trial 1 finished with value: 0.8402394106813996 and parameters: {'lr': 0.0001, 'dropout': 0.35, 'fc_hidden': 256, 'conv1_out': 16, 'conv2_out': 16, 'conv3_out': 64, 'conv4_out': 128}. Best is trial 0 with value: 0.8416206261510129.\n",
      "[I 2025-07-27 00:11:47,945] Trial 2 pruned. \n",
      "[I 2025-07-27 00:17:50,820] Trial 3 pruned. \n",
      "[I 2025-07-27 00:27:27,250] Trial 4 pruned. \n",
      "[I 2025-07-27 00:36:11,932] Trial 5 pruned. \n",
      "[I 2025-07-27 00:44:33,715] Trial 6 pruned. \n",
      "[I 2025-07-27 00:51:24,357] Trial 7 pruned. \n",
      "[I 2025-07-27 01:00:34,121] Trial 8 pruned. \n",
      "[I 2025-07-27 01:20:09,370] Trial 9 finished with value: 0.8480662983425414 and parameters: {'lr': 0.0001, 'dropout': 0.25, 'fc_hidden': 128, 'conv1_out': 32, 'conv2_out': 32, 'conv3_out': 128, 'conv4_out': 32}. Best is trial 9 with value: 0.8480662983425414.\n",
      "[I 2025-07-27 01:27:24,454] Trial 10 pruned. \n",
      "[I 2025-07-27 01:35:21,103] Trial 11 pruned. \n",
      "[I 2025-07-27 01:52:26,326] Trial 12 finished with value: 0.852670349907919 and parameters: {'lr': 0.0001, 'dropout': 0.3, 'fc_hidden': 128, 'conv1_out': 16, 'conv2_out': 32, 'conv3_out': 128, 'conv4_out': 64}. Best is trial 12 with value: 0.852670349907919.\n",
      "[I 2025-07-27 02:09:11,247] Trial 13 pruned. \n",
      "[I 2025-07-27 02:30:41,947] Trial 14 pruned. \n",
      "[I 2025-07-27 02:46:40,368] Trial 15 pruned. \n",
      "[I 2025-07-27 02:51:41,454] Trial 16 pruned. \n",
      "[I 2025-07-27 03:07:02,067] Trial 17 pruned. \n",
      "[I 2025-07-27 03:10:52,896] Trial 18 pruned. \n",
      "[I 2025-07-27 03:14:48,604] Trial 19 pruned. \n",
      "[I 2025-07-27 03:20:44,916] Trial 20 pruned. \n",
      "[I 2025-07-27 03:34:58,169] Trial 21 pruned. \n",
      "[I 2025-07-27 03:38:54,652] Trial 22 pruned. \n",
      "[I 2025-07-27 03:43:01,700] Trial 23 pruned. \n",
      "[I 2025-07-27 03:53:59,631] Trial 24 pruned. \n",
      "[I 2025-07-27 04:07:57,866] Trial 25 pruned. \n",
      "[I 2025-07-27 04:15:36,302] Trial 26 finished with value: 0.8517495395948435 and parameters: {'lr': 0.0001, 'dropout': 0.3, 'fc_hidden': 128, 'conv1_out': 16, 'conv2_out': 32, 'conv3_out': 64, 'conv4_out': 32}. Best is trial 12 with value: 0.852670349907919.\n",
      "[I 2025-07-27 04:20:06,729] Trial 27 pruned. \n",
      "[I 2025-07-27 04:23:43,510] Trial 28 pruned. \n",
      "[I 2025-07-27 04:26:21,907] Trial 29 pruned. \n",
      "[I 2025-07-27 04:28:58,808] Trial 30 pruned. \n",
      "[I 2025-07-27 04:38:06,841] Trial 31 pruned. \n",
      "[I 2025-07-27 04:40:43,673] Trial 32 pruned. \n",
      "[I 2025-07-27 04:52:23,804] Trial 33 pruned. \n",
      "[I 2025-07-27 04:56:21,003] Trial 34 pruned. \n",
      "[I 2025-07-27 05:03:52,508] Trial 35 finished with value: 0.8480662983425414 and parameters: {'lr': 0.0001, 'dropout': 0.35, 'fc_hidden': 256, 'conv1_out': 16, 'conv2_out': 32, 'conv3_out': 64, 'conv4_out': 128}. Best is trial 12 with value: 0.852670349907919.\n",
      "[I 2025-07-27 05:06:38,072] Trial 36 pruned. \n",
      "[I 2025-07-27 05:19:55,822] Trial 37 finished with value: 0.8499079189686924 and parameters: {'lr': 0.0001, 'dropout': 0.35, 'fc_hidden': 256, 'conv1_out': 32, 'conv2_out': 32, 'conv3_out': 64, 'conv4_out': 128}. Best is trial 12 with value: 0.852670349907919.\n",
      "[I 2025-07-27 05:30:13,834] Trial 38 pruned. \n",
      "[I 2025-07-27 05:33:58,325] Trial 39 pruned. \n",
      "[I 2025-07-27 05:37:25,920] Trial 40 pruned. \n",
      "[I 2025-07-27 05:50:44,646] Trial 41 pruned. \n",
      "[I 2025-07-27 05:54:46,752] Trial 42 pruned. \n",
      "[I 2025-07-27 06:07:55,051] Trial 43 pruned. \n",
      "[I 2025-07-27 06:12:00,125] Trial 44 pruned. \n",
      "[I 2025-07-27 06:15:01,675] Trial 45 pruned. \n",
      "[I 2025-07-27 06:18:53,027] Trial 46 pruned. \n",
      "[I 2025-07-27 06:25:22,852] Trial 47 pruned. \n",
      "[I 2025-07-27 06:29:27,110] Trial 48 pruned. \n",
      "[I 2025-07-27 06:35:29,922] Trial 49 pruned. \n",
      "[I 2025-07-27 06:39:05,458] Trial 50 pruned. \n",
      "[I 2025-07-27 06:53:05,120] Trial 51 finished with value: 0.848987108655617 and parameters: {'lr': 5e-05, 'dropout': 0.3, 'fc_hidden': 128, 'conv1_out': 16, 'conv2_out': 64, 'conv3_out': 128, 'conv4_out': 128}. Best is trial 12 with value: 0.852670349907919.\n",
      "[I 2025-07-27 06:57:29,004] Trial 52 pruned. \n",
      "[I 2025-07-27 07:04:29,569] Trial 53 pruned. \n",
      "[I 2025-07-27 07:13:34,383] Trial 54 pruned. \n",
      "[I 2025-07-27 07:27:36,063] Trial 55 finished with value: 0.85451197053407 and parameters: {'lr': 0.0005, 'dropout': 0.3, 'fc_hidden': 128, 'conv1_out': 16, 'conv2_out': 64, 'conv3_out': 128, 'conv4_out': 128}. Best is trial 55 with value: 0.85451197053407.\n",
      "[I 2025-07-27 07:34:10,944] Trial 56 pruned. \n",
      "[I 2025-07-27 07:38:39,423] Trial 57 pruned. \n",
      "[I 2025-07-27 07:44:22,657] Trial 58 pruned. \n",
      "[I 2025-07-27 07:57:42,331] Trial 59 pruned. \n",
      "[I 2025-07-27 08:03:43,574] Trial 60 pruned. \n",
      "[I 2025-07-27 08:06:27,192] Trial 61 pruned. \n",
      "[I 2025-07-27 08:10:32,677] Trial 62 pruned. \n",
      "[I 2025-07-27 08:12:32,042] Trial 63 pruned. \n",
      "[I 2025-07-27 08:14:03,263] Trial 64 pruned. \n",
      "[I 2025-07-27 08:16:20,740] Trial 65 pruned. \n",
      "[I 2025-07-27 08:20:52,714] Trial 66 pruned. \n",
      "[I 2025-07-27 08:22:13,247] Trial 67 pruned. \n",
      "[I 2025-07-27 08:24:20,756] Trial 68 pruned. \n",
      "[I 2025-07-27 08:26:15,374] Trial 69 pruned. \n",
      "[I 2025-07-27 08:28:30,088] Trial 70 pruned. \n",
      "[I 2025-07-27 08:32:14,801] Trial 71 pruned. \n",
      "[I 2025-07-27 08:46:17,977] Trial 72 pruned. \n",
      "[I 2025-07-27 09:07:06,788] Trial 73 pruned. \n",
      "[I 2025-07-27 09:13:09,484] Trial 74 pruned. \n",
      "[I 2025-07-27 09:15:04,875] Trial 75 pruned. \n",
      "[I 2025-07-27 09:19:48,952] Trial 76 pruned. \n",
      "[I 2025-07-27 09:25:43,228] Trial 77 pruned. \n",
      "[I 2025-07-27 09:30:37,380] Trial 78 pruned. \n",
      "[I 2025-07-27 09:38:56,750] Trial 79 pruned. \n",
      "[I 2025-07-27 09:44:33,090] Trial 80 pruned. \n",
      "[I 2025-07-27 09:47:57,244] Trial 81 pruned. \n",
      "[I 2025-07-27 09:56:32,215] Trial 82 pruned. \n",
      "[I 2025-07-27 10:01:48,819] Trial 83 pruned. \n",
      "[I 2025-07-27 10:05:03,412] Trial 84 pruned. \n",
      "[I 2025-07-27 10:07:59,515] Trial 85 pruned. \n",
      "[I 2025-07-27 10:10:53,430] Trial 86 pruned. \n",
      "[I 2025-07-27 10:18:37,243] Trial 87 pruned. \n",
      "[I 2025-07-27 10:23:48,007] Trial 88 pruned. \n",
      "[I 2025-07-27 10:38:07,866] Trial 89 pruned. \n",
      "[I 2025-07-27 10:41:54,388] Trial 90 pruned. \n",
      "[I 2025-07-27 10:48:03,014] Trial 91 pruned. \n",
      "[I 2025-07-27 10:55:43,765] Trial 92 pruned. \n",
      "[I 2025-07-27 10:58:40,873] Trial 93 pruned. \n",
      "[I 2025-07-27 11:00:30,738] Trial 94 pruned. \n",
      "[I 2025-07-27 11:01:52,660] Trial 95 pruned. \n",
      "[I 2025-07-27 11:03:56,290] Trial 96 pruned. \n",
      "[I 2025-07-27 11:06:26,218] Trial 97 pruned. \n",
      "[I 2025-07-27 11:19:34,501] Trial 98 pruned. \n",
      "[I 2025-07-27 11:24:07,659] Trial 99 pruned. \n"
     ]
    },
    {
     "name": "stdout",
     "output_type": "stream",
     "text": [
      "Best HPs: {'lr': 0.0005, 'dropout': 0.3, 'fc_hidden': 128, 'conv1_out': 16, 'conv2_out': 64, 'conv3_out': 128, 'conv4_out': 128}\n"
     ]
    }
   ],
   "source": [
    "import optuna\n",
    "\n",
    "# SH trial over 5 epochs\n",
    "def objective(trial):\n",
    "\n",
    "    cfg = {\n",
    "      'lr': trial.suggest_categorical('lr', [5e-5,1e-4,5e-4]),\n",
    "      'dropout': trial.suggest_categorical('dropout', [0.25,0.3,0.35]),\n",
    "      'fc_hidden': trial.suggest_categorical('fc_hidden',[64,128,256]),\n",
    "      'conv1_out': trial.suggest_categorical('conv1_out',[16,32]),\n",
    "      'conv2_out': trial.suggest_categorical('conv2_out',[16,32,64]),\n",
    "      'conv3_out': trial.suggest_categorical('conv3_out',[64,128]),\n",
    "      'conv4_out': trial.suggest_categorical('conv4_out',[32,64,128])\n",
    "    }\n",
    "\n",
    "    model = SpeakerCountCNN_test(\n",
    "        conv1_out=cfg['conv1_out'],\n",
    "        conv2_out=cfg['conv2_out'],\n",
    "        conv3_out=cfg['conv3_out'],\n",
    "        conv4_out=cfg['conv4_out'],\n",
    "        fc_hidden=cfg['fc_hidden'],\n",
    "        dropout_prob=cfg['dropout'],\n",
    "        input_height=96,\n",
    "        input_width=64\n",
    "    )\n",
    "\n",
    "    # Adam optim\n",
    "    opt   = optim.Adam(model.parameters(), lr=cfg['lr'])\n",
    "\n",
    "    # Cross entropy objective\n",
    "    crit  = nn.CrossEntropyLoss()\n",
    "\n",
    "    # Training and comparing to existing models\n",
    "    for epoch in range(5):\n",
    "        train_one_epoch(model, train_loader, opt, crit, device)\n",
    "        val_acc = validate(model, val_loader, device)\n",
    "        trial.report(val_acc, epoch)\n",
    "        if trial.should_prune():\n",
    "            raise optuna.exceptions.TrialPruned()\n",
    "    return val_acc\n",
    "\n",
    "\n",
    "# Creates a stratified subset, makes hp tuning quicker\n",
    "train_loader, val_loader = get_stratified_loaders(\n",
    "    dataset,\n",
    "    subset_frac=0.3,   \n",
    "    train_frac=0.8,    \n",
    "    batch_size=32,\n",
    "    random_state=42\n",
    ")\n",
    "\n",
    "device = torch.device('cuda' if torch.cuda.is_available() else 'cpu')\n",
    "\n",
    "study  = optuna.create_study(direction='maximize',\n",
    "            pruner=optuna.pruners.SuccessiveHalvingPruner(), study_name='0-5_Speaker_4layer_HPTune')\n",
    "\n",
    "study.optimize(objective, n_trials=100)\n",
    "\n",
    "best_cfg = study.best_trial.params\n",
    "print(\"Best HPs:\", best_cfg)"
   ]
  },
  {
   "cell_type": "code",
   "execution_count": 53,
   "id": "4b80348a",
   "metadata": {},
   "outputs": [
    {
     "data": {
      "text/plain": [
       "0.85451197053407"
      ]
     },
     "execution_count": 53,
     "metadata": {},
     "output_type": "execute_result"
    }
   ],
   "source": [
    "study.best_trial.value"
   ]
  },
  {
   "cell_type": "code",
   "execution_count": 55,
   "id": "0bb038d7",
   "metadata": {},
   "outputs": [
    {
     "name": "stderr",
     "output_type": "stream",
     "text": [
      "Training: 100%|██████████| 905/905 [11:16<00:00,  1.34batch/s]\n"
     ]
    },
    {
     "name": "stdout",
     "output_type": "stream",
     "text": [
      "Epoch 1 — Loss 0.5115 — 676.3s\n"
     ]
    },
    {
     "name": "stderr",
     "output_type": "stream",
     "text": [
      "Training: 100%|██████████| 905/905 [15:15<00:00,  1.01s/batch]\n"
     ]
    },
    {
     "name": "stdout",
     "output_type": "stream",
     "text": [
      "Epoch 2 — Loss 0.4429 — 915.4s\n"
     ]
    },
    {
     "name": "stderr",
     "output_type": "stream",
     "text": [
      "Training: 100%|██████████| 905/905 [15:19<00:00,  1.02s/batch]\n"
     ]
    },
    {
     "name": "stdout",
     "output_type": "stream",
     "text": [
      "Epoch 3 — Loss 0.4223 — 919.7s\n"
     ]
    },
    {
     "name": "stderr",
     "output_type": "stream",
     "text": [
      "Training: 100%|██████████| 905/905 [06:19<00:00,  2.38batch/s]\n"
     ]
    },
    {
     "name": "stdout",
     "output_type": "stream",
     "text": [
      "Epoch 4 — Loss 0.4012 — 379.5s\n"
     ]
    },
    {
     "name": "stderr",
     "output_type": "stream",
     "text": [
      "Training: 100%|██████████| 905/905 [06:21<00:00,  2.37batch/s]\n"
     ]
    },
    {
     "name": "stdout",
     "output_type": "stream",
     "text": [
      "Epoch 5 — Loss 0.3809 — 381.2s\n"
     ]
    },
    {
     "name": "stderr",
     "output_type": "stream",
     "text": [
      "Training: 100%|██████████| 905/905 [14:21<00:00,  1.05batch/s]\n"
     ]
    },
    {
     "name": "stdout",
     "output_type": "stream",
     "text": [
      "Epoch 6 — Loss 0.3653 — 861.7s\n"
     ]
    },
    {
     "name": "stderr",
     "output_type": "stream",
     "text": [
      "Training: 100%|██████████| 905/905 [14:11<00:00,  1.06batch/s]\n"
     ]
    },
    {
     "name": "stdout",
     "output_type": "stream",
     "text": [
      "Epoch 7 — Loss 0.3487 — 851.7s\n"
     ]
    },
    {
     "name": "stderr",
     "output_type": "stream",
     "text": [
      "Training: 100%|██████████| 905/905 [13:41<00:00,  1.10batch/s]\n"
     ]
    },
    {
     "name": "stdout",
     "output_type": "stream",
     "text": [
      "Epoch 8 — Loss 0.3398 — 821.1s\n"
     ]
    },
    {
     "name": "stderr",
     "output_type": "stream",
     "text": [
      "Training: 100%|██████████| 905/905 [13:37<00:00,  1.11batch/s]\n"
     ]
    },
    {
     "name": "stdout",
     "output_type": "stream",
     "text": [
      "Epoch 9 — Loss 0.3283 — 817.1s\n"
     ]
    },
    {
     "name": "stderr",
     "output_type": "stream",
     "text": [
      "Training: 100%|██████████| 905/905 [13:45<00:00,  1.10batch/s]\n"
     ]
    },
    {
     "name": "stdout",
     "output_type": "stream",
     "text": [
      "Epoch 10 — Loss 0.3116 — 825.6s\n"
     ]
    },
    {
     "name": "stderr",
     "output_type": "stream",
     "text": [
      "Training: 100%|██████████| 905/905 [13:42<00:00,  1.10batch/s]\n"
     ]
    },
    {
     "name": "stdout",
     "output_type": "stream",
     "text": [
      "Epoch 11 — Loss 0.2935 — 822.8s\n"
     ]
    },
    {
     "name": "stderr",
     "output_type": "stream",
     "text": [
      "Training: 100%|██████████| 905/905 [11:28<00:00,  1.31batch/s]\n"
     ]
    },
    {
     "name": "stdout",
     "output_type": "stream",
     "text": [
      "Epoch 12 — Loss 0.2754 — 688.4s\n"
     ]
    },
    {
     "name": "stderr",
     "output_type": "stream",
     "text": [
      "Training: 100%|██████████| 905/905 [13:58<00:00,  1.08batch/s]\n"
     ]
    },
    {
     "name": "stdout",
     "output_type": "stream",
     "text": [
      "Epoch 13 — Loss 0.2597 — 838.0s\n"
     ]
    },
    {
     "name": "stderr",
     "output_type": "stream",
     "text": [
      "Training: 100%|██████████| 905/905 [15:02<00:00,  1.00batch/s]\n"
     ]
    },
    {
     "name": "stdout",
     "output_type": "stream",
     "text": [
      "Epoch 14 — Loss 0.2468 — 902.3s\n"
     ]
    },
    {
     "name": "stderr",
     "output_type": "stream",
     "text": [
      "Training: 100%|██████████| 905/905 [10:18<00:00,  1.46batch/s]\n"
     ]
    },
    {
     "name": "stdout",
     "output_type": "stream",
     "text": [
      "Epoch 15 — Loss 0.2266 — 618.3s\n"
     ]
    },
    {
     "name": "stderr",
     "output_type": "stream",
     "text": [
      "Training: 100%|██████████| 905/905 [11:13<00:00,  1.34batch/s]\n"
     ]
    },
    {
     "name": "stdout",
     "output_type": "stream",
     "text": [
      "Epoch 16 — Loss 0.2156 — 673.1s\n"
     ]
    },
    {
     "name": "stderr",
     "output_type": "stream",
     "text": [
      "Training: 100%|██████████| 905/905 [12:39<00:00,  1.19batch/s]\n"
     ]
    },
    {
     "name": "stdout",
     "output_type": "stream",
     "text": [
      "Epoch 17 — Loss 0.1950 — 759.4s\n"
     ]
    },
    {
     "name": "stderr",
     "output_type": "stream",
     "text": [
      "Training: 100%|██████████| 905/905 [13:47<00:00,  1.09batch/s]\n"
     ]
    },
    {
     "name": "stdout",
     "output_type": "stream",
     "text": [
      "Epoch 18 — Loss 0.1812 — 827.7s\n"
     ]
    },
    {
     "name": "stderr",
     "output_type": "stream",
     "text": [
      "Training: 100%|██████████| 905/905 [14:04<00:00,  1.07batch/s]\n"
     ]
    },
    {
     "name": "stdout",
     "output_type": "stream",
     "text": [
      "Epoch 19 — Loss 0.1672 — 844.3s\n"
     ]
    },
    {
     "name": "stderr",
     "output_type": "stream",
     "text": [
      "Training: 100%|██████████| 905/905 [14:06<00:00,  1.07batch/s]\n"
     ]
    },
    {
     "name": "stdout",
     "output_type": "stream",
     "text": [
      "Epoch 20 — Loss 0.1563 — 846.7s\n"
     ]
    },
    {
     "name": "stderr",
     "output_type": "stream",
     "text": [
      "Training: 100%|██████████| 905/905 [06:37<00:00,  2.28batch/s]\n"
     ]
    },
    {
     "name": "stdout",
     "output_type": "stream",
     "text": [
      "Epoch 21 — Loss 0.1454 — 397.1s\n"
     ]
    },
    {
     "name": "stderr",
     "output_type": "stream",
     "text": [
      "Training: 100%|██████████| 905/905 [08:11<00:00,  1.84batch/s]\n"
     ]
    },
    {
     "name": "stdout",
     "output_type": "stream",
     "text": [
      "Epoch 22 — Loss 0.1349 — 491.2s\n"
     ]
    },
    {
     "name": "stderr",
     "output_type": "stream",
     "text": [
      "Training: 100%|██████████| 905/905 [15:07<00:00,  1.00s/batch]\n"
     ]
    },
    {
     "name": "stdout",
     "output_type": "stream",
     "text": [
      "Epoch 23 — Loss 0.1197 — 907.5s\n"
     ]
    },
    {
     "name": "stderr",
     "output_type": "stream",
     "text": [
      "Training: 100%|██████████| 905/905 [14:44<00:00,  1.02batch/s]\n"
     ]
    },
    {
     "name": "stdout",
     "output_type": "stream",
     "text": [
      "Epoch 24 — Loss 0.1152 — 885.0s\n"
     ]
    },
    {
     "name": "stderr",
     "output_type": "stream",
     "text": [
      "Training: 100%|██████████| 905/905 [06:43<00:00,  2.24batch/s]\n"
     ]
    },
    {
     "name": "stdout",
     "output_type": "stream",
     "text": [
      "Epoch 25 — Loss 0.1038 — 403.8s\n"
     ]
    },
    {
     "name": "stderr",
     "output_type": "stream",
     "text": [
      "Training: 100%|██████████| 905/905 [07:38<00:00,  1.97batch/s]\n"
     ]
    },
    {
     "name": "stdout",
     "output_type": "stream",
     "text": [
      "Epoch 26 — Loss 0.0995 — 458.4s\n"
     ]
    },
    {
     "name": "stderr",
     "output_type": "stream",
     "text": [
      "Training: 100%|██████████| 905/905 [15:18<00:00,  1.01s/batch]\n"
     ]
    },
    {
     "name": "stdout",
     "output_type": "stream",
     "text": [
      "Epoch 27 — Loss 0.0979 — 918.1s\n"
     ]
    },
    {
     "name": "stderr",
     "output_type": "stream",
     "text": [
      "Training: 100%|██████████| 905/905 [06:41<00:00,  2.26batch/s]\n"
     ]
    },
    {
     "name": "stdout",
     "output_type": "stream",
     "text": [
      "Epoch 28 — Loss 0.0872 — 401.2s\n"
     ]
    },
    {
     "name": "stderr",
     "output_type": "stream",
     "text": [
      "Training: 100%|██████████| 905/905 [06:38<00:00,  2.27batch/s]\n"
     ]
    },
    {
     "name": "stdout",
     "output_type": "stream",
     "text": [
      "Epoch 29 — Loss 0.0789 — 398.4s\n"
     ]
    },
    {
     "name": "stderr",
     "output_type": "stream",
     "text": [
      "Training: 100%|██████████| 905/905 [16:10<00:00,  1.07s/batch]\n"
     ]
    },
    {
     "name": "stdout",
     "output_type": "stream",
     "text": [
      "Epoch 30 — Loss 0.0765 — 970.5s\n"
     ]
    },
    {
     "name": "stderr",
     "output_type": "stream",
     "text": [
      "Training: 100%|██████████| 905/905 [15:58<00:00,  1.06s/batch]\n"
     ]
    },
    {
     "name": "stdout",
     "output_type": "stream",
     "text": [
      "Epoch 31 — Loss 0.0721 — 958.3s\n"
     ]
    },
    {
     "name": "stderr",
     "output_type": "stream",
     "text": [
      "Training: 100%|██████████| 905/905 [15:28<00:00,  1.03s/batch]\n"
     ]
    },
    {
     "name": "stdout",
     "output_type": "stream",
     "text": [
      "Epoch 32 — Loss 0.0672 — 928.6s\n"
     ]
    },
    {
     "name": "stderr",
     "output_type": "stream",
     "text": [
      "Training: 100%|██████████| 905/905 [15:19<00:00,  1.02s/batch]\n"
     ]
    },
    {
     "name": "stdout",
     "output_type": "stream",
     "text": [
      "Epoch 33 — Loss 0.0661 — 919.8s\n"
     ]
    },
    {
     "name": "stderr",
     "output_type": "stream",
     "text": [
      "Training: 100%|██████████| 905/905 [15:07<00:00,  1.00s/batch]\n"
     ]
    },
    {
     "name": "stdout",
     "output_type": "stream",
     "text": [
      "Epoch 34 — Loss 0.0616 — 907.7s\n"
     ]
    },
    {
     "name": "stderr",
     "output_type": "stream",
     "text": [
      "Training: 100%|██████████| 905/905 [15:15<00:00,  1.01s/batch]\n"
     ]
    },
    {
     "name": "stdout",
     "output_type": "stream",
     "text": [
      "Epoch 35 — Loss 0.0598 — 915.2s\n"
     ]
    },
    {
     "name": "stderr",
     "output_type": "stream",
     "text": [
      "Training: 100%|██████████| 905/905 [14:53<00:00,  1.01batch/s]\n"
     ]
    },
    {
     "name": "stdout",
     "output_type": "stream",
     "text": [
      "Epoch 36 — Loss 0.0575 — 893.2s\n"
     ]
    },
    {
     "name": "stderr",
     "output_type": "stream",
     "text": [
      "Training: 100%|██████████| 905/905 [15:00<00:00,  1.00batch/s]\n"
     ]
    },
    {
     "name": "stdout",
     "output_type": "stream",
     "text": [
      "Epoch 37 — Loss 0.0564 — 900.5s\n"
     ]
    },
    {
     "name": "stderr",
     "output_type": "stream",
     "text": [
      "Training: 100%|██████████| 905/905 [15:02<00:00,  1.00batch/s]\n"
     ]
    },
    {
     "name": "stdout",
     "output_type": "stream",
     "text": [
      "Epoch 38 — Loss 0.0607 — 902.9s\n"
     ]
    },
    {
     "name": "stderr",
     "output_type": "stream",
     "text": [
      "Training: 100%|██████████| 905/905 [15:10<00:00,  1.01s/batch]\n"
     ]
    },
    {
     "name": "stdout",
     "output_type": "stream",
     "text": [
      "Epoch 39 — Loss 0.0499 — 910.3s\n"
     ]
    },
    {
     "name": "stderr",
     "output_type": "stream",
     "text": [
      "Training: 100%|██████████| 905/905 [14:55<00:00,  1.01batch/s]\n"
     ]
    },
    {
     "name": "stdout",
     "output_type": "stream",
     "text": [
      "Epoch 40 — Loss 0.0511 — 895.0s\n"
     ]
    },
    {
     "name": "stderr",
     "output_type": "stream",
     "text": [
      "Training: 100%|██████████| 905/905 [15:06<00:00,  1.00s/batch]\n"
     ]
    },
    {
     "name": "stdout",
     "output_type": "stream",
     "text": [
      "Epoch 41 — Loss 0.0461 — 906.1s\n"
     ]
    },
    {
     "name": "stderr",
     "output_type": "stream",
     "text": [
      "Training: 100%|██████████| 905/905 [14:58<00:00,  1.01batch/s]\n"
     ]
    },
    {
     "name": "stdout",
     "output_type": "stream",
     "text": [
      "Epoch 42 — Loss 0.0457 — 898.2s\n"
     ]
    },
    {
     "name": "stderr",
     "output_type": "stream",
     "text": [
      "Training: 100%|██████████| 905/905 [15:04<00:00,  1.00batch/s]\n"
     ]
    },
    {
     "name": "stdout",
     "output_type": "stream",
     "text": [
      "Epoch 43 — Loss 0.0469 — 904.4s\n"
     ]
    },
    {
     "name": "stderr",
     "output_type": "stream",
     "text": [
      "Training: 100%|██████████| 905/905 [15:17<00:00,  1.01s/batch]\n"
     ]
    },
    {
     "name": "stdout",
     "output_type": "stream",
     "text": [
      "Epoch 44 — Loss 0.0442 — 917.7s\n"
     ]
    },
    {
     "name": "stderr",
     "output_type": "stream",
     "text": [
      "Training: 100%|██████████| 905/905 [15:10<00:00,  1.01s/batch]\n"
     ]
    },
    {
     "name": "stdout",
     "output_type": "stream",
     "text": [
      "Epoch 45 — Loss 0.0435 — 910.7s\n"
     ]
    },
    {
     "name": "stderr",
     "output_type": "stream",
     "text": [
      "Training: 100%|██████████| 905/905 [15:12<00:00,  1.01s/batch]\n"
     ]
    },
    {
     "name": "stdout",
     "output_type": "stream",
     "text": [
      "Epoch 46 — Loss 0.0383 — 912.4s\n"
     ]
    },
    {
     "name": "stderr",
     "output_type": "stream",
     "text": [
      "Training: 100%|██████████| 905/905 [15:00<00:00,  1.01batch/s]\n"
     ]
    },
    {
     "name": "stdout",
     "output_type": "stream",
     "text": [
      "Epoch 47 — Loss 0.0442 — 900.1s\n"
     ]
    },
    {
     "name": "stderr",
     "output_type": "stream",
     "text": [
      "Training: 100%|██████████| 905/905 [14:42<00:00,  1.02batch/s]\n"
     ]
    },
    {
     "name": "stdout",
     "output_type": "stream",
     "text": [
      "Epoch 48 — Loss 0.0406 — 883.0s\n"
     ]
    },
    {
     "name": "stderr",
     "output_type": "stream",
     "text": [
      "Training: 100%|██████████| 905/905 [14:58<00:00,  1.01batch/s]\n"
     ]
    },
    {
     "name": "stdout",
     "output_type": "stream",
     "text": [
      "Epoch 49 — Loss 0.0345 — 898.4s\n"
     ]
    },
    {
     "name": "stderr",
     "output_type": "stream",
     "text": [
      "Training: 100%|██████████| 905/905 [15:13<00:00,  1.01s/batch]\n"
     ]
    },
    {
     "name": "stdout",
     "output_type": "stream",
     "text": [
      "Epoch 50 — Loss 0.0416 — 913.7s\n",
      "Final val accuracy: 86.05%\n"
     ]
    }
   ],
   "source": [
    "# Model with config from Optuna study\n",
    "cfg = {'lr': 0.0005, 'dropout': 0.3, 'fc_hidden': 128, 'conv1_out': 16, 'conv2_out': 64, 'conv3_out': 128, 'conv4_out': 128}\n",
    "\n",
    "\n",
    "final_model = build_model(cfg, 96, 64).to(device)\n",
    "\n",
    "\n",
    "\n",
    "# Adam optimizer\n",
    "opt = optim.Adam(final_model.parameters(), lr=best_cfg['lr'])\n",
    "\n",
    "\n",
    "\n",
    "# Cross Entropy loss\n",
    "crit = nn.CrossEntropyLoss()\n",
    "\n",
    "\n",
    "\n",
    "# Loaders\n",
    "train_loader, val_loader = get_loaders(dataset)\n",
    "\n",
    "\n",
    "\n",
    "# Train\n",
    "num_epochs = 50\n",
    "for epoch in range(num_epochs):\n",
    "    t0 = time()\n",
    "    loss = train_one_epoch(final_model, train_loader, opt, crit, device)  # tqdm is inside this\n",
    "    dur = time() - t0\n",
    "    print(f\"Epoch {epoch+1} — Loss {loss:.4f} — {dur:.1f}s\")\n",
    "\n",
    "\n",
    "\n",
    "# Validate\n",
    "val_acc = validate(final_model, val_loader, device)\n",
    "print(f\"Final val accuracy: {val_acc:.2%}\")\n",
    "torch.save(final_model.state_dict(), r\"src/model/best_0-2_3layer.pt\")"
   ]
  },
  {
   "cell_type": "markdown",
   "id": "9a06f600",
   "metadata": {},
   "source": [
    "## repeating with large epochs (early stopping on val accuracy)"
   ]
  },
  {
   "cell_type": "markdown",
   "id": "eb8d620c",
   "metadata": {},
   "source": [
    "WTF"
   ]
  }
 ],
 "metadata": {
  "kernelspec": {
   "display_name": ".venv",
   "language": "python",
   "name": "python3"
  },
  "language_info": {
   "codemirror_mode": {
    "name": "ipython",
    "version": 3
   },
   "file_extension": ".py",
   "mimetype": "text/x-python",
   "name": "python",
   "nbconvert_exporter": "python",
   "pygments_lexer": "ipython3",
   "version": "3.9.13"
  }
 },
 "nbformat": 4,
 "nbformat_minor": 5
}
