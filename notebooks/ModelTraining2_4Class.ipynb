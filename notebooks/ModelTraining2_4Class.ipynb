{
 "cells": [
  {
   "cell_type": "markdown",
   "id": "1e29a662",
   "metadata": {},
   "source": [
    "## A post-VAD Speaker Counter"
   ]
  },
  {
   "cell_type": "code",
   "execution_count": null,
   "id": "c9f45df7",
   "metadata": {},
   "outputs": [],
   "source": [
    "import os\n",
    "import random\n",
    "\n",
    "\n",
    "import pandas as pd\n",
    "import numpy as np\n",
    "\n",
    "\n",
    "import torch\n",
    "import torch.nn as nn\n",
    "from torch.utils.data import Dataset\n",
    "import torch.nn.functional as F\n",
    "import torchaudio.transforms as T\n",
    "from torch.utils.data import DataLoader, random_split\n",
    "import torch.optim as optim\n",
    "from torchvision import transforms\n",
    "from sklearn.model_selection import train_test_split\n",
    "from torch.utils.data import Subset, DataLoader\n",
    "\n",
    "\n",
    "from time import time\n",
    "from tqdm import tqdm\n",
    "\n",
    "\n",
    "from src import model as m                  # Config\n",
    "from src.data import SpectrogramDataset     # Torch dataset object creator\n",
    "from src.utils.helpers import *             # Helpers to build, train and evaluate the model. See `src/utils/helpers.py`\n",
    "\n",
    "\n",
    "import random\n",
    "import numpy as np\n",
    "import torch\n",
    "\n",
    "\n",
    "set_seed()"
   ]
  },
  {
   "cell_type": "code",
   "execution_count": 2,
   "id": "adf95d2e",
   "metadata": {},
   "outputs": [],
   "source": [
    "_df = pd.read_csv(r\"data\\labels\\final_labels.csv\")\n",
    "_df.drop(_df[_df['speaker_count'] == '0'].index, inplace=True)    # Filter out noise/0-speaker samples\n",
    "_df.to_csv(r\"data\\labels\\final_labels_no_noise.csv\", index=False) \n",
    "dataset = SpectrogramDataset(csv_file=r\"data\\labels\\final_labels_no_noise.csv\"); "
   ]
  },
  {
   "cell_type": "code",
   "execution_count": null,
   "id": "ea84b3d5",
   "metadata": {},
   "outputs": [
    {
     "name": "stderr",
     "output_type": "stream",
     "text": [
      "Training: 100%|██████████| 2614/2614 [28:47<00:00,  1.51batch/s]\n"
     ]
    },
    {
     "name": "stdout",
     "output_type": "stream",
     "text": [
      "Epoch 1 — Loss: 0.8262 — Time: 1727.05s\n",
      "Per-class training loss (avg per-sample) and counts:\n",
      "  Class 0: no samples\n",
      "  Class 1: loss=0.1529 (n=23413)\n",
      "  Class 2: loss=1.2999 (n=20105)\n",
      "  Class 3: loss=1.0090 (n=20175)\n",
      "  Class 4: loss=0.9539 (n=19955)\n",
      "------------------------------------------------------------\n"
     ]
    },
    {
     "name": "stderr",
     "output_type": "stream",
     "text": [
      "Training: 100%|██████████| 2614/2614 [36:03<00:00,  1.21batch/s]\n"
     ]
    },
    {
     "name": "stdout",
     "output_type": "stream",
     "text": [
      "Epoch 2 — Loss: 0.7765 — Time: 2163.95s\n",
      "Per-class training loss (avg per-sample) and counts:\n",
      "  Class 0: no samples\n",
      "  Class 1: loss=0.1264 (n=23413)\n",
      "  Class 2: loss=1.1976 (n=20105)\n",
      "  Class 3: loss=0.9822 (n=20175)\n",
      "  Class 4: loss=0.9068 (n=19955)\n",
      "------------------------------------------------------------\n"
     ]
    },
    {
     "name": "stderr",
     "output_type": "stream",
     "text": [
      "Training: 100%|██████████| 2614/2614 [37:11<00:00,  1.17batch/s]\n"
     ]
    },
    {
     "name": "stdout",
     "output_type": "stream",
     "text": [
      "Epoch 3 — Loss: 0.7575 — Time: 2231.72s\n",
      "Per-class training loss (avg per-sample) and counts:\n",
      "  Class 0: no samples\n",
      "  Class 1: loss=0.1150 (n=23413)\n",
      "  Class 2: loss=1.1641 (n=20105)\n",
      "  Class 3: loss=0.9678 (n=20175)\n",
      "  Class 4: loss=0.8891 (n=19955)\n",
      "------------------------------------------------------------\n"
     ]
    },
    {
     "name": "stderr",
     "output_type": "stream",
     "text": [
      "Training: 100%|██████████| 2614/2614 [30:17<00:00,  1.44batch/s]\n"
     ]
    },
    {
     "name": "stdout",
     "output_type": "stream",
     "text": [
      "Epoch 4 — Loss: 0.7446 — Time: 1817.72s\n",
      "Per-class training loss (avg per-sample) and counts:\n",
      "  Class 0: no samples\n",
      "  Class 1: loss=0.1076 (n=23413)\n",
      "  Class 2: loss=1.1371 (n=20105)\n",
      "  Class 3: loss=0.9618 (n=20175)\n",
      "  Class 4: loss=0.8769 (n=19955)\n",
      "------------------------------------------------------------\n"
     ]
    },
    {
     "name": "stderr",
     "output_type": "stream",
     "text": [
      "Training: 100%|██████████| 2614/2614 [34:11<00:00,  1.27batch/s]\n"
     ]
    },
    {
     "name": "stdout",
     "output_type": "stream",
     "text": [
      "Epoch 5 — Loss: 0.7379 — Time: 2051.43s\n",
      "Per-class training loss (avg per-sample) and counts:\n",
      "  Class 0: no samples\n",
      "  Class 1: loss=0.1033 (n=23413)\n",
      "  Class 2: loss=1.1252 (n=20105)\n",
      "  Class 3: loss=0.9569 (n=20175)\n",
      "  Class 4: loss=0.8709 (n=19955)\n",
      "------------------------------------------------------------\n"
     ]
    },
    {
     "name": "stderr",
     "output_type": "stream",
     "text": [
      "Training: 100%|██████████| 2614/2614 [35:03<00:00,  1.24batch/s]\n"
     ]
    },
    {
     "name": "stdout",
     "output_type": "stream",
     "text": [
      "Epoch 6 — Loss: 0.7307 — Time: 2103.60s\n",
      "Per-class training loss (avg per-sample) and counts:\n",
      "  Class 0: no samples\n",
      "  Class 1: loss=0.0992 (n=23413)\n",
      "  Class 2: loss=1.1104 (n=20105)\n",
      "  Class 3: loss=0.9522 (n=20175)\n",
      "  Class 4: loss=0.8653 (n=19955)\n",
      "------------------------------------------------------------\n"
     ]
    },
    {
     "name": "stderr",
     "output_type": "stream",
     "text": [
      "Training: 100%|██████████| 2614/2614 [36:26<00:00,  1.20batch/s]\n"
     ]
    },
    {
     "name": "stdout",
     "output_type": "stream",
     "text": [
      "Epoch 7 — Loss: 0.7245 — Time: 2186.30s\n",
      "Per-class training loss (avg per-sample) and counts:\n",
      "  Class 0: no samples\n",
      "  Class 1: loss=0.0945 (n=23413)\n",
      "  Class 2: loss=1.0974 (n=20105)\n",
      "  Class 3: loss=0.9478 (n=20175)\n",
      "  Class 4: loss=0.8623 (n=19955)\n",
      "------------------------------------------------------------\n"
     ]
    },
    {
     "name": "stderr",
     "output_type": "stream",
     "text": [
      "Training: 100%|██████████| 2614/2614 [35:22<00:00,  1.23batch/s]\n"
     ]
    },
    {
     "name": "stdout",
     "output_type": "stream",
     "text": [
      "Epoch 8 — Loss: 0.7196 — Time: 2122.83s\n",
      "Per-class training loss (avg per-sample) and counts:\n",
      "  Class 0: no samples\n",
      "  Class 1: loss=0.0920 (n=23413)\n",
      "  Class 2: loss=1.0868 (n=20105)\n",
      "  Class 3: loss=0.9450 (n=20175)\n",
      "  Class 4: loss=0.8583 (n=19955)\n",
      "------------------------------------------------------------\n"
     ]
    },
    {
     "name": "stderr",
     "output_type": "stream",
     "text": [
      "Training: 100%|██████████| 2614/2614 [33:06<00:00,  1.32batch/s]\n"
     ]
    },
    {
     "name": "stdout",
     "output_type": "stream",
     "text": [
      "Epoch 9 — Loss: 0.7145 — Time: 1986.23s\n",
      "Per-class training loss (avg per-sample) and counts:\n",
      "  Class 0: no samples\n",
      "  Class 1: loss=0.0889 (n=23413)\n",
      "  Class 2: loss=1.0730 (n=20105)\n",
      "  Class 3: loss=0.9419 (n=20175)\n",
      "  Class 4: loss=0.8575 (n=19955)\n",
      "------------------------------------------------------------\n"
     ]
    },
    {
     "name": "stderr",
     "output_type": "stream",
     "text": [
      "Training: 100%|██████████| 2614/2614 [35:23<00:00,  1.23batch/s]\n"
     ]
    },
    {
     "name": "stdout",
     "output_type": "stream",
     "text": [
      "Epoch 10 — Loss: 0.7089 — Time: 2123.15s\n",
      "Per-class training loss (avg per-sample) and counts:\n",
      "  Class 0: no samples\n",
      "  Class 1: loss=0.0837 (n=23413)\n",
      "  Class 2: loss=1.0647 (n=20105)\n",
      "  Class 3: loss=0.9368 (n=20175)\n",
      "  Class 4: loss=0.8536 (n=19955)\n",
      "------------------------------------------------------------\n"
     ]
    },
    {
     "name": "stderr",
     "output_type": "stream",
     "text": [
      "Training: 100%|██████████| 2614/2614 [28:02<00:00,  1.55batch/s]\n"
     ]
    },
    {
     "name": "stdout",
     "output_type": "stream",
     "text": [
      "Epoch 11 — Loss: 0.7030 — Time: 1682.80s\n",
      "Per-class training loss (avg per-sample) and counts:\n",
      "  Class 0: no samples\n",
      "  Class 1: loss=0.0813 (n=23413)\n",
      "  Class 2: loss=1.0518 (n=20105)\n",
      "  Class 3: loss=0.9367 (n=20175)\n",
      "  Class 4: loss=0.8447 (n=19955)\n",
      "------------------------------------------------------------\n"
     ]
    },
    {
     "name": "stderr",
     "output_type": "stream",
     "text": [
      "Training: 100%|██████████| 2614/2614 [35:51<00:00,  1.21batch/s]\n"
     ]
    },
    {
     "name": "stdout",
     "output_type": "stream",
     "text": [
      "Epoch 12 — Loss: 0.6990 — Time: 2151.70s\n",
      "Per-class training loss (avg per-sample) and counts:\n",
      "  Class 0: no samples\n",
      "  Class 1: loss=0.0781 (n=23413)\n",
      "  Class 2: loss=1.0415 (n=20105)\n",
      "  Class 3: loss=0.9339 (n=20175)\n",
      "  Class 4: loss=0.8447 (n=19955)\n",
      "------------------------------------------------------------\n"
     ]
    },
    {
     "name": "stderr",
     "output_type": "stream",
     "text": [
      "Training: 100%|██████████| 2614/2614 [34:54<00:00,  1.25batch/s]\n"
     ]
    },
    {
     "name": "stdout",
     "output_type": "stream",
     "text": [
      "Epoch 13 — Loss: 0.6942 — Time: 2094.58s\n",
      "Per-class training loss (avg per-sample) and counts:\n",
      "  Class 0: no samples\n",
      "  Class 1: loss=0.0780 (n=23413)\n",
      "  Class 2: loss=1.0335 (n=20105)\n",
      "  Class 3: loss=0.9263 (n=20175)\n",
      "  Class 4: loss=0.8407 (n=19955)\n",
      "------------------------------------------------------------\n"
     ]
    },
    {
     "name": "stderr",
     "output_type": "stream",
     "text": [
      "Training: 100%|██████████| 2614/2614 [35:22<00:00,  1.23batch/s]\n"
     ]
    },
    {
     "name": "stdout",
     "output_type": "stream",
     "text": [
      "Epoch 14 — Loss: 0.6883 — Time: 2122.33s\n",
      "Per-class training loss (avg per-sample) and counts:\n",
      "  Class 0: no samples\n",
      "  Class 1: loss=0.0733 (n=23413)\n",
      "  Class 2: loss=1.0227 (n=20105)\n",
      "  Class 3: loss=0.9236 (n=20175)\n",
      "  Class 4: loss=0.8350 (n=19955)\n",
      "------------------------------------------------------------\n"
     ]
    },
    {
     "name": "stderr",
     "output_type": "stream",
     "text": [
      "Training: 100%|██████████| 2614/2614 [34:09<00:00,  1.28batch/s]\n"
     ]
    },
    {
     "name": "stdout",
     "output_type": "stream",
     "text": [
      "Epoch 15 — Loss: 0.6841 — Time: 2049.65s\n",
      "Per-class training loss (avg per-sample) and counts:\n",
      "  Class 0: no samples\n",
      "  Class 1: loss=0.0715 (n=23413)\n",
      "  Class 2: loss=1.0117 (n=20105)\n",
      "  Class 3: loss=0.9207 (n=20175)\n",
      "  Class 4: loss=0.8338 (n=19955)\n",
      "------------------------------------------------------------\n"
     ]
    },
    {
     "name": "stderr",
     "output_type": "stream",
     "text": [
      "Training: 100%|██████████| 2614/2614 [34:44<00:00,  1.25batch/s]\n"
     ]
    },
    {
     "name": "stdout",
     "output_type": "stream",
     "text": [
      "Epoch 16 — Loss: 0.6809 — Time: 2084.56s\n",
      "Per-class training loss (avg per-sample) and counts:\n",
      "  Class 0: no samples\n",
      "  Class 1: loss=0.0689 (n=23413)\n",
      "  Class 2: loss=1.0047 (n=20105)\n",
      "  Class 3: loss=0.9196 (n=20175)\n",
      "  Class 4: loss=0.8313 (n=19955)\n",
      "------------------------------------------------------------\n"
     ]
    },
    {
     "name": "stderr",
     "output_type": "stream",
     "text": [
      "Training: 100%|██████████| 2614/2614 [35:10<00:00,  1.24batch/s]\n"
     ]
    },
    {
     "name": "stdout",
     "output_type": "stream",
     "text": [
      "Epoch 17 — Loss: 0.6772 — Time: 2110.32s\n",
      "Per-class training loss (avg per-sample) and counts:\n",
      "  Class 0: no samples\n",
      "  Class 1: loss=0.0662 (n=23413)\n",
      "  Class 2: loss=0.9973 (n=20105)\n",
      "  Class 3: loss=0.9187 (n=20175)\n",
      "  Class 4: loss=0.8276 (n=19955)\n",
      "------------------------------------------------------------\n"
     ]
    },
    {
     "name": "stderr",
     "output_type": "stream",
     "text": [
      "Training: 100%|██████████| 2614/2614 [34:39<00:00,  1.26batch/s]\n"
     ]
    },
    {
     "name": "stdout",
     "output_type": "stream",
     "text": [
      "Epoch 18 — Loss: 0.6729 — Time: 2079.82s\n",
      "Per-class training loss (avg per-sample) and counts:\n",
      "  Class 0: no samples\n",
      "  Class 1: loss=0.0642 (n=23413)\n",
      "  Class 2: loss=0.9926 (n=20105)\n",
      "  Class 3: loss=0.9100 (n=20175)\n",
      "  Class 4: loss=0.8250 (n=19955)\n",
      "------------------------------------------------------------\n"
     ]
    },
    {
     "name": "stderr",
     "output_type": "stream",
     "text": [
      "Training: 100%|██████████| 2614/2614 [30:43<00:00,  1.42batch/s]\n"
     ]
    },
    {
     "name": "stdout",
     "output_type": "stream",
     "text": [
      "Epoch 19 — Loss: 0.6701 — Time: 1843.73s\n",
      "Per-class training loss (avg per-sample) and counts:\n",
      "  Class 0: no samples\n",
      "  Class 1: loss=0.0632 (n=23413)\n",
      "  Class 2: loss=0.9833 (n=20105)\n",
      "  Class 3: loss=0.9114 (n=20175)\n",
      "  Class 4: loss=0.8226 (n=19955)\n",
      "------------------------------------------------------------\n"
     ]
    },
    {
     "name": "stderr",
     "output_type": "stream",
     "text": [
      "Training: 100%|██████████| 2614/2614 [23:13<00:00,  1.88batch/s]\n"
     ]
    },
    {
     "name": "stdout",
     "output_type": "stream",
     "text": [
      "Epoch 20 — Loss: 0.6655 — Time: 1393.17s\n",
      "Per-class training loss (avg per-sample) and counts:\n",
      "  Class 0: no samples\n",
      "  Class 1: loss=0.0603 (n=23413)\n",
      "  Class 2: loss=0.9744 (n=20105)\n",
      "  Class 3: loss=0.9092 (n=20175)\n",
      "  Class 4: loss=0.8180 (n=19955)\n",
      "------------------------------------------------------------\n"
     ]
    },
    {
     "name": "stderr",
     "output_type": "stream",
     "text": [
      "Training: 100%|██████████| 2614/2614 [35:50<00:00,  1.22batch/s]\n"
     ]
    },
    {
     "name": "stdout",
     "output_type": "stream",
     "text": [
      "Epoch 21 — Loss: 0.6620 — Time: 2150.54s\n",
      "Per-class training loss (avg per-sample) and counts:\n",
      "  Class 0: no samples\n",
      "  Class 1: loss=0.0575 (n=23413)\n",
      "  Class 2: loss=0.9718 (n=20105)\n",
      "  Class 3: loss=0.9046 (n=20175)\n",
      "  Class 4: loss=0.8136 (n=19955)\n",
      "------------------------------------------------------------\n"
     ]
    },
    {
     "name": "stderr",
     "output_type": "stream",
     "text": [
      "Training: 100%|██████████| 2614/2614 [34:49<00:00,  1.25batch/s]\n"
     ]
    },
    {
     "name": "stdout",
     "output_type": "stream",
     "text": [
      "Epoch 22 — Loss: 0.6591 — Time: 2089.86s\n",
      "Per-class training loss (avg per-sample) and counts:\n",
      "  Class 0: no samples\n",
      "  Class 1: loss=0.0573 (n=23413)\n",
      "  Class 2: loss=0.9629 (n=20105)\n",
      "  Class 3: loss=0.9026 (n=20175)\n",
      "  Class 4: loss=0.8128 (n=19955)\n",
      "------------------------------------------------------------\n"
     ]
    },
    {
     "name": "stderr",
     "output_type": "stream",
     "text": [
      "Training: 100%|██████████| 2614/2614 [32:56<00:00,  1.32batch/s]\n"
     ]
    },
    {
     "name": "stdout",
     "output_type": "stream",
     "text": [
      "Epoch 23 — Loss: 0.6548 — Time: 1976.72s\n",
      "Per-class training loss (avg per-sample) and counts:\n",
      "  Class 0: no samples\n",
      "  Class 1: loss=0.0554 (n=23413)\n",
      "  Class 2: loss=0.9540 (n=20105)\n",
      "  Class 3: loss=0.8991 (n=20175)\n",
      "  Class 4: loss=0.8094 (n=19955)\n",
      "------------------------------------------------------------\n"
     ]
    },
    {
     "name": "stderr",
     "output_type": "stream",
     "text": [
      "Training: 100%|██████████| 2614/2614 [32:37<00:00,  1.34batch/s]\n"
     ]
    },
    {
     "name": "stdout",
     "output_type": "stream",
     "text": [
      "Epoch 24 — Loss: 0.6526 — Time: 1957.12s\n",
      "Per-class training loss (avg per-sample) and counts:\n",
      "  Class 0: no samples\n",
      "  Class 1: loss=0.0531 (n=23413)\n",
      "  Class 2: loss=0.9506 (n=20105)\n",
      "  Class 3: loss=0.8981 (n=20175)\n",
      "  Class 4: loss=0.8073 (n=19955)\n",
      "------------------------------------------------------------\n"
     ]
    },
    {
     "name": "stderr",
     "output_type": "stream",
     "text": [
      "Training: 100%|██████████| 2614/2614 [30:03<00:00,  1.45batch/s]\n"
     ]
    },
    {
     "name": "stdout",
     "output_type": "stream",
     "text": [
      "Epoch 25 — Loss: 0.6499 — Time: 1803.71s\n",
      "Per-class training loss (avg per-sample) and counts:\n",
      "  Class 0: no samples\n",
      "  Class 1: loss=0.0518 (n=23413)\n",
      "  Class 2: loss=0.9418 (n=20105)\n",
      "  Class 3: loss=0.8987 (n=20175)\n",
      "  Class 4: loss=0.8060 (n=19955)\n",
      "------------------------------------------------------------\n",
      "Validation Accuracy: 61.43%\n"
     ]
    }
   ],
   "source": [
    "# 1. init ConvCount model\n",
    "model = build_model(m.config_postVAD, input_h=96, input_w=64)\n",
    "\n",
    "\n",
    "\n",
    "# 2. Device setup\n",
    "device = torch.device(\"cuda\" if torch.cuda.is_available() else \"cpu\")\n",
    "model.to(device)\n",
    "\n",
    "\n",
    "\n",
    "# 3. DataLoaders\n",
    "train_loader, val_loader = get_loaders(dataset)\n",
    "\n",
    "\n",
    "\n",
    "# 4. Loss and optimizer\n",
    "criterion = nn.CrossEntropyLoss()\n",
    "optimizer = optim.Adam(model.parameters(), lr=m.config['lr'])\n",
    "\n",
    "\n",
    "\n",
    "# 5. Training loop\n",
    "for epoch in range(25):\n",
    "    start_time = time()\n",
    "    avg_loss, per_class_loss, class_counts = train_one_epoch(model, train_loader, optimizer, criterion, device, per_class=True)\n",
    "    duration = time() - start_time\n",
    "\n",
    "    print(f\"Epoch {epoch+1} — Loss: {avg_loss:.4f} — Time: {duration:.2f}s\")\n",
    "\n",
    "    # Print per-class losses and sample counts seen this epoch\n",
    "    print(\"Per-class training loss (avg per-sample) and counts:\")\n",
    "    for cls in sorted(per_class_loss.keys()):\n",
    "        loss_val = per_class_loss[cls]\n",
    "        cnt = class_counts[cls]\n",
    "        if loss_val is None:\n",
    "            print(f\"  Class {cls}: no samples\")\n",
    "        else:\n",
    "            print(f\"  Class {cls}: loss={loss_val:.4f} (n={cnt})\")\n",
    "    print(\"-\" * 60)\n",
    "\n",
    "\n",
    "\n",
    "# 6. Final Validation \n",
    "acc = validate(model, val_loader, device)\n",
    "print(f\"Validation Accuracy: {acc:.2%}\")\n",
    "\n",
    "\n",
    "\n",
    "# 7. Save model\n",
    "torch.save(model.state_dict(), r'src/model/ConvCount_postVAD.pt')"
   ]
  },
  {
   "cell_type": "code",
   "execution_count": 5,
   "id": "3187dc48",
   "metadata": {},
   "outputs": [
    {
     "data": {
      "image/png": "[encoded data removed]",
      "text/plain": [
       "<Figure size 800x600 with 2 Axes>"
      ]
     },
     "metadata": {},
     "output_type": "display_data"
    },
    {
     "name": "stdout",
     "output_type": "stream",
     "text": [
      "\n",
      "Per-Class Accuracy:\n",
      "  Class 1: 0.989\n",
      "  Class 2: 0.503\n",
      "  Class 3: 0.384\n",
      "  Class 4: 0.510\n",
      "\n",
      "Precision / Recall / F1 Score per Class:\n",
      "  Class 1: Precision=0.919, Recall=0.989, F1=0.953\n",
      "  Class 2: Precision=0.423, Recall=0.503, F1=0.460\n",
      "  Class 3: Precision=0.387, Recall=0.384, F1=0.386\n",
      "  Class 4: Precision=0.702, Recall=0.510, F1=0.591\n"
     ]
    }
   ],
   "source": [
    "import numpy as np\n",
    "import matplotlib.pyplot as plt\n",
    "import seaborn as sns\n",
    "from sklearn.metrics import confusion_matrix, precision_recall_fscore_support, accuracy_score\n",
    "\n",
    "def evaluate_classification(y_true, y_pred, class_labels=None, normalize_cm=False):\n",
    "    \"\"\"\n",
    "    Computes and visualizes confusion matrix, per-class accuracy, and precision/recall/F1.\n",
    "\n",
    "    Args:\n",
    "        y_true (array-like): Ground truth labels (integers).\n",
    "        y_pred (array-like): Predicted labels (integers).\n",
    "        class_labels (list[int], optional): List of integer class labels (e.g., [0,1,2,3,4]).\n",
    "            If None, it's inferred from y_true and y_pred.\n",
    "        normalize_cm (bool): Whether to normalize confusion matrix rows.\n",
    "\n",
    "    Returns:\n",
    "        dict: Dictionary containing metrics and the confusion matrix.\n",
    "    \"\"\"\n",
    "    metrics = {}\n",
    "\n",
    "    # Infer class labels if not provided\n",
    "    if class_labels is None:\n",
    "        unique = set(np.unique(y_true)).union(np.unique(y_pred))\n",
    "        class_labels = sorted(int(x) for x in unique)\n",
    "\n",
    "        # If predictions/targets don't include all expected classes (e.g., want 0..4),\n",
    "        # a caller can pass class_labels explicitly. We keep inference conservative.\n",
    "\n",
    "    # Confusion Matrix\n",
    "    cm = confusion_matrix(y_true, y_pred, labels=class_labels)\n",
    "    if normalize_cm:\n",
    "        # avoid divide-by-zero rows\n",
    "        with np.errstate(all='ignore'):\n",
    "            cm = cm.astype('float') / cm.sum(axis=1, keepdims=True)\n",
    "            cm = np.nan_to_num(cm)  # convert NaNs to 0 for empty rows\n",
    "\n",
    "    metrics['confusion_matrix'] = cm\n",
    "    metrics['class_labels'] = class_labels\n",
    "\n",
    "    plt.figure(figsize=(8, 6))\n",
    "    sns.heatmap(cm, annot=True, fmt=\".2f\" if normalize_cm else \"d\",\n",
    "                xticklabels=class_labels, yticklabels=class_labels, cmap=\"Blues\")\n",
    "    plt.xlabel(\"Predicted\")\n",
    "    plt.ylabel(\"True\")\n",
    "    plt.title(\"Confusion Matrix\" + (\" (Normalized)\" if normalize_cm else \"\"))\n",
    "    plt.tight_layout()\n",
    "    plt.show()\n",
    "\n",
    "    # Per-Class Accuracy\n",
    "    per_class_acc = {}\n",
    "    for cls in class_labels:\n",
    "        cls_mask = np.array(y_true) == cls\n",
    "        if cls_mask.sum() == 0:\n",
    "            per_class_acc[cls] = None\n",
    "        else:\n",
    "            acc = accuracy_score(np.array(y_true)[cls_mask], np.array(y_pred)[cls_mask])\n",
    "            per_class_acc[cls] = acc\n",
    "    metrics['per_class_accuracy'] = per_class_acc\n",
    "\n",
    "    print(\"\\nPer-Class Accuracy:\")\n",
    "    for cls in class_labels:\n",
    "        acc = per_class_acc[cls]\n",
    "        if acc is None:\n",
    "            print(f\"  Class {cls}: (no true samples)\")\n",
    "        else:\n",
    "            print(f\"  Class {cls}: {acc:.3f}\")\n",
    "\n",
    "    # Precision, Recall, F1 Score\n",
    "    precision, recall, f1, _ = precision_recall_fscore_support(\n",
    "        y_true, y_pred, labels=class_labels, zero_division=0\n",
    "    )\n",
    "    metrics['precision'] = dict(zip(class_labels, precision))\n",
    "    metrics['recall'] = dict(zip(class_labels, recall))\n",
    "    metrics['f1_score'] = dict(zip(class_labels, f1))\n",
    "\n",
    "    print(\"\\nPrecision / Recall / F1 Score per Class:\")\n",
    "    for cls in class_labels:\n",
    "        print(f\"  Class {cls}: Precision={metrics['precision'][cls]:.3f}, \"\n",
    "              f\"Recall={metrics['recall'][cls]:.3f}, F1={metrics['f1_score'][cls]:.3f}\")\n",
    "\n",
    "    return metrics\n",
    "\n",
    "\n",
    "def evaluate_model_metrics(model, loader, device, class_labels=None):\n",
    "    \"\"\"\n",
    "    Run model on loader and evaluate. class_labels is optional (list of ints).\n",
    "    If class_labels is None it will be inferred from the data (y_true/y_pred).\n",
    "    \"\"\"\n",
    "    model.eval()\n",
    "    y_true, y_pred = [], []\n",
    "\n",
    "    with torch.no_grad():\n",
    "        for x, y in loader:\n",
    "            x = x.to(device)\n",
    "            logits = model(x)\n",
    "            preds = logits.argmax(dim=1).cpu().numpy()\n",
    "            y_pred.extend(preds)\n",
    "            y_true.extend(y.cpu().numpy())\n",
    "\n",
    "    y_true = np.array(y_true, dtype=int)\n",
    "    y_pred = np.array(y_pred, dtype=int)\n",
    "\n",
    "    # If user passed class_labels, use that; otherwise infer a sensible range\n",
    "    if class_labels is None:\n",
    "        unique = set(np.unique(y_true)).union(np.unique(y_pred))\n",
    "        class_labels = sorted(int(x) for x in unique)\n",
    "        \n",
    "    return evaluate_classification(y_true, y_pred, class_labels=class_labels, normalize_cm=True)\n",
    "\n",
    "\n",
    "\n",
    "metrics = evaluate_model_metrics(model, val_loader, device)\n",
    "# or to force classes 1..4:\n",
    "# metrics = evaluate_model_metrics(model, val_loader, device, class_labels=[1,2,3,4])\n"
   ]
  }
 ],
 "metadata": {
  "kernelspec": {
   "display_name": ".venv",
   "language": "python",
   "name": "python3"
  },
  "language_info": {
   "codemirror_mode": {
    "name": "ipython",
    "version": 3
   },
   "file_extension": ".py",
   "mimetype": "text/x-python",
   "name": "python",
   "nbconvert_exporter": "python",
   "pygments_lexer": "ipython3",
   "version": "3.9.13"
  }
 },
 "nbformat": 4,
 "nbformat_minor": 5
}
