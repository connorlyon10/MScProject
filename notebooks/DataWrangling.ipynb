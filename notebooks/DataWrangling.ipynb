{
 "cells": [
  {
   "cell_type": "markdown",
   "id": "0cb2d658",
   "metadata": {},
   "source": [
    "# Data Wrangling process for creating the dataset\n",
    "**Note**: This notebook is mainly to serve as an explanation for the data collection and pre-processing stages. If you'd like to create the dataset for yourself, I'd recommend `... .py` which does so more efficiently.\n",
    "\n",
    "\n",
    "This notebook contains the complete and chronological process of creating the training dataset for the CNN Speaker Counter. It's sectioned as following:\n",
    "\n",
    "- **Pre-Processing of LibriCSS**: The initial extraction from libricss. This involved turning the raw .wav files into 1 second mono clips, creating a spectrogram of each clip, and fetching the number of speakers for each clip from the libricss metadata. This provided a supervised dataset for modelling 0-2 speakers.\n",
    "- **Generating overlayed clips from LibriCSS clips**: As the goal of the model was to predict more than 2 speakers at once, data augmentation was required. By overlaying existing clips and summing their speaker counts, new synthetic data was created. Quality was not affected as the input and output of the overlaying was mono.\n",
    "- **Adding further data: \"RIRs & Noise\" and more**: A larger and more diverse dataset resulted from adding synthetic data. But there was still a class imbalance, specifically in class `0`, or 'no speakers'. Adding data from a noise dataset was considered; the author even recorded their own noise `...`"
   ]
  },
  {
   "cell_type": "code",
   "execution_count": 1,
   "id": "5e11c18f",
   "metadata": {},
   "outputs": [],
   "source": [
    "import os\n",
    "from pathlib import Path\n",
    "import librosa\n",
    "import re\n",
    "from time import time\n",
    "import ast\n",
    "import math\n",
    "import numpy as np\n",
    "import pandas as pd\n",
    "import matplotlib.pyplot as plt\n",
    "import torch\n",
    "from IPython.display import Audio, display\n",
    "import soundfile as sf\n",
    "from scipy.io import wavfile\n",
    "\n",
    "from src.utils.SpectrogramExtractor import SpectrogramExtractor         # Custom class to create a spectrogram from a .wav"
   ]
  },
  {
   "cell_type": "markdown",
   "id": "ee2da2a7",
   "metadata": {},
   "source": [
    "## Pre-Processing of LibriCSS\n",
    "LibriCSS contains raw recordings of multi-channel audio. Each recording has a given level of overlap, ranging from 0 to 40%. These recordings are divided up into small learnable clips, so that each clip may contain no speakers, a single speaker or two overlapping speakers. \n",
    "\n",
    "Next, meeting information metadata gives the start and end times of each 'utterance' - a phrase said by a single speaker.\n",
    "\n",
    "By cross-referencing the meeting information files to the audio clips, a label is created showing how many speakers are active in each clip. This gives a supervised data set that can be used in ML processes."
   ]
  },
  {
   "cell_type": "markdown",
   "id": "1027f4fd",
   "metadata": {},
   "source": [
    "### Converting LibriCSS to spectrograms with labelled speaker counts"
   ]
  },
  {
   "cell_type": "markdown",
   "id": "72f3f8a1",
   "metadata": {},
   "source": [
    "1. Collect paths for recordings and metadata\n",
    "2. Transform raw_recordings into 1 second mono clips.\n",
    "3. Create a spectrogram of each clip. \n",
    "4. Use metadata to extract the labels for each clip - how many speakers there are."
   ]
  },
  {
   "cell_type": "markdown",
   "id": "684efa0a",
   "metadata": {},
   "source": [
    "#### Step 1 - Collect libricss paths"
   ]
  },
  {
   "cell_type": "code",
   "execution_count": 3,
   "id": "67ecb99f",
   "metadata": {},
   "outputs": [],
   "source": [
    "# Collect list of paths in libricss dataset. Returns the raw recording wav paths & the meeting_info txt paths (in pairs).\n",
    "# So for each session there is (raw_recording.wav, meeting_info.txt)\n",
    "def collect_paths(root_dir):\n",
    "    pairs = []\n",
    "\n",
    "    for overlap_dir in Path(root_dir).iterdir():\n",
    "        if not overlap_dir.is_dir():\n",
    "            continue\n",
    "\n",
    "        for session_dir in overlap_dir.iterdir():\n",
    "            raw_path = session_dir / \"record\" / \"raw_recording.wav\"\n",
    "            info_path = session_dir / \"transcription\" / \"meeting_info.txt\"\n",
    "            if raw_path.exists() and info_path.exists():\n",
    "                pairs.append((raw_path, info_path))\n",
    "\n",
    "    return pairs"
   ]
  },
  {
   "cell_type": "markdown",
   "id": "3df91b8e",
   "metadata": {},
   "source": [
    "#### Step 2 - Split recordings into 1s mono clips"
   ]
  },
  {
   "cell_type": "code",
   "execution_count": 4,
   "id": "19373f71",
   "metadata": {},
   "outputs": [],
   "source": [
    "# Extracts clips of length clip_dur from a .wav\n",
    "def split_wav_into_clips(wav_path, clip_dur=1.0, sr=16000):\n",
    "    wav, _ = librosa.load(wav_path, sr=sr, mono=True) # librosa handles mono conversion for us\n",
    "    clip_len = int(clip_dur * sr)\n",
    "    num_clips = len(wav) // clip_len\n",
    "\n",
    "    clips = [\n",
    "        wav[i * clip_len : (i + 1) * clip_len]\n",
    "        for i in range(num_clips)\n",
    "    ]\n",
    "    return clips\n",
    "\n",
    "\n",
    "# Iterate over libricss paths with collect_paths() (step 1) and for each .wav file execute split_wav_into_clips() (above)\n",
    "def wavs_to_clips(in_dir = \"data/libricss\", out_dir = \"data/clips_libricss\"):\n",
    "    \n",
    "    #str to Path\n",
    "    out_dir = Path(out_dir)\n",
    "    out_dir.mkdir(parents=True, exist_ok=True)\n",
    "\n",
    "    for raw_path, _ in collect_paths(in_dir):\n",
    "\n",
    "        # Formatting for file names\n",
    "        speaker = raw_path.parents[2].name\n",
    "        session_folder = raw_path.parents[1].name\n",
    "        m = re.search(r\"(session\\d+)\", session_folder)\n",
    "        session = m.group(1) if m else session_folder\n",
    "\n",
    "        # Split raw_path into 1s clips\n",
    "        clips = split_wav_into_clips(raw_path, clip_dur=1.0, sr=16000)\n",
    "\n",
    "        # Save clips (except the first and last clip as they are 'beeps' to signify the start/end of recordings)\n",
    "        for idx, clip in enumerate(clips[1:-1], start=1):\n",
    "            fname = f\"{speaker}_{session}_clip{idx}.wav\"\n",
    "            sf.write(out_dir / fname, clip, 16000)"
   ]
  },
  {
   "cell_type": "markdown",
   "id": "07051af5",
   "metadata": {},
   "source": [
    "#### Step 3 - turn each clip into spectrogram"
   ]
  },
  {
   "cell_type": "code",
   "execution_count": 5,
   "id": "983f0008",
   "metadata": {},
   "outputs": [],
   "source": [
    "# Iterate through clips_dir and convert each to a spectrogram. Deposit them to specs_dir as .pt files (best for training with torch)\n",
    "def clips_to_specs(clips_dir, specs_dir):\n",
    "    extractor = SpectrogramExtractor()          # See 'src\\utils\\SpectrogramExtractor.py'\n",
    "\n",
    "    clips_dir = Path(clips_dir)\n",
    "    specs_dir = Path(specs_dir)\n",
    "    specs_dir.mkdir(parents=True, exist_ok=True)\n",
    "\n",
    "    # Convert all clips to spectrograms\n",
    "    for wav_path in clips_dir.glob(\"*.wav\"):\n",
    "\n",
    "        spec = extractor(str(wav_path))         # Returns a tensor shape: [1, n_mels, time_frames]\n",
    "        spec = spec.squeeze(0)                  # Remove the leading channel dim. Now [n_mels, time_frames]\n",
    "        \n",
    "\n",
    "        out_path = specs_dir / wav_path.with_suffix(\".pt\").name\n",
    "        torch.save(spec, out_path) # save as a PyTorch tensor"
   ]
  },
  {
   "cell_type": "markdown",
   "id": "6eea3cae",
   "metadata": {},
   "source": [
    "#### Executing Steps 1-3\n",
    "(uncomment to run. The folders `data/clips_libricss` and `data/specs_libricss` must exist and be empty.)"
   ]
  },
  {
   "cell_type": "code",
   "execution_count": 6,
   "id": "a76b2768",
   "metadata": {},
   "outputs": [],
   "source": [
    "#wavs_to_clips()\n",
    "#clips_to_specs(clips_dir = r'data/clips_libricss', specs_dir= r'data/specs_libricss')"
   ]
  },
  {
   "cell_type": "markdown",
   "id": "5f0bba09",
   "metadata": {},
   "source": [
    "#### Step 4 - Labels for each spectrogram"
   ]
  },
  {
   "cell_type": "code",
   "execution_count": 6,
   "id": "cec7c883",
   "metadata": {},
   "outputs": [
    {
     "data": {
      "application/vnd.microsoft.datawrangler.viewer.v0+json": {
       "columns": [
        {
         "name": "index",
         "rawType": "int64",
         "type": "integer"
        },
        {
         "name": "spec_dir",
         "rawType": "object",
         "type": "string"
        },
        {
         "name": "clip_dir",
         "rawType": "object",
         "type": "string"
        },
        {
         "name": "speaker_count",
         "rawType": "int64",
         "type": "integer"
        },
        {
         "name": "speakers",
         "rawType": "object",
         "type": "unknown"
        }
       ],
       "ref": "b18ab236-f0f8-4bac-82a8-c37dac05115f",
       "rows": [
        [
         "36189",
         "data\\specs_libricss\\OV40_session9_clip90.pt",
         "data\\clips_libricss\\OV40_session9_clip90.wav",
         "2",
         "['1995', '2961']"
        ],
        [
         "36190",
         "data\\specs_libricss\\OV40_session9_clip91.pt",
         "data\\clips_libricss\\OV40_session9_clip91.wav",
         "1",
         "['2961']"
        ],
        [
         "36191",
         "data\\specs_libricss\\OV40_session9_clip92.pt",
         "data\\clips_libricss\\OV40_session9_clip92.wav",
         "1",
         "['2961']"
        ],
        [
         "36192",
         "data\\specs_libricss\\OV40_session9_clip93.pt",
         "data\\clips_libricss\\OV40_session9_clip93.wav",
         "1",
         "['2961']"
        ],
        [
         "36193",
         "data\\specs_libricss\\OV40_session9_clip94.pt",
         "data\\clips_libricss\\OV40_session9_clip94.wav",
         "1",
         "['2961']"
        ],
        [
         "36194",
         "data\\specs_libricss\\OV40_session9_clip95.pt",
         "data\\clips_libricss\\OV40_session9_clip95.wav",
         "1",
         "['2961']"
        ],
        [
         "36195",
         "data\\specs_libricss\\OV40_session9_clip96.pt",
         "data\\clips_libricss\\OV40_session9_clip96.wav",
         "1",
         "['2961']"
        ],
        [
         "36196",
         "data\\specs_libricss\\OV40_session9_clip97.pt",
         "data\\clips_libricss\\OV40_session9_clip97.wav",
         "2",
         "['7176', '2961']"
        ],
        [
         "36197",
         "data\\specs_libricss\\OV40_session9_clip98.pt",
         "data\\clips_libricss\\OV40_session9_clip98.wav",
         "2",
         "['7176', '2961']"
        ],
        [
         "36198",
         "data\\specs_libricss\\OV40_session9_clip99.pt",
         "data\\clips_libricss\\OV40_session9_clip99.wav",
         "2",
         "['7176', '2961']"
        ]
       ],
       "shape": {
        "columns": 4,
        "rows": 10
       }
      },
      "text/html": [
       "<div>\n",
       "<style scoped>\n",
       "    .dataframe tbody tr th:only-of-type {\n",
       "        vertical-align: middle;\n",
       "    }\n",
       "\n",
       "    .dataframe tbody tr th {\n",
       "        vertical-align: top;\n",
       "    }\n",
       "\n",
       "    .dataframe thead th {\n",
       "        text-align: right;\n",
       "    }\n",
       "</style>\n",
       "<table border=\"1\" class=\"dataframe\">\n",
       "  <thead>\n",
       "    <tr style=\"text-align: right;\">\n",
       "      <th></th>\n",
       "      <th>spec_dir</th>\n",
       "      <th>clip_dir</th>\n",
       "      <th>speaker_count</th>\n",
       "      <th>speakers</th>\n",
       "    </tr>\n",
       "  </thead>\n",
       "  <tbody>\n",
       "    <tr>\n",
       "      <th>36189</th>\n",
       "      <td>data\\specs_libricss\\OV40_session9_clip90.pt</td>\n",
       "      <td>data\\clips_libricss\\OV40_session9_clip90.wav</td>\n",
       "      <td>2</td>\n",
       "      <td>[1995, 2961]</td>\n",
       "    </tr>\n",
       "    <tr>\n",
       "      <th>36190</th>\n",
       "      <td>data\\specs_libricss\\OV40_session9_clip91.pt</td>\n",
       "      <td>data\\clips_libricss\\OV40_session9_clip91.wav</td>\n",
       "      <td>1</td>\n",
       "      <td>[2961]</td>\n",
       "    </tr>\n",
       "    <tr>\n",
       "      <th>36191</th>\n",
       "      <td>data\\specs_libricss\\OV40_session9_clip92.pt</td>\n",
       "      <td>data\\clips_libricss\\OV40_session9_clip92.wav</td>\n",
       "      <td>1</td>\n",
       "      <td>[2961]</td>\n",
       "    </tr>\n",
       "    <tr>\n",
       "      <th>36192</th>\n",
       "      <td>data\\specs_libricss\\OV40_session9_clip93.pt</td>\n",
       "      <td>data\\clips_libricss\\OV40_session9_clip93.wav</td>\n",
       "      <td>1</td>\n",
       "      <td>[2961]</td>\n",
       "    </tr>\n",
       "    <tr>\n",
       "      <th>36193</th>\n",
       "      <td>data\\specs_libricss\\OV40_session9_clip94.pt</td>\n",
       "      <td>data\\clips_libricss\\OV40_session9_clip94.wav</td>\n",
       "      <td>1</td>\n",
       "      <td>[2961]</td>\n",
       "    </tr>\n",
       "    <tr>\n",
       "      <th>36194</th>\n",
       "      <td>data\\specs_libricss\\OV40_session9_clip95.pt</td>\n",
       "      <td>data\\clips_libricss\\OV40_session9_clip95.wav</td>\n",
       "      <td>1</td>\n",
       "      <td>[2961]</td>\n",
       "    </tr>\n",
       "    <tr>\n",
       "      <th>36195</th>\n",
       "      <td>data\\specs_libricss\\OV40_session9_clip96.pt</td>\n",
       "      <td>data\\clips_libricss\\OV40_session9_clip96.wav</td>\n",
       "      <td>1</td>\n",
       "      <td>[2961]</td>\n",
       "    </tr>\n",
       "    <tr>\n",
       "      <th>36196</th>\n",
       "      <td>data\\specs_libricss\\OV40_session9_clip97.pt</td>\n",
       "      <td>data\\clips_libricss\\OV40_session9_clip97.wav</td>\n",
       "      <td>2</td>\n",
       "      <td>[7176, 2961]</td>\n",
       "    </tr>\n",
       "    <tr>\n",
       "      <th>36197</th>\n",
       "      <td>data\\specs_libricss\\OV40_session9_clip98.pt</td>\n",
       "      <td>data\\clips_libricss\\OV40_session9_clip98.wav</td>\n",
       "      <td>2</td>\n",
       "      <td>[7176, 2961]</td>\n",
       "    </tr>\n",
       "    <tr>\n",
       "      <th>36198</th>\n",
       "      <td>data\\specs_libricss\\OV40_session9_clip99.pt</td>\n",
       "      <td>data\\clips_libricss\\OV40_session9_clip99.wav</td>\n",
       "      <td>2</td>\n",
       "      <td>[7176, 2961]</td>\n",
       "    </tr>\n",
       "  </tbody>\n",
       "</table>\n",
       "</div>"
      ],
      "text/plain": [
       "                                          spec_dir  \\\n",
       "36189  data\\specs_libricss\\OV40_session9_clip90.pt   \n",
       "36190  data\\specs_libricss\\OV40_session9_clip91.pt   \n",
       "36191  data\\specs_libricss\\OV40_session9_clip92.pt   \n",
       "36192  data\\specs_libricss\\OV40_session9_clip93.pt   \n",
       "36193  data\\specs_libricss\\OV40_session9_clip94.pt   \n",
       "36194  data\\specs_libricss\\OV40_session9_clip95.pt   \n",
       "36195  data\\specs_libricss\\OV40_session9_clip96.pt   \n",
       "36196  data\\specs_libricss\\OV40_session9_clip97.pt   \n",
       "36197  data\\specs_libricss\\OV40_session9_clip98.pt   \n",
       "36198  data\\specs_libricss\\OV40_session9_clip99.pt   \n",
       "\n",
       "                                           clip_dir  speaker_count  \\\n",
       "36189  data\\clips_libricss\\OV40_session9_clip90.wav              2   \n",
       "36190  data\\clips_libricss\\OV40_session9_clip91.wav              1   \n",
       "36191  data\\clips_libricss\\OV40_session9_clip92.wav              1   \n",
       "36192  data\\clips_libricss\\OV40_session9_clip93.wav              1   \n",
       "36193  data\\clips_libricss\\OV40_session9_clip94.wav              1   \n",
       "36194  data\\clips_libricss\\OV40_session9_clip95.wav              1   \n",
       "36195  data\\clips_libricss\\OV40_session9_clip96.wav              1   \n",
       "36196  data\\clips_libricss\\OV40_session9_clip97.wav              2   \n",
       "36197  data\\clips_libricss\\OV40_session9_clip98.wav              2   \n",
       "36198  data\\clips_libricss\\OV40_session9_clip99.wav              2   \n",
       "\n",
       "           speakers  \n",
       "36189  [1995, 2961]  \n",
       "36190        [2961]  \n",
       "36191        [2961]  \n",
       "36192        [2961]  \n",
       "36193        [2961]  \n",
       "36194        [2961]  \n",
       "36195        [2961]  \n",
       "36196  [7176, 2961]  \n",
       "36197  [7176, 2961]  \n",
       "36198  [7176, 2961]  "
      ]
     },
     "execution_count": 6,
     "metadata": {},
     "output_type": "execute_result"
    }
   ],
   "source": [
    "# Count the active speakers in a clip using libricss metadata. Uses a 'minimum overlap' of 0.2s. e.g. if a speech window is 1.9-4.1, the result will be [2,3], NOT [1,2,3,4]. Trailing speech is bad for learning. \n",
    "def count_speakers_per_window(meeting_file, time_window=1.0, min_overlap=0.2):\n",
    "    intervals = []\n",
    "    with open(meeting_file, \"r\") as f:\n",
    "        next(f) # Skip header\n",
    "        for line in f:\n",
    "            parts = line.strip().split()    # This part manually pulls data from meeting_file, line by line\n",
    "            start_time = float(parts[0])\n",
    "            end_time = float(parts[1])\n",
    "            speaker_id = parts[2]\n",
    "            intervals.append((start_time, end_time, speaker_id))\n",
    "\n",
    "    if not intervals:   # Early exit for empty files\n",
    "        return []\n",
    "\n",
    "    max_time = max(end for _, end, _ in intervals)\n",
    "    num_windows = math.ceil(max_time / time_window)\n",
    "    \n",
    "    results = [{\"speaker_count\": 0, \"speakers\": []} for _ in range(num_windows)]    # init the results list\n",
    "\n",
    "    for i in range(num_windows):    # for each window in the clip, find it's start and end\n",
    "        window_start = i * time_window\n",
    "        window_end = window_start + time_window\n",
    "        active_speakers = set()\n",
    "\n",
    "        for seg_start, seg_end, speaker_id in intervals:        # Compare the start and end of each utterance with the start and end of the current window;\n",
    "            overlap_start = max(seg_start, window_start)\n",
    "            overlap_end = min(seg_end, window_end)\n",
    "            if (overlap_end - overlap_start) >= min_overlap:    # if there is a hit, add to the set of active speakers for that window;\n",
    "                active_speakers.add(speaker_id)\n",
    "\n",
    "        results[i][\"speaker_count\"] = len(active_speakers)      # add to results list.\n",
    "        results[i][\"speakers\"] = list(active_speakers)\n",
    "\n",
    "    return results\n",
    "\n",
    "\n",
    "\n",
    "# Final step: build a dict {spectrogram path -> its label, from 1)}\n",
    "\n",
    "# Collect Key paths\n",
    "specs_dir = Path(\"data/specs_libricss\")                       \n",
    "spec_to_label = {}\n",
    "\n",
    "\n",
    "# Collect value paths\n",
    "counts_map = {}\n",
    "for _, info_path in collect_paths(\"data/libricss\"):\n",
    "    speaker = info_path.parents[2].name \n",
    "    session_folder = info_path.parents[1].name\n",
    "    \n",
    "\n",
    "    m = re.search(r\"(session\\d+)\", session_folder)          # Search for the meeting_info.txt file\n",
    "    session = m.group(1) if m else session_folder\n",
    "    \n",
    "    key = f\"{speaker}_{session}\"              \n",
    "    counts_map[key] = count_speakers_per_window(info_path)  # Run the wrapper defined above\n",
    "\n",
    "\n",
    "\n",
    "# Create key/value pair from paths\n",
    "for spec_path in specs_dir.glob(\"*.pt\"):\n",
    "\n",
    "    stem = spec_path.stem               # extracts the filename without the extension\n",
    "    parts = stem.rsplit(\"_clip\", 1)     # Seperates the session key and clip index (specific to libricss naming convention)\n",
    "\n",
    "    if len(parts) != 2:                 # skips files that dont match the expected pattern\n",
    "        continue  \n",
    "    \n",
    "    key, idx_str = parts                # assigns the session key and clip index\n",
    "    idx = int(idx_str)\n",
    "    \n",
    "    if key not in counts_map:           # sanity check\n",
    "        raise KeyError(f\"No counts for session key '{key}'\")\n",
    "    \n",
    "\n",
    "    counts = counts_map[key]            # gets the list of speaker count results for the session\n",
    "\n",
    "    if idx < 0 or idx >= len(counts):   # another sanity check\n",
    "        raise IndexError(f\"Clip index {idx} out of range for '{key}'\")\n",
    "    \n",
    "    # result\n",
    "    spec_to_label[spec_path] = counts[idx] \n",
    "\n",
    "\n",
    "\n",
    "# Result as df\n",
    "records = [\n",
    "    {\n",
    "        \"spec_dir\": str(spec_path),  # full path to .pt\n",
    "        \"clip_dir\": str(Path(\"data/clips_libricss\") / (spec_path.stem + \".wav\")),  # relative clip path\n",
    "        \"speaker_count\": label[\"speaker_count\"],\n",
    "        \"speakers\": label[\"speakers\"]\n",
    "    }\n",
    "    for spec_path, label in spec_to_label.items()\n",
    "]\n",
    "df = pd.DataFrame(records)\n",
    "\n",
    "# Get rid of noisy/nonsense results (there are only 0,1,2 speaker counts in the dataset. Some show higher, due to bad rounding)\n",
    "df = df[df['speaker_count'] < 3]\n",
    "\n",
    "\n",
    "# Save labels to csv and show\n",
    "df.to_csv(\"data/labels/libricss.csv\", index=False); df.tail(10)"
   ]
  },
  {
   "cell_type": "markdown",
   "id": "1ad85854",
   "metadata": {},
   "source": [
    "### Results of converting libricss into labelled 1s clips"
   ]
  },
  {
   "cell_type": "code",
   "execution_count": 2,
   "id": "54273ac6",
   "metadata": {},
   "outputs": [],
   "source": [
    "def plot_spectrogram_with_audio(audio_dir, spec_dir, clip, df, hop_ms=10):\n",
    "\n",
    "    \"\"\"\n",
    "    Args:\n",
    "        audio_dir: The folder name of the audio file(s). e.g. data/audio --> audio_path = 'audio'\n",
    "        spec_dir: The folder name of the spectrogram file(s).\n",
    "        clip: The specific clip being shown\n",
    "        df: The relevant dataframe (for the title)\n",
    "        hop_ms: The x-axis spacing. Leave as-is.\n",
    "    \"\"\"\n",
    "\n",
    "    audio_path = f'data\\{audio_dir}\\{clip}.wav'\n",
    "    spec_path = f'data\\{spec_dir}\\{clip}.pt'\n",
    "\n",
    "    rate, waveform = wavfile.read(audio_path)       # Load and play audio\n",
    "    display(Audio(waveform, rate=rate))\n",
    "\n",
    "    spectrogram = torch.load(spec_path).squeeze()   # Load spectrogram\n",
    "\n",
    "    # Lookup speaker count for title\n",
    "    row = df.loc[df['spec_dir'] == f'data\\{spec_dir}\\{clip}.pt', 'speaker_count']\n",
    "    speaker_count = row.values[0] if not row.empty else 'Unknown'\n",
    "\n",
    "    # Calculate time axis\n",
    "    n_frames = spectrogram.shape[1]\n",
    "    duration_sec = (n_frames * hop_ms) / 1000\n",
    "\n",
    "    # Plot\n",
    "    plt.figure(figsize=(10, 4))\n",
    "    plt.imshow(spectrogram.numpy(), aspect='auto', origin='lower',\n",
    "               extent=[0, duration_sec, 0, spectrogram.shape[0]],\n",
    "               cmap='magma')\n",
    "    plt.title(f'Speaker Count: {speaker_count}')\n",
    "    plt.xlabel('Time (s)')\n",
    "    plt.ylabel('Frequency bins')\n",
    "    plt.colorbar(label='Amplitude')\n",
    "    plt.tight_layout()\n",
    "    plt.show()"
   ]
  },
  {
   "cell_type": "code",
   "execution_count": 7,
   "id": "4f8ce462",
   "metadata": {},
   "outputs": [
    {
     "data": {
      "text/html": [
       "\n",
       "                <audio  controls=\"controls\" >\n",
       "                    <source src=\"data:audio/wav;base64,UklGRiR9AABXQVZFZm10IBAAAAABAAEAgD4AAAB9AAACABAAZGF0YQB9AAAB+AAA/wv/E/8b/xv/G/8b/xf/E/8T/xf/F/8X/xP/E/8T/xP/E/8X/xf/E/8L/wf/AwH8AfgB9AHwAewB7AHoAegB7AHsAewB7AHoAegB4AHkAdwB4AHgAegB5AHsAfAB+AH4AfgB/AH8AfwAAAH8AfwB+AH8AfgB+AH8AfwB/AAAAAAAAAAAAAAAAAH8AfwB/AH8AfwB/AH8AfwB/AAAAAD/AwAAAAAAAAH8AfwB+AH4AfgB+AH8AAD/A/8H/w//D/8T/xf/E/8T/w//C/8H/wv/C/8T/xP/F/8X/xf/F/8T/w//C/8L/wf/AwAAAfgB+AH0AfAB7AHkAeAB3AHYAdQB0AHMAcgBxAHAAcABwAHEAcgBzAHQAdQB1AHcAeAB5AHoAewB9AH0AfgB+AH8AfgB+AH4AfgB/AH8AfwB/AAAAAAB/AH8AfwB/AH4AfQB7AHoAegB5AHgAeAB3AHcAdgB2AHQAcwByAHEAbwBvAG8AbwBvAG8AbwBwAHAAcABvAG4AbgBuAHAAcABwAHIAdAB1AHYAdwB4AHoAewB7AHwAfAB+AH4Afz/A/8D/wP/B/8H/wP/B/8D/wMAAAH8AfgB9AHwAewB7AHsAfAB8AH0AfQB9AH4AfgB9AH4AfgAAP8D/wf/D/8X/xv/I/8j/yf/J/8r/yv/L/8z/zP/N/87/zv/N/87/z//P/8//z//Q/8//zv/M/8v/yv/J/8j/yP/H/8X/xf/E/8P/w//C/8H/wP/AwAAAAAAAAAAAAAAAAAAAfwB/AH4AfwB/AH8AAD/A/8H/wv/C/8P/w//E/8X/xv/H/8n/yf/K/8r/yv/K/8n/yf/H/8b/xP/E/8L/wv/C/8H/wf/B/8DAAAB/AH4AfQB8AHoAeQB4AHkAeQB4AHgAeQB4AHkAeAB4AHgAeAB5AHgAeQB5AHoAewB8AH0AfgB/AH8AfgB+AH0AfAB7AHsAewB7AHsAegB5AHgAdwB2AHUAdAByAHEAbwBuAG0AbQBsAG0AbABrAGsAagBpAGkAaABpAGoAagBqAGoAawBsAG0AbgBuAHAAcQBzAHQAdgB4AHoAfAB9AH8AAD/A/8D/wf/B/8H/wf/C/8P/xP/E/8T/w//D/8L/wMAAAH4AfQB9AH0AfgB+AH8AfwB/AH4AfgB9AH0AfQB9AH0AfQB9AH0AfgB/AAA/wP/A/8D/wP/A/8D/wf/C/8L/w//D/8L/w//C/8L/wf/C/8L/wv/B/8D/wP/AwAAAfwAAAH4AfQB9AHwAewB7AHsAewB7AHsAewB7AHsAfAB9AH8AAD/A/8H/w//E/8X/xv/H/8j/yf/K/8v/zf/P/9D/0f/R/9L/1P/U/9b/1v/Y/9j/2f/Y/9j/1v/W/9X/0//S/9H/z//O/8z/y//K/8n/yP/G/8T/wv/BwH8AfQB8AHsAfAB7AHsAewB7AHwAewB7AHwAewB8AHwAfAB9AH4AfwB/P8D/wP/C/8P/w//E/8T/xP/E/8X/xv/I/8n/yf/K/8r/yv/K/8n/yP/I/8f/xv/E/8P/w//D/8L/wv/B/8DAAAB/AH8AfgB9AHwAfAB7AHwAfAB8AH0AfgB+AH4AfgB/AAAAAAAAAAAAAAAAAH8AfwB/AH8AfwAAAAA/wP/A/8D/wP/A/8D/wMAAAAAAfwB/AH4AfQB8AHwAfAB8AHwAfQB8AH0AfQB9AH0AfgB+AH8AfgB+AH4AfwB/AAA/wP/A/8L/wv/C/8L/wv/D/8T/xf/G/8j/yP/J/8r/y//L/8r/yf/I/8f/xv/G/8X/xf/F/8T/xf/E/8T/w//C/8H/wMAAAH4AfgB8AHwAfAB8AHwAfAB9AHwAfQB9AH4AfwB/AAAAAD/A/8H/wP/B/8H/wv/D/8T/xP/F/8b/xv/F/8b/xf/G/8X/xP/D/8P/wv/B/8D/wP/A/8H/wP/AwAAAfgB+AHwAewB7AHkAeQB4AHgAdwB2AHYAdgB2AHcAdgB3AHcAdwB4AHgAeQB6AHwAfz/A/8L/xP/F/8b/x//H/8j/yf/I/8j/yP/I/8j/yP/H/8j/x//G/8X/xP/C/8DAfwB+AHwAegB5AHgAdwB2AHYAdQB0AHMAcgBxAHAAcABvAG8AbgBtAGwAbQBtAG4AbwBwAHIAcwB0AHUAdgB3AHcAeAB4AHgAeAB5AHgAeQB5AHkAegB6AHsAfAB9AH0AfQB7AHkAeAB2AHQAcwByAHMAcgByAHEAcQByAHIAcwB0AHUAdgB3AHgAeAB6AHwAfQB/AAA/wP/A/8L/wv/E/8X/xv/G/8b/xv/G/8b/x//H/8f/yP/I/8j/x//H/8X/wv/B/8DAAAB/AH4AfQB8AHoAeQB4AHcAdgB1AHQAcwB0AHIAcgBxAHAAcABvAG8AbwBwAHEAcgByAHMAdAB1AHcAeAB6AHwAfgAAP8D/wv/E/8X/x//H/8j/yv/K/8v/y//L/8z/y//K/8r/yP/J/8n/yf/J/8n/x//G/8X/w//C/8H/wMB/AH0AfAB7AHoAegB5AHgAeAB3AHcAdgB1AHUAdQB2AHYAdgB2AHYAdgB2AHYAdgB3AHkAegB7AH0AfQB/AH8AfwB/AAAAfwB/AH4AfwB/AH8AAAAAAH8AfgB8AHoAegB5AHgAdwB3AHYAdgB1AHUAdQB1AHUAdgB3AHcAdgB3AHgAeAB5AHsAfAB8AH0AfgB+AH4AfgB/AH8AfwAAAAAAAAB/AH8AfgB+AH0AfQB9AH0AfQB8AHsAewB5AHkAdwB2AHYAdQB0AHQAcwBzAHMAdAB1AHYAdgB2AHcAdwB3AHgAegB7AH4Afz/B/8L/xP/E/8X/xf/F/8X/xf/F/8X/xf/G/8b/x//H/8b/xv/G/8X/xP/D/8L/wv/B/8D/wMAAAH8AfwB+AH0AfQB9AH0AfAB7AHsAeQB5AHgAeQB5AHoAfAB9AH8AfwAAP8D/wP/A/8H/wf/C/8P/xP/E/8b/x//I/8n/yv/L/8r/yv/K/8n/yv/J/8n/x//H/8j/x//H/8f/xv/G/8X/xP/D/8L/wcAAAH8AfgB9AH0AfAB9AH0AfgB+AH4AfgB+AH0AfgB9AH0AfgB+AH4AAAAAP8H/wv/D/8T/xP/F/8X/xf/F/8T/xf/F/8X/w//D/8L/wf/AwAAAfwB+AH0AfAB7AHsAeQB4AHgAeAB4AHgAeAB4AHgAeAB4AHcAdwB2AHUAdQB2AHcAeAB5AHkAegB6AHkAeQB4AHkAeQB5AHkAeQB6AHoAegB6AHoAewB6AHoAegB5AHgAdwB1AHQAcgBwAG4AbABsAGsAbABsAGwAbABsAGwAbABsAG0AbgBwAHIAdAB2AHkAegB9AH4AAD/B/8P/xf/H/8n/yv/L/83/zv/P/9D/0P/Q/9D/z//O/8v/y//J/8f/xv/F/8P/wcAAAH0AewB5AHgAdgB1AHMAcgBxAG8AbgBtAGwAawBsAGwAbABtAG0AbgBvAHEAcgB0AHUAdgB4AHoAewB+AAA/wf/D/8X/x//I/8r/y//M/83/zf/N/83/zf/M/83/zf/M/8z/y//L/8n/x//F/8T/w//C/8H/wf/B/8DAAAB/AH0AfQB8AHwAewB7AHsAewB7AHsAfAB9AH4AfgB/AH8AfwB/AH4AfgB+AH4AfgB+AH8AfwAAP8D/wP/A/8DAAAAAAH8AfgB9AHwAfAB7AHsAewB6AHoAegB5AHkAeQB5AHkAdwB3AHcAdgB2AHUAdQB1AHUAdQB2AHUAdwB3AHgAeAB5AHoAewB8AHwAfAB9AHwAfQB9AHwAfAB8AHwAegB5AHoAeQB5AHkAeQB5AHkAeAB3AHcAdwB1AHUAdAB0AHMAcgBxAHIAcQBxAHEAcQByAHMAdAB1AHYAeAB5AHwAfQB/AAAAAD/A/8H/wv/E/8X/xv/H/8j/yf/K/8n/yP/I/8f/xv/F/8T/xP/D/8P/wv/B/8D/wMAAAH4AfQB7AHkAeAB3AHYAdQB1AHQAdQB2AHUAdQB2AHcAeAB5AHoAfAB9AH8AAD/A/8L/w//E/8b/yP/K/8v/zP/M/8z/zP/M/8z/zP/M/8v/y//K/8n/yf/I/8f/xv/F/8P/wv/B/8HAAAB+AH0AfAB8AHwAfAB8AHwAfQB9AH4AfgB/AH8AfwB/AAA/wP/A/8L/w//D/8T/xf/H/8f/yP/I/8j/yP/I/8n/yv/K/8v/zf/O/8//z//O/83/zP/L/8v/yv/J/8j/x//G/8T/w//C/8H/wMAAAH8AfgB+AH0AfQB9AH0AfQB9AH0AfQB9AH0AfgB+AH4AfwB/AAAAAAAAP8D/wf/C/8P/w//D/8P/w//C/8H/wMAAAH8AfgB9AHwAfAB7AHoAeQB5AHgAdwB2AHYAdgB3AHgAeAB4AHkAeAB4AHkAeQB5AHkAegB6AHsAewB7AHwAfQB+AH8AAD/A/8L/w//F/8f/yP/K/8r/y//L/8v/y//K/8n/yP/I/8j/xv/G/8X/w//C/8HAAAB+AHwAewB5AHkAeAB3AHUAdQBzAHIAcQBwAHAAcABxAHAAcAByAHMAdAB2AHcAeAB5AHoAegB7AHwAfgB/AAA/wf/B/8L/w//D/8P/w//D/8T/xP/G/8f/yP/I/8j/x//H/8b/xv/F/8T/xP/E/8X/xf/F/8X/w//D/8L/wf/AwAAAAD/A/8H/wv/C/8P/w//D/8P/xP/E/8T/xf/F/8f/xv/G/8X/xP/D/8P/wv/B/8H/wcAAAAAAfwB+AH0AewB5AHgAdwB2AHYAdgB2AHUAdABzAHIAcQBwAHAAcQByAHIAcwB0AHQAdgB3AHgAeQB6AHsAfAB9AH0AfgB/AAA/wf/C/8P/xf/F/8X/xP/E/8P/wv/C/8L/wv/C/8L/wf/B/8D/wf/A/8DAAAAAAAAAAAB+AH4AfgB8AH0AewB6AHgAeAB3AHYAdQB2AHcAeQB5AHoAewB8AHsAewB7AHsAfAB8AH0AfgAAP8D/wv/D/8X/x//I/8j/yf/J/8n/yf/J/8j/x//H/8b/x//G/8b/x//G/8f/xf/D/8L/wMAAAH4AfgB+AH4AfQB9AHwAewB7AHoAeQB5AHkAewB7AH0AfQB/P8D/wP/A/8L/w//E/8b/x//I/8v/zf/P/9D/0f/S/9L/0//S/9L/0//T/9P/0//U/9P/0//S/9H/0P/P/83/y//K/8n/x//H/8X/xf/F/8X/xf/D/8LAAAB+AH0AewB8AHwAfQB+AH4AfwB/AH8AfgB/AH4AfgB+AH8AAAAAAH8AAAB/AH8AfwB/AH8AAAAAP8D/wP/A/8D/wMAAAAAAAAB/AH8AfwB/AAAAAAAAAAAAAAAAAAAAfwB/AH8AfwB+AH4AfgB/AH8AfwB/AAAAAAAAAAAAAAAAAH8AfwB/AH4AfwB+AH4AfQB9AH0AewB5AHgAdwB2AHQAcwByAHIAcgBxAHEAcABvAG0AbABrAGkAaQBpAGgAaQBpAGkAaQBpAGoAagBrAG0AbwBxAHMAdQB2AHgAeQB7AHwAfgAAP8D/wf/D/8P/xf/F/8b/x//I/8j/yv/J/8r/y//M/8v/y//L/8r/yP/H/8b/xf/E/8T/w//C/8H/wMAAAH4AfAB7AHoAegB5AHkAegB7AHsAfAB9AH0AfQB+AH4AfgB+AH8AAAAAP8D/wP/A/8H/wv/D/8X/xf/H/8f/x//H/8f/x//I/8f/yP/I/8f/x//H/8b/xf/F/8T/xP/D/8L/wf/B/8D/wP/B/8D/wP/A/8D/wP/AwAAAAD/A/8H/wv/D/8T/xf/G/8b/x//G/8f/x//H/8f/x//H/8j/x//G/8b/xf/E/8P/w//C/8L/wv/C/8H/wMAAAH8AfgB8AHoAegB4AHgAdwB3AHcAdwB3AHcAdwB3AHcAdwB2AHYAdgB2AHYAdwB4AHkAegB7AHwAfAB+AH8AfwB/AAAAfwB/AH8AfgB9AH0AfQB9AH0AfQB7AHsAegB4AHcAdgB2AHUAdQB2AHYAdgB2AHUAdQB1AHUAdAB0AHQAdQB1AHcAdwB5AHoAewB7AHsAfAB9AH0Afz/A/8L/w//E/8T/xf/F/8X/xv/G/8j/yf/J/8n/yP/H/8f/xf/E/8P/wv/C/8DAAAB+AH4AfAB7AHkAeAB3AHUAdAByAHAAbwBuAG0AbQBtAG4AbgBvAHEAcQBzAHQAdQB3AHkAewB9AAA/wf/D/8X/xv/I/8j/yf/K/8v/zP/N/83/zv/O/87/zf/N/8z/y//K/8j/xv/F/8P/wf/A/8D/wMAAAAAAfwB+AH0AewB5AHkAdwB3AHYAdgB2AHcAeAB5AHkAegB6AHsAfAB8AH0AfQB+AH8AfwAAP8D/wf/D/8P/w//D/8P/w//C/8H/wMAAAAAAfwB/AH4AfQB8AHsAeQB5AHgAdwB1AHUAdQB1AHUAdgB2AHcAeAB4AHkAegB7AHsAfAB9AH4AfwAAP8D/wf/C/8L/w//C/8L/wf/B/8L/wf/C/8L/w//C/8L/wMAAAH8AfQB7AHsAegB5AHkAeAB3AHYAdQB0AHQAcwByAHMAcgBxAHEAcABwAHEAcQBxAHMAcwB0AHUAdgB3AHkAeQB6AHoAewB7AH0AfgB/AAA/wP/B/8H/wP/A/8DAAD/AwAAAAAB/AH8AfgB8AHwAewB7AHoAeQB5AHgAdwB2AHUAdAB1AHYAdgB2AHcAdwB4AHkAegB6AHsAewB7AHsAewB8AHwAfAB+AH8AAD/B/8L/xP/F/8X/xf/F/8X/xv/F/8X/xv/G/8b/xv/G/8X/xP/D/8H/wMB+AH4AfQB8AHwAewB7AHwAfAB7AHsAewB6AHoAeQB5AHkAegB7AHwAfQB/AAA/wP/C/8T/xP/F/8b/xv/H/8j/yf/K/8z/zf/O/8//z//P/8//zv/O/87/zv/N/8z/y//K/8r/yP/H/8X/xP/C/8H/wf/B/8DAAAB/AH8AfwB+AH0AfQB+AH4AfwB/AH8/wP/A/8H/wf/C/8P/w//E/8X/xv/H/8f/x//I/8f/x//H/8b/xf/E/8P/wMAAAH8AfgB9AHsAegB5AHcAdQB0AHQAdAB0AHUAdAB1AHUAdQB1AHUAdwB4AHgAegB7AH0AfgB/AAA/wf/C/8P/xP/F/8f/yf/L/83/zv/Q/9H/0f/S/9P/0//S/9L/0v/S/9H/0f/R/9D/z//O/83/y//J/8f/xv/D/8HAAAB/AH4AfQB8AHwAewB6AHkAeAB4AHcAdgB2AHUAdgB3AHcAeAB5AHkAegB6AHsAfAB+AH8AAD/A/8D/wf/B/8L/wv/E/8T/xv/G/8f/xv/G/8b/xv/F/8X/xf/G/8b/xv/G/8X/xf/F/8X/xf/E/8T/xP/D/8P/w//D/8T/xP/G/8b/yP/J/8v/zP/O/87/z//P/9D/0f/R/9H/0v/T/9P/1P/U/9T/1P/U/9L/0f/P/83/zP/K/8j/xv/F/8T/w//BwAAAfwB9AHsAeQB4AHcAdwB3AHUAdgB2AHUAdQB1AHYAdgB3AHgAegB7AHwAfAB+AH8AAD/A/8L/w//E/8X/xf/G/8b/x//H/8f/yP/J/8n/yv/J/8n/yP/I/8b/xf/E/8P/wf/AwH8AfgB9AHsAewB6AHoAegB6AHkAeQB4AHgAdwB3AHgAeQB5AHsAfAB+AH8AAAAAP8H/wv/D/8X/x//I/8n/yf/J/8n/yP/H/8b/xv/F/8T/xP/E/8P/w//BwH8AfQB7AHkAeAB2AHYAdQB0AHQAcwBzAHIAcgBxAHIAcQByAHIAcwB0AHUAdgB2AHcAeAB5AHoAewB8AH4AfwAAP8H/w//E/8b/x//I/8n/yv/K/8v/y//M/83/zf/N/83/zf/N/8z/zP/L/8r/yf/I/8f/xf/F/8T/xP/D/8P/wf/C/8H/wf/A/8DAAAAAAAAAfwAAP8D/wP/B/8H/wv/D/8P/w//E/8T/xf/F/8b/x//H/8j/yP/H/8f/xv/F/8X/xf/F/8X/xv/H/8f/x//H/8b/xv/F/8T/w//C/8H/wv/B/8L/wf/C/8H/wf/B/8H/wf/B/8H/wf/C/8P/xP/F/8f/yf/K/8v/y//M/8z/zP/M/8z/zf/N/83/zP/M/8z/y//K/8n/yP/H/8b/xf/E/8L/wcAAAH4AfQB7AHoAeQB5AHgAdwB2AHUAdQB0AHMAcgByAHMAdAB1AHcAeAB5AHsAewB8AH0AfgB/P8D/wv/D/8X/xv/H/8j/yf/J/8n/yf/I/8j/yP/I/8j/x//G/8b/xf/E/8L/wcAAAH8AfwB+AH4AfQB9AH0AfQB8AHwAfAB9AH0AfgB+AAA/wP/B/8H/wv/E/8X/xv/G/8j/yf/K/8r/y//M/83/zP/N/83/zf/N/83/zP/M/8z/y//K/8n/yP/I/8f/xv/E/8P/wv/AwH8AfQB9AHwAewB7AHoAegB5AHkAeQB6AHsAfQB+AH8AAD/A/8H/wv/E/8b/yP/L/83/z//R/9L/0//T/9T/1P/U/9X/1//X/9j/2f/a/9r/2//a/9r/2f/Z/9j/2P/X/9X/1f/U/9P/0f/P/87/zf/M/8v/yv/J/8j/x//F/8P/w//BwAAAfwB/AH8AAAB/AH8AfwB/AH8AfwB/AH8AfwB/AH8AfwB/AH4AfQB9AH4AfwB/AH8AfwAAAH8AfwB9AH0AfAB8AHsAewB7AHsAegB6AHkAegB6AHkAegB7AHsAewB7AHwAfAB+AH0AfgB+AH4AfwB/AAAAAD/A/8D/wP/B/8L/wv/D/8T/xP/E/8X/w//D/8P/w//D/8P/xP/D/8P/w//B/8DAfwB9AHwAegB6AHkAeAB2AHUAcwByAHAAbwBuAG0AbgBuAG4AbgBvAHAAcQBxAHIAdAB1AHYAdwB4AHkAegB7AH0AfgAAP8D/wP/B/8L/wv/D/8P/w//D/8T/xP/E/8P/xP/E/8P/w//D/8P/wv/C/8H/wf/B/8H/wf/B/8L/wv/C/8H/wf/B/8DAAAAAAAAAAD/A/8D/wf/C/8P/xP/D/8P/w//D/8P/xP/F/8f/yP/I/8n/yf/I/8b/xf/E/8P/w//C/8L/wv/B/8DAAAB/AH4AfAB7AHkAdwB2AHUAcwBzAHIAcQByAHIAcgBzAHQAdAB1AHYAdQB3AHcAdwB3AHcAdwB4AHkAeQB5AHoAewB8AHwAfQB9AH4AfwAAAAA/wP/A/8D/wP/A/8D/wP/A/8DAAD/AwH8AfwB+AHwAewB6AHkAdwB2AHUAdABzAHIAcgByAHEAcQBxAHAAbwBvAG8AbwBwAHEAcgBzAHQAdQB2AHYAdgB3AHcAdwB3AHcAeAB4AHkAeQB6AHoAegB5AHgAdwB1AHQAcwByAHEAcABwAHAAcABwAG8AbwBvAG4AbQBuAG4AbwBwAHAAcQByAHMAcwB0AHQAdAB0AHUAdgB4AHkAewB9AH8/wf/B/8L/wv/D/8T/xf/F/8f/x//I/8j/xv/F/8T/xP/C/8H/wMB/AH8AfgB8AHsAegB6AHoAeQB4AHkAeAB3AHcAdwB3AHcAdwB3AHgAeAB4AHkAegB7AHwAfQB/AAA/wP/A/8H/wv/D/8T/xP/F/8b/xv/H/8f/x//H/8f/x//G/8X/w//C/8DAAAB/AH4AfAB8AHsAewB6AHoAegB5AHkAeQB4AHcAeAB3AHYAdgB2AHcAeAB4AHkAeQB5AHoAegB6AHsAegB7AHsAewB7AHsAewB6AHsAegB5AHoAeAB3AHcAdgB1AHQAdABzAHIAcQBwAHAAcABwAG8AbwBvAG8AcABwAHEAcQByAHIAcwBzAHMAdAB1AHYAeAB5AHwAfgB/P8D/wf/C/8L/w//D/8P/xP/F/8T/xf/F/8X/xf/E/8T/w//C/8HAAAB+AHwAeQB3AHYAdABzAHIAcQBxAG8AbgBtAG0AawBqAGkAaABoAGgAaABqAGsAbQBvAHEAcwB1AHcAeQB6AHwAfgAAP8H/wv/F/8f/yf/K/8v/zP/N/8z/zP/M/8z/zP/L/8z/y//L/8n/yP/H/8X/xP/C/8H/wMAAAAAAfwB+AH4AfgB/AH4AfQB9AHwAfAB7AHwAfAB+AAA/wP/C/8T/xv/H/8f/yP/J/8r/y//N/8//0f/T/9T/1P/V/9T/0//T/9P/0//U/9T/0//S/9H/0P/P/83/zf/L/8v/yf/I/8b/xf/E/8P/w//D/8P/wv/C/8L/wv/C/8L/wf/C/8L/wv/C/8L/w//D/8T/xP/F/8b/yP/J/8n/yv/L/8r/yv/J/8n/yP/I/8f/x//I/8n/yv/K/8z/y//L/8r/yv/K/8n/yf/J/8r/yv/L/8v/y//L/8z/zP/M/8v/y//L/8r/yv/K/8r/y//L/8v/zP/L/8v/yv/K/8n/x//I/8f/xf/E/8P/wv/B/8DAAAB/AH4AfgB8AHsAeQB4AHYAdQB1AHQAdQB1AHYAdgB1AHUAdAB0AHQAdAB1AHYAeAB5AHoAewB9AH4AfwAAP8H/wv/D/8X/x//I/8v/zP/N/87/z//P/9D/z//O/8//zv/O/83/zf/M/8z/y//K/8r/yf/I/8b/xf/E/8H/wMAAAH8AfgB+AH0AfAB7AHsAegB5AHgAeAB4AHoAegB6AHsAfAB8AH0AfAB9AH0AfgAAP8D/wv/D/8X/xv/H/8f/yP/J/8n/yP/I/8j/yP/J/8r/yf/J/8r/yv/J/8n/yP/H/8b/xf/E/8P/w//B/8D/wP/AwAA/wP/B/8H/wv/B/8H/wP/A/8H/wf/D/8T/xf/I/8n/y//M/8z/zf/M/8z/y//K/8r/yf/J/8j/x//H/8X/xP/E/8P/wv/BwAAAAAB/AH4AfAB7AHoAeQB4AHgAeAB3AHcAdwB4AHgAeAB4AHgAeAB4AHcAdwB4AHkAegB6AHwAfQB9AH4AfwAAAAA/wP/A/8D/wf/B/8D/wP/A/8H/wf/AwH8AfQB7AHoAeAB2AHUAcwByAHEAcABuAG0AbABsAGwAbABsAGwAbABrAGwAbABtAG4AcAByAHMAdQB2AHcAeAB5AHkAegB8AH0Afz/A/8H/wv/D/8T/xP/E/8P/w//D/8P/w//D/8P/w//C/8L/wf/AwAAAAAB/AH8AfgB+AH0AfAB6AHoAeAB2AHUAdQB1AHUAdQB2AHYAdwB3AHgAeAB5AHoAewB8AH0AfQB+AAA/wP/B/8T/xv/I/8n/yv/M/8z/zf/M/83/zf/O/87/zv/O/83/zP/L/8j/x//G/8X/xP/E/8T/w//C/8H/wMAAAH8AfgB9AHwAewB6AHkAegB6AHsAewB8AHwAfQB9AH0AfgB9AH4AfgB/AAA/wf/C/8P/xP/E/8T/xP/D/8L/wv/B/8DAAAB/AH8AfQB9AHwAewB6AHoAeQB5AHgAdwB2AHUAdQB0AHUAdQB3AHkAewB8AH0AfgB+AAAAAD/A/8H/w//F/8b/x//H/8f/xv/F/8T/wv/B/8DAAAAAAAAAAAB/AH8AfQB8AHoAeAB1AHMAcgBwAG8AbwBvAG4AbgBuAG4AbQBsAGsAagBrAGwAawBuAHAAcgB1AHYAdwB5AHoAewB9AH4/wP/C/8T/xf/H/8n/zP/N/87/z//R/9H/0f/S/9L/0v/S/9H/0P/R/9D/0P/O/87/zP/L/8n/yP/G/8X/xP/E/8P/wv/C/8DAAAB+AH0AfQB7AHsAegB6AHsAewB8AH0AfQB+AH8AAAAAP8D/wf/B/8H/wf/C/8L/wv/D/8P/w//E/8P/w//D/8P/w//C/8P/wv/C/8L/wf/A/8DAAAAAAAAAfwAAAAA/wP/A/8D/wf/B/8H/wv/C/8P/w//E/8X/x//H/8j/yf/J/8n/x//H/8b/x//G/8b/xf/G/8b/xv/F/8b/xf/E/8P/wf/AwAAAfwB+AHwAfAB7AHoAeQB3AHYAdABzAHEAcQBxAHIAcgB0AHQAdAB0AHQAdAB0AHUAdgB2AHgAeAB6AHwAfQB+AH8AAAB/AAA/wP/A/8DAAAAAAH8AfgB9AH4AfQB9AH0AewB6AHkAeAB2AHUAcgBxAG8AbwBuAG0AbgBuAG0AbABsAGsAbABsAGwAbQBvAHAAcgBzAHUAdgB3AHgAeQB6AHwAfgB/P8H/w//E/8X/x//I/8j/yf/J/8n/yv/K/8r/yv/L/8v/zP/L/8r/yf/H/8T/wcAAAH4AfQB7AHoAeQB5AHgAdwB2AHYAdQB0AHMAcgByAHIAcwBzAHQAdQB2AHgAeAB6AHsAegB7AHsAfAB9AH0AfwAAP8H/wv/D/8X/xf/G/8f/yP/J/8r/y//M/8z/zP/M/8z/zP/M/8z/zP/N/8z/zf/N/83/zf/M/8z/zP/M/8v/yv/J/8n/x//H/8b/xv/H/8f/x//I/8n/yv/K/8r/yv/K/8n/yf/J/8n/yf/J/8n/yv/J/8n/yP/H/8b/xP/C/8DAfwB+AH0AfgB9AH0AfQB8AHwAewB6AHkAeAB3AHcAdwB2AHYAdwB4AHgAeQB5AHoAegB6AHkAeQB4AHkAeQB6AHsAewB8AHsAegB6AHoAeQB3AHcAdgB2AHUAdAB0AHQAcwByAHEAcABvAG4AbgBtAG0AbABsAGwAawBrAGsAagBqAGoAagBrAGsAawBsAGwAbABtAG0AbgBuAG8AcABxAHIAcwB0AHUAdgB4AHgAeQB5AHsAegB7AHwAfAB8AHwAfAB8AHwAfAB8AHsAegB6AHoAegB5AHgAeAB3AHcAdwB3AHYAdgB1AHUAdAB0AHQAdAB0AHUAdQB1AHYAdwB4AHkAeQB6AHsAewB9AH4AfwAAP8H/wv/D/8T/xf/F/8X/xf/E/8T/xP/E/8T/xP/E/8P/w//C/8H/wMAAAH4AfQB8AHsAewB6AHoAegB7AHwAfAB7AHwAewB6AHoAegB7AHsAfAB9AH4AAD/A/8H/wv/D/8T/xf/G/8f/x//I/8j/yf/J/8r/yv/K/8n/yP/G/8T/xP/C/8L/wf/B/8H/wP/AwAAAfwB/AH0AfAB7AHkAeAB3AHYAdQB1AHUAdQB1AHQAdAB0AHQAdAB0AHUAdgB4AHkAegB7AHsAewB7AHsAewB8AHsAfAB9AH4AfwB/AH8AfwB/AH4AfgB9AHwAegB5AHkAdwB3AHcAdgB2AHUAdABzAHMAcgBxAHIAcgByAHIAcwB0AHQAdQB2AHYAdgB3AHcAeAB5AHoAfAB/AAA/wf/C/8P/w//E/8P/w//D/8L/w//C/8L/w//C/8L/wv/C/8H/wMB/AH4AfQB8AHoAegB6AHkAeAB4AHcAdwB3AHcAdwB3AHgAeAB3AHcAeAB5AHkAewB7AHwAfgAAAAAAAD/B/8L/w//D/8T/xf/F/8b/x//H/8j/yf/K/8v/zf/P/9H/0P/Q/8//zv/O/87/zv/O/83/zf/N/83/zP/M/8z/y//L/8v/y//L/8r/y//M/8z/zf/P/9D/0v/S/9P/0//U/9T/0//T/9P/1P/T/9P/0//T/9P/0v/R/9D/0P/P/87/zf/N/8z/y//J/8n/yf/I/8f/xv/F/8X/xP/D/8P/w//D/8T/xP/E/8b/xv/G/8b/xv/H/8j/yP/J/8r/zP/N/83/zf/P/8//0P/R/9H/0v/S/9H/0P/Q/8//zv/P/87/zf/M/8v/yv/I/8b/xP/D/8H/wcAAAH8AfgB9AHsAegB5AHcAdgB2AHUAdQB1AHUAdgB2AHYAdwB5AHoAewB8AHwAfgB+AH8AAD/A/8H/wv/D/8T/xv/H/8f/yP/I/8n/yf/K/8r/yv/L/8z/zP/M/83/zf/L/8r/yP/G/8X/w//C/8H/wf/B/8DAAAAAAH8AfgB9AHwAfAB9AH0AfgB+AH8AAD/A/8D/wf/C/8P/xf/H/8n/yv/M/8z/zf/N/83/zv/P/8//0P/Q/9D/0P/Q/9D/0P/P/8//zv/O/83/zP/L/8r/yf/J/8n/yf/J/8n/yP/H/8b/xv/F/8X/xf/F/8X/xf/F/8b/xf/G/8b/xv/I/8n/yv/K/8z/zP/M/83/z//Q/9H/0v/T/9T/0//T/9L/0f/P/8//zv/N/87/zf/M/8z/yv/I/8f/xv/E/8T/w//C/8L/wf/B/8H/wf/C/8L/w//E/8X/xf/F/8X/xf/F/8X/xf/H/8f/yP/I/8j/yf/I/8f/x//G/8b/xf/F/8T/xf/E/8T/w//C/8DAfwB+AH0AfgB+AH0AfQB9AHwAewB5AHkAeAB4AHgAeAB5AHoAewB8AHwAfQB+AH8AAD/B/8L/xf/G/8f/yP/I/8n/yv/K/8r/yv/K/8v/yv/K/8r/yf/J/8n/yf/I/8f/xf/E/8L/wf/AwH8AfQB8AHsAegB5AHgAdwB3AHcAdwB3AHcAdgB2AHcAeAB5AHoAewB9AH4AfwB/AAAAAD/A/8H/w//E/8b/xv/I/8j/yf/L/8z/zf/O/8//0P/P/8//z//Q/9H/0f/S/9L/0v/R/8//zv/N/8z/y//K/8n/yP/H/8b/xf/E/8P/wv/C/8H/wP/A/8H/wf/B/8L/w//E/8T/xf/G/8b/x//I/8n/yv/L/8v/zP/N/83/zv/N/87/z//P/8//z//O/87/zf/N/8z/zP/L/8v/yv/J/8n/x//G/8X/xP/D/8P/wf/B/8D/wP/AwH8AfwB/AH8AfwB/AH8/wMAAAAA/wP/B/8H/wv/C/8P/w//D/8P/w//E/8T/xP/E/8T/xP/E/8T/w//C/8L/wcAAAH8AfgB8AHsAegB6AHoAegB6AHoAeQB4AHcAdgB1AHYAdQB1AHUAdQB0AHQAdQB0AHUAdQB1AHcAeAB4AHkAeQB5AHkAeQB5AHkAeQB6AHsAewB7AHoAeQB5AHkAeQB4AHcAdwB1AHQAcwBxAHAAbwBvAG4AbgBvAG8AbgBuAG0AbQBsAG0AbQBvAG8AcABvAHAAcABxAHEAcwB1AHYAeAB5AHoAfAB9AH4AfwAAP8D/wf/C/8P/xP/E/8X/xP/D/8P/w//C/8H/wMAAAH8AfQB9AHsAegB5AHcAdgB1AHQAdABzAHIAcQBxAHAAcABwAHAAcABxAHIAcgBzAHUAdwB4AHoAewB9AH8AAAAAP8D/wP/B/8L/w//D/8T/xf/G/8b/xf/F/8T/w//C/8L/wf/B/8D/wMB/AH8AfwB/AH4AfgB+AH4AfgB+AH0AfQB9AHwAewB7AHoAegB5AHkAeQB5AHoAewB7AH0AfQB+AH4AfQB+AH0AewB7AHsAewB8AHwAfAB8AHsAewB5AHgAdwB2AHQAcwBxAG8AbgBtAGsAawBpAGgAZwBmAGQAYgBhAGAAYABhAGIAYwBkAGUAZgBmAGcAaABoAGkAagBsAG0AbwBvAHEAcgByAHIAcwB0AHQAcwBzAHIAcgByAHIAcgBxAHAAbwBuAGsAaQBpAGcAZwBmAGUAZQBkAGQAYwBiAGIAYQBhAGAAYQBgAGEAYgBiAGMAZABkAGYAZgBnAGgAaABoAGoAbABtAG8AcQBzAHQAdAB0AHUAdAB1AHUAdQB1AHUAdgB2AHYAdgB2AHYAdgB0AHQAcwBzAHMAcgByAHIAcgByAHIAcgBxAHAAcABwAHEAcgByAHMAdQB1AHYAeAB5AHkAegB6AHoAeQB6AHoAeQB5AHoAegB6AHoAewB8AHwAfAB7AHsAegB5AHcAdwB2AHcAdwB2AHcAdgB2AHUAdABzAHIAcgBxAHIAcgB0AHUAdgB2AHcAdwB2AHcAdgB2AHcAeQB6AHsAfQB+AH8AAD/A/8DAAAAAP8D/wP/A/8H/wP/BwAAAfwB+AHwAewB6AHgAeAB3AHYAdQB1AHQAdAB0AHMAcgBxAHAAbwBuAG0AbQBtAG4AbgBvAHAAcQByAHEAcQByAHIAcwB0AHUAdgB4AHkAegB6AHwAewB6AHoAegB5AHgAdwB4AHgAeAB5AHgAdgB1AHMAcgBxAHEAcABvAG8AbwBvAG8AbwBvAG8AbwBvAHAAcQByAHMAcwB0AHUAdgB2AHcAdwB3AHkAegB8AH0AfgB/AH8AAAAAP8D/wf/B/8L/wv/C/8L/wf/C/8L/wv/B/8L/wv/C/8H/wMAAAAAAfwB+AH4AfQB9AHwAewB6AHoAeQB4AHcAdgB1AHUAdQB1AHUAdQB1AHYAdgB3AHgAeQB6AHsAfAB9AH8/wP/A/8L/w//E/8X/xv/H/8f/x//H/8f/x//H/8j/yP/I/8j/yP/I/8j/yP/I/8j/yf/I/8n/yf/J/8n/yf/J/8j/yf/J/8n/yf/J/8n/yf/K/8v/yv/L/8z/zP/M/8v/y//L/8v/yv/J/8n/yf/J/8n/yv/K/8v/y//L/8r/yP/H/8X/w//C/8DAAAB/AH4AfQB8AHwAewB6AHkAeAB3AHYAdgB1AHUAdAB0AHQAdgB3AHcAeAB5AHoAegB7AHsAewB7AHsAewB7AHsAfAB+AH4AfwB+AH0AfQB8AHoAegB6AHkAeQB4AHgAdwB2AHUAdABzAHIAcgBxAHEAcABxAHAAcQBwAG4AbgBtAG0AbQBuAHAAcQB0AHUAdwB4AHkAegB6AHsAfAB9AH4Afz/A/8L/w//E/8X/xv/F/8b/xv/G/8b/xf/F/8X/xv/G/8b/x//H/8b/xv/F/8P/w//B/8H/wP/A/8D/wP/B/8H/wv/C/8L/wf/B/8H/wP/B/8H/wv/C/8L/w//E/8T/xf/F/8b/x//I/8n/yv/L/8v/zP/N/83/zv/P/8//z//P/8//zv/O/87/zf/M/8v/yv/I/8j/yP/I/8f/x//G/8X/xf/E/8L/wv/B/8DAAAAAAAAAAAAAAAA/wP/B/8L/w//E/8X/xf/G/8f/xv/G/8X/xf/F/8X/xf/G/8b/xv/G/8b/xv/G/8X/xf/E/8P/w//C/8L/wf/AwAAAAAB/AH8AfwB+AHwAewB6AHgAdwB3AHcAdgB2AHYAdgB3AHcAdwB4AHgAegB6AHoAegB6AHoAegB6AHoAewB8AH0AfgB+AAAAAAAAAH8/wMAAAAAAfwB/AH8AfwB+AH0AfQB9AH0AfQB8AHsAewB5AHgAdwB3AHYAdQB2AHYAdgB2AHcAdgB2AHcAeAB4AHkAegB8AHwAfQB/AAA/wf/C/8L/wv/D/8P/wv/B/8H/wf/B/8L/wf/C/8L/wf/AwAAAfwB+AHwAewB5AHgAeAB2AHUAdQB0AHQAdQB1AHUAdQB2AHYAdwB4AHgAeQB5AHkAewB8AH0AfQB+AH4AfgB+AH0AfgB+AH8AAAAAAAA/wP/B/8L/wv/C/8L/wcAAAAAAAAB/AH4AfgB/AH8AAAB/AH4AfwB+AH4AfgB/AAAAAD/B/8L/wv/D/8T/xf/E/8X/xf/F/8b/xv/I/8n/yv/L/8z/zP/L/8z/zP/M/83/zv/P/9D/0P/Q/8//z//N/8z/y//K/8n/x//G/8X/w//C/8H/wP/AwAAAfwB+AHwAewB5AHgAdgB1AHUAdQB0AHQAdABzAHQAcwBzAHMAcwB0AHQAdAB1AHYAeAB5AHoAegB7AHsAewB7AHwAfQB9AH4AfwAAAAA/wMAAP8DAAAAAAH4AfQB7AHkAdwB1AHUAdAB0AHQAdAB0AHQAdABzAHMAcwBzAHMAcwB0AHUAdQB3AHkAegB8AH4Afz/A/8H/wv/D/8T/xf/G/8b/xv/G/8b/xv/H/8f/x//H/8f/x//G/8b/xv/E/8P/w//D/8L/wf/B/8D/wMAAAH8AfwB+AH0AfQB9AHwAfAB6AHsAewB7AHwAfgB/AAAAfwAAAAA/wP/A/8D/wP/B/8H/wv/D/8P/w//D/8L/wv/B/8DAAAAAAAA/wP/B/8H/wv/C/8P/xP/E/8T/w//D/8P/wv/A/8D/wP/A/8H/wf/D/8L/w//D/8T/w//C/8P/w//D/8X/xf/H/8n/yf/L/8z/zP/M/8z/y//L/8v/y//L/8v/y//L/8v/y//K/8r/yf/I/8b/xP/D/8HAAAB/AH0AfAB6AHoAeAB4AHcAdgB2AHUAdQB1AHQAdAB0AHQAdAB1AHcAeAB6AHsAfQB+AH8AAAAAP8D/wf/B/8L/wv/C/8P/w//D/8L/w//C/8H/wf/AwH8AfgB8AHwAegB5AHkAeQB4AHgAdwB1AHQAcgBwAG8AbQBsAGsAawBqAGoAawBsAG0AbgBvAHAAcQByAHIAcgBzAHQAdgB4AHkAfAB+AAA/wP/B/8L/wv/C/8L/wf/B/8H/wf/AwAAAAAAAAH4AfQB8AHsAegB5AHgAdwB2AHYAdgB1AHMAcwByAHEAcQBxAHMAcwBzAHMAcwBzAHIAcgByAHMAdAB1AHYAeAB5AHoAewB8AH0AfQB+AH8AfwAAAAAAfwB/AH8AfwB/AH8AAD/A/8D/wP/AwAAAfwB9AHwAewB6AHoAegB6AHsAewB7AHsAewB7AHoAegB7AHsAfAB9AH4AAD/A/8L/w//D/8P/wv/C/8L/wf/B/8H/wv/D/8L/w//D/8P/wf/AwAAAfwB+AH4AfQB8AHsAegB5AHgAdwB4AHcAdgB2AHQAcwBwAHAAbwBvAG4AbgBtAG0AbQBtAGwAbABsAGwAbABsAG0AbgBuAG8AbwBvAHEAcQByAHMAdAB1AHUAdQB2AHYAdwB2AHYAdgB1AHQAdABzAHQAdAB0AHQAdABzAHIAcQBwAHAAbgBuAG4AbQBtAG4AbgBvAG8AcQBzAHQAdAB2AHYAdwB2AHYAdwB5AHsAfQB+AH8AfwB/AH4AfQB9AHwAfQB8AH0AfQB+AH0AfAB8AHwAewB7AHoAeQB4AHYAdQBzAHEAbwBuAG0AbQBtAGwAbQBtAG0AbQBtAG4AbgBvAHEAcwB1AHYAeAB6AHsAfAB+AAA/wf/E/8b/yP/K/8v/zP/N/87/zv/P/8//0P/P/8//0P/P/87/zf/M/8v/yv/J/8j/yP/H/8b/xv/E/8T/wv/B/8H/wMAAAAAAfwB/AAAAAAAAAAA/wP/A/8D/wP/A/8H/wv/D/8T/xf/G/8b/x//H/8f/yP/J/8n/yf/I/8f/xv/E/8L/wv/B/8D/wMAAP8DAAAB+AH0AfAB6AHkAeQB3AHYAdgB1AHYAdQB1AHYAdgB3AHgAeQB6AHwAfQB+AH8AAD/B/8H/wv/D/8T/xP/E/8X/xv/H/8j/yf/K/8v/zP/N/87/zf/N/83/zP/K/8n/yP/I/8j/x//H/8b/xv/G/8T/w//BwAAAfwB+AH4AfQB+AH4AfgB/AH8AfgB+AHwAfAB8AHwAfQB+AH8AAD/A/8D/wf/C/8L/w//E/8T/xP/E/8T/w//D/8P/w//D/8P/wv/B/8DAAAB/AH4AfgB+AH8AAAAAAAAAAAAAAAAAAAAAAAA/wP/B/8P/xP/F/8b/xv/G/8f/yP/J/8r/y//L/8z/y//M/8z/zf/P/9H/0v/U/9T/1P/T/9L/0f/R/9H/0f/R/9D/0P/P/8//zv/N/8z/y//K/8r/yf/J/8j/x//I/8n/yv/L/8z/zf/O/8//0P/R/9H/0v/T/9X/1v/X/9j/2f/Z/9n/2v/b/9z/3P/c/9v/3P/b/9z/3P/c/9z/3f/c/9v/2v/Z/9j/1//Y/9f/1//W/9T/0//S/9H/0f/R/9H/0P/Q/8//zv/N/8z/y//L/8v/yv/L/8r/yv/K/8r/yf/K/8v/y//L/8v/yv/K/8r/yf/I/8n/yP/I/8j/yf/K/8r/yv/J/8f/xv/E/8L/wf/B/8D/wMAAAAAAAAAAAH8AfgB9AH0AfQB+AH0AfQB8AHwAfQB9AH0Afz/A/8H/wv/C/8L/wv/D/8P/w//F/8X/xv/H/8f/yP/I/8j/yf/I/8j/yP/I/8f/x//H/8f/x//F/8T/w//B/8DAAD/A/8DAAAAAAH8AfwB+AHwAewB6AHoAegB6AHoAewB7AHwAfAB8AH4AfgB/AH8Afz/AwAA/wP/B/8H/w//F/8j/yv/M/83/zf/N/83/zP/N/83/zP/N/83/zv/P/8//0P/R/9H/0f/R/9D/z//N/8z/zP/M/8z/zf/N/83/zv/N/8z/y//K/8r/yf/J/8n/yf/K/8v/y//N/83/zf/N/8z/zf/L/8r/yP/H/8f/xv/G/8X/xv/H/8b/xf/D/8L/wMAAAH8AfQB9AH0AfAB8AHoAeQB4AHcAdgB1AHUAdgB2AHcAeAB4AHkAegB6AHoAewB7AHsAfAB9AH8AAD/A/8L/xP/G/8j/yP/K/8z/zf/N/8//0P/R/9L/0v/S/9L/1P/U/9T/1f/W/9b/1f/U/9T/1P/T/9L/0P/P/83/zP/K/8n/yf/J/8n/yP/H/8f/xv/F/8P/wv/B/8DAfwB+AH0AfQB8AHwAfAB9AHsAegB4AHcAdgB1AHQAdAB0AHMAcgByAHEAcgByAHMAcwB0AHQAdAB0AHMAcwBzAHMAcwBzAHQAdQB2AHcAeAB4AHkAegB7AHwAfQB/AAA/wP/C/8L/xP/G/8f/yf/L/8z/zf/O/87/zv/P/8//0P/R/9H/0P/P/8//zv/N/8z/zf/N/87/zv/N/83/zP/K/8n/yf/J/8f/x//G/8b/xv/G/8X/xP/E/8P/wf/B/8DAAAB/AH4AfwB/P8D/wf/C/8P/w//D/8P/wv/D/8P/xP/F/8b/x//I/8n/yv/J/8n/yf/K/8v/y//M/83/zv/O/8//z//O/87/zP/M/8v/yv/J/8n/yP/I/8j/yP/J/8r/yv/K/8r/yf/J/8n/yf/J/8v/y//M/8z/y//L/8v/yv/K/8r/yf/J/8j/x//H/8b/xv/F/8T/xP/D/8P/wf/AwAAAAAB+AH0AfAB7AHsAegB5AHcAdgB0AHIAcQBvAG4AbQBsAGwAawBqAGoAawBsAGwAbQBuAG4AcAByAHQAdQB3AHkAewB8AHwAfQB/AH8AfwAAP8D/wMAAAAAAAAAAAAAAfwAAAH8AfwB+AH0AfQB7AHsAegB6AHkAeAB3AHgAdwB2AHUAdAB0AHQAdAB0AHYAdgB2AHYAdgB2AHYAdgB3AHcAdwB3AHYAdgB4AHkAeQB6AHwAfAB8AH0AfAB9AH4AfwB/AH8AAAAAAAAAAAB/AH8AAAB/AAAAAAAAAAAAAAB/AH4AfgB+AH4AfgB/AH8AfwAAP8D/wf/B/8H/wf/B/8L/w//D/8P/xf/G/8b/x//I/8n/yf/J/8n/yf/I/8j/yP/G/8b/xf/E/8L/wf/B/8DAAAAAAH8AfgB+AHwAfAB7AHoAegB5AHkAeQB5AHgAdwB2AHUAdQB1AHQAdQB1AHUAdQB1AHYAdwB4AHkAeQB6AHoAeQB5AHkAewB8AH0AfgB/AAAAAD/A/8D/wP/B/8D/wf/B/8DAAAAAAH4AfgB9AH0AfQB9AH0AfgB9AHwAewB7AHoAegB6AHoAegB5AHoAeQB5AHkAeAB3AHYAdgB0AHMAcwByAHEAcQBwAG8AbgBtAG0AbQBtAGwAbQBuAG4AbgBtAG0AawBrAGkAaQBoAGgAaABnAGcAZwBmAGYAZgBmAGUAYwBjAGMAYwBkAGUAZwBpAGsAbABuAHAAcgBzAHQAdgB3AHgAeQB6AHwAfgB/AAA/wP/B/8D/wMAAAAAAAAAAAH8AAAB/AAAAAAAAAH8AfwAAAH8AfgB9AHsAewB7AHoAegB6AHoAegB6AHoAeQB5AHgAdwB2AHUAdABzAHMAdAB0AHUAdQB1AHQAdAB0AHQAcwByAHIAcgByAHMAdAB0AHUAdgB2AHcAdwB4AHgAeQB6AHoAegB6AHsAewB7AHsAewB7AHsAfAB9AH8/wP/B/8H/wv/C/8L/w//D/8T/xv/H/8j/yv/M/83/zv/O/87/zv/O/87/z//R/9H/0f/R/9H/0P/Q/8//0P/Q/8//zv/M/8r/yP/H/8b/xP/D/8L/wcAAAH4AfAB6AHcAdAByAHAAbgBtAGwAawBqAGkAZwBnAGYAZgBmAGUAZQBmAGYAZwBnAGcAaABpAGkAawBrAG0AbgBuAG8AcAByAHMAdAB1AHYAdgB2AHcAeAB6AHsAfAB9AH0AfgB/AAA/wP/A/8L/wv/C/8L/wv/D/8T/xP/F/8X/xv/G/8b/xf/E/8P/w//D/8T/xf/H/8j/yP/I/8f/xf/D/8H/wMB/AH4AfQB8AH0AfQB8AHsAewB6AHoAeQB4AHgAdgB1AHUAdABzAHQAcwB0AHUAdQB1AHUAdQB1AHYAdgB3AHgAegB7AHwAfQB+AH8/wP/A/8L/xP/F/8f/yf/K/8v/zf/N/87/0P/R/9H/0v/S/9H/0v/S/9L/0v/S/9L/0f/Q/9D/z//P/87/zv/O/87/zf/M/8z/y//L/8v/yv/K/8r/yv/K/8n/yf/J/8n/yP/I/8j/yP/H/8f/x//I/8n/yf/J/8n/yP/H/8f/xf/F/8P/w//C/8L/wf/BwAAAfwB+AH4AfQB9AH0AfQB9AHwAfAB8AHwAfAB9AH4AfwAAP8D/wf/C/8L/w//D/8P/w//D/8P/xP/E/8T/xP/F/8X/xv/G/8b/xv/G/8b/x//G/8b/xv/G/8X/xv/G/8X/xf/F/8T/xP/D/8P/wv/C/8H/wf/B/8D/wP/AwAAAfwB9AHwAfAB7AHoAegB5AHgAdwB4AHcAeAB4AHgAeQB6AHoAegB7AHwAfQB+AH4AfwB/AAAAAD/A/8D/wf/C/8P/w//E/8X/xf/F/8X/xf/F/8X/xf/G/8f/x//H/8f/x//H/8f/xv/G/8b/xv/G/8f/x//H/8j/x//I/8j/yP/J/8n/yf/J/8r/yf/K/8r/y//M/8z/zf/O/87/zv/O/87/zv/N/8z/y//L/8r/yf/J/8j/yP/I/8j/xv/F/8X/xP/D/8L/wv/B/8H/wf/B/8D/wf/B/8H/wP/B/8H/wv/B/8P/xP/F/8b/x//J/8r/y//L/8z/zf/O/8//0f/R/9L/0v/T/9L/0//T/9P/0//T/9P/0//S/9L/0f/Q/8//zv/N/8z/yv/J/8j/x//G/8X/xf/F/8T/xP/E/8P/w//D/8L/wv/C/8L/wf/B/8H/wf/C/8L/wv/D/8P/w//B/8H/wMAAAAAAAAB/AH8AfgB+AH4AfgB+AH4AfgB9AHwAewB7AHsAfAB8AHwAfQB+AH4AfgB9AH0AfgB+AH4AfgB/P8D/wf/C/8P/w//E/8T/xP/E/8X/xv/H/8j/yP/J/8r/yv/K/8n/yf/J/8j/yP/I/8n/yP/H/8b/xf/D/8L/wMAAAAAAAAB/AH8AfgB8AHsAeQB4AHcAdwB2AHYAdQB1AHQAcwByAHIAcgBzAHMAdAB1AHUAdgB2AHgAeAB5AHoAewB8AH0AfgAAAAA/wf/B/8L/wv/C/8P/w//D/8T/xP/E/8T/xP/F/8X/xP/D/8L/wMB/AH4AfgB8AH0AfQB9AH0AfAB8AH0AfgB/AH8AAD/B/8H/wv/D/8T/xf/G/8f/yP/J/8r/yv/L/8z/zP/N/83/zf/N/87/zv/O/87/zf/M/8v/yf/I/8f/xv/E/8P/wv/BwAAAfwB9AHwAegB5AHcAdgB1AHQAdABzAHIAcgBwAG8AbwBuAG0AbQBuAG4AbwBwAHAAcQByAHMAcwBzAHQAdQB2AHcAeAB5AHoAewB8AHwAfAB9AH0AfQB9AH0AfQB8AHsAegB7AHsAewB7AHsAewB7AHsAegB7AHsAfAB8AH0AfgB+AH4AfgB+AH4AfgB+AH0AfQB9AH4AfQB+AH4AfgB/AH8AfwB/AH8AfgB+AH0AfQB8AH0AfgB+AH8AfwB/AH4AfgB/AH8AfwB+AH4AfgB9AHwAfAB8AHwAfAB8AHwAfAB7AHsAewB7AH0AfQB+AH8AAD/A/8H/wv/E/8T/xf/G/8f/x//J/8n/yf/K/8r/y//K/8r/y//K/8r/yv/K/8r/yf/J/8j/x//H/8f/x//H/8f/x//H/8X/xf/E/8T/w//D/8P/wv/C/8L/wv/C/8L/wv/B/8H/wP/A/8H/wP/B/8H/wP/B/8H/wf/C/8P/w//E/8X/xv/G/8f/yP/I/8j/yf/I/8j/x//H/8f/x//G/8b/xP/E/8P/wv/B/8D/wP/A/8DAAAAAAAAAfwB/AH8AfwB/AAAAfwAAAAAAAD/A/8H/wf/C/8P/w//D/8P/w//E/8X/xP/E/8X/xv/G/8b/xv/G/8b/xv/F/8T/w//C/8H/wP/B/8H/wf/AwAAAfwB+AH0AewB6AHkAeQB5AHgAeAB5AHkAegB6AHoAewB7AHsAegB6AHoAeQB5AHoAegB7AHoAewB6AHoAewB7AHsAewB7AHsAewB7AHsAewB8AHwAfAB8AH0AfQB9AH0AfAB8AHsAewB7AHsAewB8AHwAfAB8AHwAewB7AHsAfAB8AH0AfgB/AAAAAD/A/8D/wP/B/8L/w//E/8T/xP/F/8b/x//H/8j/yv/K/8v/y//L/8z/zP/N/83/zf/N/83/y//L/8r/yv/K/8n/yP/I/8f/xv/G/8X/xf/E/8X/xf/E/8X/xf/F/8X/xv/H/8f/yP/I/8j/yP/H/8j/yP/J/8r/y//N/87/z//P/8//0P/P/9D/z//O/87/zv/N/8z/y//L/8n/yP/G/8X/w//BwAAAfgB9AHwAegB5AHkAeAB3AHcAdwB3AHcAdwB4AHgAeAB4AHgAeQB5AHoAegB7AHwAfQB+AH8AAAAAAH8AAAB/AAAAAAB/AAAAAD/A/8D/wP/AwAAAfwB+AH4AfAB8AHwAewB6AHoAegB5AHgAdwB3AHYAdgB1AHQAcwBzAHIAcwBzAHQAdQB2AHcAeAB5AHkAegB6AHoAewB9AH4AAD/A/8D/wP/A/8D/wP/AwAAAAAAAAAAAfwB/AH8AfgB+AH4AfQB+AH0AfQB8AHwAfAB8AHwAewB7AHsAegB7AHsAewB7AHwAfAB9AH0AfgB/AH8AfwAAAAA/wf/B/8L/xP/F/8b/yP/J/8n/yv/J/8n/yP/I/8f/x//H/8b/x//G/8f/xv/G/8b/xf/E/8P/wv/C/8D/wMAAAH8AfwB+AH4AfgB+AH0AfgB+AH4AfgB/AAA/wP/A/8H/wv/C/8L/wv/D/8P/xP/E/8X/xv/G/8f/x//H/8j/yP/I/8j/yP/J/8n/yf/J/8n/yf/J/8r/yv/K/8n/yf/J/8j/yP/H/8f/xv/F/8T/w//D/8P/wv/B/8H/wf/AwAAAAAAAAAAAAAAAAAA/wP/B/8H/wv/C/8P/w//E/8T/xf/F/8T/w//C/8H/wf/B/8H/wf/B/8H/wf/AwAAAfwB+AH4AfAB7AHoAegB5AHkAeQB6AHoAegB7AHwAfQB9AH0AfQB+AH4AfwAAAAA/wf/C/8L/w//D/8P/xP/E/8X/xv/G/8b/xv/G/8X/xf/G/8b/x//H/8b/xv/F/8P/wv/BwAAAAAB/AH4AfgB+AH4AfgB8AHsAegB6AHkAeAB4AHgAeAB5AHkAeQB6AHoAewB7AHwAfAB9AH0AfQB9AH4AfwAAP8D/wf/D/8T/xf/F/8b/xv/G/8f/yP/J/8r/yv/K/8r/yf/K/8r/yv/L/8z/zP/M/8z/yv/K/8n/yf/J/8j/yf/K/8r/yv/K/8v/y//L/8z/zf/O/8//z//P/87/zv/N/83/zf/M/83/zv/O/9D/0P/Q/8//zv/O/83/zP/L/8v/y//K/8n/yP/I/8f/xv/E/8P/wcAAAH8AfgB9AH0AfAB8AHsAegB5AHkAeAB5AHoAegB7AHwAfAB8AHwAfAB9AH0AfQB+AAA/wP/C/8T/xf/H/8f/yP/I/8j/x//H/8f/xv/G/8f/x//I/8n/yP/H/8b/xP/D/8L/wMAAAH8AfgB9AHsAfAB6AHoAeQB5AHkAeQB5AHkAeQB6AHoAegB5AHoAegB8AH0AfgB/P8D/wMAAAAAAfgB+AH0AfQB9AHwAfAB8AHsAewB6AHoAegB4AHgAeAB4AHgAeAB4AHgAeAB4AHcAeAB3AHkAeQB5AHoAewB7AHwAfAB8AH0AfgB+AH8AfwAAP8D/wP/A/8H/wv/D/8T/xf/F/8b/x//I/8j/yP/I/8n/yf/J/8j/x//G/8b/xP/D/8L/wv/B/8DAAAB/AH4AfQB7AHoAeAB3AHYAdQB0AHUAdQB2AHcAdwB5AHkAegB6AHsAfAB9AH4AfgB/AAAAAAAAP8D/wP/B/8H/wf/A/8D/wP/AwAA/wMAAP8D/wP/A/8H/wf/B/8L/wv/C/8L/w//C/8T/w//D/8T/w//D/8L/wf/AwAAAfwB+AH0AfgB+AH4AfwB/AAA/wP/B/8H/w//D/8T/xf/F/8X/xf/E/8T/xP/D/8T/w//E/8P/wv/AwAAAfgB9AHwAfAB7AHoAegB5AHkAdwB2AHQAdAB0AHQAdAB0AHQAdQB1AHYAdwB3AHcAdwB2AHcAdgB2AHYAdwB4AHgAeAB4AHkAeAB4AHkAeAB4AHgAeQB4AHkAeQB6AHsAewB8AHwAewB6AHgAeAB4AHgAeAB5AHoAegB6AHoAegB5AHkAeQB5AHkAegB6AHoAewB7AHsAewB8AHwAfAB9AH0AfgB9AH0AfgB+AH4AfgB+AH4AfgB+AH0AfQB+AH4AfQB+AH0AfQB8AHwAfAB7AHwAfAB7AHwAfAB8AH0AfQB9AH0AfgB+AH8AfwAAAAAAAD/A/8H/wv/D/8T/xP/F/8T/xf/G/8f/yP/J/8r/y//M/83/zv/P/8//z//P/8//z//N/83/zP/M/8v/y//K/8v/yv/K/8j/xv/E/8LAAAB+AH0AfAB8AHwAewB7AHsAegB6AHkAeQB5AHcAdgB1AHUAdQB1AHUAdgB3AHgAeAB5AHoAewB7AHwAfAB7AHsAegB6AHoAewB7AHwAfQB9AH4AfQB9AHwAewB7AHsAewB6AHoAegB5AHkAdwB3AHYAdQB1AHUAdgB2AHcAdwB4AHkAeQB6AHoAewB8AH0AfgB/AAA/wP/A/8L/wv/D/8L/wv/B/8L/wv/D/8P/w//C/8H/wMAAAH8AfQB8AHsAegB5AHgAdwB2AHUAcwByAHEAcABvAG0AbQBrAGoAaQBpAGgAaABpAGkAagBqAGoAagBsAGwAbgBuAG8AcQByAHMAdAB2AHgAeQB7AHwAfgB/AH8AAD/A/8D/wf/B/8H/wf/B/8D/wP/A/8D/wP/B/8D/wP/AwAAAAAAAAH8AfwB+AH0AewB7AHoAegB6AHsAegB7AHsAegB5AHkAeAB3AHcAeAB4AHkAegB6AHoAegB5AHkAeAB3AHcAdwB3AHcAdgB3AHYAdgB2AHQAdABzAHIAcQBxAHEAcQByAHEAcgBzAHQAdAB0AHQAdQB1AHYAdgB3AHcAdwB4AHgAeQB6AHoAewB8AHwAfAB8AHwAfAB8AH0AfQB+AH0AfgB+AH0AfQB8AHsAewB7AHoAeQB5AHoAegB5AHkAeAB3AHYAdABzAHMAcwByAHAAcABvAG0AbABrAGwAawBrAGoAagBrAGoAagBpAGkAaQBpAGkAagBrAGsAbABsAGwAbABtAGwAbABsAGwAbABtAG0AbQBuAG8AbgBvAG8AbwBvAG8AbwBuAG4AbgBvAG8AcABwAHEAcgByAHMAdAB0AHUAdgB2AHYAdgB3AHcAeAB4AHkAegB6AHsAfAB9AH0AfwB/AAAAAAB/AH8AfgB9AH4AfgB+AH8AfwB/AAA/wMAAAAAAfwB+AH0AfQB8AHsAegB6AHkAeQB4AHgAeAB4AHYAdgB2AHYAdwB2AHcAeQB5AHoAewB8AH0AfgB+AH4AfwB/AH4AfgB/AH8AfwB/AAAAfwB/AH8AfgB+AH0AfQB9AHwAfQB8AHsAewB5AHkAeQB5AHgAeQB6AHoAegB6AHoAeQB5AHkAeQB5AHkAegB7AH0AfgAAP8D/wf/C/8L/w//C/8P/wv/C/8L/wv/D/8P/xP/D/8P/w//C/8L/wf/AwAAAfwB/AH4AfgB9AHwAegB5AHcAdgB1AHQAcwByAHEAcABwAG8AcABwAHEAcgByAHMAcgBzAHIAcgByAHIAcwBzAHMAdAB2AHYAdwB4AHgAeQB6AHoAewB8AHwAfQB9AH4AAAAAAAAAfwB/AH4AfgB9AH0AfAB8AHwAfAB7AHsAewB7AHoAeQB4AHcAdgB2AHQAdAB1AHQAdQB1AHYAdgB3AHgAeAB6AHoAewB8AHwAfQB9AH0AfgB/AAAAAD/A/8H/wf/B/8H/wv/A/8DAAAAAAH8AfwB/AH8AAAAAP8D/wP/A/8H/wv/C/8L/wv/C/8L/wv/C/8T/xP/E/8X/xf/G/8f/x//H/8j/yP/I/8j/yP/I/8r/y//L/8z/zP/N/83/y//K/8r/yv/J/8n/yP/I/8f/x//G/8f/xv/H/8b/xv/F/8T/wv/B/8H/wf/C/8L/w//E/8X/xf/F/8X/xP/E/8X/xf/F/8b/x//J/8n/y//M/8z/zP/N/83/zv/O/8//z//Q/9D/z//O/83/zP/L/8r/yf/I/8j/x//G/8T/xP/E/8P/wv/BwAAAfwB+AH0AfAB8AHwAewB7AHoAegB5AHgAeAB4AHkAegB6AHsAfAB8AH0AfgB+AH4AfgB9AHwAfAB9AH0AfgB+AH4AfwB/AH4AfgB+AH0AfAB7AHoAeQB4AHgAdwB3AHYAdgB2AHYAdgB2AHUAdAB0AHMAdAB0AHUAdgB2AHYAdgB2AHcAdwB3AHcAeAB5AHkAegB7AHsAfAB9AH4Afz/A/8H/wv/D/8P/xP/E/8X/xv/G/8f/yP/H/8j/yP/H/8f/xv/F/8X/xP/E/8P/w//D/8L/wv/B/8H/wf/A/8D/wP/B/8L/wv/C/8L/wf/B/8H/wf/B/8L/wv/E/8T/xf/G/8f/x//I/8j/x//H/8b/x//G/8f/x//H/8j/yf/J/8j/yP/H/8X/xf/E/8T/w//D/8L/wv/B/8D/wP/AwAAAAAAAAAAAAAB/AH8AfwB/AH8AfgB/AAA/wP/B/8H/w//E/8P/w//D/8T/xP/D/8T/xP/E/8T/w//E/8T/w//D/8H/wP/AwH4AfQB7AHoAeQB4AHcAdwB3AHYAdgB1AHUAdQB0AHMAcgBxAHEAcABxAHEAcgByAHMAdAB0AHUAdgB2AHcAdwB3AHcAdwB2AHYAdwB3AHgAeAB5AHkAegB6AHoAegB6AHoAegB5AHkAeAB4AHcAdwB4AHgAeQB5AHkAeQB5AHkAeQB5AHgAeAB5AHsAfAB8AH4AfgB/AH8AfwAAP8D/wf/C/8P/xP/F/8b/xv/G/8b/x//H/8f/x//H/8f/xv/G/8X/xf/E/8T/w//C/8H/wcAAAH8AfgB+AH0AfQB8AHsAewB6AHkAeQB4AHgAeQB5AHoAegB7AHwAfQB9AH4AfgAAAAA/wf/D/8X/x//I/8r/y//M/83/zP/M/8z/zP/M/8v/zP/M/8z/zP/M/8z/y//K/8n/yf/H/8b/xf/E/8P/wv/C/8H/wf/C/8L/w//D/8P/w//D/8P/wv/D/8T/xP/F/8f/yf/L/8z/zf/O/8//z//P/8//0P/Q/9D/0f/S/9L/0f/S/9D/0P/P/8//zf/M/8z/y//K/8j/x//F/8T/w//B/8DAfwB+AH0AfAB7AHoAeQB4AHcAdgB1AHQAdAB0AHUAdgB2AHgAegB7AHwAfQB8AH0AfgB/AH4AfgB/AAA/wP/A/8H/wv/D/8P/wv/AwAAAAAB/AH4AfQB9AH0AfAB7AHoAeQB5AHcAdwB2AHUAdQB0AHQAdAB0AHUAdQB1AHYAdwB4AHcAdwB3AHcAeAB4AHkAegB8AH0AfgB/AH8AfwB/AH4AfwB+AAAAfz/A/8H/wf/C/8L/wv/C/8DAAAAAAH8AfwB+AH4AfwB/AH8AAAAAAAAAAAB/AH8AfwAAP8D/wf/B/8P/xP/E/8T/xP/E/8X/xf/F/8b/x//I/8j/yf/K/8v/zP/M/8z/zf/N/87/zf/N/83/zf/N/8z/zP/L/8v/yf/I/8f/xv/F/8T/xP/E/8P/xP/D/8P/w//D/8L/wf/B/8L/wv/D/8X/x//I/8n/yv/L/8v/zP/L/8z/zP/M/83/zf/O/8//0P/R/9L/0v/T/9P/0v/Q/8//z//O/83/zf/N/83/zf/M/8v/yv/J/8j/xv/F/8P/wsAAAH8AfgB+AH0AfAB7AHoAeQB4AHYAdQB1AHUAdQB1AHYAdwB4AHkAegB8AH0AfgB/AAA/wP/B/8D/wf/B/8D/wP/B/8D/wP/A/8DAfwB/AH0AfAB6AHkAeAB3AHUAdQB0AHMAcwBzAHIAcgByAHIAcgByAHIAcwB0AHQAdAB2AHYAdwB4AHoAewB8AH0AfQB9AH4AfgB+AH8AAD/A/8H/wv/D/8L/w//D/8P/w//D/8P/wv/AwAAAAAB/AH8AfwB+AH4AfQB7AHoAeAB4AHYAdQB0AHUAdQB1AHYAdgB3AHgAeAB5AHoAegB6AHwAfAB9AAAAAD/B/8L/xP/E/8T/xP/E/8X/xf/G/8j/yP/I/8n/yf/J/8n/yP/I/8f/xv/H/8f/x//I/8j/yf/J/8j/yf/I/8j/x//H/8j/yP/I/8j/yf/J/8n/yv/K/8r/yv/K/8r/y//L/8z/zP/M/8z/zf/O/87/zv/O/87/zf/N/83/zf/N/8z/zP/L/8n/yP/H/8T/wsAAAH8AfgB9AHsAegB6AHkAeAB3AHcAdwB3AHcAdwB3AHcAdwB3AHgAeAB5AHkAegB7AHsAfAB8AHwAfQB+AH8AAAAAAAA/wP/A/8D/wP/B/8H/wf/B/8L/wf/B/8DAAAAAAH8AfgB9AHsAegB5AHgAdgB1AHUAdABzAHIAcgBxAG8AbwBtAG0AbQBtAG4AbwBwAHAAcgByAHQAdAB1AHYAdwB4AHkAegB7AHsAewB8AHsAewB6AHsAewB7AHsAegB5AHgAdwB3AHcAdgB3AHgAeAB4AHgAeAB3AHgAeAB4AHgAeAB4AHgAeAB5AHkAegB6AHoAewB8AH0AfwAAAAA/wP/B/8H/wv/C/8P/xP/F/8T/xf/G/8b/xv/F/8X/xf/F/8X/xf/E/8P/w//C/8L/wf/B/8DAAAB/AH4AfQB8AHwAegB7AHsAewB8AH0AfgB/AAAAAD/A/8H/wf/B/8L/w//E/8b/yP/J/8r/yv/K/8r/yv/K/8n/yv/L/8v/y//L/8v/y//K/8r/yv/J/8j/x//F/8X/xP/D/8P/w//C/8L/wf/B/8DAAAB/AH4AfQB9AH0AfQB+AH4Afz/A/8H/wf/C/8H/wv/D/8P/w//E/8X/xf/G/8X/xv/G/8b/xv/F/8X/xP/E/8P/w//C/8L/wv/C/8H/wP/AwAAAfgB9AH0AfAB8AHsAewB8AHsAewB7AHoAeQB4AHgAeAB4AHkAegB8AH4AAD/A/8L/w//D/8T/xf/F/8b/x//I/8n/y//M/83/zv/O/87/zf/N/8z/y//K/8n/x//G/8T/xP/E/8T/w//B/8DAAAAAAH8AfgB+AH4AfgB+AH4AfwAAP8D/wv/D/8T/xf/H/8f/x//I/8n/y//M/87/0P/R/9L/0//U/9T/1f/W/9f/2f/a/9r/2v/b/9r/2//a/9n/2P/X/9b/1f/V/9P/0//T/9L/0f/R/9D/z//P/87/zf/N/83/zP/N/8z/zf/M/8z/zP/L/8v/y//M/83/zv/P/8//z//Q/9H/0v/S/9L/0//T/9L/0//U/9X/1f/U/9T/1P/T/9P/0//T/9L/0P/O/83/zP/L/8n/yv/K/8r/y//K/8v/y//K/8r/yf/J/8n/yP/J/8n/yv/K/8r/yv/K/8r/yv/K/8r/yv/J/8n/yP/I/8j/yP/I/8j/yP/I/8j/x//F/8P/wv/C/8H/wMAAAAA/wMAAAH8AfgB8AHwAewB6AHoAewB7AHwAfQB+AAAAAAB/AH8AfgB+AH4AfgB/AH8AAD/A/8D/wP/A/8H/wf/C/8H/wf/BwAAAAAAAAAAAAAAAP8H/wMAAAH8AfQB8AHoAdwB3AHYAdAB0AHMAcgBxAHEAcABwAHAAbwBwAG8AbwBwAHEAcgBzAHQAdgB4AHoAewB8AH4AAD/A/8H/w//F/8X/xv/G/8f/x//H/8f/x//I/8j/yP/H/8b/xf/E/8P/wv/B/8DAAAAAAAAAAAAAAH8AAAB/AH4AfQB7AHoAegB5AHkAeAB4AHgAeQB5AHoAewB7AHwAfAB8AHwAfgB/AAA/wP/B/8L/xP/E/8b/x//I/8j/yf/J/8r/yv/L/8v/zP/M/8z/y//L/8n/yf/I/8f/yP/H/8f/x//G/8b/xv/G/8T/xP/E/8P/w//D/8L/wv/C/8H/wv/C/8P/w//D/8T/xP/E/8T/xP/E/8T/xf/F/8b/x//H/8f/x//H/8b/xf/F/8X/xP/E/8T/xP/E/8T/xP/E/8T/w//BwAAAfwB+AHwAewB6AHoAegB6AHkAeQB3AHYAdQB0AHMAcgBxAHEAcQByAHIAcgByAHMAcwB0AHQAdQB2AHcAeAB4AHgAeQB5AHgAeQB5AHkAeQB5AHoAeQB6AHoAegB6AHoAeQB5AHcAdwB2AHUAdQB1AHYAdwB4AHgAeQB6AHsAewB8AHwAfAB7AHsAewB8AHwAfgB/AAA/wP/B/8H/wf/B/8H/wf/B/8L/w//C/8H/wf/A/8D/wP/AwAA/wP/B/8H/wMAAAH8AfwB+AH0AfQB9AH4AfgB+AH4AfgB+AH4AfgB+AH0AfgB+AH4AfgB+AH8AAD/A/8D/wP/B/8H/wv/B/8H/wP/A/8D/wP/B/8L/w//F/8b/x//G/8X/w//BwAAAfgB+AH4AfgB+AH4AfwB9AHwAewB6AHkAeAB4AHgAdwB4AHgAeQB6AHwAfz/A/8L/xP/F/8X/xf/F/8T/xP/F/8b/yP/J/8r/y//L/8r/yP/H/8f/x//H/8n/yv/L/8r/yP/G/8P/wMB/AHwAewB7AHoAeQB4AHgAdwB2AHUAdQB0AHQAcwBxAHEAcQBzAHQAdQB3AHgAeAB3AHYAdgB2AHcAdwB4AHgAeQB5AHkAeQB5AHoAewB9AAA/wf/D/8X/xP/D/8H/wcAAAH8AfwB/AH8AAAB/AH8AfgB9AHoAeAB3AHUAdAB0AHQAcwByAHIAcABvAG4AbgBtAG4AbwBwAHIAdAB2AHgAegB6AHsAewB7AHoAegB6AHoAegB7AHwAfQB9AH0AfQB8AHsAegB6AHoAegB7AHwAfAB8AH0AfAB8AHwAewB7AHsAewB6AHoAewB8AH4AfgB+AH8AfgB8AHwAfAB9AH4AAD/A/8L/wv/B/8DAfwB/AAA/wP/B/8T/x//J/8r/yv/I/8f/xf/E/8X/xv/H/8n/yf/J/8j/xv/F/8P/wv/C/8P/xP/G/8f/x//G/8X/w//C/8H/wP/B/8P/xP/H/8j/yP/J/8j/yP/H/8f/x//H/8f/x//H/8j/yP/H/8b/xv/F/8T/xP/E/8b/xv/G/8T/xP/D/8H/wMAAAAAAAAAAAH8AfwAAAH4AfgB9AHwAewB7AHoAeQB5AHkAeQB6AHsAfQB+AAA/wf/C/8L/w//E/8T/xP/E/8T/xf/E/8P/w//E/8T/xP/E/8X/xf/G/8X/xf/E/8P/wf/AwAAAAAAAAAAAAAAAAH8AfQB7AHoAeAB4AHkAewB8AHwAfAB8AHoAeAB2AHYAdgB2AHcAeAB6AHsAfAB9AH0AfQB8AHwAewB8AHwAfQB9AH4AfgB/AH4AfgB+AH0AfAB7AHsAegB7AHsAfQB9AH0AfQB8AHkAeAB2AHUAdQB1AHUAdQB1AHYAdgB3AHgAeQB6AHoAegB6AHkAdwB3AHYAdgB2AHcAeAB5AHoAegB6AHsAfQB9AH8AAD/A/8D/wMAAAH4AfQB8AHsAegB6AHsAewB7AHoAewB7AHoAeQB4AHgAdgB2AHQAdQB1AHYAdQB2AHYAeAB4AHkAeQB7AHoAewB6AHoAegB6AHoAfAB+AAA/wv/D/8X/xv/G/8b/xf/F/8X/xf/E/8P/wv/BwAAAfwB+AH0AfAB7AHoAegB6AHoAeQB5AHkAeAB3AHcAdgB1AHMAcgBxAHAAbgBtAG4AbgBvAHAAcQByAHMAcwB0AHUAdAB0AHUAdAB0AHMAcwB0AHQAdQB2AHcAeAB4AHcAdwB2AHYAdgB2AHcAdgB2AHUAcwByAHIAcQBxAHAAcABvAG4AbgBvAHAAcgBzAHQAdQB2AHUAdQB1AHUAdAB1AHUAdwB4AHkAegB6AHsAewB8AHwAfQB+AH4AfgB+AH4AfAB8AHsAfAB7AHsAegB5AHkAdgB1AHQAcwBzAHUAdQB2AHcAdwB3AHcAdgB2AHYAdwB4AHoAewB8AH4AfgB/AAA/wP/A/8L/w//F/8b/yP/K/8v/zP/N/8z/yv/J/8b/xf/D/8P/w//C/8L/wv/C/8L/wv/C/8L/wv/C/8H/wP/AwAAAAAAAP8D/wf/C/8T/xv/J/8n/yv/K/8v/yv/L/8z/zv/Q/9H/0//T/9T/1f/U/9X/1v/W/9f/2P/Y/9n/2v/a/9r/2v/Y/9j/1v/W/9P/0v/Q/87/zP/K/8n/yf/J/8j/xv/E/8L/wMB/AH0AfAB7AHsAewB8AHwAewB7AHsAewB7AH4AfwAAP8H/w//E/8X/xf/G/8X/xv/H/8f/yP/J/8r/y//L/8v/yv/K/8n/yP/G/8X/xP/D/8L/wv/B/8H/wf/AwH8AfwB+AH4AfgB9AH0AfQB9AHsAewB7AHsAfAB8AHwAfgB/AAA/wP/C/8P/w//D/8P/w//C/8L/w//E/8b/x//I/8n/yf/K/8r/yv/K/8n/yP/G/8X/xP/C/8L/w//C/8P/w//C/8H/wMB/AH4AfAB8AHoAewB8AH4Afz/A/8H/wv/B/8D/wMAAP8D/wP/C/8H/wv/C/8L/wf/A/8D/wf/C/8P/xP/F/8X/xv/F/8T/w//C/8H/wP/A/8DAAAB/AH8AfwB+AH0AfAB8AH4AfwB/AAA/wP/A/8DAAAAAP8D/wf/B/8H/wf/B/8L/wv/D/8P/xf/F/8b/xv/H/8f/x//H/8b/xv/F/8X/xf/E/8P/w//D/8P/w//D/8P/wv/C/8L/wf/B/8D/wP/AwAAAfwB9AHsAegB5AHgAdwB3AHcAdwB3AHcAdwB2AHcAdwB2AHYAdwB3AHgAeQB7AH0AfwAAP8D/wf/B/8H/wf/C/8L/wv/C/8P/wv/C/8L/wf/B/8DAAAB/AH8AfgB+AH4AfwB/AAAAAAAAAH8AfwB9AHwAewB7AHsAegB6AHoAegB6AHoAegB6AHoAegB6AHoAewB8AHwAfAB7AHsAewB7AHsAfAB+AAAAfwAAAH8AfgB8AHsAegB6AHoAewB8AH0AfQB9AH0AfAB7AHsAewB7AHwAewB8AH0AfwAAP8D/wP/A/8H/wv/C/8P/xP/F/8f/x//I/8n/yv/L/8v/zP/N/8z/zP/M/8z/y//M/8z/zP/N/83/zv/O/83/y//J/8f/xv/F/8X/xf/G/8b/xv/F/8T/w//C/8H/wf/A/8DAAAAAAAAAAAAAP8H/wv/D/8X/xv/G/8f/xv/H/8f/x//I/8n/y//M/83/zv/Q/9D/0P/Q/9H/0v/U/9X/1v/W/9X/1P/U/9L/0P/Q/87/zf/M/8v/yf/H/8X/w//C/8H/wMAAAAAAAAAAAH8AAAAAAAAAAD/A/8H/wf/D/8P/w//E/8X/xf/E/8T/w//C/8L/wv/E/8X/xv/H/8j/yP/H/8b/xv/F/8X/xP/E/8T/w//C/8DAAAB/AH4AfQB8AHsAewB6AHsAegB6AHsAegB7AHsAfAB8AH0AfAB7AHsAfAB8AH0AfwAAP8D/wf/B/8H/wP/AwAAAAAB/AH8AAAAAAAA/wP/AwAAAAAB+AHwAegB3AHYAcwBzAHMAcwB0AHUAdgB1AHUAcwByAHEAcgBzAHQAdgB3AHcAdwB3AHYAdwB2AHcAeAB4AHoAewB8AH0AfgB+AH8AfgB+AH4AfAB8AHsAewB8AH0AfQB+AH4AfgB9AHsAegB5AHgAeAB3AHYAdgB2AHUAdAB0AHQAdAByAHIAcgByAHEAcgByAHMAcwB0AHUAdgB3AHgAeQB6AHsAfAB8AHwAfQB+AH8AAD/A/8H/wv/D/8T/xP/E/8P/xP/E/8T/xf/E/8T/xf/F/8T/xP/E/8T/xP/D/8L/wv/BwAAAfwB+AH0AfAB6AHkAeQB6AHoAegB6AHsAewB8AHwAfAB9AH4Afz/A/8H/wv/D/8P/w//D/8P/xP/E/8X/xf/G/8b/xf/E/8L/wcAAAH8AfgB+AH4AfgB+AH4AfQB9AH0AfAB7AHsAeQB4AHcAdgB1AHQAcwBzAHMAcgBzAHMAcwBzAHQAdAB0AHUAdQB1AHUAdAB1AHQAdQB2AHcAeAB4AHkAegB7AHsAewB8AHwAfAB9AH4AfgB+AH4AfQB9AHwAfAB8AH0AfQB+AHwAfAB8AHsAewB6AHsAewB9AH4AAD/A/8D/wMAAP8D/wMAAP8D/wv/D/8T/xf/H/8j/yP/I/8j/x//I/8j/yf/J/8n/yf/J/8n/yf/I/8j/x//H/8b/xP/D/8P/wv/C/8H/wf/B/8H/wP/A/8D/wP/B/8D/wf/B/8L/wf/B/8H/wf/B/8H/wf/D/8P/w//E/8T/xP/F/8b/xv/G/8b/xv/G/8b/x//I/8n/yv/L/8v/y//K/8j/x//F/8T/w//D/8L/wv/C/8L/wv/D/8L/wf/B/8DAAAAAAAA/wP/A/8H/wv/C/8P/wv/C/8L/wf/A/8DAAD/A/8D/wf/B/8H/w//E/8T/xf/F/8X/xf/F/8X/xP/E/8T/xP/D/8L/wf/B/8DAAAB/AAAAfwB/AH4AfgB9AHwAewB7AHoAeQB5AHgAeAB3AHgAeQB5AHkAeQB5AHkAeQB5AHkAeQB6AHsAewB7AHsAewB7AHoAegB6AHoAegB6AHoAegB6AHkAeQB4AHgAeAB4AHcAdwB3AHYAdgB2AHYAdgB2AHYAdQB2AHYAdwB3AHcAeAB3AHYAdgB2AHcAeAB5AHoAewB8AH0AfQB+AH4AfgB+AH8AfwB/AH4AfgB+AH0AfQB8AH0AfQB+AH4AfgB+AH4AfwB+AH4AfQB+AH8AfgB/AAA/wP/AwAAAfwAAAH8AfwB+AH0AfgB+AH4AfQB+AH4AfgB+AH8/wP/B/8L/w//D/8P/w//E/8P/w//D/8P/w//E/8T/xf/H/8f/x//I/8f/xv/F/8T/xP/D/8P/w//E/8T/xP/E/8P/wv/AwAAAfgB9AHwAfAB9AHwAfQB+AH8AAD/A/8D/wP/B/8H/wf/B/8H/wf/B/8L/wv/C/8T/xP/F/8b/x//I/8j/yf/J/8j/yP/I/8j/yP/H/8f/x//F/8X/xP/E/8T/xP/E/8P/wv/C/8H/wMAAAH4AfgB+AH4AfgB+AH4AfQB+AH8AfwB/P8D/wP/A/8D/wMAAAAAAfwAAP8D/wv/C/8T/xP/F/8X/xP/D/8P/wv/D/8L/w//D/8L/wv/C/8L/w//D/8P/w//D/8L/wv/C/8H/wf/C/8L/xP/F/8X/xv/G/8b/xf/E/8T/xf/F/8X/xv/H/8j/yf/K/8v/zf/O/8//0f/S/9P/1P/U/9X/1P/U/9T/1P/U/9P/0//T/9L/0v/R/9D/z//O/83/zP/K/8r/yf/I/8f/x//H/8b/xf/F/8X/xf/E/8T/xP/G/8b/xv/H/8j/yP/I/8j/x//I/8j/yP/I/8f/x//G/8T/w//C/8L/wv/B/8DAAAAAAAAAfwB/AH8AfwB/AH8AfwB/AH4AfgB9AH0AfQB9AH0AfQB+AH4AfwB+AH4AfgB+AH4AfwB/AAA/wP/C/8L/wv/C/8L/wv/D/8P/w//D/8T/xP/E/8T/xP/F/8T/xf/F/8X/xf/F/8T/w//C/8HAAAB/AH0AfAB6AHkAdwB1AHUAdAB0AHMAcwByAHIAcgByAHEAcQByAHEAcgByAHMAdQB1AHUAdQB1AHYAdgB3AHgAeQB5AHkAeAB3AHcAdgB1AHQAcwB0AHMAcgByAHMAcwBzAHMAcwBzAHMAcgBxAHAAcABwAHEAcQByAHQAdAB2AHYAdwB4AHgAeAB5AHoAewB9AH0AfgB/AAAAAAAAP8D/wP/B/8H/wv/C/8P/w//D/8P/w//D/8L/wv/B/8DAAAB/AH4AfQB8AHsAegB5AHgAdwB2AHUAdABzAHMAcwByAHIAcgByAHEAcQBxAHAAcABvAHAAcQByAHMAdAB1AHcAeAB5AHsAfAB9AH4AfwAAP8D/wf/B/8L/wv/D/8T/w//D/8T/xf/E/8T/w//D/8L/wf/A/8D/wP/A/8H/wf/C/8H/wv/B/8H/wf/AwAAAfwB+AH8AfwB/AH4AfgB/AH4AfgB9AH4AfgB+AH4AfgB/AH8AAD/A/8D/wf/B/8H/wf/A/8DAAAB/AH4AfQB9AHwAewB7AHsAewB6AHkAeAB4AHcAdQB0AHMAcgByAHIAcgBzAHQAdAB0AHQAdAB1AHYAdwB4AHoAegB6AHsAewB9AH0AfgB/P8D/wf/C/8P/xP/E/8P/wv/B/8H/wf/B/8H/wv/D/8T/xP/F/8X/xf/F/8T/xP/D/8L/wv/B/8H/wv/C/8L/wf/A/8H/wP/AwAAAAAB/AAAAAD/A/8H/wv/D/8P/xP/E/8X/xf/G/8f/yP/J/8r/y//L/83/zf/N/8z/y//K/8r/yP/I/8j/x//G/8T/w//D/8H/wf/A/8DAAAAAAAAAAD/A/8H/wf/B/8L/w//D/8T/xf/F/8b/x//H/8n/yf/L/8v/y//L/8v/y//K/8r/yv/K/8r/yv/K/8v/y//L/8r/yf/J/8j/x//G/8b/xf/E/8P/wv/C/8H/wMAAAH4AfQB7AHkAeAB3AHcAdwB3AHgAeAB4AHgAeAB4AHgAeQB6AHoAewB7AHsAewB7AHsAegB5AHkAegB6AHsAewB7AHoAeQB4AHYAdABzAHEAcQBwAG8AbwBuAG0AbABrAGoAaABoAGcAaABoAGkAaQBqAGoAawBsAG0AbgBwAHEAcgByAHIAcwB0AHUAdQB3AHkAegB8AH4AfwAAAAAAfwB/AAAAAAAAP8D/wP/A/8H/wMAAAH8AfgB9AHsAegB5AHgAeAB3AHYAdQB1AHQAdAB0AHUAdgB2AHcAeAB5AHkAegB7AHsAfAB8AH0AfQB+AH4AfwAAAAAAAAAAAAAAAAAAAAA/wP/B/8L/wv/E/8P/w//D/8H/wf/AwAAAAD/AwAA/wMAAAH8AfQB8AHoAeQB5AHoAeQB6AHsAegB6AHoAegB7AHsAewB7AHsAewB7AHwAfQB+P8D/wf/C/8T/xP/F/8X/xP/E/8X/xf/H/8j/yv/L/8z/zP/L/8n/yP/H/8b/xv/G/8b/xv/F/8b/xf/E/8T/w//C/8HAAAB/AH0AfAB7AHoAeQB4AHkAeAB4AHgAeQB5AHoAewB8AHwAfQB/AAAAAD/A/8DAAAAAAAAAfwB/AH4AfQB9AHwAewB6AHkAeAB2AHUAdABzAHIAcQBwAHAAbwBvAG4AbgBsAGwAawBrAGsAawBrAGsAawBrAGsAawBsAGsAawBrAGwAbABtAG4AbgBvAG8AbgBuAG4AbgBuAG4AbgBvAG8AbwBuAGwAawBqAGoAawBrAGwAbQBtAGwAawBqAGgAZwBlAGQAZABkAGQAZABlAGYAZgBoAGkAagBrAG0AbgBwAHEAcwBzAHQAdAB2AHcAdwB5AHoAewB8AHwAfgB/AAAAAAB/AH4AfQB8AHsAewB8AHwAfAB8AHsAewB5AHcAdQBzAHIAcQBwAG8AbgBuAG4AbgBuAG4AbwBvAG8AcABwAHEAcABwAHAAcQByAHMAdQB3AHkAeQB6AHsAewB6AHsAegB7AHwAfAB9AHwAewB6AHkAdwB2AHQAdAB0AHMAcgBzAHMAdABzAHMAcwBxAG8AbgBsAGsAagBqAGoAbABtAG0AbgBvAG4AbwBvAG8AcABwAHAAcQBxAHIAcwBzAHIAcgByAHEAcQBxAHAAcABxAHEAcQBzAHIAcQBvAG4AbgBuAG4AbgBuAG8AbgBuAG4AbgBuAG4AbgBvAG8AcABwAHAAcAByAHIAcgBzAHQAdQB2AHYAdwB3AHgAeAB5AHkAegB7AHwAfAB9AH0AfQB9AHwAfAB7AHsAewB6AHoAeQB3AHUAdQBzAHMAcgBxAHEAcABwAG8AbwBwAHEAcQBwAHEAcgByAHIAdAB0AHYAdwB3AHgAegB7AHwAfAB+AH8AAAB/AAAAAAAAAAAAAAAAAAAAfwB/AH4AfgB+AH0AfQB7AHsAeQB4AHgAeAB4AHgAdwB3AHcAdwB2AHYAdgB2AHUAdgB2AHYAdgB2AHYAdwB4AHgAeQB7AHwAfgB+AH8AAD/A/8D/wf/C/8P/w//E/8X/xP/E/8T/xP/E/8X/xv/G/8f/x//H/8f/x//I/8f/x//H/8f/xv/F/8X/xv/H/8f/x//G/8X/w//C/8H/wf/A/8H/wP/B/8L/wf/C/8L/wv/C/8P/xP/E/8X/xf/F/8X/xP/D/8L/xP/D/8T/w//D/8L/wv/B/8DAAAAAAH8AfgB9AHwAewB7AHoAegB7AHsAewB7AHoAeQB3AHYAdgB2AHYAdgB4AHkAegB7AHsAfAB8AHwAewB8AH0AfgB/AAA/wf/C/8P/xP/F/8b/xv/H/8b/xv/F/8X/xP/E/8T/xP/E/8T/xP/D/8P/wv/B/8DAfwB9AH0AfAB6AHkAeAB4AHcAdwB4AHgAeQB5AHkAegB6AHsAewB7AH0AfgB/AH8AfwAAAAA/wP/A/8D/wf/B/8H/wf/B/8L/wv/C/8L/wv/D/8L/wv/C/8L/wv/C/8H/wP/AwAAAAAAAAAA/wf/B/8H/wf/AwAAAAAB/AH8AfwAAAAAAAAB/AH8AfwB/AAAAAAAAAAAAAD/A/8H/wv/D/8P/xP/F/8X/xv/G/8f/yf/K/8z/zP/M/8z/zP/M/83/zv/O/87/zv/N/83/y//K/8r/yf/I/8f/xv/E/8T/w//B/8DAAAB/AH4AfgB9AHwAfAB8AHwAewB7AHoAegB6AHoAegB7AHsAegB6AHkAegB6AHkAewB7AH0AfgB9AH4AfgB/AH8AfgB/AAA/wP/B/8H/wf/B/8H/wf/B/8H/wf/B/8D/wP/AwAAAfwB/AH4AfgB+AH4AfwB/AH8AAAAAP8D/wP/A/8D/wMAAAAAAAAAAP8D/wf/B/8H/wf/B/8HAAAB/AH4AfgB9AHwAfAB8AHwAfAB7AHsAewB7AHsAewB7AHsAewB6AHoAeQB5AHkAeQB5AHoAewB8AH0AfgB/AAA/wP/A/8D/wP/B/8H/wf/C/8P/xP/F/8X/x//H/8f/x//G/8X/xf/E/8P/w//D/8P/w//E/8T/w//C/8L/wv/B/8L/wv/B/8L/wv/C/8L/w//D/8T/xP/F/8X/xv/I/8n/yf/J/8n/yf/I/8f/x//H/8j/yv/K/8z/zv/O/87/zv/O/87/zv/N/83/zf/N/83/zf/N/83/zf/M/8z/zP/L/8r/yf/I/8f/x//H/8b/xv/G/8b/xf/E/8X/xP/D/8L/wv/C/8L/wv/B/8H/wf/A/8D/wf/B/8L/wv/C/8L/wv/C/8H/wP/A/8D/wf/B/8H/wf/C/8H/wv/B/8D/wf/A/8H/wf/B/8L/wv/C/8H/wv/C/8L/w//D/8T/xP/D/8P/w//D/8T/w//F/8X/xv/F/8X/xP/E/8T/xf/F/8f/x//I/8n/yP/I/8f/xv/G/8b/xv/H/8f/x//H/8f/x//H/8b/w//D/8H/wMAAAAAAAAAAAAAAAAB/AH8AfgB+AH4AfgB9AH0AfQB9AH4AfwB/AAA/wP/A/8H/wf/D/8T/xv/I/8n/y//M/83/zf/O/87/z//P/8//z//O/87/zf/N/8z/y//K/8r/yP/I/8b/xf/E/8P/wv/C/8H/wP/A/8DAfwB/AH0AfQB9AHwAfAB8AHwAfAB8AHwAfAB9AH4AAD/A/8H/wv/D/8P/xP/F/8X/xf/F/8b/x//H/8f/yP/I/8n/y//L/8z/zP/M/8r/yf/J/8j/yP/I/8f/xf/E/8L/wcAAAH4AfQB8AHsAegB5AHoAeQB5AHkAeAB3AHcAdwB4AHoAewB9AH4AfgB/AH8AfwB+AH8AfwB/AH8AAAAAAAAAAAB/AAAAfwB/AH8AfgB9AHwAfAB8AHwAewB8AHwAewB7AHoAegB5AHkAeQB5AHsAfQB/AAA/wP/A/8H/wf/C/8H/wf/C/8L/w//E/8T/xv/H/8j/yf/J/8n/yv/K/8r/y//L/8v/zP/M/83/zP/M/8z/y//J/8f/xv/F/8P/w//D/8L/w//C/8H/wMB/AH0AewB6AHkAegB6AHsAfAB9AH4AfwB+AH4AfgB+AH4AfgB/AAAAAD/B/8D/wf/D/8T/xP/E/8T/xP/E/8T/xf/G/8b/x//G/8b/xf/E/8T/xP/D/8T/xP/E/8P/wv/C/8HAAD/AwAA/wP/A/8DAAAAAAAAAfwB/AH4AfwB/AAA/wP/A/8L/w//E/8X/xP/F/8b/xf/G/8b/x//I/8n/yv/M/8z/zf/N/83/zf/N/8z/y//Mw==\" type=\"audio/wav\" />\n",
       "                    Your browser does not support the audio element.\n",
       "                </audio>\n",
       "              "
      ],
      "text/plain": [
       "<IPython.lib.display.Audio object>"
      ]
     },
     "metadata": {},
     "output_type": "display_data"
    },
    {
     "data": {
      "image/png": "[encoded data removed]",
      "text/plain": [
       "<Figure size 1000x400 with 2 Axes>"
      ]
     },
     "metadata": {},
     "output_type": "display_data"
    },
    {
     "data": {
      "text/html": [
       "\n",
       "                <audio  controls=\"controls\" >\n",
       "                    <source src=\"data:audio/wav;base64,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\" type=\"audio/wav\" />\n",
       "                    Your browser does not support the audio element.\n",
       "                </audio>\n",
       "              "
      ],
      "text/plain": [
       "<IPython.lib.display.Audio object>"
      ]
     },
     "metadata": {},
     "output_type": "display_data"
    },
    {
     "data": {
      "image/png": "[encoded data removed]",
      "text/plain": [
       "<Figure size 1000x400 with 2 Axes>"
      ]
     },
     "metadata": {},
     "output_type": "display_data"
    },
    {
     "data": {
      "text/html": [
       "\n",
       "                <audio  controls=\"controls\" >\n",
       "                    <source src=\"data:audio/wav;base64,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\" type=\"audio/wav\" />\n",
       "                    Your browser does not support the audio element.\n",
       "                </audio>\n",
       "              "
      ],
      "text/plain": [
       "<IPython.lib.display.Audio object>"
      ]
     },
     "metadata": {},
     "output_type": "display_data"
    },
    {
     "data": {
      "image/png": "[encoded data removed]",
      "text/plain": [
       "<Figure size 1000x400 with 2 Axes>"
      ]
     },
     "metadata": {},
     "output_type": "display_data"
    }
   ],
   "source": [
    "plot_spectrogram_with_audio(audio_dir=r'clips_libricss', spec_dir=r'specs_libricss', clip = r'0L_session1_clip2', df = df)     # 0 speaker example\n",
    "plot_spectrogram_with_audio(audio_dir=r'clips_libricss', spec_dir=r'specs_libricss', clip = r'OV40_session9_clip150', df = df)     # 1 speaker example\n",
    "plot_spectrogram_with_audio(audio_dir=r'clips_libricss', spec_dir=r'specs_libricss', clip = r'OV40_session9_clip154', df = df)     # 2 speaker example"
   ]
  },
  {
   "cell_type": "markdown",
   "id": "718e9ec5",
   "metadata": {},
   "source": [
    "### Scrutinising the resulting data"
   ]
  },
  {
   "cell_type": "code",
   "execution_count": 10,
   "id": "dc457264",
   "metadata": {},
   "outputs": [
    {
     "name": "stdout",
     "output_type": "stream",
     "text": [
      "Clips with 0 speakers: 1527\n",
      "Clips with 1 speakers: 29309\n",
      "Clips with 2 speakers: 5251\n"
     ]
    }
   ],
   "source": [
    "_df = pd.read_csv(r'data\\spectrogram_labels.csv')\n",
    "_class_counts = [len(_df[_df['speaker_count'] == i]) for i in range(3)]\n",
    "for i in range(len(_class_counts)):\n",
    "    print(f\"Clips with {i} speakers: {_class_counts[i]}\")"
   ]
  },
  {
   "cell_type": "markdown",
   "id": "d1f97348",
   "metadata": {},
   "source": [
    "... it's clear there is a class imbalance. Additionally, this only covers 0-2 speakers. To improve the dataset we should:\n",
    "\n",
    "- Fix the class imbalance\n",
    "- Add data with more speakers at once"
   ]
  },
  {
   "cell_type": "markdown",
   "id": "8f35a378",
   "metadata": {},
   "source": [
    "## Balancing the 0 speaker class\n",
    "To be learnable, many more than 1527 samples is needed. The model should have a strong idea of what no speakers sounds like, otherwise it might assume that static or noise is a speaker. We have two sources for 'noise' data:\n",
    "\n",
    "- The **RIR & Noise** dataset (https://www.openslr.org/28)\n",
    "- The authors own recordings\n",
    "\n",
    "By labelling a variety of noise as 'no speakers', the model will implicitly also be a voice activity detection (VAD) model."
   ]
  },
  {
   "cell_type": "code",
   "execution_count": 11,
   "id": "2a5646ec",
   "metadata": {},
   "outputs": [
    {
     "name": "stdout",
     "output_type": "stream",
     "text": [
      "['data/RIRS_NOISES/real_rirs_isotropic_noises/RVB2014_type1_noise_largeroom1_1.wav', 'data/RIRS_NOISES/real_rirs_isotropic_noises/RVB2014_type1_noise_largeroom1_10.wav', 'data/RIRS_NOISES/real_rirs_isotropic_noises/RVB2014_type1_noise_largeroom1_2.wav', 'data/RIRS_NOISES/real_rirs_isotropic_noises/RVB2014_type1_noise_largeroom1_3.wav', 'data/RIRS_NOISES/real_rirs_isotropic_noises/RVB2014_type1_noise_largeroom1_4.wav', 'data/RIRS_NOISES/real_rirs_isotropic_noises/RVB2014_type1_noise_largeroom1_5.wav', 'data/RIRS_NOISES/real_rirs_isotropic_noises/RVB2014_type1_noise_largeroom1_6.wav', 'data/RIRS_NOISES/real_rirs_isotropic_noises/RVB2014_type1_noise_largeroom1_7.wav', 'data/RIRS_NOISES/real_rirs_isotropic_noises/RVB2014_type1_noise_largeroom1_8.wav', 'data/RIRS_NOISES/real_rirs_isotropic_noises/RVB2014_type1_noise_largeroom1_9.wav', 'data/RIRS_NOISES/real_rirs_isotropic_noises/RVB2014_type1_noise_largeroom2_1.wav', 'data/RIRS_NOISES/real_rirs_isotropic_noises/RVB2014_type1_noise_largeroom2_10.wav', 'data/RIRS_NOISES/real_rirs_isotropic_noises/RVB2014_type1_noise_largeroom2_2.wav', 'data/RIRS_NOISES/real_rirs_isotropic_noises/RVB2014_type1_noise_largeroom2_3.wav', 'data/RIRS_NOISES/real_rirs_isotropic_noises/RVB2014_type1_noise_largeroom2_4.wav', 'data/RIRS_NOISES/real_rirs_isotropic_noises/RVB2014_type1_noise_largeroom2_5.wav', 'data/RIRS_NOISES/real_rirs_isotropic_noises/RVB2014_type1_noise_largeroom2_6.wav', 'data/RIRS_NOISES/real_rirs_isotropic_noises/RVB2014_type1_noise_largeroom2_7.wav', 'data/RIRS_NOISES/real_rirs_isotropic_noises/RVB2014_type1_noise_largeroom2_8.wav', 'data/RIRS_NOISES/real_rirs_isotropic_noises/RVB2014_type1_noise_largeroom2_9.wav', 'data/RIRS_NOISES/real_rirs_isotropic_noises/RVB2014_type1_noise_mediumroom1_1.wav', 'data/RIRS_NOISES/real_rirs_isotropic_noises/RVB2014_type1_noise_mediumroom1_10.wav', 'data/RIRS_NOISES/real_rirs_isotropic_noises/RVB2014_type1_noise_mediumroom1_2.wav', 'data/RIRS_NOISES/real_rirs_isotropic_noises/RVB2014_type1_noise_mediumroom1_3.wav', 'data/RIRS_NOISES/real_rirs_isotropic_noises/RVB2014_type1_noise_mediumroom1_4.wav', 'data/RIRS_NOISES/real_rirs_isotropic_noises/RVB2014_type1_noise_mediumroom1_5.wav', 'data/RIRS_NOISES/real_rirs_isotropic_noises/RVB2014_type1_noise_mediumroom1_6.wav', 'data/RIRS_NOISES/real_rirs_isotropic_noises/RVB2014_type1_noise_mediumroom1_7.wav', 'data/RIRS_NOISES/real_rirs_isotropic_noises/RVB2014_type1_noise_mediumroom1_8.wav', 'data/RIRS_NOISES/real_rirs_isotropic_noises/RVB2014_type1_noise_mediumroom1_9.wav', 'data/RIRS_NOISES/real_rirs_isotropic_noises/RVB2014_type1_noise_mediumroom2_1.wav', 'data/RIRS_NOISES/real_rirs_isotropic_noises/RVB2014_type1_noise_mediumroom2_10.wav', 'data/RIRS_NOISES/real_rirs_isotropic_noises/RVB2014_type1_noise_mediumroom2_2.wav', 'data/RIRS_NOISES/real_rirs_isotropic_noises/RVB2014_type1_noise_mediumroom2_3.wav', 'data/RIRS_NOISES/real_rirs_isotropic_noises/RVB2014_type1_noise_mediumroom2_4.wav', 'data/RIRS_NOISES/real_rirs_isotropic_noises/RVB2014_type1_noise_mediumroom2_5.wav', 'data/RIRS_NOISES/real_rirs_isotropic_noises/RVB2014_type1_noise_mediumroom2_6.wav', 'data/RIRS_NOISES/real_rirs_isotropic_noises/RVB2014_type1_noise_mediumroom2_7.wav', 'data/RIRS_NOISES/real_rirs_isotropic_noises/RVB2014_type1_noise_mediumroom2_8.wav', 'data/RIRS_NOISES/real_rirs_isotropic_noises/RVB2014_type1_noise_mediumroom2_9.wav', 'data/RIRS_NOISES/real_rirs_isotropic_noises/RVB2014_type1_noise_smallroom1_1.wav', 'data/RIRS_NOISES/real_rirs_isotropic_noises/RVB2014_type1_noise_smallroom1_10.wav', 'data/RIRS_NOISES/real_rirs_isotropic_noises/RVB2014_type1_noise_smallroom1_2.wav', 'data/RIRS_NOISES/real_rirs_isotropic_noises/RVB2014_type1_noise_smallroom1_3.wav', 'data/RIRS_NOISES/real_rirs_isotropic_noises/RVB2014_type1_noise_smallroom1_4.wav', 'data/RIRS_NOISES/real_rirs_isotropic_noises/RVB2014_type1_noise_smallroom1_5.wav', 'data/RIRS_NOISES/real_rirs_isotropic_noises/RVB2014_type1_noise_smallroom1_6.wav', 'data/RIRS_NOISES/real_rirs_isotropic_noises/RVB2014_type1_noise_smallroom1_7.wav', 'data/RIRS_NOISES/real_rirs_isotropic_noises/RVB2014_type1_noise_smallroom1_8.wav', 'data/RIRS_NOISES/real_rirs_isotropic_noises/RVB2014_type1_noise_smallroom1_9.wav', 'data/RIRS_NOISES/real_rirs_isotropic_noises/RVB2014_type1_noise_smallroom2_1.wav', 'data/RIRS_NOISES/real_rirs_isotropic_noises/RVB2014_type1_noise_smallroom2_10.wav', 'data/RIRS_NOISES/real_rirs_isotropic_noises/RVB2014_type1_noise_smallroom2_2.wav', 'data/RIRS_NOISES/real_rirs_isotropic_noises/RVB2014_type1_noise_smallroom2_3.wav', 'data/RIRS_NOISES/real_rirs_isotropic_noises/RVB2014_type1_noise_smallroom2_4.wav', 'data/RIRS_NOISES/real_rirs_isotropic_noises/RVB2014_type1_noise_smallroom2_5.wav', 'data/RIRS_NOISES/real_rirs_isotropic_noises/RVB2014_type1_noise_smallroom2_6.wav', 'data/RIRS_NOISES/real_rirs_isotropic_noises/RVB2014_type1_noise_smallroom2_7.wav', 'data/RIRS_NOISES/real_rirs_isotropic_noises/RVB2014_type1_noise_smallroom2_8.wav', 'data/RIRS_NOISES/real_rirs_isotropic_noises/RVB2014_type1_noise_smallroom2_9.wav', 'data/RIRS_NOISES/real_rirs_isotropic_noises/RVB2014_type2_noise_simroom1_1.wav', 'data/RIRS_NOISES/real_rirs_isotropic_noises/RVB2014_type2_noise_simroom1_10.wav', 'data/RIRS_NOISES/real_rirs_isotropic_noises/RVB2014_type2_noise_simroom1_2.wav', 'data/RIRS_NOISES/real_rirs_isotropic_noises/RVB2014_type2_noise_simroom1_3.wav', 'data/RIRS_NOISES/real_rirs_isotropic_noises/RVB2014_type2_noise_simroom1_4.wav', 'data/RIRS_NOISES/real_rirs_isotropic_noises/RVB2014_type2_noise_simroom1_5.wav', 'data/RIRS_NOISES/real_rirs_isotropic_noises/RVB2014_type2_noise_simroom1_6.wav', 'data/RIRS_NOISES/real_rirs_isotropic_noises/RVB2014_type2_noise_simroom1_7.wav', 'data/RIRS_NOISES/real_rirs_isotropic_noises/RVB2014_type2_noise_simroom1_8.wav', 'data/RIRS_NOISES/real_rirs_isotropic_noises/RVB2014_type2_noise_simroom1_9.wav', 'data/RIRS_NOISES/real_rirs_isotropic_noises/RVB2014_type2_noise_simroom2_1.wav', 'data/RIRS_NOISES/real_rirs_isotropic_noises/RVB2014_type2_noise_simroom2_10.wav', 'data/RIRS_NOISES/real_rirs_isotropic_noises/RVB2014_type2_noise_simroom2_2.wav', 'data/RIRS_NOISES/real_rirs_isotropic_noises/RVB2014_type2_noise_simroom2_3.wav', 'data/RIRS_NOISES/real_rirs_isotropic_noises/RVB2014_type2_noise_simroom2_4.wav', 'data/RIRS_NOISES/real_rirs_isotropic_noises/RVB2014_type2_noise_simroom2_5.wav', 'data/RIRS_NOISES/real_rirs_isotropic_noises/RVB2014_type2_noise_simroom2_6.wav', 'data/RIRS_NOISES/real_rirs_isotropic_noises/RVB2014_type2_noise_simroom2_7.wav', 'data/RIRS_NOISES/real_rirs_isotropic_noises/RVB2014_type2_noise_simroom2_8.wav', 'data/RIRS_NOISES/real_rirs_isotropic_noises/RVB2014_type2_noise_simroom2_9.wav', 'data/RIRS_NOISES/real_rirs_isotropic_noises/RVB2014_type2_noise_simroom3_1.wav', 'data/RIRS_NOISES/real_rirs_isotropic_noises/RVB2014_type2_noise_simroom3_10.wav', 'data/RIRS_NOISES/real_rirs_isotropic_noises/RVB2014_type2_noise_simroom3_2.wav', 'data/RIRS_NOISES/real_rirs_isotropic_noises/RVB2014_type2_noise_simroom3_3.wav', 'data/RIRS_NOISES/real_rirs_isotropic_noises/RVB2014_type2_noise_simroom3_4.wav', 'data/RIRS_NOISES/real_rirs_isotropic_noises/RVB2014_type2_noise_simroom3_5.wav', 'data/RIRS_NOISES/real_rirs_isotropic_noises/RVB2014_type2_noise_simroom3_6.wav', 'data/RIRS_NOISES/real_rirs_isotropic_noises/RVB2014_type2_noise_simroom3_7.wav', 'data/RIRS_NOISES/real_rirs_isotropic_noises/RVB2014_type2_noise_simroom3_8.wav', 'data/RIRS_NOISES/real_rirs_isotropic_noises/RVB2014_type2_noise_simroom3_9.wav', 'data/RIRS_NOISES/real_rirs_isotropic_noises/RWCP_type5_noise_cirline_ofc_ambient1.wav', 'data/RIRS_NOISES/real_rirs_isotropic_noises/RWCP_type5_noise_cirline_ofc_ambient2.wav']\n"
     ]
    }
   ],
   "source": [
    "metadata = Path('data/rirs_noises/real_rirs_isotropic_noises/noise_list')\n",
    "\n",
    "# Extract paths from metadata file\n",
    "wav_pattern = re.compile(r'(RIRS_NOISES/[\\w/]+\\.wav)')\n",
    "\n",
    "# Load and parse as text\n",
    "with open(metadata, 'r') as f: content = f.read()\n",
    "\n",
    "# pull .wavs \n",
    "wav_files = [f\"data/{match}\" for match in wav_pattern.findall(content)]; print(wav_files)"
   ]
  },
  {
   "cell_type": "code",
   "execution_count": 8,
   "id": "5afebd84",
   "metadata": {},
   "outputs": [
    {
     "data": {
      "application/vnd.microsoft.datawrangler.viewer.v0+json": {
       "columns": [
        {
         "name": "index",
         "rawType": "int64",
         "type": "integer"
        },
        {
         "name": "spec_dir",
         "rawType": "object",
         "type": "string"
        },
        {
         "name": "clip_dir",
         "rawType": "object",
         "type": "string"
        },
        {
         "name": "speaker_count",
         "rawType": "int64",
         "type": "integer"
        },
        {
         "name": "speakers",
         "rawType": "object",
         "type": "unknown"
        }
       ],
       "ref": "5a0ec301-56f9-4cde-8611-9b9eba1976c4",
       "rows": [
        [
         "0",
         "data\\specs_rir\\largeroom1_10_clip1.pt",
         "data\\clips_rir\\largeroom1_10_clip1.wav",
         "0",
         "[]"
        ],
        [
         "1",
         "data\\specs_rir\\largeroom1_10_clip10.pt",
         "data\\clips_rir\\largeroom1_10_clip10.wav",
         "0",
         "[]"
        ],
        [
         "2",
         "data\\specs_rir\\largeroom1_10_clip11.pt",
         "data\\clips_rir\\largeroom1_10_clip11.wav",
         "0",
         "[]"
        ],
        [
         "3",
         "data\\specs_rir\\largeroom1_10_clip12.pt",
         "data\\clips_rir\\largeroom1_10_clip12.wav",
         "0",
         "[]"
        ],
        [
         "4",
         "data\\specs_rir\\largeroom1_10_clip13.pt",
         "data\\clips_rir\\largeroom1_10_clip13.wav",
         "0",
         "[]"
        ],
        [
         "5",
         "data\\specs_rir\\largeroom1_10_clip14.pt",
         "data\\clips_rir\\largeroom1_10_clip14.wav",
         "0",
         "[]"
        ],
        [
         "6",
         "data\\specs_rir\\largeroom1_10_clip15.pt",
         "data\\clips_rir\\largeroom1_10_clip15.wav",
         "0",
         "[]"
        ],
        [
         "7",
         "data\\specs_rir\\largeroom1_10_clip16.pt",
         "data\\clips_rir\\largeroom1_10_clip16.wav",
         "0",
         "[]"
        ],
        [
         "8",
         "data\\specs_rir\\largeroom1_10_clip17.pt",
         "data\\clips_rir\\largeroom1_10_clip17.wav",
         "0",
         "[]"
        ],
        [
         "9",
         "data\\specs_rir\\largeroom1_10_clip18.pt",
         "data\\clips_rir\\largeroom1_10_clip18.wav",
         "0",
         "[]"
        ],
        [
         "10",
         "data\\specs_rir\\largeroom1_10_clip19.pt",
         "data\\clips_rir\\largeroom1_10_clip19.wav",
         "0",
         "[]"
        ],
        [
         "11",
         "data\\specs_rir\\largeroom1_10_clip2.pt",
         "data\\clips_rir\\largeroom1_10_clip2.wav",
         "0",
         "[]"
        ],
        [
         "12",
         "data\\specs_rir\\largeroom1_10_clip20.pt",
         "data\\clips_rir\\largeroom1_10_clip20.wav",
         "0",
         "[]"
        ],
        [
         "13",
         "data\\specs_rir\\largeroom1_10_clip21.pt",
         "data\\clips_rir\\largeroom1_10_clip21.wav",
         "0",
         "[]"
        ],
        [
         "14",
         "data\\specs_rir\\largeroom1_10_clip22.pt",
         "data\\clips_rir\\largeroom1_10_clip22.wav",
         "0",
         "[]"
        ],
        [
         "15",
         "data\\specs_rir\\largeroom1_10_clip23.pt",
         "data\\clips_rir\\largeroom1_10_clip23.wav",
         "0",
         "[]"
        ],
        [
         "16",
         "data\\specs_rir\\largeroom1_10_clip24.pt",
         "data\\clips_rir\\largeroom1_10_clip24.wav",
         "0",
         "[]"
        ],
        [
         "17",
         "data\\specs_rir\\largeroom1_10_clip25.pt",
         "data\\clips_rir\\largeroom1_10_clip25.wav",
         "0",
         "[]"
        ],
        [
         "18",
         "data\\specs_rir\\largeroom1_10_clip26.pt",
         "data\\clips_rir\\largeroom1_10_clip26.wav",
         "0",
         "[]"
        ],
        [
         "19",
         "data\\specs_rir\\largeroom1_10_clip27.pt",
         "data\\clips_rir\\largeroom1_10_clip27.wav",
         "0",
         "[]"
        ],
        [
         "20",
         "data\\specs_rir\\largeroom1_10_clip28.pt",
         "data\\clips_rir\\largeroom1_10_clip28.wav",
         "0",
         "[]"
        ],
        [
         "21",
         "data\\specs_rir\\largeroom1_10_clip29.pt",
         "data\\clips_rir\\largeroom1_10_clip29.wav",
         "0",
         "[]"
        ],
        [
         "22",
         "data\\specs_rir\\largeroom1_10_clip3.pt",
         "data\\clips_rir\\largeroom1_10_clip3.wav",
         "0",
         "[]"
        ],
        [
         "23",
         "data\\specs_rir\\largeroom1_10_clip30.pt",
         "data\\clips_rir\\largeroom1_10_clip30.wav",
         "0",
         "[]"
        ],
        [
         "24",
         "data\\specs_rir\\largeroom1_10_clip4.pt",
         "data\\clips_rir\\largeroom1_10_clip4.wav",
         "0",
         "[]"
        ],
        [
         "25",
         "data\\specs_rir\\largeroom1_10_clip5.pt",
         "data\\clips_rir\\largeroom1_10_clip5.wav",
         "0",
         "[]"
        ],
        [
         "26",
         "data\\specs_rir\\largeroom1_10_clip6.pt",
         "data\\clips_rir\\largeroom1_10_clip6.wav",
         "0",
         "[]"
        ],
        [
         "27",
         "data\\specs_rir\\largeroom1_10_clip7.pt",
         "data\\clips_rir\\largeroom1_10_clip7.wav",
         "0",
         "[]"
        ],
        [
         "28",
         "data\\specs_rir\\largeroom1_10_clip8.pt",
         "data\\clips_rir\\largeroom1_10_clip8.wav",
         "0",
         "[]"
        ],
        [
         "29",
         "data\\specs_rir\\largeroom1_10_clip9.pt",
         "data\\clips_rir\\largeroom1_10_clip9.wav",
         "0",
         "[]"
        ],
        [
         "30",
         "data\\specs_rir\\largeroom1_1_clip1.pt",
         "data\\clips_rir\\largeroom1_1_clip1.wav",
         "0",
         "[]"
        ],
        [
         "31",
         "data\\specs_rir\\largeroom1_1_clip10.pt",
         "data\\clips_rir\\largeroom1_1_clip10.wav",
         "0",
         "[]"
        ],
        [
         "32",
         "data\\specs_rir\\largeroom1_1_clip11.pt",
         "data\\clips_rir\\largeroom1_1_clip11.wav",
         "0",
         "[]"
        ],
        [
         "33",
         "data\\specs_rir\\largeroom1_1_clip12.pt",
         "data\\clips_rir\\largeroom1_1_clip12.wav",
         "0",
         "[]"
        ],
        [
         "34",
         "data\\specs_rir\\largeroom1_1_clip13.pt",
         "data\\clips_rir\\largeroom1_1_clip13.wav",
         "0",
         "[]"
        ],
        [
         "35",
         "data\\specs_rir\\largeroom1_1_clip14.pt",
         "data\\clips_rir\\largeroom1_1_clip14.wav",
         "0",
         "[]"
        ],
        [
         "36",
         "data\\specs_rir\\largeroom1_1_clip15.pt",
         "data\\clips_rir\\largeroom1_1_clip15.wav",
         "0",
         "[]"
        ],
        [
         "37",
         "data\\specs_rir\\largeroom1_1_clip16.pt",
         "data\\clips_rir\\largeroom1_1_clip16.wav",
         "0",
         "[]"
        ],
        [
         "38",
         "data\\specs_rir\\largeroom1_1_clip17.pt",
         "data\\clips_rir\\largeroom1_1_clip17.wav",
         "0",
         "[]"
        ],
        [
         "39",
         "data\\specs_rir\\largeroom1_1_clip18.pt",
         "data\\clips_rir\\largeroom1_1_clip18.wav",
         "0",
         "[]"
        ],
        [
         "40",
         "data\\specs_rir\\largeroom1_1_clip19.pt",
         "data\\clips_rir\\largeroom1_1_clip19.wav",
         "0",
         "[]"
        ],
        [
         "41",
         "data\\specs_rir\\largeroom1_1_clip2.pt",
         "data\\clips_rir\\largeroom1_1_clip2.wav",
         "0",
         "[]"
        ],
        [
         "42",
         "data\\specs_rir\\largeroom1_1_clip20.pt",
         "data\\clips_rir\\largeroom1_1_clip20.wav",
         "0",
         "[]"
        ],
        [
         "43",
         "data\\specs_rir\\largeroom1_1_clip21.pt",
         "data\\clips_rir\\largeroom1_1_clip21.wav",
         "0",
         "[]"
        ],
        [
         "44",
         "data\\specs_rir\\largeroom1_1_clip22.pt",
         "data\\clips_rir\\largeroom1_1_clip22.wav",
         "0",
         "[]"
        ],
        [
         "45",
         "data\\specs_rir\\largeroom1_1_clip23.pt",
         "data\\clips_rir\\largeroom1_1_clip23.wav",
         "0",
         "[]"
        ],
        [
         "46",
         "data\\specs_rir\\largeroom1_1_clip24.pt",
         "data\\clips_rir\\largeroom1_1_clip24.wav",
         "0",
         "[]"
        ],
        [
         "47",
         "data\\specs_rir\\largeroom1_1_clip25.pt",
         "data\\clips_rir\\largeroom1_1_clip25.wav",
         "0",
         "[]"
        ],
        [
         "48",
         "data\\specs_rir\\largeroom1_1_clip26.pt",
         "data\\clips_rir\\largeroom1_1_clip26.wav",
         "0",
         "[]"
        ],
        [
         "49",
         "data\\specs_rir\\largeroom1_1_clip27.pt",
         "data\\clips_rir\\largeroom1_1_clip27.wav",
         "0",
         "[]"
        ]
       ],
       "shape": {
        "columns": 4,
        "rows": 2700
       }
      },
      "text/html": [
       "<div>\n",
       "<style scoped>\n",
       "    .dataframe tbody tr th:only-of-type {\n",
       "        vertical-align: middle;\n",
       "    }\n",
       "\n",
       "    .dataframe tbody tr th {\n",
       "        vertical-align: top;\n",
       "    }\n",
       "\n",
       "    .dataframe thead th {\n",
       "        text-align: right;\n",
       "    }\n",
       "</style>\n",
       "<table border=\"1\" class=\"dataframe\">\n",
       "  <thead>\n",
       "    <tr style=\"text-align: right;\">\n",
       "      <th></th>\n",
       "      <th>spec_dir</th>\n",
       "      <th>clip_dir</th>\n",
       "      <th>speaker_count</th>\n",
       "      <th>speakers</th>\n",
       "    </tr>\n",
       "  </thead>\n",
       "  <tbody>\n",
       "    <tr>\n",
       "      <th>0</th>\n",
       "      <td>data\\specs_rir\\largeroom1_10_clip1.pt</td>\n",
       "      <td>data\\clips_rir\\largeroom1_10_clip1.wav</td>\n",
       "      <td>0</td>\n",
       "      <td>[]</td>\n",
       "    </tr>\n",
       "    <tr>\n",
       "      <th>1</th>\n",
       "      <td>data\\specs_rir\\largeroom1_10_clip10.pt</td>\n",
       "      <td>data\\clips_rir\\largeroom1_10_clip10.wav</td>\n",
       "      <td>0</td>\n",
       "      <td>[]</td>\n",
       "    </tr>\n",
       "    <tr>\n",
       "      <th>2</th>\n",
       "      <td>data\\specs_rir\\largeroom1_10_clip11.pt</td>\n",
       "      <td>data\\clips_rir\\largeroom1_10_clip11.wav</td>\n",
       "      <td>0</td>\n",
       "      <td>[]</td>\n",
       "    </tr>\n",
       "    <tr>\n",
       "      <th>3</th>\n",
       "      <td>data\\specs_rir\\largeroom1_10_clip12.pt</td>\n",
       "      <td>data\\clips_rir\\largeroom1_10_clip12.wav</td>\n",
       "      <td>0</td>\n",
       "      <td>[]</td>\n",
       "    </tr>\n",
       "    <tr>\n",
       "      <th>4</th>\n",
       "      <td>data\\specs_rir\\largeroom1_10_clip13.pt</td>\n",
       "      <td>data\\clips_rir\\largeroom1_10_clip13.wav</td>\n",
       "      <td>0</td>\n",
       "      <td>[]</td>\n",
       "    </tr>\n",
       "    <tr>\n",
       "      <th>...</th>\n",
       "      <td>...</td>\n",
       "      <td>...</td>\n",
       "      <td>...</td>\n",
       "      <td>...</td>\n",
       "    </tr>\n",
       "    <tr>\n",
       "      <th>2695</th>\n",
       "      <td>data\\specs_rir\\smallroom2_9_clip5.pt</td>\n",
       "      <td>data\\clips_rir\\smallroom2_9_clip5.wav</td>\n",
       "      <td>0</td>\n",
       "      <td>[]</td>\n",
       "    </tr>\n",
       "    <tr>\n",
       "      <th>2696</th>\n",
       "      <td>data\\specs_rir\\smallroom2_9_clip6.pt</td>\n",
       "      <td>data\\clips_rir\\smallroom2_9_clip6.wav</td>\n",
       "      <td>0</td>\n",
       "      <td>[]</td>\n",
       "    </tr>\n",
       "    <tr>\n",
       "      <th>2697</th>\n",
       "      <td>data\\specs_rir\\smallroom2_9_clip7.pt</td>\n",
       "      <td>data\\clips_rir\\smallroom2_9_clip7.wav</td>\n",
       "      <td>0</td>\n",
       "      <td>[]</td>\n",
       "    </tr>\n",
       "    <tr>\n",
       "      <th>2698</th>\n",
       "      <td>data\\specs_rir\\smallroom2_9_clip8.pt</td>\n",
       "      <td>data\\clips_rir\\smallroom2_9_clip8.wav</td>\n",
       "      <td>0</td>\n",
       "      <td>[]</td>\n",
       "    </tr>\n",
       "    <tr>\n",
       "      <th>2699</th>\n",
       "      <td>data\\specs_rir\\smallroom2_9_clip9.pt</td>\n",
       "      <td>data\\clips_rir\\smallroom2_9_clip9.wav</td>\n",
       "      <td>0</td>\n",
       "      <td>[]</td>\n",
       "    </tr>\n",
       "  </tbody>\n",
       "</table>\n",
       "<p>2700 rows × 4 columns</p>\n",
       "</div>"
      ],
      "text/plain": [
       "                                    spec_dir  \\\n",
       "0      data\\specs_rir\\largeroom1_10_clip1.pt   \n",
       "1     data\\specs_rir\\largeroom1_10_clip10.pt   \n",
       "2     data\\specs_rir\\largeroom1_10_clip11.pt   \n",
       "3     data\\specs_rir\\largeroom1_10_clip12.pt   \n",
       "4     data\\specs_rir\\largeroom1_10_clip13.pt   \n",
       "...                                      ...   \n",
       "2695    data\\specs_rir\\smallroom2_9_clip5.pt   \n",
       "2696    data\\specs_rir\\smallroom2_9_clip6.pt   \n",
       "2697    data\\specs_rir\\smallroom2_9_clip7.pt   \n",
       "2698    data\\specs_rir\\smallroom2_9_clip8.pt   \n",
       "2699    data\\specs_rir\\smallroom2_9_clip9.pt   \n",
       "\n",
       "                                     clip_dir  speaker_count speakers  \n",
       "0      data\\clips_rir\\largeroom1_10_clip1.wav              0       []  \n",
       "1     data\\clips_rir\\largeroom1_10_clip10.wav              0       []  \n",
       "2     data\\clips_rir\\largeroom1_10_clip11.wav              0       []  \n",
       "3     data\\clips_rir\\largeroom1_10_clip12.wav              0       []  \n",
       "4     data\\clips_rir\\largeroom1_10_clip13.wav              0       []  \n",
       "...                                       ...            ...      ...  \n",
       "2695    data\\clips_rir\\smallroom2_9_clip5.wav              0       []  \n",
       "2696    data\\clips_rir\\smallroom2_9_clip6.wav              0       []  \n",
       "2697    data\\clips_rir\\smallroom2_9_clip7.wav              0       []  \n",
       "2698    data\\clips_rir\\smallroom2_9_clip8.wav              0       []  \n",
       "2699    data\\clips_rir\\smallroom2_9_clip9.wav              0       []  \n",
       "\n",
       "[2700 rows x 4 columns]"
      ]
     },
     "execution_count": 8,
     "metadata": {},
     "output_type": "execute_result"
    }
   ],
   "source": [
    "# Convert a list [] of wav files into clips, one by one. Uses `split_wav_into_clips()`, a helper from part 1.\n",
    "def wavs_to_clips_from_list(wav_list, out_dir):\n",
    "\n",
    "    out_dir = Path(out_dir)\n",
    "    out_dir.mkdir(parents=True, exist_ok=True)\n",
    "\n",
    "\n",
    "    for raw_path in wav_list:\n",
    "        raw_path = Path(raw_path)\n",
    "\n",
    "        # Formatting for file names\n",
    "        speaker = raw_path.parents[2].name\n",
    "        session_folder = raw_path.parents[1].name\n",
    "        m = re.search(r\"(session\\d+)\", session_folder)\n",
    "        session = m.group(1) if m else session_folder\n",
    "\n",
    "\n",
    "        # Split raw_path into 1s clips\n",
    "        clips = split_wav_into_clips(raw_path, clip_dur=1.0, sr=16000)\n",
    "\n",
    "\n",
    "        # Parse good files only\n",
    "        base = raw_path.stem\n",
    "        m = re.match(r\"RVB2014_type\\d+_noise_(\\w+)_(\\d+)\", base)\n",
    "        if not m:\n",
    "            print(f\"Skipping unexpected filename: {base}\")      # skip bad files (broken or not good for training)\n",
    "            continue\n",
    "        room, sample_num = m.groups()\n",
    "\n",
    "\n",
    "        for idx, clip in enumerate(clips, start=1):\n",
    "            fname = f\"{room}_{sample_num}_clip{idx}.wav\"\n",
    "            sf.write(out_dir / fname, clip, 16000)\n",
    "\n",
    "\n",
    "# Run\n",
    "#wavs_to_clips_from_list(wav_files, out_dir=\"data/clips_rir\")\n",
    "\n",
    "\n",
    "# Convert new clips to specs\n",
    "specs_dir = \"data/specs_rir\"\n",
    "#clips_to_specs(clips_dir=\"data/clips_rir\", specs_dir=specs_dir)\n",
    "\n",
    "\n",
    "# List all spectrogram files\n",
    "specs_dir = Path(specs_dir)\n",
    "spec_files = sorted(specs_dir.glob(\"*.pt\"))\n",
    "\n",
    "\n",
    "records = [\n",
    "    {\n",
    "        \"spec_dir\": str(spec_path),\n",
    "        \"clip_dir\": str(Path(\"data/clips_rir\") / (spec_path.stem + \".wav\")),\n",
    "        \"speaker_count\": 0,\n",
    "        \"speakers\": []\n",
    "    }\n",
    "    for spec_path in spec_files\n",
    "]\n",
    "df_noise = pd.DataFrame(records)\n",
    "\n",
    "\n",
    "# Save to CSV\n",
    "df_noise.to_csv(\"data/labels/noise.csv\", index=False)\n",
    "df_noise"
   ]
  },
  {
   "cell_type": "markdown",
   "id": "1cc49f43",
   "metadata": {},
   "source": [
    "#### Showing some RIR spectrograms"
   ]
  },
  {
   "cell_type": "code",
   "execution_count": 9,
   "id": "f1f24e0c",
   "metadata": {},
   "outputs": [
    {
     "data": {
      "text/html": [
       "\n",
       "                <audio  controls=\"controls\" >\n",
       "                    <source src=\"data:audio/wav;base64,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\" type=\"audio/wav\" />\n",
       "                    Your browser does not support the audio element.\n",
       "                </audio>\n",
       "              "
      ],
      "text/plain": [
       "<IPython.lib.display.Audio object>"
      ]
     },
     "metadata": {},
     "output_type": "display_data"
    },
    {
     "data": {
      "image/png": "[encoded data removed]",
      "text/plain": [
       "<Figure size 1000x400 with 2 Axes>"
      ]
     },
     "metadata": {},
     "output_type": "display_data"
    },
    {
     "data": {
      "text/html": [
       "\n",
       "                <audio  controls=\"controls\" >\n",
       "                    <source src=\"data:audio/wav;base64,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\" type=\"audio/wav\" />\n",
       "                    Your browser does not support the audio element.\n",
       "                </audio>\n",
       "              "
      ],
      "text/plain": [
       "<IPython.lib.display.Audio object>"
      ]
     },
     "metadata": {},
     "output_type": "display_data"
    },
    {
     "data": {
      "image/png": "[encoded data removed]",
      "text/plain": [
       "<Figure size 1000x400 with 2 Axes>"
      ]
     },
     "metadata": {},
     "output_type": "display_data"
    }
   ],
   "source": [
    "plot_spectrogram_with_audio(audio_dir='clips_rir', spec_dir='specs_rir', clip = 'largeroom1_9_clip1', df = df_noise)\n",
    "plot_spectrogram_with_audio(audio_dir='clips_rir', spec_dir='specs_rir', clip = 'smallroom2_9_clip1', df = df_noise)"
   ]
  },
  {
   "cell_type": "code",
   "execution_count": 14,
   "id": "1111fdb4",
   "metadata": {},
   "outputs": [
    {
     "name": "stdout",
     "output_type": "stream",
     "text": [
      " Total 0-speaker samples: 2700 + 1527 = 4227 \n"
     ]
    }
   ],
   "source": [
    "zero_class_2 = len(df_noise) + _class_counts[0] #_class_counts is defined in part 1. It's the observation count in the inital dataset\n",
    "print(f\" Total 0-speaker samples: {len(df_noise)} + {_class_counts[0]} = {zero_class_2} \")"
   ]
  },
  {
   "cell_type": "markdown",
   "id": "81eaab37",
   "metadata": {},
   "source": [
    "#### This is good but some more would be even better.\n",
    "~2 hours of noise data (any recording without speech and other significant sounds) was recorded manually by the author and added to the zero-class"
   ]
  },
  {
   "cell_type": "code",
   "execution_count": 15,
   "id": "7acd0b2f",
   "metadata": {},
   "outputs": [],
   "source": [
    "# a simpler version of the wrapper used in part 1. \n",
    "# No searching through nested directory, just pulls wavs from in_dir\n",
    "def wavs_to_clips(in_dir, out_dir):\n",
    "    in_dir = Path(in_dir)\n",
    "    out_dir = Path(out_dir)\n",
    "    out_dir.mkdir(parents=True, exist_ok=True)\n",
    "\n",
    "    # Iterate over all .wav files in the input directory\n",
    "    for raw_path in sorted(in_dir.glob(\"*.wav\")):\n",
    "        base_name = raw_path.stem  # filename without extension\n",
    "\n",
    "        # Split into 1s clips\n",
    "        clips = split_wav_into_clips(raw_path, clip_dur=1.0, sr=16000)\n",
    "\n",
    "        # Save clips (excluding first and last)\n",
    "        for idx, clip in enumerate(clips[1:-1], start=1):\n",
    "            fname = f\"{base_name}_clip{idx}.wav\"\n",
    "            sf.write(out_dir / fname, clip, 16000)"
   ]
  },
  {
   "cell_type": "code",
   "execution_count": 18,
   "id": "8a8dae63",
   "metadata": {},
   "outputs": [
    {
     "data": {
      "application/vnd.microsoft.datawrangler.viewer.v0+json": {
       "columns": [
        {
         "name": "index",
         "rawType": "int64",
         "type": "integer"
        },
        {
         "name": "spec_dir",
         "rawType": "object",
         "type": "string"
        },
        {
         "name": "clip_dir",
         "rawType": "object",
         "type": "string"
        },
        {
         "name": "speaker_count",
         "rawType": "int64",
         "type": "integer"
        },
        {
         "name": "speakers",
         "rawType": "object",
         "type": "unknown"
        }
       ],
       "ref": "becfb736-e2d8-4cef-a99d-3b41a9905bce",
       "rows": [
        [
         "0",
         "data\\author_data\\specs_real\\Recording_downstairs1_clip1.pt",
         "data\\author_data\\clips_real\\Recording_downstairs1_clip1.wav",
         "0",
         "[]"
        ],
        [
         "1",
         "data\\author_data\\specs_real\\Recording_downstairs1_clip10.pt",
         "data\\author_data\\clips_real\\Recording_downstairs1_clip10.wav",
         "0",
         "[]"
        ],
        [
         "2",
         "data\\author_data\\specs_real\\Recording_downstairs1_clip100.pt",
         "data\\author_data\\clips_real\\Recording_downstairs1_clip100.wav",
         "0",
         "[]"
        ],
        [
         "3",
         "data\\author_data\\specs_real\\Recording_downstairs1_clip1000.pt",
         "data\\author_data\\clips_real\\Recording_downstairs1_clip1000.wav",
         "0",
         "[]"
        ],
        [
         "4",
         "data\\author_data\\specs_real\\Recording_downstairs1_clip1001.pt",
         "data\\author_data\\clips_real\\Recording_downstairs1_clip1001.wav",
         "0",
         "[]"
        ]
       ],
       "shape": {
        "columns": 4,
        "rows": 5
       }
      },
      "text/html": [
       "<div>\n",
       "<style scoped>\n",
       "    .dataframe tbody tr th:only-of-type {\n",
       "        vertical-align: middle;\n",
       "    }\n",
       "\n",
       "    .dataframe tbody tr th {\n",
       "        vertical-align: top;\n",
       "    }\n",
       "\n",
       "    .dataframe thead th {\n",
       "        text-align: right;\n",
       "    }\n",
       "</style>\n",
       "<table border=\"1\" class=\"dataframe\">\n",
       "  <thead>\n",
       "    <tr style=\"text-align: right;\">\n",
       "      <th></th>\n",
       "      <th>spec_dir</th>\n",
       "      <th>clip_dir</th>\n",
       "      <th>speaker_count</th>\n",
       "      <th>speakers</th>\n",
       "    </tr>\n",
       "  </thead>\n",
       "  <tbody>\n",
       "    <tr>\n",
       "      <th>0</th>\n",
       "      <td>data\\author_data\\specs_real\\Recording_downstai...</td>\n",
       "      <td>data\\author_data\\clips_real\\Recording_downstai...</td>\n",
       "      <td>0</td>\n",
       "      <td>[]</td>\n",
       "    </tr>\n",
       "    <tr>\n",
       "      <th>1</th>\n",
       "      <td>data\\author_data\\specs_real\\Recording_downstai...</td>\n",
       "      <td>data\\author_data\\clips_real\\Recording_downstai...</td>\n",
       "      <td>0</td>\n",
       "      <td>[]</td>\n",
       "    </tr>\n",
       "    <tr>\n",
       "      <th>2</th>\n",
       "      <td>data\\author_data\\specs_real\\Recording_downstai...</td>\n",
       "      <td>data\\author_data\\clips_real\\Recording_downstai...</td>\n",
       "      <td>0</td>\n",
       "      <td>[]</td>\n",
       "    </tr>\n",
       "    <tr>\n",
       "      <th>3</th>\n",
       "      <td>data\\author_data\\specs_real\\Recording_downstai...</td>\n",
       "      <td>data\\author_data\\clips_real\\Recording_downstai...</td>\n",
       "      <td>0</td>\n",
       "      <td>[]</td>\n",
       "    </tr>\n",
       "    <tr>\n",
       "      <th>4</th>\n",
       "      <td>data\\author_data\\specs_real\\Recording_downstai...</td>\n",
       "      <td>data\\author_data\\clips_real\\Recording_downstai...</td>\n",
       "      <td>0</td>\n",
       "      <td>[]</td>\n",
       "    </tr>\n",
       "  </tbody>\n",
       "</table>\n",
       "</div>"
      ],
      "text/plain": [
       "                                            spec_dir  \\\n",
       "0  data\\author_data\\specs_real\\Recording_downstai...   \n",
       "1  data\\author_data\\specs_real\\Recording_downstai...   \n",
       "2  data\\author_data\\specs_real\\Recording_downstai...   \n",
       "3  data\\author_data\\specs_real\\Recording_downstai...   \n",
       "4  data\\author_data\\specs_real\\Recording_downstai...   \n",
       "\n",
       "                                            clip_dir  speaker_count speakers  \n",
       "0  data\\author_data\\clips_real\\Recording_downstai...              0       []  \n",
       "1  data\\author_data\\clips_real\\Recording_downstai...              0       []  \n",
       "2  data\\author_data\\clips_real\\Recording_downstai...              0       []  \n",
       "3  data\\author_data\\clips_real\\Recording_downstai...              0       []  \n",
       "4  data\\author_data\\clips_real\\Recording_downstai...              0       []  "
      ]
     },
     "execution_count": 18,
     "metadata": {},
     "output_type": "execute_result"
    }
   ],
   "source": [
    "raw_dir = r'data/author_data/raw'\n",
    "clips_dir= r'data/author_data/clips_real'\n",
    "specs_dir = r'data/author_data/specs_real'\n",
    "\n",
    "\n",
    "#wavs_to_clips(in_dir=raw_dir, out_dir=clips_dir)\n",
    "#clips_to_specs(clips_dir, specs_dir)\n",
    "\n",
    "\n",
    "# List all spectrogram files\n",
    "specs_dir = Path(specs_dir)\n",
    "spec_files = sorted(specs_dir.glob(\"*.pt\"))\n",
    "\n",
    "\n",
    "# Create DF of labelled spectrogram files\n",
    "records = [\n",
    "    {\n",
    "        \"spec_dir\": str(path),\n",
    "        \"clip_dir\": str(Path(clips_dir) / (path.stem + \".wav\")),\n",
    "        \"speaker_count\": 0,\n",
    "        \"speakers\": []\n",
    "    }\n",
    "    for path in spec_files\n",
    "]\n",
    "df_noise2 = pd.DataFrame(records)\n",
    "\n",
    "\n",
    "# Save to CSV\n",
    "df_noise2.to_csv(\"data/labels/realnoise.csv\", index=False)\n",
    "df_noise2.head()"
   ]
  },
  {
   "cell_type": "code",
   "execution_count": 19,
   "id": "f381198a",
   "metadata": {},
   "outputs": [
    {
     "name": "stdout",
     "output_type": "stream",
     "text": [
      "Final count of zero class: 11719\n"
     ]
    }
   ],
   "source": [
    "final_zero_class = zero_class_2 + len(df_noise2)\n",
    "print(f\"Final count of zero class: {final_zero_class}\")"
   ]
  },
  {
   "cell_type": "markdown",
   "id": "1e4a9ed0",
   "metadata": {},
   "source": [
    "This should be enough. Usually a 1:1 class balance is preferable, but that rule assumes that the classes are equally hard to learn. No-speaker samples are much easier to predict (no discernible pattern = no speaker), therefore not as many 0 speaker samples are needed as the other classes.\n",
    "\n",
    "Let's combine these observations with libricss and check the total dataset balance:"
   ]
  },
  {
   "cell_type": "code",
   "execution_count": 20,
   "id": "c7b55c8a",
   "metadata": {},
   "outputs": [
    {
     "name": "stdout",
     "output_type": "stream",
     "text": [
      "Clips with 0 speakers: 11719\n",
      "Clips with 1 speakers: 29309\n",
      "Clips with 2 speakers: 5251\n",
      "Total clips: 46279\n"
     ]
    }
   ],
   "source": [
    "df_comb = pd.concat([df, df_noise, df_noise2], axis=0, ignore_index=True)\n",
    "\n",
    "_class_counts = [len(df_comb[df_comb['speaker_count'] == i]) for i in range(3)]\n",
    "for i in range(len(_class_counts)):\n",
    "    print(f\"Clips with {i} speakers: {_class_counts[i]}\")\n",
    "print(f\"Total clips: {len(df_comb)}\")\n",
    "\n",
    "df_comb.to_csv('data/labels/libricss_and_noise.csv')"
   ]
  },
  {
   "cell_type": "markdown",
   "id": "63e19f16",
   "metadata": {},
   "source": [
    "Great. Now it's clear that we need to create more n=2 clips and n=3 clips, as well as a 'ceiling' class, 4+. Having ~25,000 samples of each will give a good balance."
   ]
  },
  {
   "cell_type": "markdown",
   "id": "365ac366",
   "metadata": {},
   "source": [
    "## Generating overlayed clips from LibriCSS clips\n",
    "*Intuition*: by using the mappings within `libricss_and_noise.csv` its possible to overlay clips and sum their respective speaker counts. For example, overlaying two clips with 1 and 2 speakers respectively will result in a new clip with 3 speakers.\n",
    "\n",
    "*Why?*: This will provide representations of more speakers than there are available in the data set. Additionally this is an opportunity to  improve class imbalance by intentionally creating more clips of under-represented classes.\n",
    "\n",
    "*How?*:\n",
    "The following data will be created:\n",
    "- Pairs of 1-speaker clips will be combined to create 2-speaker clips\n",
    "- 2-speaker clips will be combined with 0-speaker clips to create noisy 2-speaker clips (higher variance = better generalisation)\n",
    "- Similarly 1-speaker clips will be combined with 0-speaker clips\n",
    "\n",
    "Then, when the initial augmentation is complete, a second augmentation will take place, which includes the original clips and the new clips:\n",
    "- 2-speaker clips will be combined with 1-speaker clips to give 3-speaker clips.\n",
    "\n",
    "A final augmentation will combine all combinations of clips to create the 4+ class, which is a class for any speakers >4. Having 4+ speakers speaking at once is rare and usually means a chaotic environment, so an accurate class prediction isn't necessary beyond 3 speakers.\n",
    "\n",
    "**This will result in a balanced 5 class dataset.** "
   ]
  },
  {
   "cell_type": "code",
   "execution_count": 24,
   "id": "b2cb2aff",
   "metadata": {},
   "outputs": [
    {
     "data": {
      "application/vnd.microsoft.datawrangler.viewer.v0+json": {
       "columns": [
        {
         "name": "index",
         "rawType": "int64",
         "type": "integer"
        },
        {
         "name": "spec_dir",
         "rawType": "object",
         "type": "string"
        },
        {
         "name": "clip_dir",
         "rawType": "object",
         "type": "string"
        },
        {
         "name": "speaker_count",
         "rawType": "int64",
         "type": "integer"
        },
        {
         "name": "speakers",
         "rawType": "object",
         "type": "unknown"
        }
       ],
       "ref": "12d06f56-3953-4fe9-a2b8-38381cc6ac5f",
       "rows": [
        [
         "0",
         "data\\specs_libricss\\0L_session0_clip1.pt",
         "data\\clips_libricss\\0L_session0_clip1.wav",
         "0",
         "[]"
        ],
        [
         "1",
         "data\\specs_libricss\\0L_session0_clip10.pt",
         "data\\clips_libricss\\0L_session0_clip10.wav",
         "1",
         "['8224']"
        ],
        [
         "2",
         "data\\specs_libricss\\0L_session0_clip100.pt",
         "data\\clips_libricss\\0L_session0_clip100.wav",
         "1",
         "['3575']"
        ],
        [
         "3",
         "data\\specs_libricss\\0L_session0_clip101.pt",
         "data\\clips_libricss\\0L_session0_clip101.wav",
         "1",
         "['3575']"
        ],
        [
         "4",
         "data\\specs_libricss\\0L_session0_clip102.pt",
         "data\\clips_libricss\\0L_session0_clip102.wav",
         "1",
         "['3575']"
        ],
        [
         "5",
         "data\\specs_libricss\\0L_session0_clip103.pt",
         "data\\clips_libricss\\0L_session0_clip103.wav",
         "1",
         "['3575']"
        ],
        [
         "6",
         "data\\specs_libricss\\0L_session0_clip104.pt",
         "data\\clips_libricss\\0L_session0_clip104.wav",
         "1",
         "['3575']"
        ],
        [
         "7",
         "data\\specs_libricss\\0L_session0_clip105.pt",
         "data\\clips_libricss\\0L_session0_clip105.wav",
         "1",
         "['3575']"
        ],
        [
         "8",
         "data\\specs_libricss\\0L_session0_clip106.pt",
         "data\\clips_libricss\\0L_session0_clip106.wav",
         "1",
         "['3575']"
        ],
        [
         "9",
         "data\\specs_libricss\\0L_session0_clip107.pt",
         "data\\clips_libricss\\0L_session0_clip107.wav",
         "1",
         "['3575']"
        ],
        [
         "10",
         "data\\specs_libricss\\0L_session0_clip108.pt",
         "data\\clips_libricss\\0L_session0_clip108.wav",
         "1",
         "['3575']"
        ],
        [
         "11",
         "data\\specs_libricss\\0L_session0_clip109.pt",
         "data\\clips_libricss\\0L_session0_clip109.wav",
         "1",
         "['3575']"
        ],
        [
         "12",
         "data\\specs_libricss\\0L_session0_clip11.pt",
         "data\\clips_libricss\\0L_session0_clip11.wav",
         "1",
         "['8224']"
        ],
        [
         "13",
         "data\\specs_libricss\\0L_session0_clip110.pt",
         "data\\clips_libricss\\0L_session0_clip110.wav",
         "1",
         "['3575']"
        ],
        [
         "14",
         "data\\specs_libricss\\0L_session0_clip111.pt",
         "data\\clips_libricss\\0L_session0_clip111.wav",
         "1",
         "['3575']"
        ],
        [
         "15",
         "data\\specs_libricss\\0L_session0_clip112.pt",
         "data\\clips_libricss\\0L_session0_clip112.wav",
         "1",
         "['3575']"
        ],
        [
         "16",
         "data\\specs_libricss\\0L_session0_clip113.pt",
         "data\\clips_libricss\\0L_session0_clip113.wav",
         "1",
         "['3575']"
        ],
        [
         "17",
         "data\\specs_libricss\\0L_session0_clip114.pt",
         "data\\clips_libricss\\0L_session0_clip114.wav",
         "0",
         "[]"
        ],
        [
         "18",
         "data\\specs_libricss\\0L_session0_clip115.pt",
         "data\\clips_libricss\\0L_session0_clip115.wav",
         "0",
         "[]"
        ],
        [
         "19",
         "data\\specs_libricss\\0L_session0_clip116.pt",
         "data\\clips_libricss\\0L_session0_clip116.wav",
         "1",
         "['5683']"
        ],
        [
         "20",
         "data\\specs_libricss\\0L_session0_clip117.pt",
         "data\\clips_libricss\\0L_session0_clip117.wav",
         "1",
         "['5683']"
        ],
        [
         "21",
         "data\\specs_libricss\\0L_session0_clip118.pt",
         "data\\clips_libricss\\0L_session0_clip118.wav",
         "1",
         "['5683']"
        ],
        [
         "22",
         "data\\specs_libricss\\0L_session0_clip119.pt",
         "data\\clips_libricss\\0L_session0_clip119.wav",
         "1",
         "['5683']"
        ],
        [
         "23",
         "data\\specs_libricss\\0L_session0_clip12.pt",
         "data\\clips_libricss\\0L_session0_clip12.wav",
         "1",
         "['8224']"
        ],
        [
         "24",
         "data\\specs_libricss\\0L_session0_clip120.pt",
         "data\\clips_libricss\\0L_session0_clip120.wav",
         "0",
         "[]"
        ],
        [
         "25",
         "data\\specs_libricss\\0L_session0_clip121.pt",
         "data\\clips_libricss\\0L_session0_clip121.wav",
         "0",
         "[]"
        ],
        [
         "26",
         "data\\specs_libricss\\0L_session0_clip122.pt",
         "data\\clips_libricss\\0L_session0_clip122.wav",
         "1",
         "['121']"
        ],
        [
         "27",
         "data\\specs_libricss\\0L_session0_clip123.pt",
         "data\\clips_libricss\\0L_session0_clip123.wav",
         "1",
         "['121']"
        ],
        [
         "28",
         "data\\specs_libricss\\0L_session0_clip124.pt",
         "data\\clips_libricss\\0L_session0_clip124.wav",
         "1",
         "['121']"
        ],
        [
         "29",
         "data\\specs_libricss\\0L_session0_clip125.pt",
         "data\\clips_libricss\\0L_session0_clip125.wav",
         "1",
         "['121']"
        ],
        [
         "30",
         "data\\specs_libricss\\0L_session0_clip126.pt",
         "data\\clips_libricss\\0L_session0_clip126.wav",
         "1",
         "['121']"
        ],
        [
         "31",
         "data\\specs_libricss\\0L_session0_clip127.pt",
         "data\\clips_libricss\\0L_session0_clip127.wav",
         "1",
         "['121']"
        ],
        [
         "32",
         "data\\specs_libricss\\0L_session0_clip128.pt",
         "data\\clips_libricss\\0L_session0_clip128.wav",
         "1",
         "['121']"
        ],
        [
         "33",
         "data\\specs_libricss\\0L_session0_clip129.pt",
         "data\\clips_libricss\\0L_session0_clip129.wav",
         "1",
         "['121']"
        ],
        [
         "34",
         "data\\specs_libricss\\0L_session0_clip13.pt",
         "data\\clips_libricss\\0L_session0_clip13.wav",
         "1",
         "['8224']"
        ],
        [
         "35",
         "data\\specs_libricss\\0L_session0_clip130.pt",
         "data\\clips_libricss\\0L_session0_clip130.wav",
         "1",
         "['121']"
        ],
        [
         "36",
         "data\\specs_libricss\\0L_session0_clip131.pt",
         "data\\clips_libricss\\0L_session0_clip131.wav",
         "1",
         "['121']"
        ],
        [
         "37",
         "data\\specs_libricss\\0L_session0_clip132.pt",
         "data\\clips_libricss\\0L_session0_clip132.wav",
         "1",
         "['121']"
        ],
        [
         "38",
         "data\\specs_libricss\\0L_session0_clip133.pt",
         "data\\clips_libricss\\0L_session0_clip133.wav",
         "1",
         "['121']"
        ],
        [
         "39",
         "data\\specs_libricss\\0L_session0_clip134.pt",
         "data\\clips_libricss\\0L_session0_clip134.wav",
         "1",
         "['121']"
        ],
        [
         "40",
         "data\\specs_libricss\\0L_session0_clip135.pt",
         "data\\clips_libricss\\0L_session0_clip135.wav",
         "1",
         "['121']"
        ],
        [
         "41",
         "data\\specs_libricss\\0L_session0_clip136.pt",
         "data\\clips_libricss\\0L_session0_clip136.wav",
         "0",
         "[]"
        ],
        [
         "42",
         "data\\specs_libricss\\0L_session0_clip137.pt",
         "data\\clips_libricss\\0L_session0_clip137.wav",
         "0",
         "[]"
        ],
        [
         "43",
         "data\\specs_libricss\\0L_session0_clip138.pt",
         "data\\clips_libricss\\0L_session0_clip138.wav",
         "0",
         "[]"
        ],
        [
         "44",
         "data\\specs_libricss\\0L_session0_clip139.pt",
         "data\\clips_libricss\\0L_session0_clip139.wav",
         "1",
         "['8224']"
        ],
        [
         "45",
         "data\\specs_libricss\\0L_session0_clip14.pt",
         "data\\clips_libricss\\0L_session0_clip14.wav",
         "1",
         "['8224']"
        ],
        [
         "46",
         "data\\specs_libricss\\0L_session0_clip140.pt",
         "data\\clips_libricss\\0L_session0_clip140.wav",
         "1",
         "['8224']"
        ],
        [
         "47",
         "data\\specs_libricss\\0L_session0_clip141.pt",
         "data\\clips_libricss\\0L_session0_clip141.wav",
         "1",
         "['8224']"
        ],
        [
         "48",
         "data\\specs_libricss\\0L_session0_clip142.pt",
         "data\\clips_libricss\\0L_session0_clip142.wav",
         "0",
         "[]"
        ],
        [
         "49",
         "data\\specs_libricss\\0L_session0_clip143.pt",
         "data\\clips_libricss\\0L_session0_clip143.wav",
         "0",
         "[]"
        ]
       ],
       "shape": {
        "columns": 4,
        "rows": 46279
       }
      },
      "text/html": [
       "<div>\n",
       "<style scoped>\n",
       "    .dataframe tbody tr th:only-of-type {\n",
       "        vertical-align: middle;\n",
       "    }\n",
       "\n",
       "    .dataframe tbody tr th {\n",
       "        vertical-align: top;\n",
       "    }\n",
       "\n",
       "    .dataframe thead th {\n",
       "        text-align: right;\n",
       "    }\n",
       "</style>\n",
       "<table border=\"1\" class=\"dataframe\">\n",
       "  <thead>\n",
       "    <tr style=\"text-align: right;\">\n",
       "      <th></th>\n",
       "      <th>spec_dir</th>\n",
       "      <th>clip_dir</th>\n",
       "      <th>speaker_count</th>\n",
       "      <th>speakers</th>\n",
       "    </tr>\n",
       "  </thead>\n",
       "  <tbody>\n",
       "    <tr>\n",
       "      <th>0</th>\n",
       "      <td>data\\specs_libricss\\0L_session0_clip1.pt</td>\n",
       "      <td>data\\clips_libricss\\0L_session0_clip1.wav</td>\n",
       "      <td>0</td>\n",
       "      <td>[]</td>\n",
       "    </tr>\n",
       "    <tr>\n",
       "      <th>1</th>\n",
       "      <td>data\\specs_libricss\\0L_session0_clip10.pt</td>\n",
       "      <td>data\\clips_libricss\\0L_session0_clip10.wav</td>\n",
       "      <td>1</td>\n",
       "      <td>[8224]</td>\n",
       "    </tr>\n",
       "    <tr>\n",
       "      <th>2</th>\n",
       "      <td>data\\specs_libricss\\0L_session0_clip100.pt</td>\n",
       "      <td>data\\clips_libricss\\0L_session0_clip100.wav</td>\n",
       "      <td>1</td>\n",
       "      <td>[3575]</td>\n",
       "    </tr>\n",
       "    <tr>\n",
       "      <th>3</th>\n",
       "      <td>data\\specs_libricss\\0L_session0_clip101.pt</td>\n",
       "      <td>data\\clips_libricss\\0L_session0_clip101.wav</td>\n",
       "      <td>1</td>\n",
       "      <td>[3575]</td>\n",
       "    </tr>\n",
       "    <tr>\n",
       "      <th>4</th>\n",
       "      <td>data\\specs_libricss\\0L_session0_clip102.pt</td>\n",
       "      <td>data\\clips_libricss\\0L_session0_clip102.wav</td>\n",
       "      <td>1</td>\n",
       "      <td>[3575]</td>\n",
       "    </tr>\n",
       "    <tr>\n",
       "      <th>...</th>\n",
       "      <td>...</td>\n",
       "      <td>...</td>\n",
       "      <td>...</td>\n",
       "      <td>...</td>\n",
       "    </tr>\n",
       "    <tr>\n",
       "      <th>46274</th>\n",
       "      <td>data\\author_data\\specs_real\\Recording_upstairs...</td>\n",
       "      <td>data\\author_data\\clips_real\\Recording_upstairs...</td>\n",
       "      <td>0</td>\n",
       "      <td>[]</td>\n",
       "    </tr>\n",
       "    <tr>\n",
       "      <th>46275</th>\n",
       "      <td>data\\author_data\\specs_real\\Recording_upstairs...</td>\n",
       "      <td>data\\author_data\\clips_real\\Recording_upstairs...</td>\n",
       "      <td>0</td>\n",
       "      <td>[]</td>\n",
       "    </tr>\n",
       "    <tr>\n",
       "      <th>46276</th>\n",
       "      <td>data\\author_data\\specs_real\\Recording_upstairs...</td>\n",
       "      <td>data\\author_data\\clips_real\\Recording_upstairs...</td>\n",
       "      <td>0</td>\n",
       "      <td>[]</td>\n",
       "    </tr>\n",
       "    <tr>\n",
       "      <th>46277</th>\n",
       "      <td>data\\author_data\\specs_real\\Recording_upstairs...</td>\n",
       "      <td>data\\author_data\\clips_real\\Recording_upstairs...</td>\n",
       "      <td>0</td>\n",
       "      <td>[]</td>\n",
       "    </tr>\n",
       "    <tr>\n",
       "      <th>46278</th>\n",
       "      <td>data\\author_data\\specs_real\\Recording_upstairs...</td>\n",
       "      <td>data\\author_data\\clips_real\\Recording_upstairs...</td>\n",
       "      <td>0</td>\n",
       "      <td>[]</td>\n",
       "    </tr>\n",
       "  </tbody>\n",
       "</table>\n",
       "<p>46279 rows × 4 columns</p>\n",
       "</div>"
      ],
      "text/plain": [
       "                                                spec_dir  \\\n",
       "0               data\\specs_libricss\\0L_session0_clip1.pt   \n",
       "1              data\\specs_libricss\\0L_session0_clip10.pt   \n",
       "2             data\\specs_libricss\\0L_session0_clip100.pt   \n",
       "3             data\\specs_libricss\\0L_session0_clip101.pt   \n",
       "4             data\\specs_libricss\\0L_session0_clip102.pt   \n",
       "...                                                  ...   \n",
       "46274  data\\author_data\\specs_real\\Recording_upstairs...   \n",
       "46275  data\\author_data\\specs_real\\Recording_upstairs...   \n",
       "46276  data\\author_data\\specs_real\\Recording_upstairs...   \n",
       "46277  data\\author_data\\specs_real\\Recording_upstairs...   \n",
       "46278  data\\author_data\\specs_real\\Recording_upstairs...   \n",
       "\n",
       "                                                clip_dir  speaker_count  \\\n",
       "0              data\\clips_libricss\\0L_session0_clip1.wav              0   \n",
       "1             data\\clips_libricss\\0L_session0_clip10.wav              1   \n",
       "2            data\\clips_libricss\\0L_session0_clip100.wav              1   \n",
       "3            data\\clips_libricss\\0L_session0_clip101.wav              1   \n",
       "4            data\\clips_libricss\\0L_session0_clip102.wav              1   \n",
       "...                                                  ...            ...   \n",
       "46274  data\\author_data\\clips_real\\Recording_upstairs...              0   \n",
       "46275  data\\author_data\\clips_real\\Recording_upstairs...              0   \n",
       "46276  data\\author_data\\clips_real\\Recording_upstairs...              0   \n",
       "46277  data\\author_data\\clips_real\\Recording_upstairs...              0   \n",
       "46278  data\\author_data\\clips_real\\Recording_upstairs...              0   \n",
       "\n",
       "      speakers  \n",
       "0           []  \n",
       "1       [8224]  \n",
       "2       [3575]  \n",
       "3       [3575]  \n",
       "4       [3575]  \n",
       "...        ...  \n",
       "46274       []  \n",
       "46275       []  \n",
       "46276       []  \n",
       "46277       []  \n",
       "46278       []  \n",
       "\n",
       "[46279 rows x 4 columns]"
      ]
     },
     "execution_count": 24,
     "metadata": {},
     "output_type": "execute_result"
    }
   ],
   "source": [
    "# Bring in the labels\n",
    "try: labels = df_comb.copy()\n",
    "except: \n",
    "    labels = pd.read_csv(r'data/labels/libricss_and_noise.csv')\n",
    "\n",
    "# Convert 'speakers' to a list of strings, not a single string or list of ints\n",
    "def to_list(val):\n",
    "    if isinstance(val, str):\n",
    "        return ast.literal_eval(val)\n",
    "    elif isinstance(val, int):\n",
    "        return [val]\n",
    "    return val\n",
    "labels['speakers'] = labels['speakers'].apply(to_list)\n",
    "\n",
    "df_main = labels.copy(); df_main"
   ]
  },
  {
   "cell_type": "code",
   "execution_count": 22,
   "id": "06808113",
   "metadata": {},
   "outputs": [],
   "source": [
    "# The overlay function. Samples will be taken randomly with replacement from df1 and df2 and combined. \n",
    "# If the two samples have the same speaker the attempt fails\n",
    "# This repeats until there are num_samples samples\n",
    "def data_overlay(df1, df2, num_samples, clip_output=r'data/clips_aug', sr=16000, verbose=True, export_name=None, max_attempts=200000, tidy=True):\n",
    "    \"\"\"\n",
    "    Args:\n",
    "        df1 (pd.DataFrame): First dataframe to sample base clips from.\n",
    "        df2 (pd.DataFrame): Second dataframe to sample overlay clips from. Can be the same as df1.\n",
    "        num_samples (int): Number of overlay samples to generate.\n",
    "        output_folder (str): Path to save generated .wav files.\n",
    "        sr (int): Target audio sample rate in Hz.\n",
    "        verbose (bool): Whether to print progress updates.\n",
    "        export_name (str): Whether to save generated audio and labels to disk.\n",
    "        max_attempts (int): Maximum number of overlay attempts before giving up (default 200,000).\n",
    "    \"\"\"\n",
    "\n",
    "    # prevents accidental re-runs & data bloat. tidy == True by default\n",
    "    if tidy:\n",
    "        assert not any(Path(clip_output).glob(\"*.wav\")), f\"{clip_output} must be empty before running.\"\n",
    "\n",
    "    # init\n",
    "    start = time()\n",
    "    extended_labels = []\n",
    "    seen_pairs = set()\n",
    "    attempts = 0\n",
    "    eq = df1.equals(df2)\n",
    "\n",
    "    folder_path = Path(\"data/clips_aug\") \n",
    "    file_count = sum(1 for f in folder_path.iterdir() if f.is_file())\n",
    "\n",
    "    # Main loop\n",
    "    while len(extended_labels) < num_samples and attempts < max_attempts:\n",
    "\n",
    "        # if enabled, give progress updates\n",
    "        if verbose and attempts % 1000 == 0:\n",
    "            elapsed = time() - start\n",
    "            print(f'Attempt {attempts} | Samples created: {len(extended_labels)} / {num_samples} | Elapsed: {elapsed:.1f}s')\n",
    "\n",
    "        attempts += 1\n",
    "\n",
    "        # Randomly select two rows - one from each df.\n",
    "        # overlay_row has to drop base_row if they are from the same df to prevent the same sample being taken\n",
    "        base_row = df1.sample(n=1).iloc[0]\n",
    "        overlay_row = df2.drop(base_row.name).sample(n=1).iloc[0] if eq else df2.sample(n=1).iloc[0]\n",
    "\n",
    "        # Avoid overlaying the same speaker twice (unrealistic that one person can say two things at once!)\n",
    "        if set(base_row['speakers']) & set(overlay_row['speakers']):\n",
    "            continue\n",
    "\n",
    "        # set mapping\n",
    "        base_clip = base_row['clip_dir']\n",
    "        base_count = base_row['speaker_count']\n",
    "        base_speakers = base_row['speakers']\n",
    "\n",
    "        overlay_clip = overlay_row['clip_dir']\n",
    "        overlay_count = overlay_row['speaker_count']\n",
    "        overlay_speakers = overlay_row['speakers']\n",
    "\n",
    "        # Avoid overlaying the same clips twice\n",
    "        pair_key = tuple(sorted((base_clip, overlay_clip)))     # (we use `sorted` so that [A,B] == [B,A])\n",
    "        if pair_key in seen_pairs:\n",
    "            continue\n",
    "        seen_pairs.add(pair_key)\n",
    "\n",
    "        # Load and align audio from mapping\n",
    "        base_audio, _ = librosa.load(base_clip, sr=sr)\n",
    "        overlay_audio, _ = librosa.load(overlay_clip, sr=sr)\n",
    "\n",
    "        # Pad output to the longer audio length\n",
    "        max_len = max(len(base_audio), len(overlay_audio))\n",
    "        base_audio = np.pad(base_audio, (0, max_len - len(base_audio)))\n",
    "        overlay_audio = np.pad(overlay_audio, (0, max_len - len(overlay_audio)))\n",
    "\n",
    "        # Overlay by summing\n",
    "        mixed_audio = base_audio + overlay_audio\n",
    "        mixed_audio = mixed_audio / np.max(np.abs(mixed_audio))  # Normalize\n",
    "\n",
    "        # Save new clip, if enabled\n",
    "        clip_id = str(folder_path / f\"overlay_{file_count + len(extended_labels) + 1}.wav\")\n",
    "        if export_name is not None:\n",
    "            sf.write(clip_id, mixed_audio, sr)\n",
    "\n",
    "        # Log new label\n",
    "        extended_labels.append([clip_id, base_clip, overlay_clip, base_count + overlay_count, base_speakers + overlay_speakers])\n",
    "\n",
    "\n",
    "    # Convert new labels to DataFrame\n",
    "    df = pd.DataFrame(extended_labels, columns=['clip_dir', 'clip_1', 'clip_2', 'speaker_count', 'speakers'])\n",
    "\n",
    "    # save labels, if enabled\n",
    "    if export_name is not None:\n",
    "        df.to_csv(f'data/labels/overlay_{export_name}.csv', index=False)\n",
    "    \n",
    "    print(f\"data_overlay() complete. Created {len(extended_labels)} new clips in {attempts} attempts.\")\n",
    "    if len(extended_labels) < num_samples:\n",
    "        print(f\"Warning: Only {len(extended_labels)} samples were created (target was {num_samples}). Consider increasing max_attempts or have more distinct speakers.\")\n",
    "    \n",
    "    return df"
   ]
  },
  {
   "cell_type": "markdown",
   "id": "bd6f453d",
   "metadata": {},
   "source": [
    "### Running the wrapper defined above\n",
    "The cell below is **very** expensive; 140,000 files are added to local disk."
   ]
  },
  {
   "cell_type": "code",
   "execution_count": 25,
   "id": "fcc94d1b",
   "metadata": {},
   "outputs": [],
   "source": [
    "# Helper - splits a df by speaker_count\n",
    "def split_by_speaker_count(df, count_col='speaker_count'):\n",
    "    return {f'df_{count}': group.reset_index(drop=True)\n",
    "            for count, group in df.groupby(count_col)}\n",
    "\n",
    "# Main\n",
    "def augment(df): \n",
    "\n",
    "    dfs_dict = split_by_speaker_count(df)\n",
    "    # Access individual DataFrames\n",
    "    df_0 = dfs_dict.get('df_0')  # Clips with 0 speakers\n",
    "    df_1 = dfs_dict.get('df_1')  # Clips with 1 speaker\n",
    "    df_2 = dfs_dict.get('df_2')  # Clips with 2 speakers\n",
    "\n",
    "\n",
    "\n",
    "    #df_A_B --> samples with A speakers are overlayed onto samples with B speakers. \n",
    "    # e.g. df_1_2: 1-speaker + 2-speaker = 3-speaker\n",
    "\n",
    "\n",
    "\n",
    "    # 2 speaker \n",
    "    # 5,000 existing + 20,000 new = 25,000 total samples\n",
    "    df_1_1 = data_overlay(df1 = df_1, df2= df_1, num_samples=17500, tidy=True, export_name='1_1')\n",
    "    df_0_2 = data_overlay(df1 = df_0, df2= df_2, num_samples=2500, tidy=False, export_name='0_2')\n",
    "\n",
    "    # add 2 speaker to main and re-seperate\n",
    "    df_main = pd.concat([df_main, df_1_1, df_0_2], axis=0, ignore_index=True)\n",
    "\n",
    "    df_dict = split_by_speaker_count(df_main)\n",
    "    df_2 = df_dict.get('df_2')  # Re-init df_2 with new 2-speaker clips\n",
    "\n",
    "\n",
    "\n",
    "    # 3 speaker\n",
    "    # 25,000 new samples\n",
    "    df_2_1 = data_overlay(df1=df_2, df2=df_1, num_samples=25000, tidy=False, export_name='2_1')\n",
    "\n",
    "    # add 3 speaker to main and re-seperate\n",
    "    df_main = pd.concat([df_main, df_2_1], axis=0, ignore_index=True)\n",
    "\n",
    "    df_dict = split_by_speaker_count(df_main)\n",
    "    df_3 = df_dict.get('df_3')  # init df_3 now that 3-speaker clips exist\n",
    "\n",
    "\n",
    "\n",
    "    # 4+ speaker\n",
    "    # 25,000 new samples\n",
    "    df_2_2 = data_overlay(df1=df_2, df2=df_2, num_samples=10000, tidy=False, export_name='2_2')\n",
    "    df_3_1 = data_overlay(df1=df_3, df2=df_1, num_samples=7500, tidy=False, export_name='3_1')\n",
    "    df_3_2 = data_overlay(df1=df_3, df2=df_2, num_samples=7500, tidy=False, export_name='3_2') # this gives some 5 speaker samples too (fine for 4+ class)\n",
    "\n",
    "    # add 4+ speaker to main - This is the final augmentation\n",
    "    df_main = pd.concat([df_main, df_2_2, df_3_1, df_3_2], axis=0, ignore_index=True)\n",
    "    df_main.tail(10)\n",
    "\n",
    "\n",
    "    # Save and return\n",
    "    df_main.drop(columns=['clip_1', 'clip_2'], inplace=True)\n",
    "    df_main.to_csv(r'data/labels/final_labels.csv')\n",
    "    return df_main\n",
    "\n",
    "\n",
    "\n",
    "# Creates synthetic sound clips and spectrograms. Returns the final dataset as a df and saves to csv\n",
    "# --> Uncomment with caution!! <--\n",
    "\n",
    "# df_main = augment(labels)\n",
    "# print(\"Clips added to data/clips_aug \\n Now creating spectrograms in data/specs_aug\")\n",
    "# clips_to_specs(clips_dir = r'data/clips_aug', specs_dir= r'data/specs_aug')\n",
    "# print(\"\\n Spectrograms created in data/specs_aug \\n --> Data augmentation complete <--\")"
   ]
  },
  {
   "cell_type": "markdown",
   "id": "35d2f53e",
   "metadata": {},
   "source": [
    "### Viewing Results"
   ]
  },
  {
   "cell_type": "code",
   "execution_count": 26,
   "id": "d7aa3474",
   "metadata": {},
   "outputs": [
    {
     "name": "stdout",
     "output_type": "stream",
     "text": [
      "Number of clips: 70000\n",
      "Number of spectrograms: 70000\n",
      "Total Samples: 116279\n"
     ]
    }
   ],
   "source": [
    "folder_path = Path(\"data/clips_aug\") \n",
    "file_count = sum(1 for f in folder_path.iterdir() if f.is_file())\n",
    "print(f\"Number of clips: {file_count}\")\n",
    "\n",
    "folder_path = Path(\"data/specs_aug\")\n",
    "file_count = sum(1 for f in folder_path.iterdir() if f.is_file())\n",
    "print(f\"Number of spectrograms: {file_count}\")\n",
    "\n",
    "print(f\"Total Samples: {file_count + len(labels)}\")"
   ]
  },
  {
   "cell_type": "markdown",
   "id": "e896f024",
   "metadata": {},
   "source": [
    "#### Merging 4 and 5 speaker clips to one '4+' class"
   ]
  },
  {
   "cell_type": "code",
   "execution_count": 27,
   "id": "b41b395d",
   "metadata": {},
   "outputs": [],
   "source": [
    "df_main['speaker_count'] = df_main['speaker_count'].apply(lambda x: '4+' if x in [4, 5] else x)\n",
    "df_main['speaker_count'] = df_main['speaker_count'].astype(str)"
   ]
  },
  {
   "cell_type": "markdown",
   "id": "8564d66b",
   "metadata": {},
   "source": [
    "#### Assigning labels to new spectrograms"
   ]
  },
  {
   "cell_type": "code",
   "execution_count": 28,
   "id": "809709b6",
   "metadata": {},
   "outputs": [],
   "source": [
    "# This finds nulls in and replaces them with the appropriate path derived from clip_dir\n",
    "# e.g. clips_aug\\overlay_1.wav  -->  specs_aug\\overlay_1.pt\n",
    "df_main.loc[df_main['spec_dir'].isnull(), 'spec_dir'] = (\n",
    "    df_main.loc[df_main['spec_dir'].isnull(), 'clip_dir']\n",
    "    .astype(str)\n",
    "    .apply(lambda path: path.replace('data\\\\clips_aug', 'data\\\\specs_aug').replace('.wav', '.pt'))\n",
    ")"
   ]
  },
  {
   "cell_type": "markdown",
   "id": "900c01be",
   "metadata": {},
   "source": [
    "#### Final Step: Assigning integer classes based on speaker count"
   ]
  },
  {
   "cell_type": "code",
   "execution_count": 137,
   "id": "843389c0",
   "metadata": {},
   "outputs": [],
   "source": [
    "mapping = {\n",
    "    '0': 0,\n",
    "    '1': 1,\n",
    "    '2': 2,\n",
    "    '3': 3,\n",
    "    '4+': 4\n",
    "}\n",
    "\n",
    "# Apply mapping\n",
    "df_main['class'] = df_main['speaker_count'].map(mapping)"
   ]
  },
  {
   "cell_type": "markdown",
   "id": "f23545f2",
   "metadata": {},
   "source": [
    "#### Last check"
   ]
  },
  {
   "cell_type": "code",
   "execution_count": 138,
   "id": "081dfe4c",
   "metadata": {},
   "outputs": [
    {
     "data": {
      "application/vnd.microsoft.datawrangler.viewer.v0+json": {
       "columns": [
        {
         "name": "index",
         "rawType": "int64",
         "type": "integer"
        },
        {
         "name": "spec_dir",
         "rawType": "object",
         "type": "string"
        },
        {
         "name": "clip_dir",
         "rawType": "object",
         "type": "string"
        },
        {
         "name": "speaker_count",
         "rawType": "object",
         "type": "string"
        },
        {
         "name": "speakers",
         "rawType": "object",
         "type": "unknown"
        },
        {
         "name": "class",
         "rawType": "int64",
         "type": "integer"
        }
       ],
       "ref": "aa19cb15-6faa-44d7-bf62-42a2b3910a43",
       "rows": [
        [
         "0",
         "data\\specs_libricss\\0L_session0_clip1.pt",
         "data\\clips_libricss\\0L_session0_clip1.wav",
         "0",
         "[]",
         "0"
        ],
        [
         "1",
         "data\\specs_libricss\\0L_session0_clip10.pt",
         "data\\clips_libricss\\0L_session0_clip10.wav",
         "1",
         "['8224']",
         "1"
        ],
        [
         "2",
         "data\\specs_libricss\\0L_session0_clip100.pt",
         "data\\clips_libricss\\0L_session0_clip100.wav",
         "1",
         "['3575']",
         "1"
        ],
        [
         "3",
         "data\\specs_libricss\\0L_session0_clip101.pt",
         "data\\clips_libricss\\0L_session0_clip101.wav",
         "1",
         "['3575']",
         "1"
        ],
        [
         "4",
         "data\\specs_libricss\\0L_session0_clip102.pt",
         "data\\clips_libricss\\0L_session0_clip102.wav",
         "1",
         "['3575']",
         "1"
        ],
        [
         "5",
         "data\\specs_libricss\\0L_session0_clip103.pt",
         "data\\clips_libricss\\0L_session0_clip103.wav",
         "1",
         "['3575']",
         "1"
        ],
        [
         "6",
         "data\\specs_libricss\\0L_session0_clip104.pt",
         "data\\clips_libricss\\0L_session0_clip104.wav",
         "1",
         "['3575']",
         "1"
        ],
        [
         "7",
         "data\\specs_libricss\\0L_session0_clip105.pt",
         "data\\clips_libricss\\0L_session0_clip105.wav",
         "1",
         "['3575']",
         "1"
        ],
        [
         "8",
         "data\\specs_libricss\\0L_session0_clip106.pt",
         "data\\clips_libricss\\0L_session0_clip106.wav",
         "1",
         "['3575']",
         "1"
        ],
        [
         "9",
         "data\\specs_libricss\\0L_session0_clip107.pt",
         "data\\clips_libricss\\0L_session0_clip107.wav",
         "1",
         "['3575']",
         "1"
        ],
        [
         "10",
         "data\\specs_libricss\\0L_session0_clip108.pt",
         "data\\clips_libricss\\0L_session0_clip108.wav",
         "1",
         "['3575']",
         "1"
        ],
        [
         "11",
         "data\\specs_libricss\\0L_session0_clip109.pt",
         "data\\clips_libricss\\0L_session0_clip109.wav",
         "1",
         "['3575']",
         "1"
        ],
        [
         "12",
         "data\\specs_libricss\\0L_session0_clip11.pt",
         "data\\clips_libricss\\0L_session0_clip11.wav",
         "1",
         "['8224']",
         "1"
        ],
        [
         "13",
         "data\\specs_libricss\\0L_session0_clip110.pt",
         "data\\clips_libricss\\0L_session0_clip110.wav",
         "1",
         "['3575']",
         "1"
        ],
        [
         "14",
         "data\\specs_libricss\\0L_session0_clip111.pt",
         "data\\clips_libricss\\0L_session0_clip111.wav",
         "1",
         "['3575']",
         "1"
        ],
        [
         "15",
         "data\\specs_libricss\\0L_session0_clip112.pt",
         "data\\clips_libricss\\0L_session0_clip112.wav",
         "1",
         "['3575']",
         "1"
        ],
        [
         "16",
         "data\\specs_libricss\\0L_session0_clip113.pt",
         "data\\clips_libricss\\0L_session0_clip113.wav",
         "1",
         "['3575']",
         "1"
        ],
        [
         "17",
         "data\\specs_libricss\\0L_session0_clip114.pt",
         "data\\clips_libricss\\0L_session0_clip114.wav",
         "0",
         "[]",
         "0"
        ],
        [
         "18",
         "data\\specs_libricss\\0L_session0_clip115.pt",
         "data\\clips_libricss\\0L_session0_clip115.wav",
         "0",
         "[]",
         "0"
        ],
        [
         "19",
         "data\\specs_libricss\\0L_session0_clip116.pt",
         "data\\clips_libricss\\0L_session0_clip116.wav",
         "1",
         "['5683']",
         "1"
        ],
        [
         "20",
         "data\\specs_libricss\\0L_session0_clip117.pt",
         "data\\clips_libricss\\0L_session0_clip117.wav",
         "1",
         "['5683']",
         "1"
        ],
        [
         "21",
         "data\\specs_libricss\\0L_session0_clip118.pt",
         "data\\clips_libricss\\0L_session0_clip118.wav",
         "1",
         "['5683']",
         "1"
        ],
        [
         "22",
         "data\\specs_libricss\\0L_session0_clip119.pt",
         "data\\clips_libricss\\0L_session0_clip119.wav",
         "1",
         "['5683']",
         "1"
        ],
        [
         "23",
         "data\\specs_libricss\\0L_session0_clip12.pt",
         "data\\clips_libricss\\0L_session0_clip12.wav",
         "1",
         "['8224']",
         "1"
        ],
        [
         "24",
         "data\\specs_libricss\\0L_session0_clip120.pt",
         "data\\clips_libricss\\0L_session0_clip120.wav",
         "0",
         "[]",
         "0"
        ],
        [
         "25",
         "data\\specs_libricss\\0L_session0_clip121.pt",
         "data\\clips_libricss\\0L_session0_clip121.wav",
         "0",
         "[]",
         "0"
        ],
        [
         "26",
         "data\\specs_libricss\\0L_session0_clip122.pt",
         "data\\clips_libricss\\0L_session0_clip122.wav",
         "1",
         "['121']",
         "1"
        ],
        [
         "27",
         "data\\specs_libricss\\0L_session0_clip123.pt",
         "data\\clips_libricss\\0L_session0_clip123.wav",
         "1",
         "['121']",
         "1"
        ],
        [
         "28",
         "data\\specs_libricss\\0L_session0_clip124.pt",
         "data\\clips_libricss\\0L_session0_clip124.wav",
         "1",
         "['121']",
         "1"
        ],
        [
         "29",
         "data\\specs_libricss\\0L_session0_clip125.pt",
         "data\\clips_libricss\\0L_session0_clip125.wav",
         "1",
         "['121']",
         "1"
        ],
        [
         "30",
         "data\\specs_libricss\\0L_session0_clip126.pt",
         "data\\clips_libricss\\0L_session0_clip126.wav",
         "1",
         "['121']",
         "1"
        ],
        [
         "31",
         "data\\specs_libricss\\0L_session0_clip127.pt",
         "data\\clips_libricss\\0L_session0_clip127.wav",
         "1",
         "['121']",
         "1"
        ],
        [
         "32",
         "data\\specs_libricss\\0L_session0_clip128.pt",
         "data\\clips_libricss\\0L_session0_clip128.wav",
         "1",
         "['121']",
         "1"
        ],
        [
         "33",
         "data\\specs_libricss\\0L_session0_clip129.pt",
         "data\\clips_libricss\\0L_session0_clip129.wav",
         "1",
         "['121']",
         "1"
        ],
        [
         "34",
         "data\\specs_libricss\\0L_session0_clip13.pt",
         "data\\clips_libricss\\0L_session0_clip13.wav",
         "1",
         "['8224']",
         "1"
        ],
        [
         "35",
         "data\\specs_libricss\\0L_session0_clip130.pt",
         "data\\clips_libricss\\0L_session0_clip130.wav",
         "1",
         "['121']",
         "1"
        ],
        [
         "36",
         "data\\specs_libricss\\0L_session0_clip131.pt",
         "data\\clips_libricss\\0L_session0_clip131.wav",
         "1",
         "['121']",
         "1"
        ],
        [
         "37",
         "data\\specs_libricss\\0L_session0_clip132.pt",
         "data\\clips_libricss\\0L_session0_clip132.wav",
         "1",
         "['121']",
         "1"
        ],
        [
         "38",
         "data\\specs_libricss\\0L_session0_clip133.pt",
         "data\\clips_libricss\\0L_session0_clip133.wav",
         "1",
         "['121']",
         "1"
        ],
        [
         "39",
         "data\\specs_libricss\\0L_session0_clip134.pt",
         "data\\clips_libricss\\0L_session0_clip134.wav",
         "1",
         "['121']",
         "1"
        ],
        [
         "40",
         "data\\specs_libricss\\0L_session0_clip135.pt",
         "data\\clips_libricss\\0L_session0_clip135.wav",
         "1",
         "['121']",
         "1"
        ],
        [
         "41",
         "data\\specs_libricss\\0L_session0_clip136.pt",
         "data\\clips_libricss\\0L_session0_clip136.wav",
         "0",
         "[]",
         "0"
        ],
        [
         "42",
         "data\\specs_libricss\\0L_session0_clip137.pt",
         "data\\clips_libricss\\0L_session0_clip137.wav",
         "0",
         "[]",
         "0"
        ],
        [
         "43",
         "data\\specs_libricss\\0L_session0_clip138.pt",
         "data\\clips_libricss\\0L_session0_clip138.wav",
         "0",
         "[]",
         "0"
        ],
        [
         "44",
         "data\\specs_libricss\\0L_session0_clip139.pt",
         "data\\clips_libricss\\0L_session0_clip139.wav",
         "1",
         "['8224']",
         "1"
        ],
        [
         "45",
         "data\\specs_libricss\\0L_session0_clip14.pt",
         "data\\clips_libricss\\0L_session0_clip14.wav",
         "1",
         "['8224']",
         "1"
        ],
        [
         "46",
         "data\\specs_libricss\\0L_session0_clip140.pt",
         "data\\clips_libricss\\0L_session0_clip140.wav",
         "1",
         "['8224']",
         "1"
        ],
        [
         "47",
         "data\\specs_libricss\\0L_session0_clip141.pt",
         "data\\clips_libricss\\0L_session0_clip141.wav",
         "1",
         "['8224']",
         "1"
        ],
        [
         "48",
         "data\\specs_libricss\\0L_session0_clip142.pt",
         "data\\clips_libricss\\0L_session0_clip142.wav",
         "0",
         "[]",
         "0"
        ],
        [
         "49",
         "data\\specs_libricss\\0L_session0_clip143.pt",
         "data\\clips_libricss\\0L_session0_clip143.wav",
         "0",
         "[]",
         "0"
        ]
       ],
       "shape": {
        "columns": 5,
        "rows": 116279
       }
      },
      "text/html": [
       "<div>\n",
       "<style scoped>\n",
       "    .dataframe tbody tr th:only-of-type {\n",
       "        vertical-align: middle;\n",
       "    }\n",
       "\n",
       "    .dataframe tbody tr th {\n",
       "        vertical-align: top;\n",
       "    }\n",
       "\n",
       "    .dataframe thead th {\n",
       "        text-align: right;\n",
       "    }\n",
       "</style>\n",
       "<table border=\"1\" class=\"dataframe\">\n",
       "  <thead>\n",
       "    <tr style=\"text-align: right;\">\n",
       "      <th></th>\n",
       "      <th>spec_dir</th>\n",
       "      <th>clip_dir</th>\n",
       "      <th>speaker_count</th>\n",
       "      <th>speakers</th>\n",
       "      <th>class</th>\n",
       "    </tr>\n",
       "  </thead>\n",
       "  <tbody>\n",
       "    <tr>\n",
       "      <th>0</th>\n",
       "      <td>data\\specs_libricss\\0L_session0_clip1.pt</td>\n",
       "      <td>data\\clips_libricss\\0L_session0_clip1.wav</td>\n",
       "      <td>0</td>\n",
       "      <td>[]</td>\n",
       "      <td>0</td>\n",
       "    </tr>\n",
       "    <tr>\n",
       "      <th>1</th>\n",
       "      <td>data\\specs_libricss\\0L_session0_clip10.pt</td>\n",
       "      <td>data\\clips_libricss\\0L_session0_clip10.wav</td>\n",
       "      <td>1</td>\n",
       "      <td>[8224]</td>\n",
       "      <td>1</td>\n",
       "    </tr>\n",
       "    <tr>\n",
       "      <th>2</th>\n",
       "      <td>data\\specs_libricss\\0L_session0_clip100.pt</td>\n",
       "      <td>data\\clips_libricss\\0L_session0_clip100.wav</td>\n",
       "      <td>1</td>\n",
       "      <td>[3575]</td>\n",
       "      <td>1</td>\n",
       "    </tr>\n",
       "    <tr>\n",
       "      <th>3</th>\n",
       "      <td>data\\specs_libricss\\0L_session0_clip101.pt</td>\n",
       "      <td>data\\clips_libricss\\0L_session0_clip101.wav</td>\n",
       "      <td>1</td>\n",
       "      <td>[3575]</td>\n",
       "      <td>1</td>\n",
       "    </tr>\n",
       "    <tr>\n",
       "      <th>4</th>\n",
       "      <td>data\\specs_libricss\\0L_session0_clip102.pt</td>\n",
       "      <td>data\\clips_libricss\\0L_session0_clip102.wav</td>\n",
       "      <td>1</td>\n",
       "      <td>[3575]</td>\n",
       "      <td>1</td>\n",
       "    </tr>\n",
       "    <tr>\n",
       "      <th>...</th>\n",
       "      <td>...</td>\n",
       "      <td>...</td>\n",
       "      <td>...</td>\n",
       "      <td>...</td>\n",
       "      <td>...</td>\n",
       "    </tr>\n",
       "    <tr>\n",
       "      <th>116274</th>\n",
       "      <td>data\\specs_aug\\overlay_69996.pt</td>\n",
       "      <td>data\\clips_aug\\overlay_69996.wav</td>\n",
       "      <td>4+</td>\n",
       "      <td>[3575, 1188, 6829, 8224, 7729]</td>\n",
       "      <td>4</td>\n",
       "    </tr>\n",
       "    <tr>\n",
       "      <th>116275</th>\n",
       "      <td>data\\specs_aug\\overlay_69997.pt</td>\n",
       "      <td>data\\clips_aug\\overlay_69997.wav</td>\n",
       "      <td>4+</td>\n",
       "      <td>[7729, 7176, 1089, 237, 3570]</td>\n",
       "      <td>4</td>\n",
       "    </tr>\n",
       "    <tr>\n",
       "      <th>116276</th>\n",
       "      <td>data\\specs_aug\\overlay_69998.pt</td>\n",
       "      <td>data\\clips_aug\\overlay_69998.wav</td>\n",
       "      <td>4+</td>\n",
       "      <td>[1089, 5142, 1320, 7021, 8455]</td>\n",
       "      <td>4</td>\n",
       "    </tr>\n",
       "    <tr>\n",
       "      <th>116277</th>\n",
       "      <td>data\\specs_aug\\overlay_69999.pt</td>\n",
       "      <td>data\\clips_aug\\overlay_69999.wav</td>\n",
       "      <td>4+</td>\n",
       "      <td>[1320, 3575, 7729, 121, 4446]</td>\n",
       "      <td>4</td>\n",
       "    </tr>\n",
       "    <tr>\n",
       "      <th>116278</th>\n",
       "      <td>data\\specs_aug\\overlay_70000.pt</td>\n",
       "      <td>data\\clips_aug\\overlay_70000.wav</td>\n",
       "      <td>4+</td>\n",
       "      <td>[8224, 1089, 3575, 6930, 7021]</td>\n",
       "      <td>4</td>\n",
       "    </tr>\n",
       "  </tbody>\n",
       "</table>\n",
       "<p>116279 rows × 5 columns</p>\n",
       "</div>"
      ],
      "text/plain": [
       "                                          spec_dir  \\\n",
       "0         data\\specs_libricss\\0L_session0_clip1.pt   \n",
       "1        data\\specs_libricss\\0L_session0_clip10.pt   \n",
       "2       data\\specs_libricss\\0L_session0_clip100.pt   \n",
       "3       data\\specs_libricss\\0L_session0_clip101.pt   \n",
       "4       data\\specs_libricss\\0L_session0_clip102.pt   \n",
       "...                                            ...   \n",
       "116274             data\\specs_aug\\overlay_69996.pt   \n",
       "116275             data\\specs_aug\\overlay_69997.pt   \n",
       "116276             data\\specs_aug\\overlay_69998.pt   \n",
       "116277             data\\specs_aug\\overlay_69999.pt   \n",
       "116278             data\\specs_aug\\overlay_70000.pt   \n",
       "\n",
       "                                           clip_dir speaker_count  \\\n",
       "0         data\\clips_libricss\\0L_session0_clip1.wav             0   \n",
       "1        data\\clips_libricss\\0L_session0_clip10.wav             1   \n",
       "2       data\\clips_libricss\\0L_session0_clip100.wav             1   \n",
       "3       data\\clips_libricss\\0L_session0_clip101.wav             1   \n",
       "4       data\\clips_libricss\\0L_session0_clip102.wav             1   \n",
       "...                                             ...           ...   \n",
       "116274             data\\clips_aug\\overlay_69996.wav            4+   \n",
       "116275             data\\clips_aug\\overlay_69997.wav            4+   \n",
       "116276             data\\clips_aug\\overlay_69998.wav            4+   \n",
       "116277             data\\clips_aug\\overlay_69999.wav            4+   \n",
       "116278             data\\clips_aug\\overlay_70000.wav            4+   \n",
       "\n",
       "                              speakers  class  \n",
       "0                                   []      0  \n",
       "1                               [8224]      1  \n",
       "2                               [3575]      1  \n",
       "3                               [3575]      1  \n",
       "4                               [3575]      1  \n",
       "...                                ...    ...  \n",
       "116274  [3575, 1188, 6829, 8224, 7729]      4  \n",
       "116275   [7729, 7176, 1089, 237, 3570]      4  \n",
       "116276  [1089, 5142, 1320, 7021, 8455]      4  \n",
       "116277   [1320, 3575, 7729, 121, 4446]      4  \n",
       "116278  [8224, 1089, 3575, 6930, 7021]      4  \n",
       "\n",
       "[116279 rows x 5 columns]"
      ]
     },
     "execution_count": 138,
     "metadata": {},
     "output_type": "execute_result"
    }
   ],
   "source": [
    "df_main"
   ]
  },
  {
   "cell_type": "code",
   "execution_count": 139,
   "id": "cc1a7f8c",
   "metadata": {},
   "outputs": [
    {
     "name": "stdout",
     "output_type": "stream",
     "text": [
      "Clips with 0 speakers: 11719\n",
      "Clips with 1 speakers: 29309\n",
      "Clips with 2 speakers: 25251\n",
      "Clips with 3 speakers: 25000\n",
      "Clips with 4+ speakers: 25000\n",
      "Total clips: 116279\n"
     ]
    }
   ],
   "source": [
    "# Define the expected categories in order\n",
    "categories = ['0', '1', '2', '3', '4+']\n",
    "\n",
    "# Count clips per category\n",
    "_class_counts = [len(df_main[df_main['speaker_count'] == cat]) for cat in categories]\n",
    "\n",
    "# Print results\n",
    "for cat, count in zip(categories, _class_counts):\n",
    "    print(f\"Clips with {cat} speakers: {count}\")\n",
    "print(f\"Total clips: {len(df_main)}\")"
   ]
  },
  {
   "cell_type": "markdown",
   "id": "33db7e79",
   "metadata": {},
   "source": [
    "### All done! The dataset is ready for an ML model :)"
   ]
  },
  {
   "cell_type": "code",
   "execution_count": 140,
   "id": "ee5b5a0e",
   "metadata": {},
   "outputs": [],
   "source": [
    "df_main.to_csv(r'data\\labels\\final_labels.csv', index=False)"
   ]
  }
 ],
 "metadata": {
  "kernelspec": {
   "display_name": ".venv",
   "language": "python",
   "name": "python3"
  },
  "language_info": {
   "codemirror_mode": {
    "name": "ipython",
    "version": 3
   },
   "file_extension": ".py",
   "mimetype": "text/x-python",
   "name": "python",
   "nbconvert_exporter": "python",
   "pygments_lexer": "ipython3",
   "version": "3.9.13"
  }
 },
 "nbformat": 4,
 "nbformat_minor": 5
}
